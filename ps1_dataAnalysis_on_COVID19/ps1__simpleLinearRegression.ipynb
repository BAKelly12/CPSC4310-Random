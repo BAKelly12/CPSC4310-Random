{
 "cells": [
  {
   "cell_type": "markdown",
   "metadata": {},
   "source": [
    "# PS1: Exploratory Data Analysis on COVID-19 Datasets\n",
    "\n",
    "\n",
    "### Learning the data using visualization and simple linear regression\n",
    "\n",
    "1. First, run the example and understand the ML process and be familir with Python package functions for simple linear regression. \n",
    "\n",
    "2. Apply exploratory data analysis and simple regression on COVID-19 dataset(s). "
   ]
  },
  {
   "cell_type": "code",
   "execution_count": null,
   "metadata": {},
   "outputs": [],
   "source": [
    "#### Write your name\n",
    "\n",
    "- Brigid Kelly\n"
   ]
  },
  {
   "cell_type": "markdown",
   "metadata": {},
   "source": [
    "###  Simple Linear Regression example\n",
    "\n",
    "Follow the code and observe the results"
   ]
  },
  {
   "cell_type": "code",
   "execution_count": 1,
   "metadata": {},
   "outputs": [],
   "source": [
    "# Python ≥3.5 is required\n",
    "import sys\n",
    "assert sys.version_info >= (3, 5)"
   ]
  },
  {
   "cell_type": "code",
   "execution_count": 2,
   "metadata": {},
   "outputs": [],
   "source": [
    "# Scikit-Learn ≥0.20 is required\n",
    "import sklearn\n",
    "assert sklearn.__version__ >= \"0.20\""
   ]
  },
  {
   "cell_type": "markdown",
   "metadata": {},
   "source": [
    "This function just merges the OECD's life satisfaction data and the IMF's GDP per capita data. It's a bit too long and boring and it's not specific to Machine Learning, which is why I left it out of the book."
   ]
  },
  {
   "cell_type": "code",
   "execution_count": 3,
   "metadata": {},
   "outputs": [],
   "source": [
    "def prepare_country_stats(oecd_bli, gdp_per_capita):\n",
    "    oecd_bli = oecd_bli[oecd_bli[\"INEQUALITY\"]==\"TOT\"]\n",
    "    oecd_bli = oecd_bli.pivot(index=\"Country\", columns=\"Indicator\", values=\"Value\")\n",
    "    gdp_per_capita.rename(columns={\"2015\": \"GDP per capita\"}, inplace=True)\n",
    "    gdp_per_capita.set_index(\"Country\", inplace=True)\n",
    "    full_country_stats = pd.merge(left=oecd_bli, right=gdp_per_capita,\n",
    "                                  left_index=True, right_index=True)\n",
    "    full_country_stats.sort_values(by=\"GDP per capita\", inplace=True)\n",
    "    remove_indices = [0, 1, 6, 8, 33, 34, 35]\n",
    "    keep_indices = list(set(range(36)) - set(remove_indices))\n",
    "    return full_country_stats[[\"GDP per capita\", 'Life satisfaction']].iloc[keep_indices]"
   ]
  },
  {
   "cell_type": "markdown",
   "metadata": {},
   "source": [
    "The code expects the data files to be located in the current directory. Fetch the files in datasets/lifesat."
   ]
  },
  {
   "cell_type": "code",
   "execution_count": 4,
   "metadata": {},
   "outputs": [],
   "source": [
    "import os\n",
    "datapath = os.path.join(\"datasets\", \"lifesat\", \"\")"
   ]
  },
  {
   "cell_type": "code",
   "execution_count": 5,
   "metadata": {},
   "outputs": [],
   "source": [
    "# To plot pretty figures directly within Jupyter\n",
    "%matplotlib inline\n",
    "import matplotlib as mpl\n",
    "mpl.rc('axes', labelsize=14)\n",
    "mpl.rc('xtick', labelsize=12)\n",
    "mpl.rc('ytick', labelsize=12)"
   ]
  },
  {
   "cell_type": "code",
   "execution_count": 6,
   "metadata": {},
   "outputs": [
    {
     "name": "stdout",
     "output_type": "stream",
     "text": [
      "Downloading oecd_bli_2015.csv\n",
      "Downloading gdp_per_capita.csv\n"
     ]
    }
   ],
   "source": [
    "# Download the data\n",
    "import urllib\n",
    "DOWNLOAD_ROOT = \"https://raw.githubusercontent.com/ageron/handson-ml2/master/\"\n",
    "os.makedirs(datapath, exist_ok=True)\n",
    "for filename in (\"oecd_bli_2015.csv\", \"gdp_per_capita.csv\"):\n",
    "    print(\"Downloading\", filename)\n",
    "    url = DOWNLOAD_ROOT + \"datasets/lifesat/\" + filename\n",
    "    urllib.request.urlretrieve(url, datapath + filename)"
   ]
  },
  {
   "cell_type": "code",
   "execution_count": 7,
   "metadata": {},
   "outputs": [
    {
     "data": {
      "image/png": "[encoded data removed]",
      "text/plain": [
       "<Figure size 432x288 with 1 Axes>"
      ]
     },
     "metadata": {
      "needs_background": "light"
     },
     "output_type": "display_data"
    }
   ],
   "source": [
    "# Code example of load the data and prepared the data\n",
    "import matplotlib.pyplot as plt\n",
    "import numpy as np\n",
    "import pandas as pd\n",
    "import sklearn.linear_model\n",
    "\n",
    "# Load the data\n",
    "oecd_bli = pd.read_csv(datapath + \"oecd_bli_2015.csv\", thousands=',')\n",
    "gdp_per_capita = pd.read_csv(datapath + \"gdp_per_capita.csv\",thousands=',',delimiter='\\t',\n",
    "                             encoding='latin1', na_values=\"n/a\")\n",
    "\n",
    "# Prepare the data\n",
    "country_stats = prepare_country_stats(oecd_bli, gdp_per_capita)\n",
    "X = np.c_[country_stats[\"GDP per capita\"]]\n",
    "y = np.c_[country_stats[\"Life satisfaction\"]]\n",
    "\n",
    "# Visualize the data\n",
    "country_stats.plot(kind='scatter', x=\"GDP per capita\", y='Life satisfaction')\n",
    "plt.show()\n"
   ]
  },
  {
   "cell_type": "markdown",
   "metadata": {},
   "source": [
    "### Plot scatterplot and the regression function"
   ]
  },
  {
   "cell_type": "code",
   "execution_count": 8,
   "metadata": {},
   "outputs": [
    {
     "data": {
      "text/plain": [
       "LinearRegression(copy_X=True, fit_intercept=True, n_jobs=None,\n",
       "         normalize=False)"
      ]
     },
     "execution_count": 8,
     "metadata": {},
     "output_type": "execute_result"
    }
   ],
   "source": [
    "# Select a linear model\n",
    "model = sklearn.linear_model.LinearRegression()\n",
    "\n",
    "# Train the model (we use all data for training --> Later we will divide the data into training data and testing data)\n",
    "model.fit(X, y)"
   ]
  },
  {
   "cell_type": "code",
   "execution_count": 9,
   "metadata": {},
   "outputs": [
    {
     "data": {
      "image/png": "[encoded data removed]",
      "text/plain": [
       "<Figure size 432x288 with 1 Axes>"
      ]
     },
     "metadata": {
      "needs_background": "light"
     },
     "output_type": "display_data"
    }
   ],
   "source": [
    "# Plot scatterplot and the regression function\n",
    "plt.scatter(X, y, color='black', label='observed')\n",
    "\n",
    "plt.plot(X, model.predict(X), label='fit', color='Green', linewidth=2)\n",
    "\n",
    "plt.xlabel('GDP per capita')\n",
    "plt.ylabel('Life satisfaction')\n",
    "plt.title('Regression')\n",
    "plt.legend(loc='best')\n",
    "\n",
    "plt.show()"
   ]
  },
  {
   "cell_type": "code",
   "execution_count": 10,
   "metadata": {},
   "outputs": [
    {
     "name": "stdout",
     "output_type": "stream",
     "text": [
      "[[5.96242338]]\n"
     ]
    }
   ],
   "source": [
    "# Make a prediction for Cyprus\n",
    "X_new = [[22587]]  # Cyprus' GDP per capita\n",
    "print(model.predict(X_new)) # outputs [[ 5.96242338]]"
   ]
  },
  {
   "cell_type": "markdown",
   "metadata": {},
   "source": [
    "## Model evaluation metrics for regression\n",
    "\n",
    "Evaluation metrics for classification problems, such as **accuracy**, are not useful for regression problems. Instead, we need evaluation metrics designed for comparing continuous values.\n",
    "\n",
    "Let's create some example numeric predictions, and calculate **three common evaluation metrics** for regression problems:"
   ]
  },
  {
   "cell_type": "markdown",
   "metadata": {},
   "source": [
    "**Mean Absolute Error** (MAE) is the mean of the absolute value of the errors:\n",
    "\n",
    "$$\\frac 1n\\sum_{i=1}^n|y_i-\\hat{y}_i|$$"
   ]
  },
  {
   "cell_type": "markdown",
   "metadata": {},
   "source": [
    "**Mean Squared Error** (MSE) is the mean of the squared errors:\n",
    "\n",
    "$$\\frac 1n\\sum_{i=1}^n(y_i-\\hat{y}_i)^2$$"
   ]
  },
  {
   "cell_type": "markdown",
   "metadata": {},
   "source": [
    "**Root Mean Squared Error** (RMSE) is the square root of the mean of the squared errors:\n",
    "\n",
    "$$\\sqrt{\\frac 1n\\sum_{i=1}^n(y_i-\\hat{y}_i)^2}$$"
   ]
  },
  {
   "cell_type": "markdown",
   "metadata": {},
   "source": [
    "Comparing these metrics:\n",
    "\n",
    "- **MAE** is the easiest to understand, because it's the average error.\n",
    "- **MSE** is more popular than MAE, because MSE \"punishes\" larger errors.\n",
    "- **RMSE** is even more popular than MSE, because RMSE is interpretable in the \"y\" units."
   ]
  },
  {
   "cell_type": "markdown",
   "metadata": {},
   "source": [
    "### Model Evaluation Example"
   ]
  },
  {
   "cell_type": "markdown",
   "metadata": {},
   "source": [
    "#### 1. Preparing X and Y using pandas\n",
    "- We already did this process above\n",
    "- scikit-learn expects X (feature matrix) and Y (response vector) to be NumPy arrays.\n",
    "- However, pandas is built on top of NumPy.\n",
    "- Thus, X can be a pandas DataFrame and y can be a pandas Series!"
   ]
  },
  {
   "cell_type": "markdown",
   "metadata": {},
   "source": [
    "#### 2. Splitting X and y into training and testing sets"
   ]
  },
  {
   "cell_type": "code",
   "execution_count": 11,
   "metadata": {},
   "outputs": [],
   "source": [
    "from sklearn.model_selection import train_test_split\n",
    "\n",
    "X_train, X_test, y_train, y_test = train_test_split(X, y, random_state=1)"
   ]
  },
  {
   "cell_type": "markdown",
   "metadata": {},
   "source": [
    "#### 3. Linear regression in scikit-learn"
   ]
  },
  {
   "cell_type": "code",
   "execution_count": 12,
   "metadata": {},
   "outputs": [
    {
     "data": {
      "text/plain": [
       "LinearRegression(copy_X=True, fit_intercept=True, n_jobs=None,\n",
       "         normalize=False)"
      ]
     },
     "execution_count": 12,
     "metadata": {},
     "output_type": "execute_result"
    }
   ],
   "source": [
    "# import model\n",
    "from sklearn.linear_model import LinearRegression\n",
    "\n",
    "# instantiate\n",
    "linreg = LinearRegression()\n",
    "\n",
    "# fit the model to the training data (learn the coefficients)\n",
    "linreg.fit(X_train, y_train)"
   ]
  },
  {
   "cell_type": "markdown",
   "metadata": {},
   "source": [
    "#### 4. Making predictions"
   ]
  },
  {
   "cell_type": "code",
   "execution_count": 13,
   "metadata": {},
   "outputs": [],
   "source": [
    "# make predictions on the testing set\n",
    "y_pred = linreg.predict(X_test)"
   ]
  },
  {
   "cell_type": "markdown",
   "metadata": {},
   "source": [
    "#### 5. Computing the RMSE for our Sales predictions"
   ]
  },
  {
   "cell_type": "code",
   "execution_count": 14,
   "metadata": {},
   "outputs": [
    {
     "name": "stdout",
     "output_type": "stream",
     "text": [
      "0.4198326061843324\n"
     ]
    }
   ],
   "source": [
    "from sklearn import metrics\n",
    "\n",
    "print(np.sqrt(metrics.mean_squared_error(y_test, y_pred)))"
   ]
  },
  {
   "cell_type": "markdown",
   "metadata": {},
   "source": [
    "### Assignment\n",
    "\n",
    "\n",
    "###  Part 1: Explore insight of the data using other visualization tools\n",
    "\n",
    "The following Git repository is for the COVID-19 visual dashboard operated by the Johns Hopkins University Center for Systems Science and Engineering:\n",
    "https://github.com/CSSEGISandData/COVID-19\n",
    "\n",
    "Read the information on the dashboard and check the datasets details\n",
    "\n",
    "Datasets are located in a folder: csse_covid_19_data"
   ]
  },
  {
   "cell_type": "markdown",
   "metadata": {},
   "source": [
    "### Tasks\n",
    "\n",
    "1. Select attributes (columns) you are interested (either US only or all data).\n",
    "\n",
    "   1.1 (optional) If you find any missing data or/and invalid data in the selected attributes you would like to work on, apply tools to handle these data. \n",
    "\n",
    "2. Conduct exploratory data analysis on the selected data and visualize the data. This may include the following but not limited:\n",
    "\n",
    "(a) The mean, median and standard deviation\n",
    "\n",
    "(b) Draw boxplots\n",
    "\n",
    "(c) Draw histograms\n",
    "\n",
    "(c) Draw scatter plots\n",
    "\n",
    "(d) simple linear regression function with a scatter plot"
   ]
  },
  {
   "cell_type": "markdown",
   "metadata": {},
   "source": [
    "Uploading confirmed case data.."
   ]
  },
  {
   "cell_type": "code",
   "execution_count": 353,
   "metadata": {},
   "outputs": [],
   "source": [
    "datapath = \"datasets\\\\csse_covid_19_data\\\\csse_covid_19_time_series\\\\\"\n",
    "filename = \"time_series_covid19_confirmed_us.csv\"\n",
    "covid_df = pd.read_csv(datapath + filename )"
   ]
  },
  {
   "cell_type": "markdown",
   "metadata": {},
   "source": [
    "I believe an interesting metric to look at would be to assume that many, many cases of COVID19 are asymptomatic and not reported.  Reports from the University of Southern California claim numbers may be many times higher than actually indicated through testing (https://content.govdelivery.com/accounts/CALACOUNTY/bulletins/2877402?reqfrom=share).  Looking at these numbers and calculating the death rate per case (case fatality rate or CFR) with the adjusted values may show that, while it is still a very serious virus, SARS-2-CoV may not be as deadly as initially thought.\n",
    "\n",
    "I will compare this with the death rate of actual confirmed cases, which are usually due to clinical presentation of symptoms.  This may show that while the virus is not as deadly as we once thought, those who develop symtoms of the virus are possibly in more danger by an order of magnitude or more.  \n",
    "\n",
    "As of 21APR2020, there are 13,823 confirmed cases of COVID19 in Los Angeles County.  \n",
    "The initial study has shown that between 2.8 and 5.6 percent of the population of LA County has already been exposed to and had the virus.  The following code block demonstrates the difference in confirmed cases and what they possibly could be. "
   ]
  },
  {
   "cell_type": "code",
   "execution_count": 354,
   "metadata": {},
   "outputs": [
    {
     "name": "stdout",
     "output_type": "stream",
     "text": [
      "Initial antibody testing shows the number of actual infected individuals \n",
      "is approximately 30.38 times greater than the amount of confrimed cases.\n",
      "\n",
      "Study estimated total infected in LA County: 420000\n"
     ]
    }
   ],
   "source": [
    "total_confirmed_LA = 13823\n",
    "LA_population = 10000000 #approximately\n",
    "confirmed_pop_percent = total_confirmed_LA/LA_population\n",
    "estimated_pop_percent = (2.8+5.6)/(2*100)  #This is to get the mean of the confidence interval\n",
    "percent_diff_factor = estimated_pop_percent / confirmed_pop_percent\n",
    "estimated_infected_LA = total_confirmed_LA * percent_diff_factor\n",
    "\n",
    "print(\"Initial antibody testing shows the number of actual infected individuals \\nis approximately \" + str(round(percent_diff_factor,2)) + \" times greater than the amount of confrimed cases.\\n\")\n",
    "print(\"Study estimated total infected in LA County: \" + str(int(estimated_infected_LA)) )\n"
   ]
  },
  {
   "cell_type": "code",
   "execution_count": 355,
   "metadata": {},
   "outputs": [
    {
     "data": {
      "text/html": [
       "<div>\n",
       "<style scoped>\n",
       "    .dataframe tbody tr th:only-of-type {\n",
       "        vertical-align: middle;\n",
       "    }\n",
       "\n",
       "    .dataframe tbody tr th {\n",
       "        vertical-align: top;\n",
       "    }\n",
       "\n",
       "    .dataframe thead th {\n",
       "        text-align: right;\n",
       "    }\n",
       "</style>\n",
       "<table border=\"1\" class=\"dataframe\">\n",
       "  <thead>\n",
       "    <tr style=\"text-align: right;\">\n",
       "      <th></th>\n",
       "      <th>UID</th>\n",
       "      <th>iso2</th>\n",
       "      <th>iso3</th>\n",
       "      <th>code3</th>\n",
       "      <th>FIPS</th>\n",
       "      <th>Admin2</th>\n",
       "      <th>Province_State</th>\n",
       "      <th>Country_Region</th>\n",
       "      <th>Lat</th>\n",
       "      <th>Long_</th>\n",
       "      <th>...</th>\n",
       "      <th>4/11/20</th>\n",
       "      <th>4/12/20</th>\n",
       "      <th>4/13/20</th>\n",
       "      <th>4/14/20</th>\n",
       "      <th>4/15/20</th>\n",
       "      <th>4/16/20</th>\n",
       "      <th>4/17/20</th>\n",
       "      <th>4/18/20</th>\n",
       "      <th>4/19/20</th>\n",
       "      <th>4/20/20</th>\n",
       "    </tr>\n",
       "  </thead>\n",
       "  <tbody>\n",
       "    <tr>\n",
       "      <th>0</th>\n",
       "      <td>16</td>\n",
       "      <td>AS</td>\n",
       "      <td>ASM</td>\n",
       "      <td>16</td>\n",
       "      <td>60.0</td>\n",
       "      <td>NaN</td>\n",
       "      <td>American Samoa</td>\n",
       "      <td>US</td>\n",
       "      <td>-14.2710</td>\n",
       "      <td>-170.1320</td>\n",
       "      <td>...</td>\n",
       "      <td>0</td>\n",
       "      <td>0</td>\n",
       "      <td>0</td>\n",
       "      <td>0</td>\n",
       "      <td>0</td>\n",
       "      <td>0</td>\n",
       "      <td>0</td>\n",
       "      <td>0</td>\n",
       "      <td>0</td>\n",
       "      <td>0</td>\n",
       "    </tr>\n",
       "    <tr>\n",
       "      <th>1</th>\n",
       "      <td>316</td>\n",
       "      <td>GU</td>\n",
       "      <td>GUM</td>\n",
       "      <td>316</td>\n",
       "      <td>66.0</td>\n",
       "      <td>NaN</td>\n",
       "      <td>Guam</td>\n",
       "      <td>US</td>\n",
       "      <td>13.4443</td>\n",
       "      <td>144.7937</td>\n",
       "      <td>...</td>\n",
       "      <td>133</td>\n",
       "      <td>133</td>\n",
       "      <td>133</td>\n",
       "      <td>133</td>\n",
       "      <td>135</td>\n",
       "      <td>135</td>\n",
       "      <td>136</td>\n",
       "      <td>136</td>\n",
       "      <td>136</td>\n",
       "      <td>136</td>\n",
       "    </tr>\n",
       "    <tr>\n",
       "      <th>2</th>\n",
       "      <td>580</td>\n",
       "      <td>MP</td>\n",
       "      <td>MNP</td>\n",
       "      <td>580</td>\n",
       "      <td>69.0</td>\n",
       "      <td>NaN</td>\n",
       "      <td>Northern Mariana Islands</td>\n",
       "      <td>US</td>\n",
       "      <td>15.0979</td>\n",
       "      <td>145.6739</td>\n",
       "      <td>...</td>\n",
       "      <td>11</td>\n",
       "      <td>11</td>\n",
       "      <td>11</td>\n",
       "      <td>11</td>\n",
       "      <td>13</td>\n",
       "      <td>13</td>\n",
       "      <td>13</td>\n",
       "      <td>14</td>\n",
       "      <td>14</td>\n",
       "      <td>14</td>\n",
       "    </tr>\n",
       "    <tr>\n",
       "      <th>3</th>\n",
       "      <td>630</td>\n",
       "      <td>PR</td>\n",
       "      <td>PRI</td>\n",
       "      <td>630</td>\n",
       "      <td>72.0</td>\n",
       "      <td>NaN</td>\n",
       "      <td>Puerto Rico</td>\n",
       "      <td>US</td>\n",
       "      <td>18.2208</td>\n",
       "      <td>-66.5901</td>\n",
       "      <td>...</td>\n",
       "      <td>788</td>\n",
       "      <td>897</td>\n",
       "      <td>903</td>\n",
       "      <td>923</td>\n",
       "      <td>974</td>\n",
       "      <td>1043</td>\n",
       "      <td>1068</td>\n",
       "      <td>1118</td>\n",
       "      <td>1213</td>\n",
       "      <td>1252</td>\n",
       "    </tr>\n",
       "    <tr>\n",
       "      <th>4</th>\n",
       "      <td>850</td>\n",
       "      <td>VI</td>\n",
       "      <td>VIR</td>\n",
       "      <td>850</td>\n",
       "      <td>78.0</td>\n",
       "      <td>NaN</td>\n",
       "      <td>Virgin Islands</td>\n",
       "      <td>US</td>\n",
       "      <td>18.3358</td>\n",
       "      <td>-64.8963</td>\n",
       "      <td>...</td>\n",
       "      <td>51</td>\n",
       "      <td>51</td>\n",
       "      <td>51</td>\n",
       "      <td>51</td>\n",
       "      <td>51</td>\n",
       "      <td>51</td>\n",
       "      <td>51</td>\n",
       "      <td>53</td>\n",
       "      <td>53</td>\n",
       "      <td>53</td>\n",
       "    </tr>\n",
       "  </tbody>\n",
       "</table>\n",
       "<p>5 rows × 101 columns</p>\n",
       "</div>"
      ],
      "text/plain": [
       "   UID iso2 iso3  code3  FIPS Admin2            Province_State Country_Region  \\\n",
       "0   16   AS  ASM     16  60.0    NaN            American Samoa             US   \n",
       "1  316   GU  GUM    316  66.0    NaN                      Guam             US   \n",
       "2  580   MP  MNP    580  69.0    NaN  Northern Mariana Islands             US   \n",
       "3  630   PR  PRI    630  72.0    NaN               Puerto Rico             US   \n",
       "4  850   VI  VIR    850  78.0    NaN            Virgin Islands             US   \n",
       "\n",
       "       Lat     Long_  ... 4/11/20  4/12/20  4/13/20  4/14/20  4/15/20  \\\n",
       "0 -14.2710 -170.1320  ...       0        0        0        0        0   \n",
       "1  13.4443  144.7937  ...     133      133      133      133      135   \n",
       "2  15.0979  145.6739  ...      11       11       11       11       13   \n",
       "3  18.2208  -66.5901  ...     788      897      903      923      974   \n",
       "4  18.3358  -64.8963  ...      51       51       51       51       51   \n",
       "\n",
       "   4/16/20  4/17/20  4/18/20  4/19/20  4/20/20  \n",
       "0        0        0        0        0        0  \n",
       "1      135      136      136      136      136  \n",
       "2       13       13       14       14       14  \n",
       "3     1043     1068     1118     1213     1252  \n",
       "4       51       51       53       53       53  \n",
       "\n",
       "[5 rows x 101 columns]"
      ]
     },
     "execution_count": 355,
     "metadata": {},
     "output_type": "execute_result"
    }
   ],
   "source": [
    "covid_df.head()\n",
    "#the head does not yeild much insight into the meanings of some of the data, try the tail"
   ]
  },
  {
   "cell_type": "code",
   "execution_count": 356,
   "metadata": {},
   "outputs": [
    {
     "data": {
      "text/html": [
       "<div>\n",
       "<style scoped>\n",
       "    .dataframe tbody tr th:only-of-type {\n",
       "        vertical-align: middle;\n",
       "    }\n",
       "\n",
       "    .dataframe tbody tr th {\n",
       "        vertical-align: top;\n",
       "    }\n",
       "\n",
       "    .dataframe thead th {\n",
       "        text-align: right;\n",
       "    }\n",
       "</style>\n",
       "<table border=\"1\" class=\"dataframe\">\n",
       "  <thead>\n",
       "    <tr style=\"text-align: right;\">\n",
       "      <th></th>\n",
       "      <th>UID</th>\n",
       "      <th>iso2</th>\n",
       "      <th>iso3</th>\n",
       "      <th>code3</th>\n",
       "      <th>FIPS</th>\n",
       "      <th>Admin2</th>\n",
       "      <th>Province_State</th>\n",
       "      <th>Country_Region</th>\n",
       "      <th>Lat</th>\n",
       "      <th>Long_</th>\n",
       "      <th>...</th>\n",
       "      <th>4/11/20</th>\n",
       "      <th>4/12/20</th>\n",
       "      <th>4/13/20</th>\n",
       "      <th>4/14/20</th>\n",
       "      <th>4/15/20</th>\n",
       "      <th>4/16/20</th>\n",
       "      <th>4/17/20</th>\n",
       "      <th>4/18/20</th>\n",
       "      <th>4/19/20</th>\n",
       "      <th>4/20/20</th>\n",
       "    </tr>\n",
       "  </thead>\n",
       "  <tbody>\n",
       "    <tr>\n",
       "      <th>3256</th>\n",
       "      <td>84070016</td>\n",
       "      <td>US</td>\n",
       "      <td>USA</td>\n",
       "      <td>840</td>\n",
       "      <td>NaN</td>\n",
       "      <td>Central Utah</td>\n",
       "      <td>Utah</td>\n",
       "      <td>US</td>\n",
       "      <td>39.372319</td>\n",
       "      <td>-111.575868</td>\n",
       "      <td>...</td>\n",
       "      <td>0</td>\n",
       "      <td>0</td>\n",
       "      <td>0</td>\n",
       "      <td>0</td>\n",
       "      <td>0</td>\n",
       "      <td>0</td>\n",
       "      <td>0</td>\n",
       "      <td>0</td>\n",
       "      <td>15</td>\n",
       "      <td>17</td>\n",
       "    </tr>\n",
       "    <tr>\n",
       "      <th>3257</th>\n",
       "      <td>84070017</td>\n",
       "      <td>US</td>\n",
       "      <td>USA</td>\n",
       "      <td>840</td>\n",
       "      <td>NaN</td>\n",
       "      <td>Southeast Utah</td>\n",
       "      <td>Utah</td>\n",
       "      <td>US</td>\n",
       "      <td>38.996171</td>\n",
       "      <td>-110.701396</td>\n",
       "      <td>...</td>\n",
       "      <td>0</td>\n",
       "      <td>0</td>\n",
       "      <td>0</td>\n",
       "      <td>0</td>\n",
       "      <td>0</td>\n",
       "      <td>0</td>\n",
       "      <td>0</td>\n",
       "      <td>0</td>\n",
       "      <td>6</td>\n",
       "      <td>7</td>\n",
       "    </tr>\n",
       "    <tr>\n",
       "      <th>3258</th>\n",
       "      <td>84070018</td>\n",
       "      <td>US</td>\n",
       "      <td>USA</td>\n",
       "      <td>840</td>\n",
       "      <td>NaN</td>\n",
       "      <td>Southwest Utah</td>\n",
       "      <td>Utah</td>\n",
       "      <td>US</td>\n",
       "      <td>37.854472</td>\n",
       "      <td>-111.441876</td>\n",
       "      <td>...</td>\n",
       "      <td>0</td>\n",
       "      <td>0</td>\n",
       "      <td>0</td>\n",
       "      <td>0</td>\n",
       "      <td>0</td>\n",
       "      <td>0</td>\n",
       "      <td>0</td>\n",
       "      <td>0</td>\n",
       "      <td>66</td>\n",
       "      <td>70</td>\n",
       "    </tr>\n",
       "    <tr>\n",
       "      <th>3259</th>\n",
       "      <td>84070019</td>\n",
       "      <td>US</td>\n",
       "      <td>USA</td>\n",
       "      <td>840</td>\n",
       "      <td>NaN</td>\n",
       "      <td>TriCounty</td>\n",
       "      <td>Utah</td>\n",
       "      <td>US</td>\n",
       "      <td>40.124915</td>\n",
       "      <td>-109.517442</td>\n",
       "      <td>...</td>\n",
       "      <td>0</td>\n",
       "      <td>0</td>\n",
       "      <td>0</td>\n",
       "      <td>0</td>\n",
       "      <td>0</td>\n",
       "      <td>0</td>\n",
       "      <td>0</td>\n",
       "      <td>0</td>\n",
       "      <td>10</td>\n",
       "      <td>10</td>\n",
       "    </tr>\n",
       "    <tr>\n",
       "      <th>3260</th>\n",
       "      <td>84070020</td>\n",
       "      <td>US</td>\n",
       "      <td>USA</td>\n",
       "      <td>840</td>\n",
       "      <td>NaN</td>\n",
       "      <td>Weber-Morgan</td>\n",
       "      <td>Utah</td>\n",
       "      <td>US</td>\n",
       "      <td>41.271160</td>\n",
       "      <td>-111.914512</td>\n",
       "      <td>...</td>\n",
       "      <td>0</td>\n",
       "      <td>0</td>\n",
       "      <td>0</td>\n",
       "      <td>0</td>\n",
       "      <td>0</td>\n",
       "      <td>0</td>\n",
       "      <td>0</td>\n",
       "      <td>0</td>\n",
       "      <td>119</td>\n",
       "      <td>124</td>\n",
       "    </tr>\n",
       "  </tbody>\n",
       "</table>\n",
       "<p>5 rows × 101 columns</p>\n",
       "</div>"
      ],
      "text/plain": [
       "           UID iso2 iso3  code3  FIPS          Admin2 Province_State  \\\n",
       "3256  84070016   US  USA    840   NaN    Central Utah           Utah   \n",
       "3257  84070017   US  USA    840   NaN  Southeast Utah           Utah   \n",
       "3258  84070018   US  USA    840   NaN  Southwest Utah           Utah   \n",
       "3259  84070019   US  USA    840   NaN       TriCounty           Utah   \n",
       "3260  84070020   US  USA    840   NaN    Weber-Morgan           Utah   \n",
       "\n",
       "     Country_Region        Lat       Long_  ... 4/11/20  4/12/20  4/13/20  \\\n",
       "3256             US  39.372319 -111.575868  ...       0        0        0   \n",
       "3257             US  38.996171 -110.701396  ...       0        0        0   \n",
       "3258             US  37.854472 -111.441876  ...       0        0        0   \n",
       "3259             US  40.124915 -109.517442  ...       0        0        0   \n",
       "3260             US  41.271160 -111.914512  ...       0        0        0   \n",
       "\n",
       "      4/14/20  4/15/20  4/16/20  4/17/20  4/18/20  4/19/20  4/20/20  \n",
       "3256        0        0        0        0        0       15       17  \n",
       "3257        0        0        0        0        0        6        7  \n",
       "3258        0        0        0        0        0       66       70  \n",
       "3259        0        0        0        0        0       10       10  \n",
       "3260        0        0        0        0        0      119      124  \n",
       "\n",
       "[5 rows x 101 columns]"
      ]
     },
     "execution_count": 356,
     "metadata": {},
     "output_type": "execute_result"
    }
   ],
   "source": [
    "covid_df.tail()"
   ]
  },
  {
   "cell_type": "markdown",
   "metadata": {},
   "source": [
    "It can be seen that the data in Admin2 seems to correspond to county, or locality, this may be a way to look up Los Angeles."
   ]
  },
  {
   "cell_type": "code",
   "execution_count": 357,
   "metadata": {},
   "outputs": [
    {
     "data": {
      "text/html": [
       "<div>\n",
       "<style scoped>\n",
       "    .dataframe tbody tr th:only-of-type {\n",
       "        vertical-align: middle;\n",
       "    }\n",
       "\n",
       "    .dataframe tbody tr th {\n",
       "        vertical-align: top;\n",
       "    }\n",
       "\n",
       "    .dataframe thead th {\n",
       "        text-align: right;\n",
       "    }\n",
       "</style>\n",
       "<table border=\"1\" class=\"dataframe\">\n",
       "  <thead>\n",
       "    <tr style=\"text-align: right;\">\n",
       "      <th></th>\n",
       "      <th>UID</th>\n",
       "      <th>iso2</th>\n",
       "      <th>iso3</th>\n",
       "      <th>code3</th>\n",
       "      <th>FIPS</th>\n",
       "      <th>Admin2</th>\n",
       "      <th>Province_State</th>\n",
       "      <th>Country_Region</th>\n",
       "      <th>Lat</th>\n",
       "      <th>Long_</th>\n",
       "      <th>...</th>\n",
       "      <th>4/11/20</th>\n",
       "      <th>4/12/20</th>\n",
       "      <th>4/13/20</th>\n",
       "      <th>4/14/20</th>\n",
       "      <th>4/15/20</th>\n",
       "      <th>4/16/20</th>\n",
       "      <th>4/17/20</th>\n",
       "      <th>4/18/20</th>\n",
       "      <th>4/19/20</th>\n",
       "      <th>4/20/20</th>\n",
       "    </tr>\n",
       "  </thead>\n",
       "  <tbody>\n",
       "    <tr>\n",
       "      <th>209</th>\n",
       "      <td>84006037</td>\n",
       "      <td>US</td>\n",
       "      <td>USA</td>\n",
       "      <td>840</td>\n",
       "      <td>6037.0</td>\n",
       "      <td>Los Angeles</td>\n",
       "      <td>California</td>\n",
       "      <td>US</td>\n",
       "      <td>34.308284</td>\n",
       "      <td>-118.228241</td>\n",
       "      <td>...</td>\n",
       "      <td>8453</td>\n",
       "      <td>8894</td>\n",
       "      <td>9433</td>\n",
       "      <td>10047</td>\n",
       "      <td>10517</td>\n",
       "      <td>10854</td>\n",
       "      <td>11400</td>\n",
       "      <td>12021</td>\n",
       "      <td>12341</td>\n",
       "      <td>13823</td>\n",
       "    </tr>\n",
       "  </tbody>\n",
       "</table>\n",
       "<p>1 rows × 101 columns</p>\n",
       "</div>"
      ],
      "text/plain": [
       "          UID iso2 iso3  code3    FIPS       Admin2 Province_State  \\\n",
       "209  84006037   US  USA    840  6037.0  Los Angeles     California   \n",
       "\n",
       "    Country_Region        Lat       Long_  ... 4/11/20  4/12/20  4/13/20  \\\n",
       "209             US  34.308284 -118.228241  ...    8453     8894     9433   \n",
       "\n",
       "     4/14/20  4/15/20  4/16/20  4/17/20  4/18/20  4/19/20  4/20/20  \n",
       "209    10047    10517    10854    11400    12021    12341    13823  \n",
       "\n",
       "[1 rows x 101 columns]"
      ]
     },
     "execution_count": 357,
     "metadata": {},
     "output_type": "execute_result"
    }
   ],
   "source": [
    "#Getting data that only corresponds to Los Angeles\n",
    "la_data = covid_df.loc[covid_df['Admin2'] == 'Los Angeles']\n",
    "la_data"
   ]
  },
  {
   "cell_type": "markdown",
   "metadata": {},
   "source": [
    "In order to filter out only the dates and numerical data, pandas allows you to select a row and the numerical integer locations of columns to place into a new series.  This series is now iterable.  \n",
    "\n",
    "Additionally, a series with the adjusted numbers can also be created."
   ]
  },
  {
   "cell_type": "code",
   "execution_count": 358,
   "metadata": {},
   "outputs": [
    {
     "name": "stdout",
     "output_type": "stream",
     "text": [
      "Original data: \n",
      "[ 536  662  812 1229 1465]\n",
      "\n",
      "Adjusted data: \n",
      "[16080 19860 24360 36870 43950]\n"
     ]
    }
   ],
   "source": [
    "\n",
    "la_confirmed_numerical_df = la_data.iloc[:, 12:]\n",
    "print(\"Original data: \")\n",
    "la_confirmed_numerical = np.copy(la_confirmed_numerical_df.iloc[0,:])\n",
    "\n",
    "\n",
    "la_test_numerical = np.copy(la_confirmed_numerical * round(percent_diff_factor))\n",
    "\n",
    "print(la_confirmed_numerical[60:65] )\n",
    "print(\"\\nAdjusted data: \")\n",
    "print(la_test_numerical[60:65])"
   ]
  },
  {
   "cell_type": "markdown",
   "metadata": {},
   "source": [
    "Now to get the deaths in a same manner, as it is laid out the same as the confirmed case data."
   ]
  },
  {
   "cell_type": "code",
   "execution_count": 359,
   "metadata": {},
   "outputs": [
    {
     "name": "stdout",
     "output_type": "stream",
     "text": [
      "[5 7 11 13 21]\n"
     ]
    }
   ],
   "source": [
    "deaths_filename = \"time_series_covid19_deaths_US.csv\"\n",
    "us_deaths_df = pd.read_csv(datapath + deaths_filename)\n",
    "\n",
    "la_deaths_df = us_deaths_df.loc[us_deaths_df[\"Admin2\"] == \"Los Angeles\"]\n",
    "la_deaths_numerical = np.copy(la_deaths_df.iloc[0, 12:])\n",
    "print(la_deaths_numerical[60:65])"
   ]
  },
  {
   "cell_type": "markdown",
   "metadata": {},
   "source": [
    "Random side note, all of the numbers I picked to show in deaths are sequential prime numbers."
   ]
  },
  {
   "cell_type": "markdown",
   "metadata": {},
   "source": [
    "A third series can now be created by calculating the respective death rates. "
   ]
  },
  {
   "cell_type": "code",
   "execution_count": 360,
   "metadata": {},
   "outputs": [
    {
     "data": {
      "text/plain": [
       "False"
      ]
     },
     "execution_count": 360,
     "metadata": {},
     "output_type": "execute_result"
    }
   ],
   "source": [
    "#this is a hacky way to populate an array with the dates as indices:\n",
    "#We must remember that assigning a variable to another variable in python will\n",
    "#create a reference to that very same object in memory..  Because of this we need\n",
    "#to use np.copy in order to get a fresh deep copy of the array.\n",
    "\n",
    "la_conf_cfr = np.copy(la_deaths_numerical)\n",
    "la_test_cfr = np.copy(la_conf_cfr)\n",
    "\n",
    "#check to make sure theyre not the same thing\n",
    "la_conf_cfr is la_deaths_numerical\n",
    "la_test_cfr is la_conf_cfr\n"
   ]
  },
  {
   "cell_type": "code",
   "execution_count": 361,
   "metadata": {},
   "outputs": [
    {
     "name": "stdout",
     "output_type": "stream",
     "text": [
      "[0 0 0 0 0 0 0 0 0 0 0 0 0 0 0 0 0 0 0 0 0 0 0 0 0 0 0 0 0 0 0 0 0 0 0 0 0\n",
      " 0 0 0 0 0 0 0 0 0 0 0 0 1 1 1 1 1 1 1 1 2 2 2 5 7 11 13 21 26 26 32 44 54\n",
      " 64 78 89 93 132 147 169 198 223 242 244 269 322 360 405 457 497 576 600\n",
      " 619]\n",
      "[    0     0     0     1     1     1     1     1     1     1     1     1\n",
      "     1     1     1     1     1     1     1     1     1     1     1     1\n",
      "     1     1     1     1     1     1     1     1     1     1     1     1\n",
      "     1     1     1     1     1     7    11    13    14    14    14    20\n",
      "    27    32    40    53    53    94   144   190   231   292   292   407\n",
      "   536   662   812  1229  1465  1465  1829  2474  3019  3518  4045  4566\n",
      "  4605  5955  6377  6936  7559  7955  8443  8453  8894  9433 10047 10517\n",
      " 10854 11400 12021 12341 13823]\n",
      "[     0      0      0     30     30     30     30     30     30     30\n",
      "     30     30     30     30     30     30     30     30     30     30\n",
      "     30     30     30     30     30     30     30     30     30     30\n",
      "     30     30     30     30     30     30     30     30     30     30\n",
      "     30    210    330    390    420    420    420    600    810    960\n",
      "   1200   1590   1590   2820   4320   5700   6930   8760   8760  12210\n",
      "  16080  19860  24360  36870  43950  43950  54870  74220  90570 105540\n",
      " 121350 136980 138150 178650 191310 208080 226770 238650 253290 253590\n",
      " 266820 282990 301410 315510 325620 342000 360630 370230 414690]\n"
     ]
    }
   ],
   "source": [
    "print(la_deaths_numerical)\n",
    "print(la_confirmed_numerical)\n",
    "print(la_test_numerical)"
   ]
  },
  {
   "cell_type": "code",
   "execution_count": 362,
   "metadata": {},
   "outputs": [
    {
     "ename": "ValueError",
     "evalue": "operands could not be broadcast together with shapes (90,) (89,) ",
     "output_type": "error",
     "traceback": [
      "\u001b[1;31m---------------------------------------------------------------------------\u001b[0m",
      "\u001b[1;31mValueError\u001b[0m                                Traceback (most recent call last)",
      "\u001b[1;32m<ipython-input-362-9fd3ffb1e5ff>\u001b[0m in \u001b[0;36m<module>\u001b[1;34m\u001b[0m\n\u001b[1;32m----> 1\u001b[1;33m \u001b[0mla_conf_cfr\u001b[0m \u001b[1;33m=\u001b[0m \u001b[0mnp\u001b[0m\u001b[1;33m.\u001b[0m\u001b[0mdivide\u001b[0m\u001b[1;33m(\u001b[0m\u001b[0mla_deaths_numerical\u001b[0m\u001b[1;33m,\u001b[0m \u001b[0mla_confirmed_numerical\u001b[0m\u001b[1;33m)\u001b[0m\u001b[1;33m\u001b[0m\u001b[1;33m\u001b[0m\u001b[0m\n\u001b[0m",
      "\u001b[1;31mValueError\u001b[0m: operands could not be broadcast together with shapes (90,) (89,) "
     ]
    }
   ],
   "source": [
    "la_conf_cfr = np.divide(la_deaths_numerical, la_confirmed_numerical)"
   ]
  },
  {
   "cell_type": "code",
   "execution_count": 363,
   "metadata": {},
   "outputs": [
    {
     "name": "stdout",
     "output_type": "stream",
     "text": [
      "90\n",
      "89\n",
      "89\n"
     ]
    }
   ],
   "source": [
    "##Looks like there's a size mismatch, we can find which one it is by checking the shapes\n",
    "\n",
    "print(len(la_deaths_numerical))\n",
    "print(len(la_test_numerical))\n",
    "print(len(la_confirmed_numerical))"
   ]
  },
  {
   "cell_type": "code",
   "execution_count": 364,
   "metadata": {},
   "outputs": [
    {
     "name": "stdout",
     "output_type": "stream",
     "text": [
      "89\n"
     ]
    },
    {
     "data": {
      "text/plain": [
       "array([0, 0, 0, 0, 0, 0, 0, 0, 0, 0, 0, 0, 0, 0, 0, 0, 0, 0, 0, 0, 0, 0,\n",
       "       0, 0, 0, 0, 0, 0, 0, 0, 0, 0, 0, 0, 0, 0, 0, 0, 0, 0, 0, 0, 0, 0,\n",
       "       0, 0, 0, 0, 1, 1, 1, 1, 1, 1, 1, 1, 2, 2, 2, 5, 7, 11, 13, 21, 26,\n",
       "       26, 32, 44, 54, 64, 78, 89, 93, 132, 147, 169, 198, 223, 242, 244,\n",
       "       269, 322, 360, 405, 457, 497, 576, 600, 619], dtype=object)"
      ]
     },
     "execution_count": 364,
     "metadata": {},
     "output_type": "execute_result"
    }
   ],
   "source": [
    "#since the numbers at the beginning of the deaths data is all 0's, the array can just be shifted left one \n",
    "#element to correct the size mismatch\n",
    "\n",
    "la_deaths_numerical = np.roll(la_deaths_numerical,-1)\n",
    "la_deaths_numerical = np.delete(la_deaths_numerical, -1)\n",
    "print(len(la_deaths_numerical))\n",
    "la_deaths_numerical"
   ]
  },
  {
   "cell_type": "code",
   "execution_count": 365,
   "metadata": {},
   "outputs": [
    {
     "name": "stderr",
     "output_type": "stream",
     "text": [
      "D:\\anaconda\\lib\\site-packages\\ipykernel_launcher.py:3: RuntimeWarning: invalid value encountered in longlong_scalars\n",
      "  This is separate from the ipykernel package so we can avoid doing imports until\n"
     ]
    },
    {
     "data": {
      "text/plain": [
       "array([0.0, 0.0, 0.0, 0.0, 0.0, 0.0, 0.0, 0.0, 0.0, 0.0, 0.0, 0.0, 0.0,\n",
       "       0.0, 0.0, 0.0, 0.0, 0.0, 0.0, 0.0, 0.0, 0.0, 0.0, 0.0, 0.0, 0.0,\n",
       "       0.0, 0.0, 0.0, 0.0, 0.0, 0.0, 0.0, 0.0, 0.0, 0.0, 0.0, 0.0, 0.0,\n",
       "       0.0, 0.0, 0.0, 0.0, 0.0, 0.0, 0.0, 0.0, 0.0, 0.037037037037037035,\n",
       "       0.03125, 0.025, 0.018867924528301886, 0.018867924528301886,\n",
       "       0.010638297872340425, 0.006944444444444444, 0.005263157894736842,\n",
       "       0.008658008658008658, 0.00684931506849315, 0.00684931506849315,\n",
       "       0.012285012285012284, 0.013059701492537313, 0.01661631419939577,\n",
       "       0.01600985221674877, 0.01708706265256306, 0.017747440273037544,\n",
       "       0.017747440273037544, 0.017495899398578457, 0.01778496362166532,\n",
       "       0.017886717456111294, 0.018192154633314382, 0.019283065512978988,\n",
       "       0.019491896627244855, 0.020195439739413682, 0.02216624685138539,\n",
       "       0.02305159165751921, 0.02436562860438293, 0.02619394099748644,\n",
       "       0.028032683846637336, 0.02866279758379723, 0.028865491541464568,\n",
       "       0.030245109062289183, 0.03413548181914555, 0.035831591519856675,\n",
       "       0.0385090805362746, 0.042104293348074445, 0.043596491228070175,\n",
       "       0.0479161467431994, 0.04861842638359938, 0.0447804383997685],\n",
       "      dtype=object)"
      ]
     },
     "execution_count": 365,
     "metadata": {},
     "output_type": "execute_result"
    }
   ],
   "source": [
    "#now try again:\n",
    "np.seterr(divide= 'warn')\n",
    "la_conf_cfr = np.divide(la_deaths_numerical, la_confirmed_numerical)\n",
    "la_conf_cfr = np.copy(np.nan_to_num(la_conf_cfr, 0))\n",
    "la_conf_cfr = np.nan_to_num(la_conf_cfr)#this doesnt work because conf_cfr was declared as inexact..\n",
    "#instead, I will just hardcore the first 3 values of the array, since those are shown as nan\n",
    "la_conf_cfr[0:3] = 0.0\n",
    "la_conf_cfr"
   ]
  },
  {
   "cell_type": "code",
   "execution_count": 366,
   "metadata": {},
   "outputs": [
    {
     "name": "stderr",
     "output_type": "stream",
     "text": [
      "D:\\anaconda\\lib\\site-packages\\ipykernel_launcher.py:4: RuntimeWarning: invalid value encountered in longlong_scalars\n",
      "  after removing the cwd from sys.path.\n"
     ]
    },
    {
     "data": {
      "text/plain": [
       "array([0.0, 0.0, 0.0, 0.0, 0.0, 0.0, 0.0, 0.0, 0.0, 0.0, 0.0, 0.0, 0.0,\n",
       "       0.0, 0.0, 0.0, 0.0, 0.0, 0.0, 0.0, 0.0, 0.0, 0.0, 0.0, 0.0, 0.0,\n",
       "       0.0, 0.0, 0.0, 0.0, 0.0, 0.0, 0.0, 0.0, 0.0, 0.0, 0.0, 0.0, 0.0,\n",
       "       0.0, 0.0, 0.0, 0.0, 0.0, 0.0, 0.0, 0.0, 0.0, 0.0012345679012345679,\n",
       "       0.0010416666666666667, 0.0008333333333333334,\n",
       "       0.0006289308176100629, 0.0006289308176100629,\n",
       "       0.0003546099290780142, 0.0002314814814814815,\n",
       "       0.00017543859649122806, 0.0002886002886002886,\n",
       "       0.00022831050228310502, 0.00022831050228310502,\n",
       "       0.0004095004095004095, 0.00043532338308457713,\n",
       "       0.000553877139979859, 0.0005336617405582923, 0.0005695687550854353,\n",
       "       0.0005915813424345848, 0.0005915813424345848,\n",
       "       0.0005831966466192819, 0.0005928321207221773,\n",
       "       0.0005962239152037098, 0.0006064051544438127,\n",
       "       0.0006427688504326329, 0.0006497298875748285,\n",
       "       0.0006731813246471227, 0.0007388748950461797,\n",
       "       0.0007683863885839736, 0.0008121876201460977,\n",
       "       0.0008731313665828813, 0.0009344227948879112,\n",
       "       0.0009554265861265742, 0.0009621830513821522, 0.001008170302076306,\n",
       "       0.0011378493939715184, 0.0011943863839952225, 0.00128363601787582,\n",
       "       0.0014034764449358148, 0.0014532163742690058, 0.00159720489143998,\n",
       "       0.0016206142127866462, 0.0014926812799922833], dtype=object)"
      ]
     },
     "execution_count": 366,
     "metadata": {},
     "output_type": "execute_result"
    }
   ],
   "source": [
    "\n",
    "#now for the new estimates:\n",
    "\n",
    "la_test_cfr = np.true_divide(la_deaths_numerical, la_test_numerical)\n",
    "la_test_cfr[0:3] = 0.0\n",
    "la_test_cfr"
   ]
  },
  {
   "cell_type": "markdown",
   "metadata": {},
   "source": [
    "Since so many of the first elements are 0, many of them can be deleted."
   ]
  },
  {
   "cell_type": "code",
   "execution_count": 367,
   "metadata": {
    "scrolled": true
   },
   "outputs": [],
   "source": [
    "#since this was all transferred into numpy arrays, an x value for the charts must be created,\n",
    "#so it will contain 89 dates starting from 22JAn2020\n",
    "\n",
    "import datetime\n",
    "\n",
    "start_date = datetime.datetime.strptime(\"22-01-2020\", \"%d-%m-%Y\")\n",
    "end_date = datetime.datetime.strptime(\"20-04-2020\", \"%d-%m-%Y\")\n",
    "covid_date_range = [start_date + datetime.timedelta(days=x) for x in range(0, (end_date-start_date).days)]\n"
   ]
  },
  {
   "cell_type": "markdown",
   "metadata": {},
   "source": [
    "Finally we can start visualizing the data:"
   ]
  },
  {
   "cell_type": "code",
   "execution_count": 368,
   "metadata": {},
   "outputs": [
    {
     "data": {
      "text/plain": [
       "<matplotlib.collections.PathCollection at 0x1ed6f52a198>"
      ]
     },
     "execution_count": 368,
     "metadata": {},
     "output_type": "execute_result"
    },
    {
     "data": {
      "image/png": "[encoded data removed]",
      "text/plain": [
       "<Figure size 1440x720 with 1 Axes>"
      ]
     },
     "metadata": {
      "needs_background": "light"
     },
     "output_type": "display_data"
    }
   ],
   "source": [
    "import matplotlib.ticker as ticker\n",
    "import matplotlib.dates as dates\n",
    "\n",
    "fig, ax = plt.subplots(figsize = (20,10))\n",
    "fig.suptitle('Case Fatailty Ratio of COVID19 for Confirmed cases and estimated infected based on antibody testing')\n",
    "fig.tight_layout(pad=3.0)\n",
    "fig.autofmt_xdate(rotation = 90)\n",
    "\n",
    "ax.set_xlabel(\"Date\")\n",
    "ax.set_ylabel(\"CFR (%) \")\n",
    "\n",
    "ax.scatter(covid_date_range, la_conf_cfr)\n",
    "ax.scatter(covid_date_range, la_test_cfr)\n",
    "\n",
    "#plt.legend((\"Confirmed Cases\", \"Adjusted Cases\"))\n",
    "\n",
    "\n"
   ]
  },
  {
   "cell_type": "markdown",
   "metadata": {},
   "source": [
    "In the above plot, it can be seen that the calculated death rate accounting for the antibody-test study remains relatively constant and somewhat linear.  It is also dramatically lower than what the current \"confirmed\" case fatality rate estimates.\n",
    "\n",
    "Below is a boxplot of the data, showing the range of where the CFR may actually lie."
   ]
  },
  {
   "cell_type": "code",
   "execution_count": 369,
   "metadata": {},
   "outputs": [
    {
     "name": "stdout",
     "output_type": "stream",
     "text": [
      "[1e-06 1e-06 1e-06 1e-06 1e-06 1e-06 1e-06 1e-06 1e-06 1e-06 1e-06 1e-06\n",
      " 1e-06 1e-06 1e-06 1e-06 1e-06 1e-06 1e-06 1e-06 1e-06 1e-06 1e-06 1e-06\n",
      " 1e-06 1e-06 1e-06 1e-06 1e-06 1e-06 1e-06 1e-06 1e-06 1e-06 1e-06 1e-06\n",
      " 1e-06 1e-06 1e-06 1e-06 1e-06 1e-06 1e-06 1e-06 1e-06 1e-06 1e-06 1e-06\n",
      " 0.037037037037037035 0.03125 0.025 0.018867924528301886\n",
      " 0.018867924528301886 0.010638297872340425 0.006944444444444444\n",
      " 0.005263157894736842 0.008658008658008658 0.00684931506849315\n",
      " 0.00684931506849315 0.012285012285012284 0.013059701492537313\n",
      " 0.01661631419939577 0.01600985221674877 0.01708706265256306\n",
      " 0.017747440273037544 0.017747440273037544 0.017495899398578457\n",
      " 0.01778496362166532 0.017886717456111294 0.018192154633314382\n",
      " 0.019283065512978988 0.019491896627244855 0.020195439739413682\n",
      " 0.02216624685138539 0.02305159165751921 0.02436562860438293\n",
      " 0.02619394099748644 0.028032683846637336 0.02866279758379723\n",
      " 0.028865491541464568 0.030245109062289183 0.03413548181914555\n",
      " 0.035831591519856675 0.0385090805362746 0.042104293348074445\n",
      " 0.043596491228070175 0.0479161467431994 0.04861842638359938\n",
      " 0.0447804383997685]\n",
      "[0.0 0.0 0.0 0.0 0.0 0.0 0.0 0.0 0.0 0.0 0.0 0.0 0.0 0.0 0.0 0.0 0.0 0.0\n",
      " 0.0 0.0 0.0 0.0 0.0 0.0 0.0 0.0 0.0 0.0 0.0 0.0 0.0 0.0 0.0 0.0 0.0 0.0\n",
      " 0.0 0.0 0.0 0.0 0.0 0.0 0.0 0.0 0.0 0.0 0.0 0.0 0.0012345679012345679\n",
      " 0.0010416666666666667 0.0008333333333333334 0.0006289308176100629\n",
      " 0.0006289308176100629 0.0003546099290780142 0.0002314814814814815\n",
      " 0.00017543859649122806 0.0002886002886002886 0.00022831050228310502\n",
      " 0.00022831050228310502 0.0004095004095004095 0.00043532338308457713\n",
      " 0.000553877139979859 0.0005336617405582923 0.0005695687550854353\n",
      " 0.0005915813424345848 0.0005915813424345848 0.0005831966466192819\n",
      " 0.0005928321207221773 0.0005962239152037098 0.0006064051544438127\n",
      " 0.0006427688504326329 0.0006497298875748285 0.0006731813246471227\n",
      " 0.0007388748950461797 0.0007683863885839736 0.0008121876201460977\n",
      " 0.0008731313665828813 0.0009344227948879112 0.0009554265861265742\n",
      " 0.0009621830513821522 0.001008170302076306 0.0011378493939715184\n",
      " 0.0011943863839952225 0.00128363601787582 0.0014034764449358148\n",
      " 0.0014532163742690058 0.00159720489143998 0.0016206142127866462\n",
      " 0.0014926812799922833]\n"
     ]
    }
   ],
   "source": [
    "la_conf_cfr = np.where(la_conf_cfr == 0.0, 0.000001, la_conf_cfr)\n",
    "print(la_conf_cfr)\n",
    "la_test_cfr = np.where(la_conf_cfr == 0.0, 0.000001, la_test_cfr)\n",
    "print(la_test_cfr)"
   ]
  },
  {
   "cell_type": "code",
   "execution_count": 383,
   "metadata": {},
   "outputs": [
    {
     "data": {
      "image/png": "[encoded data removed]",
      "text/plain": [
       "<Figure size 720x1440 with 1 Axes>"
      ]
     },
     "metadata": {
      "needs_background": "light"
     },
     "output_type": "display_data"
    }
   ],
   "source": [
    "#We need to get rid of the time before cases began to pop up.\n",
    "\n",
    "box_plot_cfr_data = [la_conf_cfr[12*4:], la_test_cfr[12*4:]]\n",
    "\n",
    "box_fig, box_ax = plt.subplots(figsize=(10,20))\n",
    "box_ax.set_title(\"Distribution of Case Fatality Rate for COVID19 Confirmed Cases and Antibody Test Estimated Cases\" )\n",
    "box_ax.set_ylabel(\"Case Fatality Rate (%)\")\n",
    "\n",
    "box_ax.boxplot(box_plot_cfr_data, labels=[\"Confirmed Cases\", \"Antibody Test Estimated Cases\"])\n",
    "\n",
    "plt.show()"
   ]
  },
  {
   "cell_type": "code",
   "execution_count": 391,
   "metadata": {},
   "outputs": [
    {
     "name": "stdout",
     "output_type": "stream",
     "text": [
      "Mean Estimated CFR with cases counted solely through the \"confirmed\" metric 0.010834065456233121\n",
      "Mean Estimated CFR with number of cases adjusted for antibody test results:  0.0003611175376796807\n",
      "Magnitude of difference between estimated case fatality rates when accounting for antibody testing 30.001493491139104\n"
     ]
    }
   ],
   "source": [
    "#We could also look at the mean of the CFRs to compare them numerically.\n",
    "\n",
    "print(\"Mean Estimated CFR with cases counted solely through the \\\"confirmed\\\" metric\", la_conf_cfr.mean())\n",
    "print(\"Mean Estimated CFR with number of cases adjusted for antibody test results: \", la_test_cfr.mean())\n",
    "print(\"Magnitude of difference between estimated case fatality rates when accounting for antibody testing\", la_conf_cfr.mean()/la_test_cfr.mean())"
   ]
  },
  {
   "cell_type": "markdown",
   "metadata": {},
   "source": [
    "### Part 2: Write a summary of what you find from the data"
   ]
  },
  {
   "cell_type": "markdown",
   "metadata": {},
   "source": [
    "Antibody testing will allow us to see the real numbers of cases and fatality rates.  Based on the initial findings, the CFR may be significantly lower than initially estmated."
   ]
  }
 ],
 "metadata": {
  "kernelspec": {
   "display_name": "Python 3",
   "language": "python",
   "name": "python3"
  },
  "language_info": {
   "codemirror_mode": {
    "name": "ipython",
    "version": 3
   },
   "file_extension": ".py",
   "mimetype": "text/x-python",
   "name": "python",
   "nbconvert_exporter": "python",
   "pygments_lexer": "ipython3",
   "version": "3.7.3"
  }
 },
 "nbformat": 4,
 "nbformat_minor": 1
}
