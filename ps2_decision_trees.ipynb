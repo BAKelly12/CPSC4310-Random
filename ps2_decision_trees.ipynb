{
  "nbformat": 4,
  "nbformat_minor": 0,
  "metadata": {
    "kernelspec": {
      "display_name": "Python 3",
      "language": "python",
      "name": "python3"
    },
    "language_info": {
      "codemirror_mode": {
        "name": "ipython",
        "version": 3
      },
      "file_extension": ".py",
      "mimetype": "text/x-python",
      "name": "python",
      "nbconvert_exporter": "python",
      "pygments_lexer": "ipython3",
      "version": "3.7.6"
    },
    "nav_menu": {
      "height": "309px",
      "width": "468px"
    },
    "toc": {
      "navigate_menu": true,
      "number_sections": true,
      "sideBar": true,
      "threshold": 6,
      "toc_cell": false,
      "toc_section_display": "block",
      "toc_window_display": false
    },
    "colab": {
      "name": "ps2_decision_trees.ipynb",
      "provenance": [],
      "collapsed_sections": [],
      "include_colab_link": true
    }
  },
  "cells": [
    {
      "cell_type": "markdown",
      "metadata": {
        "id": "view-in-github",
        "colab_type": "text"
      },
      "source": [
        "<a href=\"https://colab.research.google.com/github/BAKelly12/CPSC4310-Random/blob/master/ps2_decision_trees.ipynb\" target=\"_parent\"><img src=\"https://colab.research.google.com/assets/colab-badge.svg\" alt=\"Open In Colab\"/></a>"
      ]
    },
    {
      "cell_type": "markdown",
      "metadata": {
        "id": "dEdkXu8SpQUM",
        "colab_type": "text"
      },
      "source": [
        "# PS2\n",
        "\n",
        "## Decision Trees"
      ]
    },
    {
      "cell_type": "markdown",
      "metadata": {
        "id": "hDzifXzEpQUQ",
        "colab_type": "text"
      },
      "source": [
        "### Team members\n",
        "\n",
        "Notes: This homework can be done individually or by a group (either project group or the group you work in class). If this is done by a group, please write the names of students who work together. \n",
        "\n",
        "- Quinn Wass\n",
        "\n",
        "- Brigid Kelly\n",
        "\n",
        "-\n",
        "\n",
        "-\n"
      ]
    },
    {
      "cell_type": "markdown",
      "metadata": {
        "id": "Im_RAFASpQUT",
        "colab_type": "text"
      },
      "source": [
        "### Setup"
      ]
    },
    {
      "cell_type": "markdown",
      "metadata": {
        "id": "fA7tL_gYpQUW",
        "colab_type": "text"
      },
      "source": [
        "First, let's import a few common modules, ensure MatplotLib plots figures inline and prepare a function to save the figures. We also check that Python 3.5 or later is installed (although Python 2.x may work, it is deprecated so we strongly recommend you use Python 3 instead), as well as Scikit-Learn ≥0.20."
      ]
    },
    {
      "cell_type": "code",
      "metadata": {
        "id": "RSHct-nEpQUa",
        "colab_type": "code",
        "colab": {}
      },
      "source": [
        "# Python ≥3.5 is required\n",
        "import sys\n",
        "assert sys.version_info >= (3, 5)\n",
        "\n",
        "# Scikit-Learn ≥0.20 is required\n",
        "import sklearn\n",
        "assert sklearn.__version__ >= \"0.20\"\n",
        "\n",
        "# Common imports\n",
        "import numpy as np\n",
        "import os\n",
        "from sklearn.metrics import confusion_matrix\n",
        "from sklearn.metrics import classification_report\n",
        "\n",
        "# To plot pretty figures\n",
        "%matplotlib inline\n",
        "import matplotlib as mpl\n",
        "import matplotlib.pyplot as plt\n",
        "mpl.rc('axes', labelsize=14)\n",
        "mpl.rc('xtick', labelsize=12)\n",
        "mpl.rc('ytick', labelsize=12)\n",
        "\n",
        "\n",
        "# to make this notebook's output stable across runs\n",
        "np.random.seed(42)\n",
        "\n",
        "# Where to save the figures\n",
        "PROJECT_ROOT_DIR = \".\"\n",
        "CHAPTER_ID = \"decision_trees\"\n",
        "IMAGES_PATH = os.path.join(PROJECT_ROOT_DIR, \"images\", CHAPTER_ID)\n",
        "\n",
        "os.makedirs(IMAGES_PATH, exist_ok=True)\n",
        "\n",
        "def save_fig(fig_id, tight_layout=True, fig_extension=\"png\", resolution=300):\n",
        "    path = os.path.join(IMAGES_PATH, fig_id + \".\" + fig_extension)\n",
        "    print(\"Saving figure\", fig_id)\n",
        "    if tight_layout:\n",
        "        plt.tight_layout()\n",
        "    plt.savefig(path, format=fig_extension, dpi=resolution)"
      ],
      "execution_count": 0,
      "outputs": []
    },
    {
      "cell_type": "markdown",
      "metadata": {
        "id": "P-OtfD2xpQUq",
        "colab_type": "text"
      },
      "source": [
        "## Part 0\n",
        "\n",
        "- Read each cell of the examples below, run and check the outputs. "
      ]
    },
    {
      "cell_type": "markdown",
      "metadata": {
        "id": "qA7hWIr2pQUs",
        "colab_type": "text"
      },
      "source": [
        "### Confusion matrix plot"
      ]
    },
    {
      "cell_type": "code",
      "metadata": {
        "id": "Da9U4A_bpQUt",
        "colab_type": "code",
        "colab": {}
      },
      "source": [
        "# Show confusion matrix\n",
        "def plot_confusion_matrix(confusion_mat, cln):\n",
        "    plt.imshow(confusion_mat, interpolation='nearest', cmap=plt.cm.gray)\n",
        "    plt.title('Confusion matrix')\n",
        "    plt.colorbar()\n",
        "    tick_marks = np.arange(cln)\n",
        "    plt.xticks(tick_marks, tick_marks)\n",
        "    plt.yticks(tick_marks, tick_marks)\n",
        "    plt.ylabel('True label')\n",
        "    plt.xlabel('Predicted label')\n",
        "    plt.show()"
      ],
      "execution_count": 0,
      "outputs": []
    },
    {
      "cell_type": "markdown",
      "metadata": {
        "id": "e-KmIYaIpQVC",
        "colab_type": "text"
      },
      "source": [
        "### Confusion matrix simple example 1"
      ]
    },
    {
      "cell_type": "code",
      "metadata": {
        "id": "iAbUr0tUpQVG",
        "colab_type": "code",
        "outputId": "07124efd-75b7-490a-a8bd-38fa5afb9786",
        "colab": {
          "base_uri": "https://localhost:8080/",
          "height": 370
        }
      },
      "source": [
        "y_true = [1, 0, 0, 2, 1, 0, 3, 3, 3]\n",
        "y_pred = [1, 1, 0, 2, 1, 0, 1, 3, 3]\n",
        "confusion_mat = confusion_matrix(y_true, y_pred)\n",
        "\n",
        "print(confusion_mat)\n",
        "plot_confusion_matrix(confusion_mat, 4)"
      ],
      "execution_count": 3,
      "outputs": [
        {
          "output_type": "stream",
          "text": [
            "[[2 1 0 0]\n",
            " [0 2 0 0]\n",
            " [0 0 1 0]\n",
            " [0 1 0 2]]\n"
          ],
          "name": "stdout"
        },
        {
          "output_type": "display_data",
          "data": {
            "image/png": "[encoded data removed]",
            "text/plain": [
              "<Figure size 432x288 with 2 Axes>"
            ]
          },
          "metadata": {
            "tags": [],
            "needs_background": "light"
          }
        }
      ]
    },
    {
      "cell_type": "code",
      "metadata": {
        "id": "CKixPhuSpQVc",
        "colab_type": "code",
        "outputId": "25fde557-a355-458b-d905-16cf883f3f29",
        "colab": {
          "base_uri": "https://localhost:8080/",
          "height": 204
        }
      },
      "source": [
        "# Print classification report\n",
        "target_names = ['Class-0', 'Class-1', 'Class-2', 'Class-3']\n",
        "\n",
        "result_metrics = classification_report(y_true, y_pred, target_names=target_names)\n",
        "\n",
        "print(result_metrics)"
      ],
      "execution_count": 4,
      "outputs": [
        {
          "output_type": "stream",
          "text": [
            "              precision    recall  f1-score   support\n",
            "\n",
            "     Class-0       1.00      0.67      0.80         3\n",
            "     Class-1       0.50      1.00      0.67         2\n",
            "     Class-2       1.00      1.00      1.00         1\n",
            "     Class-3       1.00      0.67      0.80         3\n",
            "\n",
            "    accuracy                           0.78         9\n",
            "   macro avg       0.88      0.83      0.82         9\n",
            "weighted avg       0.89      0.78      0.79         9\n",
            "\n"
          ],
          "name": "stdout"
        }
      ]
    },
    {
      "cell_type": "markdown",
      "metadata": {
        "id": "fE6-_Jd6pQVl",
        "colab_type": "text"
      },
      "source": [
        "### Confusion matrix simple example 2"
      ]
    },
    {
      "cell_type": "code",
      "metadata": {
        "id": "-g1mrzh-pQVn",
        "colab_type": "code",
        "outputId": "57a54062-8dd5-428e-a025-be9de1e3f6fa",
        "colab": {
          "base_uri": "https://localhost:8080/",
          "height": 336
        }
      },
      "source": [
        "y_true2 = [1, 0, 0, 1, 1, 0, 1, 1, 0]\n",
        "y_pred2 = [1, 1, 0, 1, 1, 0, 1, 1, 1]\n",
        "confusion_mat2 = confusion_matrix(y_true2, y_pred2)\n",
        "\n",
        "print(confusion_mat2)\n",
        "plot_confusion_matrix(confusion_mat2, 2)"
      ],
      "execution_count": 5,
      "outputs": [
        {
          "output_type": "stream",
          "text": [
            "[[2 2]\n",
            " [0 5]]\n"
          ],
          "name": "stdout"
        },
        {
          "output_type": "display_data",
          "data": {
            "image/png": "[encoded data removed]",
            "text/plain": [
              "<Figure size 432x288 with 2 Axes>"
            ]
          },
          "metadata": {
            "tags": [],
            "needs_background": "light"
          }
        }
      ]
    },
    {
      "cell_type": "code",
      "metadata": {
        "id": "kL5ZQsq0pQVy",
        "colab_type": "code",
        "outputId": "8f43acaf-032e-42e5-f7b1-cd7fc71f9e76",
        "colab": {
          "base_uri": "https://localhost:8080/",
          "height": 170
        }
      },
      "source": [
        "# Print classification report\n",
        "target_names2 = ['Class-0', 'Class-1']\n",
        "\n",
        "result_metrics = classification_report(y_true2, y_pred2, target_names=target_names2)\n",
        "\n",
        "print(result_metrics)"
      ],
      "execution_count": 6,
      "outputs": [
        {
          "output_type": "stream",
          "text": [
            "              precision    recall  f1-score   support\n",
            "\n",
            "     Class-0       1.00      0.50      0.67         4\n",
            "     Class-1       0.71      1.00      0.83         5\n",
            "\n",
            "    accuracy                           0.78         9\n",
            "   macro avg       0.86      0.75      0.75         9\n",
            "weighted avg       0.84      0.78      0.76         9\n",
            "\n"
          ],
          "name": "stdout"
        }
      ]
    },
    {
      "cell_type": "markdown",
      "metadata": {
        "id": "e7JXTSlkpQV8",
        "colab_type": "text"
      },
      "source": [
        "## Data Visualization\n",
        "\n",
        "### iris dataset before we start training and testing a model"
      ]
    },
    {
      "cell_type": "code",
      "metadata": {
        "id": "Fa6Ws12CpQV9",
        "colab_type": "code",
        "outputId": "1b5b9f80-d783-42c0-ff6a-f8a2dc8bad35",
        "colab": {
          "base_uri": "https://localhost:8080/",
          "height": 442
        }
      },
      "source": [
        "import matplotlib.pyplot as plt\n",
        "import pandas as pd\n",
        "\n",
        "# read data from CSV file to dataframe\n",
        "iris = pd.read_csv('./data/iris.csv')\n",
        "print(iris.head())\n",
        "print(iris.tail())\n",
        "\n",
        "# scatter matrix plot\n",
        "pd.plotting.scatter_matrix(iris);\n",
        "\n",
        "plt.figure()\n",
        "pd.plotting.parallel_coordinates(iris, 'Name');\n",
        "\n"
      ],
      "execution_count": 7,
      "outputs": [
        {
          "output_type": "error",
          "ename": "FileNotFoundError",
          "evalue": "ignored",
          "traceback": [
            "\u001b[0;31m---------------------------------------------------------------------------\u001b[0m",
            "\u001b[0;31mFileNotFoundError\u001b[0m                         Traceback (most recent call last)",
            "\u001b[0;32m<ipython-input-7-2054c5d7cf7e>\u001b[0m in \u001b[0;36m<module>\u001b[0;34m()\u001b[0m\n\u001b[1;32m      3\u001b[0m \u001b[0;34m\u001b[0m\u001b[0m\n\u001b[1;32m      4\u001b[0m \u001b[0;31m# read data from CSV file to dataframe\u001b[0m\u001b[0;34m\u001b[0m\u001b[0;34m\u001b[0m\u001b[0;34m\u001b[0m\u001b[0m\n\u001b[0;32m----> 5\u001b[0;31m \u001b[0miris\u001b[0m \u001b[0;34m=\u001b[0m \u001b[0mpd\u001b[0m\u001b[0;34m.\u001b[0m\u001b[0mread_csv\u001b[0m\u001b[0;34m(\u001b[0m\u001b[0;34m'./data/iris.csv'\u001b[0m\u001b[0;34m)\u001b[0m\u001b[0;34m\u001b[0m\u001b[0;34m\u001b[0m\u001b[0m\n\u001b[0m\u001b[1;32m      6\u001b[0m \u001b[0mprint\u001b[0m\u001b[0;34m(\u001b[0m\u001b[0miris\u001b[0m\u001b[0;34m.\u001b[0m\u001b[0mhead\u001b[0m\u001b[0;34m(\u001b[0m\u001b[0;34m)\u001b[0m\u001b[0;34m)\u001b[0m\u001b[0;34m\u001b[0m\u001b[0;34m\u001b[0m\u001b[0m\n\u001b[1;32m      7\u001b[0m \u001b[0mprint\u001b[0m\u001b[0;34m(\u001b[0m\u001b[0miris\u001b[0m\u001b[0;34m.\u001b[0m\u001b[0mtail\u001b[0m\u001b[0;34m(\u001b[0m\u001b[0;34m)\u001b[0m\u001b[0;34m)\u001b[0m\u001b[0;34m\u001b[0m\u001b[0;34m\u001b[0m\u001b[0m\n",
            "\u001b[0;32m/usr/local/lib/python3.6/dist-packages/pandas/io/parsers.py\u001b[0m in \u001b[0;36mparser_f\u001b[0;34m(filepath_or_buffer, sep, delimiter, header, names, index_col, usecols, squeeze, prefix, mangle_dupe_cols, dtype, engine, converters, true_values, false_values, skipinitialspace, skiprows, skipfooter, nrows, na_values, keep_default_na, na_filter, verbose, skip_blank_lines, parse_dates, infer_datetime_format, keep_date_col, date_parser, dayfirst, cache_dates, iterator, chunksize, compression, thousands, decimal, lineterminator, quotechar, quoting, doublequote, escapechar, comment, encoding, dialect, error_bad_lines, warn_bad_lines, delim_whitespace, low_memory, memory_map, float_precision)\u001b[0m\n\u001b[1;32m    674\u001b[0m         )\n\u001b[1;32m    675\u001b[0m \u001b[0;34m\u001b[0m\u001b[0m\n\u001b[0;32m--> 676\u001b[0;31m         \u001b[0;32mreturn\u001b[0m \u001b[0m_read\u001b[0m\u001b[0;34m(\u001b[0m\u001b[0mfilepath_or_buffer\u001b[0m\u001b[0;34m,\u001b[0m \u001b[0mkwds\u001b[0m\u001b[0;34m)\u001b[0m\u001b[0;34m\u001b[0m\u001b[0;34m\u001b[0m\u001b[0m\n\u001b[0m\u001b[1;32m    677\u001b[0m \u001b[0;34m\u001b[0m\u001b[0m\n\u001b[1;32m    678\u001b[0m     \u001b[0mparser_f\u001b[0m\u001b[0;34m.\u001b[0m\u001b[0m__name__\u001b[0m \u001b[0;34m=\u001b[0m \u001b[0mname\u001b[0m\u001b[0;34m\u001b[0m\u001b[0;34m\u001b[0m\u001b[0m\n",
            "\u001b[0;32m/usr/local/lib/python3.6/dist-packages/pandas/io/parsers.py\u001b[0m in \u001b[0;36m_read\u001b[0;34m(filepath_or_buffer, kwds)\u001b[0m\n\u001b[1;32m    446\u001b[0m \u001b[0;34m\u001b[0m\u001b[0m\n\u001b[1;32m    447\u001b[0m     \u001b[0;31m# Create the parser.\u001b[0m\u001b[0;34m\u001b[0m\u001b[0;34m\u001b[0m\u001b[0;34m\u001b[0m\u001b[0m\n\u001b[0;32m--> 448\u001b[0;31m     \u001b[0mparser\u001b[0m \u001b[0;34m=\u001b[0m \u001b[0mTextFileReader\u001b[0m\u001b[0;34m(\u001b[0m\u001b[0mfp_or_buf\u001b[0m\u001b[0;34m,\u001b[0m \u001b[0;34m**\u001b[0m\u001b[0mkwds\u001b[0m\u001b[0;34m)\u001b[0m\u001b[0;34m\u001b[0m\u001b[0;34m\u001b[0m\u001b[0m\n\u001b[0m\u001b[1;32m    449\u001b[0m \u001b[0;34m\u001b[0m\u001b[0m\n\u001b[1;32m    450\u001b[0m     \u001b[0;32mif\u001b[0m \u001b[0mchunksize\u001b[0m \u001b[0;32mor\u001b[0m \u001b[0miterator\u001b[0m\u001b[0;34m:\u001b[0m\u001b[0;34m\u001b[0m\u001b[0;34m\u001b[0m\u001b[0m\n",
            "\u001b[0;32m/usr/local/lib/python3.6/dist-packages/pandas/io/parsers.py\u001b[0m in \u001b[0;36m__init__\u001b[0;34m(self, f, engine, **kwds)\u001b[0m\n\u001b[1;32m    878\u001b[0m             \u001b[0mself\u001b[0m\u001b[0;34m.\u001b[0m\u001b[0moptions\u001b[0m\u001b[0;34m[\u001b[0m\u001b[0;34m\"has_index_names\"\u001b[0m\u001b[0;34m]\u001b[0m \u001b[0;34m=\u001b[0m \u001b[0mkwds\u001b[0m\u001b[0;34m[\u001b[0m\u001b[0;34m\"has_index_names\"\u001b[0m\u001b[0;34m]\u001b[0m\u001b[0;34m\u001b[0m\u001b[0;34m\u001b[0m\u001b[0m\n\u001b[1;32m    879\u001b[0m \u001b[0;34m\u001b[0m\u001b[0m\n\u001b[0;32m--> 880\u001b[0;31m         \u001b[0mself\u001b[0m\u001b[0;34m.\u001b[0m\u001b[0m_make_engine\u001b[0m\u001b[0;34m(\u001b[0m\u001b[0mself\u001b[0m\u001b[0;34m.\u001b[0m\u001b[0mengine\u001b[0m\u001b[0;34m)\u001b[0m\u001b[0;34m\u001b[0m\u001b[0;34m\u001b[0m\u001b[0m\n\u001b[0m\u001b[1;32m    881\u001b[0m \u001b[0;34m\u001b[0m\u001b[0m\n\u001b[1;32m    882\u001b[0m     \u001b[0;32mdef\u001b[0m \u001b[0mclose\u001b[0m\u001b[0;34m(\u001b[0m\u001b[0mself\u001b[0m\u001b[0;34m)\u001b[0m\u001b[0;34m:\u001b[0m\u001b[0;34m\u001b[0m\u001b[0;34m\u001b[0m\u001b[0m\n",
            "\u001b[0;32m/usr/local/lib/python3.6/dist-packages/pandas/io/parsers.py\u001b[0m in \u001b[0;36m_make_engine\u001b[0;34m(self, engine)\u001b[0m\n\u001b[1;32m   1112\u001b[0m     \u001b[0;32mdef\u001b[0m \u001b[0m_make_engine\u001b[0m\u001b[0;34m(\u001b[0m\u001b[0mself\u001b[0m\u001b[0;34m,\u001b[0m \u001b[0mengine\u001b[0m\u001b[0;34m=\u001b[0m\u001b[0;34m\"c\"\u001b[0m\u001b[0;34m)\u001b[0m\u001b[0;34m:\u001b[0m\u001b[0;34m\u001b[0m\u001b[0;34m\u001b[0m\u001b[0m\n\u001b[1;32m   1113\u001b[0m         \u001b[0;32mif\u001b[0m \u001b[0mengine\u001b[0m \u001b[0;34m==\u001b[0m \u001b[0;34m\"c\"\u001b[0m\u001b[0;34m:\u001b[0m\u001b[0;34m\u001b[0m\u001b[0;34m\u001b[0m\u001b[0m\n\u001b[0;32m-> 1114\u001b[0;31m             \u001b[0mself\u001b[0m\u001b[0;34m.\u001b[0m\u001b[0m_engine\u001b[0m \u001b[0;34m=\u001b[0m \u001b[0mCParserWrapper\u001b[0m\u001b[0;34m(\u001b[0m\u001b[0mself\u001b[0m\u001b[0;34m.\u001b[0m\u001b[0mf\u001b[0m\u001b[0;34m,\u001b[0m \u001b[0;34m**\u001b[0m\u001b[0mself\u001b[0m\u001b[0;34m.\u001b[0m\u001b[0moptions\u001b[0m\u001b[0;34m)\u001b[0m\u001b[0;34m\u001b[0m\u001b[0;34m\u001b[0m\u001b[0m\n\u001b[0m\u001b[1;32m   1115\u001b[0m         \u001b[0;32melse\u001b[0m\u001b[0;34m:\u001b[0m\u001b[0;34m\u001b[0m\u001b[0;34m\u001b[0m\u001b[0m\n\u001b[1;32m   1116\u001b[0m             \u001b[0;32mif\u001b[0m \u001b[0mengine\u001b[0m \u001b[0;34m==\u001b[0m \u001b[0;34m\"python\"\u001b[0m\u001b[0;34m:\u001b[0m\u001b[0;34m\u001b[0m\u001b[0;34m\u001b[0m\u001b[0m\n",
            "\u001b[0;32m/usr/local/lib/python3.6/dist-packages/pandas/io/parsers.py\u001b[0m in \u001b[0;36m__init__\u001b[0;34m(self, src, **kwds)\u001b[0m\n\u001b[1;32m   1889\u001b[0m         \u001b[0mkwds\u001b[0m\u001b[0;34m[\u001b[0m\u001b[0;34m\"usecols\"\u001b[0m\u001b[0;34m]\u001b[0m \u001b[0;34m=\u001b[0m \u001b[0mself\u001b[0m\u001b[0;34m.\u001b[0m\u001b[0musecols\u001b[0m\u001b[0;34m\u001b[0m\u001b[0;34m\u001b[0m\u001b[0m\n\u001b[1;32m   1890\u001b[0m \u001b[0;34m\u001b[0m\u001b[0m\n\u001b[0;32m-> 1891\u001b[0;31m         \u001b[0mself\u001b[0m\u001b[0;34m.\u001b[0m\u001b[0m_reader\u001b[0m \u001b[0;34m=\u001b[0m \u001b[0mparsers\u001b[0m\u001b[0;34m.\u001b[0m\u001b[0mTextReader\u001b[0m\u001b[0;34m(\u001b[0m\u001b[0msrc\u001b[0m\u001b[0;34m,\u001b[0m \u001b[0;34m**\u001b[0m\u001b[0mkwds\u001b[0m\u001b[0;34m)\u001b[0m\u001b[0;34m\u001b[0m\u001b[0;34m\u001b[0m\u001b[0m\n\u001b[0m\u001b[1;32m   1892\u001b[0m         \u001b[0mself\u001b[0m\u001b[0;34m.\u001b[0m\u001b[0munnamed_cols\u001b[0m \u001b[0;34m=\u001b[0m \u001b[0mself\u001b[0m\u001b[0;34m.\u001b[0m\u001b[0m_reader\u001b[0m\u001b[0;34m.\u001b[0m\u001b[0munnamed_cols\u001b[0m\u001b[0;34m\u001b[0m\u001b[0;34m\u001b[0m\u001b[0m\n\u001b[1;32m   1893\u001b[0m \u001b[0;34m\u001b[0m\u001b[0m\n",
            "\u001b[0;32mpandas/_libs/parsers.pyx\u001b[0m in \u001b[0;36mpandas._libs.parsers.TextReader.__cinit__\u001b[0;34m()\u001b[0m\n",
            "\u001b[0;32mpandas/_libs/parsers.pyx\u001b[0m in \u001b[0;36mpandas._libs.parsers.TextReader._setup_parser_source\u001b[0;34m()\u001b[0m\n",
            "\u001b[0;31mFileNotFoundError\u001b[0m: [Errno 2] File ./data/iris.csv does not exist: './data/iris.csv'"
          ]
        }
      ]
    },
    {
      "cell_type": "markdown",
      "metadata": {
        "id": "vfuA7H9ZpQWF",
        "colab_type": "text"
      },
      "source": [
        "# Decision Trees\n",
        "\n",
        "### Load data\n",
        "\n",
        "- For the following code, we use sklearn.datasets package for loading a dataset instead of reading a data file stored on a local machine. "
      ]
    },
    {
      "cell_type": "code",
      "metadata": {
        "id": "tTRzkvv6pQWH",
        "colab_type": "code",
        "colab": {}
      },
      "source": [
        "from sklearn.datasets import load_iris\n",
        "from sklearn.tree import DecisionTreeClassifier\n",
        "from sklearn.model_selection import train_test_split\n",
        "\n",
        "iris = load_iris()\n",
        "\n",
        "#print(iris)"
      ],
      "execution_count": 0,
      "outputs": []
    },
    {
      "cell_type": "markdown",
      "metadata": {
        "id": "k-SpYek5pQWQ",
        "colab_type": "text"
      },
      "source": [
        "### Split the data to training and testing "
      ]
    },
    {
      "cell_type": "code",
      "metadata": {
        "id": "tNezs8FXpQWS",
        "colab_type": "code",
        "colab": {}
      },
      "source": [
        "X = iris.data[:, 2:] # petal length and width\n",
        "y = iris.target\n",
        "\n",
        "X_train, X_test, y_train, y_test = train_test_split(X, y, test_size=0.30)"
      ],
      "execution_count": 0,
      "outputs": []
    },
    {
      "cell_type": "markdown",
      "metadata": {
        "id": "yR895WempQWY",
        "colab_type": "text"
      },
      "source": [
        "## Training\n",
        "### Learing using training data\n",
        "\n",
        "- use Gini index measure \n",
        "\n",
        "*** Notes: you can also use gain information (entropy) measure by setting criterion=\"entropy\" in the model"
      ]
    },
    {
      "cell_type": "code",
      "metadata": {
        "id": "I3pUcBcapQWZ",
        "colab_type": "code",
        "colab": {
          "base_uri": "https://localhost:8080/",
          "height": 119
        },
        "outputId": "4b9925ee-7d5a-416b-e6ab-198dcf2a2fd1"
      },
      "source": [
        "tree_clf = DecisionTreeClassifier(max_depth=2, criterion=\"gini\", random_state=42)\n",
        "tree_clf.fit(X_train, y_train)"
      ],
      "execution_count": 10,
      "outputs": [
        {
          "output_type": "execute_result",
          "data": {
            "text/plain": [
              "DecisionTreeClassifier(ccp_alpha=0.0, class_weight=None, criterion='gini',\n",
              "                       max_depth=2, max_features=None, max_leaf_nodes=None,\n",
              "                       min_impurity_decrease=0.0, min_impurity_split=None,\n",
              "                       min_samples_leaf=1, min_samples_split=2,\n",
              "                       min_weight_fraction_leaf=0.0, presort='deprecated',\n",
              "                       random_state=42, splitter='best')"
            ]
          },
          "metadata": {
            "tags": []
          },
          "execution_count": 10
        }
      ]
    },
    {
      "cell_type": "markdown",
      "metadata": {
        "id": "IZRUEFlkpQWm",
        "colab_type": "text"
      },
      "source": [
        "## Testing\n",
        "### Evaluating the model using testing data"
      ]
    },
    {
      "cell_type": "code",
      "metadata": {
        "id": "Cp9b7RNDpQWo",
        "colab_type": "code",
        "colab": {}
      },
      "source": [
        "y_pred = tree_clf.predict(X_test)"
      ],
      "execution_count": 0,
      "outputs": []
    },
    {
      "cell_type": "markdown",
      "metadata": {
        "id": "_eyJt35ZpQWv",
        "colab_type": "text"
      },
      "source": [
        "# Visualization"
      ]
    },
    {
      "cell_type": "markdown",
      "metadata": {
        "id": "9FIuKtRCpQWw",
        "colab_type": "text"
      },
      "source": [
        "## Confusion matrix"
      ]
    },
    {
      "cell_type": "code",
      "metadata": {
        "id": "sMZs9HifpQWx",
        "colab_type": "code",
        "colab": {
          "base_uri": "https://localhost:8080/",
          "height": 353
        },
        "outputId": "0e139db2-0966-4886-cac9-0adc61d92ed3"
      },
      "source": [
        "# plot a confusion matrix\n",
        "confusion_mat = confusion_matrix(y_test, y_pred)\n",
        "\n",
        "print(confusion_mat)\n",
        "\n",
        "plot_confusion_matrix(confusion_mat, 3)"
      ],
      "execution_count": 12,
      "outputs": [
        {
          "output_type": "stream",
          "text": [
            "[[19  0  0]\n",
            " [ 0 13  0]\n",
            " [ 0  0 13]]\n"
          ],
          "name": "stdout"
        },
        {
          "output_type": "display_data",
          "data": {
            "image/png": "[encoded data removed]",
            "text/plain": [
              "<Figure size 432x288 with 2 Axes>"
            ]
          },
          "metadata": {
            "tags": [],
            "needs_background": "light"
          }
        }
      ]
    },
    {
      "cell_type": "markdown",
      "metadata": {
        "id": "om9XBQm-pQW6",
        "colab_type": "text"
      },
      "source": [
        "### Model performance summary"
      ]
    },
    {
      "cell_type": "code",
      "metadata": {
        "id": "VaI_qBjVpQW7",
        "colab_type": "code",
        "colab": {
          "base_uri": "https://localhost:8080/",
          "height": 187
        },
        "outputId": "f39dd68e-e2b6-4904-8831-4888e5cc2c8c"
      },
      "source": [
        "# Print classification report\n",
        "target_names = iris.target_names\n",
        "\n",
        "result_metrics = classification_report(y_test, y_pred, target_names=target_names)\n",
        "\n",
        "print(result_metrics)"
      ],
      "execution_count": 13,
      "outputs": [
        {
          "output_type": "stream",
          "text": [
            "              precision    recall  f1-score   support\n",
            "\n",
            "      setosa       1.00      1.00      1.00        19\n",
            "  versicolor       1.00      1.00      1.00        13\n",
            "   virginica       1.00      1.00      1.00        13\n",
            "\n",
            "    accuracy                           1.00        45\n",
            "   macro avg       1.00      1.00      1.00        45\n",
            "weighted avg       1.00      1.00      1.00        45\n",
            "\n"
          ],
          "name": "stdout"
        }
      ]
    },
    {
      "cell_type": "code",
      "metadata": {
        "id": "TJXjsjgNpQXC",
        "colab_type": "code",
        "colab": {
          "base_uri": "https://localhost:8080/",
          "height": 34
        },
        "outputId": "4c174e03-640b-487c-dca2-48325bfc27bd"
      },
      "source": [
        "# you can access each class's metrics from result_metrics\n",
        "result_metrics_dict = classification_report(y_test, y_pred, target_names=target_names, output_dict=True)\n",
        "\n",
        "print(result_metrics_dict['setosa']['precision'])"
      ],
      "execution_count": 14,
      "outputs": [
        {
          "output_type": "stream",
          "text": [
            "1.0\n"
          ],
          "name": "stdout"
        }
      ]
    },
    {
      "cell_type": "markdown",
      "metadata": {
        "id": "1OMDDZPtpQXI",
        "colab_type": "text"
      },
      "source": [
        "### Draw a decision tree"
      ]
    },
    {
      "cell_type": "code",
      "metadata": {
        "id": "-NV14yBNpQXJ",
        "colab_type": "code",
        "colab": {
          "base_uri": "https://localhost:8080/",
          "height": 440
        },
        "outputId": "f809ea89-ffb9-43ac-a7c9-1cfb30984837"
      },
      "source": [
        "from graphviz import Source\n",
        "from sklearn.tree import export_graphviz\n",
        "\n",
        "export_graphviz(\n",
        "        tree_clf,\n",
        "        out_file=os.path.join(IMAGES_PATH, \"iris_tree.dot\"),\n",
        "        feature_names=iris.feature_names[2:],\n",
        "        class_names=iris.target_names,\n",
        "        rounded=True,\n",
        "        filled=True\n",
        "    )\n",
        "\n",
        "Source.from_file(os.path.join(IMAGES_PATH, \"iris_tree.dot\"))"
      ],
      "execution_count": 15,
      "outputs": [
        {
          "output_type": "execute_result",
          "data": {
            "text/plain": [
              "<graphviz.files.Source at 0x7fa15ea672b0>"
            ],
            "image/svg+xml": "<?xml version=\"1.0\" encoding=\"UTF-8\" standalone=\"no\"?>\n<!DOCTYPE svg PUBLIC \"-//W3C//DTD SVG 1.1//EN\"\n \"http://www.w3.org/Graphics/SVG/1.1/DTD/svg11.dtd\">\n<!-- Generated by graphviz version 2.40.1 (20161225.0304)\n -->\n<!-- Title: Tree Pages: 1 -->\n<svg width=\"368pt\" height=\"314pt\"\n viewBox=\"0.00 0.00 368.00 314.00\" xmlns=\"http://www.w3.org/2000/svg\" xmlns:xlink=\"http://www.w3.org/1999/xlink\">\n<g id=\"graph0\" class=\"graph\" transform=\"scale(1 1) rotate(0) translate(4 310)\">\n<title>Tree</title>\n<polygon fill=\"#ffffff\" stroke=\"transparent\" points=\"-4,4 -4,-310 364,-310 364,4 -4,4\"/>\n<!-- 0 -->\n<g id=\"node1\" class=\"node\">\n<title>0</title>\n<path fill=\"#ffffff\" stroke=\"#000000\" d=\"M219.5,-306C219.5,-306 67.5,-306 67.5,-306 61.5,-306 55.5,-300 55.5,-294 55.5,-294 55.5,-235 55.5,-235 55.5,-229 61.5,-223 67.5,-223 67.5,-223 219.5,-223 219.5,-223 225.5,-223 231.5,-229 231.5,-235 231.5,-235 231.5,-294 231.5,-294 231.5,-300 225.5,-306 219.5,-306\"/>\n<text text-anchor=\"middle\" x=\"143.5\" y=\"-290.8\" font-family=\"Helvetica,sans-Serif\" font-size=\"14.00\" fill=\"#000000\">petal length (cm) &lt;= 2.45</text>\n<text text-anchor=\"middle\" x=\"143.5\" y=\"-275.8\" font-family=\"Helvetica,sans-Serif\" font-size=\"14.00\" fill=\"#000000\">gini = 0.664</text>\n<text text-anchor=\"middle\" x=\"143.5\" y=\"-260.8\" font-family=\"Helvetica,sans-Serif\" font-size=\"14.00\" fill=\"#000000\">samples = 105</text>\n<text text-anchor=\"middle\" x=\"143.5\" y=\"-245.8\" font-family=\"Helvetica,sans-Serif\" font-size=\"14.00\" fill=\"#000000\">value = [31, 37, 37]</text>\n<text text-anchor=\"middle\" x=\"143.5\" y=\"-230.8\" font-family=\"Helvetica,sans-Serif\" font-size=\"14.00\" fill=\"#000000\">class = versicolor</text>\n</g>\n<!-- 1 -->\n<g id=\"node2\" class=\"node\">\n<title>1</title>\n<path fill=\"#e58139\" stroke=\"#000000\" d=\"M111,-179.5C111,-179.5 12,-179.5 12,-179.5 6,-179.5 0,-173.5 0,-167.5 0,-167.5 0,-123.5 0,-123.5 0,-117.5 6,-111.5 12,-111.5 12,-111.5 111,-111.5 111,-111.5 117,-111.5 123,-117.5 123,-123.5 123,-123.5 123,-167.5 123,-167.5 123,-173.5 117,-179.5 111,-179.5\"/>\n<text text-anchor=\"middle\" x=\"61.5\" y=\"-164.3\" font-family=\"Helvetica,sans-Serif\" font-size=\"14.00\" fill=\"#000000\">gini = 0.0</text>\n<text text-anchor=\"middle\" x=\"61.5\" y=\"-149.3\" font-family=\"Helvetica,sans-Serif\" font-size=\"14.00\" fill=\"#000000\">samples = 31</text>\n<text text-anchor=\"middle\" x=\"61.5\" y=\"-134.3\" font-family=\"Helvetica,sans-Serif\" font-size=\"14.00\" fill=\"#000000\">value = [31, 0, 0]</text>\n<text text-anchor=\"middle\" x=\"61.5\" y=\"-119.3\" font-family=\"Helvetica,sans-Serif\" font-size=\"14.00\" fill=\"#000000\">class = setosa</text>\n</g>\n<!-- 0&#45;&gt;1 -->\n<g id=\"edge1\" class=\"edge\">\n<title>0&#45;&gt;1</title>\n<path fill=\"none\" stroke=\"#000000\" d=\"M114.8204,-222.8796C107.0917,-211.6636 98.7191,-199.5131 90.9492,-188.2372\"/>\n<polygon fill=\"#000000\" stroke=\"#000000\" points=\"93.7018,-186.0634 85.1456,-179.8149 87.9377,-190.0353 93.7018,-186.0634\"/>\n<text text-anchor=\"middle\" x=\"80.6196\" y=\"-200.7018\" font-family=\"Helvetica,sans-Serif\" font-size=\"14.00\" fill=\"#000000\">True</text>\n</g>\n<!-- 2 -->\n<g id=\"node3\" class=\"node\">\n<title>2</title>\n<path fill=\"#ffffff\" stroke=\"#000000\" d=\"M299.5,-187C299.5,-187 153.5,-187 153.5,-187 147.5,-187 141.5,-181 141.5,-175 141.5,-175 141.5,-116 141.5,-116 141.5,-110 147.5,-104 153.5,-104 153.5,-104 299.5,-104 299.5,-104 305.5,-104 311.5,-110 311.5,-116 311.5,-116 311.5,-175 311.5,-175 311.5,-181 305.5,-187 299.5,-187\"/>\n<text text-anchor=\"middle\" x=\"226.5\" y=\"-171.8\" font-family=\"Helvetica,sans-Serif\" font-size=\"14.00\" fill=\"#000000\">petal width (cm) &lt;= 1.75</text>\n<text text-anchor=\"middle\" x=\"226.5\" y=\"-156.8\" font-family=\"Helvetica,sans-Serif\" font-size=\"14.00\" fill=\"#000000\">gini = 0.5</text>\n<text text-anchor=\"middle\" x=\"226.5\" y=\"-141.8\" font-family=\"Helvetica,sans-Serif\" font-size=\"14.00\" fill=\"#000000\">samples = 74</text>\n<text text-anchor=\"middle\" x=\"226.5\" y=\"-126.8\" font-family=\"Helvetica,sans-Serif\" font-size=\"14.00\" fill=\"#000000\">value = [0, 37, 37]</text>\n<text text-anchor=\"middle\" x=\"226.5\" y=\"-111.8\" font-family=\"Helvetica,sans-Serif\" font-size=\"14.00\" fill=\"#000000\">class = versicolor</text>\n</g>\n<!-- 0&#45;&gt;2 -->\n<g id=\"edge2\" class=\"edge\">\n<title>0&#45;&gt;2</title>\n<path fill=\"none\" stroke=\"#000000\" d=\"M172.5294,-222.8796C178.6855,-214.0534 185.2451,-204.6485 191.5936,-195.5466\"/>\n<polygon fill=\"#000000\" stroke=\"#000000\" points=\"194.4967,-197.5024 197.3467,-187.2981 188.7552,-193.4978 194.4967,-197.5024\"/>\n<text text-anchor=\"middle\" x=\"201.7331\" y=\"-208.2103\" font-family=\"Helvetica,sans-Serif\" font-size=\"14.00\" fill=\"#000000\">False</text>\n</g>\n<!-- 3 -->\n<g id=\"node4\" class=\"node\">\n<title>3</title>\n<path fill=\"#54e992\" stroke=\"#000000\" d=\"M206.5,-68C206.5,-68 102.5,-68 102.5,-68 96.5,-68 90.5,-62 90.5,-56 90.5,-56 90.5,-12 90.5,-12 90.5,-6 96.5,0 102.5,0 102.5,0 206.5,0 206.5,0 212.5,0 218.5,-6 218.5,-12 218.5,-12 218.5,-56 218.5,-56 218.5,-62 212.5,-68 206.5,-68\"/>\n<text text-anchor=\"middle\" x=\"154.5\" y=\"-52.8\" font-family=\"Helvetica,sans-Serif\" font-size=\"14.00\" fill=\"#000000\">gini = 0.214</text>\n<text text-anchor=\"middle\" x=\"154.5\" y=\"-37.8\" font-family=\"Helvetica,sans-Serif\" font-size=\"14.00\" fill=\"#000000\">samples = 41</text>\n<text text-anchor=\"middle\" x=\"154.5\" y=\"-22.8\" font-family=\"Helvetica,sans-Serif\" font-size=\"14.00\" fill=\"#000000\">value = [0, 36, 5]</text>\n<text text-anchor=\"middle\" x=\"154.5\" y=\"-7.8\" font-family=\"Helvetica,sans-Serif\" font-size=\"14.00\" fill=\"#000000\">class = versicolor</text>\n</g>\n<!-- 2&#45;&gt;3 -->\n<g id=\"edge3\" class=\"edge\">\n<title>2&#45;&gt;3</title>\n<path fill=\"none\" stroke=\"#000000\" d=\"M199.6899,-103.9815C193.9331,-95.0666 187.8404,-85.6313 182.0559,-76.6734\"/>\n<polygon fill=\"#000000\" stroke=\"#000000\" points=\"184.9904,-74.7658 176.6254,-68.2637 179.1099,-78.5631 184.9904,-74.7658\"/>\n</g>\n<!-- 4 -->\n<g id=\"node5\" class=\"node\">\n<title>4</title>\n<path fill=\"#853fe6\" stroke=\"#000000\" d=\"M348,-68C348,-68 249,-68 249,-68 243,-68 237,-62 237,-56 237,-56 237,-12 237,-12 237,-6 243,0 249,0 249,0 348,0 348,0 354,0 360,-6 360,-12 360,-12 360,-56 360,-56 360,-62 354,-68 348,-68\"/>\n<text text-anchor=\"middle\" x=\"298.5\" y=\"-52.8\" font-family=\"Helvetica,sans-Serif\" font-size=\"14.00\" fill=\"#000000\">gini = 0.059</text>\n<text text-anchor=\"middle\" x=\"298.5\" y=\"-37.8\" font-family=\"Helvetica,sans-Serif\" font-size=\"14.00\" fill=\"#000000\">samples = 33</text>\n<text text-anchor=\"middle\" x=\"298.5\" y=\"-22.8\" font-family=\"Helvetica,sans-Serif\" font-size=\"14.00\" fill=\"#000000\">value = [0, 1, 32]</text>\n<text text-anchor=\"middle\" x=\"298.5\" y=\"-7.8\" font-family=\"Helvetica,sans-Serif\" font-size=\"14.00\" fill=\"#000000\">class = virginica</text>\n</g>\n<!-- 2&#45;&gt;4 -->\n<g id=\"edge4\" class=\"edge\">\n<title>2&#45;&gt;4</title>\n<path fill=\"none\" stroke=\"#000000\" d=\"M253.3101,-103.9815C259.0669,-95.0666 265.1596,-85.6313 270.9441,-76.6734\"/>\n<polygon fill=\"#000000\" stroke=\"#000000\" points=\"273.8901,-78.5631 276.3746,-68.2637 268.0096,-74.7658 273.8901,-78.5631\"/>\n</g>\n</g>\n</svg>\n"
          },
          "metadata": {
            "tags": []
          },
          "execution_count": 15
        }
      ]
    },
    {
      "cell_type": "markdown",
      "metadata": {
        "id": "Z9l1XeE_pQXQ",
        "colab_type": "text"
      },
      "source": [
        "## k-Cross Validation\n",
        "\n",
        "- using sklearn corss_val_score() function"
      ]
    },
    {
      "cell_type": "code",
      "metadata": {
        "id": "euWguT-KpQXS",
        "colab_type": "code",
        "colab": {
          "base_uri": "https://localhost:8080/",
          "height": 34
        },
        "outputId": "e61f3601-35bd-4146-803d-a0a65cdad193"
      },
      "source": [
        "from sklearn.model_selection import cross_val_score\n",
        "\n",
        "cross_val_score(tree_clf, iris.data, iris.target, cv=3)"
      ],
      "execution_count": 16,
      "outputs": [
        {
          "output_type": "execute_result",
          "data": {
            "text/plain": [
              "array([0.96, 0.92, 0.92])"
            ]
          },
          "metadata": {
            "tags": []
          },
          "execution_count": 16
        }
      ]
    },
    {
      "cell_type": "markdown",
      "metadata": {
        "id": "yi-rvG0ypQXX",
        "colab_type": "text"
      },
      "source": [
        "## k-Cross Validation\n",
        "\n",
        "- using KFold function with freedom"
      ]
    },
    {
      "cell_type": "code",
      "metadata": {
        "id": "kEJ5OmT6pQXX",
        "colab_type": "code",
        "colab": {
          "base_uri": "https://localhost:8080/",
          "height": 34
        },
        "outputId": "686d39dd-3715-4bff-f2d3-74f8dc7b714b"
      },
      "source": [
        "from sklearn.model_selection import KFold # import k-fold validation\n",
        "\n",
        "kf = KFold(n_splits=3, random_state=None, shuffle=True) # Define the split - into 2 folds \n",
        "\n",
        "kf.get_n_splits(X) # returns the number of splitting iterations in the cross-validator\n",
        "\n",
        "print(kf) \n"
      ],
      "execution_count": 17,
      "outputs": [
        {
          "output_type": "stream",
          "text": [
            "KFold(n_splits=3, random_state=None, shuffle=True)\n"
          ],
          "name": "stdout"
        }
      ]
    },
    {
      "cell_type": "markdown",
      "metadata": {
        "id": "knQi2gSLpQXh",
        "colab_type": "text"
      },
      "source": [
        "### Applying k-Cross Validation"
      ]
    },
    {
      "cell_type": "code",
      "metadata": {
        "id": "-WATjXDopQXj",
        "colab_type": "code",
        "colab": {
          "base_uri": "https://localhost:8080/",
          "height": 527
        },
        "outputId": "11701b7d-0992-4281-fc3e-2f0c57c6d5dc"
      },
      "source": [
        "tree_clf = DecisionTreeClassifier(max_depth=2, random_state=42)\n",
        "\n",
        "for train_index, test_index in kf.split(X):\n",
        "    #print(\"TRAIN:\", train_index, \"TEST:\", test_index)\n",
        "    X_train, X_test = X[train_index], X[test_index]\n",
        "    y_train, y_test = y[train_index], y[test_index]\n",
        "\n",
        "    tree_clf.fit(X_train, y_train)\n",
        "    \n",
        "    y_pred = tree_clf.predict(X_test)\n",
        "    \n",
        "    # Print classification report\n",
        "    target_names = iris.target_names\n",
        "    print(classification_report(y_test, y_pred, target_names=target_names))"
      ],
      "execution_count": 18,
      "outputs": [
        {
          "output_type": "stream",
          "text": [
            "              precision    recall  f1-score   support\n",
            "\n",
            "      setosa       1.00      1.00      1.00        21\n",
            "  versicolor       1.00      0.92      0.96        12\n",
            "   virginica       0.94      1.00      0.97        17\n",
            "\n",
            "    accuracy                           0.98        50\n",
            "   macro avg       0.98      0.97      0.98        50\n",
            "weighted avg       0.98      0.98      0.98        50\n",
            "\n",
            "              precision    recall  f1-score   support\n",
            "\n",
            "      setosa       1.00      1.00      1.00        16\n",
            "  versicolor       0.87      1.00      0.93        20\n",
            "   virginica       1.00      0.79      0.88        14\n",
            "\n",
            "    accuracy                           0.94        50\n",
            "   macro avg       0.96      0.93      0.94        50\n",
            "weighted avg       0.95      0.94      0.94        50\n",
            "\n",
            "              precision    recall  f1-score   support\n",
            "\n",
            "      setosa       1.00      1.00      1.00        13\n",
            "  versicolor       0.89      0.94      0.92        18\n",
            "   virginica       0.94      0.89      0.92        19\n",
            "\n",
            "    accuracy                           0.94        50\n",
            "   macro avg       0.95      0.95      0.95        50\n",
            "weighted avg       0.94      0.94      0.94        50\n",
            "\n"
          ],
          "name": "stdout"
        }
      ]
    },
    {
      "cell_type": "markdown",
      "metadata": {
        "id": "ISgVldcrpQXo",
        "colab_type": "text"
      },
      "source": [
        "# Decision Tree boundary Visualization"
      ]
    },
    {
      "cell_type": "code",
      "metadata": {
        "id": "0qJDT7hSpQXs",
        "colab_type": "code",
        "colab": {}
      },
      "source": [
        "## Example1"
      ],
      "execution_count": 0,
      "outputs": []
    },
    {
      "cell_type": "code",
      "metadata": {
        "id": "RmOniKmZpQXy",
        "colab_type": "code",
        "colab": {
          "base_uri": "https://localhost:8080/",
          "height": 314
        },
        "outputId": "7505f402-b827-4ac5-ca28-a604dc26fb2a"
      },
      "source": [
        "from matplotlib.colors import ListedColormap\n",
        "\n",
        "def plot_decision_boundary(clf, X, y, axes=[0, 7.5, 0, 3], iris=True, legend=False, plot_training=True):\n",
        "    x1s = np.linspace(axes[0], axes[1], 100)\n",
        "    x2s = np.linspace(axes[2], axes[3], 100)\n",
        "    x1, x2 = np.meshgrid(x1s, x2s)\n",
        "    X_new = np.c_[x1.ravel(), x2.ravel()]\n",
        "    y_pred = clf.predict(X_new).reshape(x1.shape)\n",
        "    custom_cmap = ListedColormap(['#fafab0','#9898ff','#a0faa0'])\n",
        "    plt.contourf(x1, x2, y_pred, alpha=0.3, cmap=custom_cmap)\n",
        "    if not iris:\n",
        "        custom_cmap2 = ListedColormap(['#7d7d58','#4c4c7f','#507d50'])\n",
        "        plt.contour(x1, x2, y_pred, cmap=custom_cmap2, alpha=0.8)\n",
        "    if plot_training:\n",
        "        plt.plot(X[:, 0][y==0], X[:, 1][y==0], \"yo\", label=\"Iris setosa\")\n",
        "        plt.plot(X[:, 0][y==1], X[:, 1][y==1], \"bs\", label=\"Iris versicolor\")\n",
        "        plt.plot(X[:, 0][y==2], X[:, 1][y==2], \"g^\", label=\"Iris virginica\")\n",
        "        plt.axis(axes)\n",
        "    if iris:\n",
        "        plt.xlabel(\"Petal length\", fontsize=14)\n",
        "        plt.ylabel(\"Petal width\", fontsize=14)\n",
        "    else:\n",
        "        plt.xlabel(r\"$x_1$\", fontsize=18)\n",
        "        plt.ylabel(r\"$x_2$\", fontsize=18, rotation=0)\n",
        "    if legend:\n",
        "        plt.legend(loc=\"lower right\", fontsize=14)\n",
        "\n",
        "plt.figure(figsize=(8, 4))\n",
        "plot_decision_boundary(tree_clf, X, y)\n",
        "plt.plot([2.45, 2.45], [0, 3], \"k-\", linewidth=2)\n",
        "plt.plot([2.45, 7.5], [1.75, 1.75], \"k--\", linewidth=2)\n",
        "plt.plot([4.95, 4.95], [0, 1.75], \"k:\", linewidth=2)\n",
        "plt.plot([4.85, 4.85], [1.75, 3], \"k:\", linewidth=2)\n",
        "plt.text(1.40, 1.0, \"Depth=0\", fontsize=15)\n",
        "plt.text(3.2, 1.80, \"Depth=1\", fontsize=13)\n",
        "plt.text(4.05, 0.5, \"(Depth=2)\", fontsize=11)\n",
        "\n",
        "save_fig(\"decision_tree_decision_boundaries_plot\")\n",
        "plt.show()"
      ],
      "execution_count": 19,
      "outputs": [
        {
          "output_type": "stream",
          "text": [
            "Saving figure decision_tree_decision_boundaries_plot\n"
          ],
          "name": "stdout"
        },
        {
          "output_type": "display_data",
          "data": {
            "image/png": "[encoded data removed]",
            "text/plain": [
              "<Figure size 576x288 with 1 Axes>"
            ]
          },
          "metadata": {
            "tags": [],
            "needs_background": "light"
          }
        }
      ]
    },
    {
      "cell_type": "markdown",
      "metadata": {
        "id": "IpiX3XiypQX5",
        "colab_type": "text"
      },
      "source": [
        "# Predicting classes and class probabilities"
      ]
    },
    {
      "cell_type": "code",
      "metadata": {
        "id": "hCf5UAcMpQX7",
        "colab_type": "code",
        "colab": {
          "base_uri": "https://localhost:8080/",
          "height": 34
        },
        "outputId": "1b5f7f92-a56f-46a3-8c05-6ca6003557ea"
      },
      "source": [
        "tree_clf.predict_proba([[5, 1.5]])"
      ],
      "execution_count": 20,
      "outputs": [
        {
          "output_type": "execute_result",
          "data": {
            "text/plain": [
              "array([[0.        , 0.91428571, 0.08571429]])"
            ]
          },
          "metadata": {
            "tags": []
          },
          "execution_count": 20
        }
      ]
    },
    {
      "cell_type": "code",
      "metadata": {
        "id": "zAnFLgkupQYM",
        "colab_type": "code",
        "colab": {
          "base_uri": "https://localhost:8080/",
          "height": 34
        },
        "outputId": "37ff8d86-4e89-4a44-b5af-cc98c84e0a9d"
      },
      "source": [
        "tree_clf.predict([[5, 1.5]])"
      ],
      "execution_count": 21,
      "outputs": [
        {
          "output_type": "execute_result",
          "data": {
            "text/plain": [
              "array([1])"
            ]
          },
          "metadata": {
            "tags": []
          },
          "execution_count": 21
        }
      ]
    },
    {
      "cell_type": "markdown",
      "metadata": {
        "id": "yskvHZF-pQYS",
        "colab_type": "text"
      },
      "source": [
        "# Sensitivity to training set details"
      ]
    },
    {
      "cell_type": "code",
      "metadata": {
        "id": "8BtbmVsapQYU",
        "colab_type": "code",
        "colab": {
          "base_uri": "https://localhost:8080/",
          "height": 34
        },
        "outputId": "1dc17abf-68e8-4e08-83b9-b9b114ff1920"
      },
      "source": [
        "X[(X[:, 1]==X[:, 1][y==1].max()) & (y==1)] # widest Iris versicolor flower"
      ],
      "execution_count": 22,
      "outputs": [
        {
          "output_type": "execute_result",
          "data": {
            "text/plain": [
              "array([[4.8, 1.8]])"
            ]
          },
          "metadata": {
            "tags": []
          },
          "execution_count": 22
        }
      ]
    },
    {
      "cell_type": "code",
      "metadata": {
        "id": "Do0OLbzrpQYZ",
        "colab_type": "code",
        "colab": {
          "base_uri": "https://localhost:8080/",
          "height": 119
        },
        "outputId": "d2ad8ec2-16ab-4483-c5da-7cbeedb3cd05"
      },
      "source": [
        "not_widest_versicolor = (X[:, 1]!=1.8) | (y==2)\n",
        "X_tweaked = X[not_widest_versicolor]\n",
        "y_tweaked = y[not_widest_versicolor]\n",
        "\n",
        "tree_clf_tweaked = DecisionTreeClassifier(max_depth=2, random_state=40)\n",
        "tree_clf_tweaked.fit(X_tweaked, y_tweaked)"
      ],
      "execution_count": 23,
      "outputs": [
        {
          "output_type": "execute_result",
          "data": {
            "text/plain": [
              "DecisionTreeClassifier(ccp_alpha=0.0, class_weight=None, criterion='gini',\n",
              "                       max_depth=2, max_features=None, max_leaf_nodes=None,\n",
              "                       min_impurity_decrease=0.0, min_impurity_split=None,\n",
              "                       min_samples_leaf=1, min_samples_split=2,\n",
              "                       min_weight_fraction_leaf=0.0, presort='deprecated',\n",
              "                       random_state=40, splitter='best')"
            ]
          },
          "metadata": {
            "tags": []
          },
          "execution_count": 23
        }
      ]
    },
    {
      "cell_type": "code",
      "metadata": {
        "id": "82buJkMkpQYf",
        "colab_type": "code",
        "colab": {
          "base_uri": "https://localhost:8080/",
          "height": 314
        },
        "outputId": "e469b42a-cf48-435f-c8da-69284c1e09b0"
      },
      "source": [
        "plt.figure(figsize=(8, 4))\n",
        "plot_decision_boundary(tree_clf_tweaked, X_tweaked, y_tweaked, legend=False)\n",
        "plt.plot([0, 7.5], [0.8, 0.8], \"k-\", linewidth=2)\n",
        "plt.plot([0, 7.5], [1.75, 1.75], \"k--\", linewidth=2)\n",
        "plt.text(1.0, 0.9, \"Depth=0\", fontsize=15)\n",
        "plt.text(1.0, 1.80, \"Depth=1\", fontsize=13)\n",
        "\n",
        "save_fig(\"decision_tree_instability_plot\")\n",
        "plt.show()"
      ],
      "execution_count": 25,
      "outputs": [
        {
          "output_type": "stream",
          "text": [
            "Saving figure decision_tree_instability_plot\n"
          ],
          "name": "stdout"
        },
        {
          "output_type": "display_data",
          "data": {
            "image/png": "[encoded data removed]",
            "text/plain": [
              "<Figure size 576x288 with 1 Axes>"
            ]
          },
          "metadata": {
            "tags": [],
            "needs_background": "light"
          }
        }
      ]
    },
    {
      "cell_type": "code",
      "metadata": {
        "id": "0bt-XJtUpQYo",
        "colab_type": "code",
        "colab": {
          "base_uri": "https://localhost:8080/",
          "height": 314
        },
        "outputId": "774de905-c743-4d8f-8920-802bb4c9a767"
      },
      "source": [
        "from sklearn.datasets import make_moons\n",
        "Xm, ym = make_moons(n_samples=100, noise=0.25, random_state=53)\n",
        "\n",
        "deep_tree_clf1 = DecisionTreeClassifier(random_state=42)\n",
        "deep_tree_clf2 = DecisionTreeClassifier(min_samples_leaf=4, random_state=42)\n",
        "deep_tree_clf1.fit(Xm, ym)\n",
        "deep_tree_clf2.fit(Xm, ym)\n",
        "\n",
        "fig, axes = plt.subplots(ncols=2, figsize=(10, 4), sharey=True)\n",
        "plt.sca(axes[0])\n",
        "plot_decision_boundary(deep_tree_clf1, Xm, ym, axes=[-1.5, 2.4, -1, 1.5], iris=False)\n",
        "plt.title(\"No restrictions\", fontsize=16)\n",
        "plt.sca(axes[1])\n",
        "plot_decision_boundary(deep_tree_clf2, Xm, ym, axes=[-1.5, 2.4, -1, 1.5], iris=False)\n",
        "plt.title(\"min_samples_leaf = {}\".format(deep_tree_clf2.min_samples_leaf), fontsize=14)\n",
        "plt.ylabel(\"\")\n",
        "\n",
        "save_fig(\"min_samples_leaf_plot\")\n",
        "plt.show()"
      ],
      "execution_count": 24,
      "outputs": [
        {
          "output_type": "stream",
          "text": [
            "Saving figure min_samples_leaf_plot\n"
          ],
          "name": "stdout"
        },
        {
          "output_type": "display_data",
          "data": {
            "image/png": "[encoded data removed]",
            "text/plain": [
              "<Figure size 720x288 with 2 Axes>"
            ]
          },
          "metadata": {
            "tags": [],
            "needs_background": "light"
          }
        }
      ]
    },
    {
      "cell_type": "code",
      "metadata": {
        "id": "_XXxftxBpQYu",
        "colab_type": "code",
        "colab": {
          "base_uri": "https://localhost:8080/",
          "height": 241
        },
        "outputId": "e4b9d89b-4b5b-4b61-9d2a-14050d78c720"
      },
      "source": [
        "angle = np.pi / 180 * 20\n",
        "rotation_matrix = np.array([[np.cos(angle), -np.sin(angle)], [np.sin(angle), np.cos(angle)]])\n",
        "Xr = X.dot(rotation_matrix)\n",
        "\n",
        "tree_clf_r = DecisionTreeClassifier(random_state=42)\n",
        "tree_clf_r.fit(Xr, y)\n",
        "\n",
        "plt.figure(figsize=(8, 3))\n",
        "plot_decision_boundary(tree_clf_r, Xr, y, axes=[0.5, 7.5, -1.0, 1], iris=False)\n",
        "\n",
        "plt.show()"
      ],
      "execution_count": 27,
      "outputs": [
        {
          "output_type": "display_data",
          "data": {
            "image/png": "[encoded data removed]",
            "text/plain": [
              "<Figure size 576x216 with 1 Axes>"
            ]
          },
          "metadata": {
            "tags": [],
            "needs_background": "light"
          }
        }
      ]
    },
    {
      "cell_type": "code",
      "metadata": {
        "id": "iVEYOgh6pQY0",
        "colab_type": "code",
        "colab": {
          "base_uri": "https://localhost:8080/",
          "height": 314
        },
        "outputId": "32c3a096-137a-4336-ec12-65b36cdfd001"
      },
      "source": [
        "np.random.seed(6)\n",
        "Xs = np.random.rand(100, 2) - 0.5\n",
        "ys = (Xs[:, 0] > 0).astype(np.float32) * 2\n",
        "\n",
        "angle = np.pi / 4\n",
        "rotation_matrix = np.array([[np.cos(angle), -np.sin(angle)], [np.sin(angle), np.cos(angle)]])\n",
        "Xsr = Xs.dot(rotation_matrix)\n",
        "\n",
        "tree_clf_s = DecisionTreeClassifier(random_state=42)\n",
        "tree_clf_s.fit(Xs, ys)\n",
        "tree_clf_sr = DecisionTreeClassifier(random_state=42)\n",
        "tree_clf_sr.fit(Xsr, ys)\n",
        "\n",
        "fig, axes = plt.subplots(ncols=2, figsize=(10, 4), sharey=True)\n",
        "plt.sca(axes[0])\n",
        "plot_decision_boundary(tree_clf_s, Xs, ys, axes=[-0.7, 0.7, -0.7, 0.7], iris=False)\n",
        "plt.sca(axes[1])\n",
        "plot_decision_boundary(tree_clf_sr, Xsr, ys, axes=[-0.7, 0.7, -0.7, 0.7], iris=False)\n",
        "plt.ylabel(\"\")\n",
        "\n",
        "save_fig(\"sensitivity_to_rotation_plot\")\n",
        "plt.show()"
      ],
      "execution_count": 26,
      "outputs": [
        {
          "output_type": "stream",
          "text": [
            "Saving figure sensitivity_to_rotation_plot\n"
          ],
          "name": "stdout"
        },
        {
          "output_type": "display_data",
          "data": {
            "image/png": "[encoded data removed]",
            "text/plain": [
              "<Figure size 720x288 with 2 Axes>"
            ]
          },
          "metadata": {
            "tags": [],
            "needs_background": "light"
          }
        }
      ]
    },
    {
      "cell_type": "markdown",
      "metadata": {
        "id": "8aUb_n5mpQY4",
        "colab_type": "text"
      },
      "source": [
        "# TW3 \n",
        "\n",
        "## Part 1"
      ]
    },
    {
      "cell_type": "markdown",
      "metadata": {
        "id": "idcpz5CepQY5",
        "colab_type": "text"
      },
      "source": [
        "## Construct decision trees\n",
        "\n",
        "#### 1. Construct  a decision tree using the following parameters\n",
        "\n",
        "- Use information gain (entropy) measure\n",
        "- Apply k=10 cross validation and print a summary of statistics (performance evaluation) for each fold\n",
        "\n",
        "\n",
        "#### 2. Compare the performance results with those of the decision tree using Gini index measure in the above example\n",
        "\n",
        "#### 3. For both trees, change the following parameters and observe the changes:\n",
        "\n",
        "- The depth of tree: currently max_depth=2 in the model training step. Change the depth 3, 4, 5 and check if this affects the overall results. \n",
        "\n",
        "- The k value for cross validation is currently set to 3. Change k value, k = 5, 7, 10 and check if this affects the overall results. "
      ]
    },
    {
      "cell_type": "markdown",
      "metadata": {
        "id": "1rt3jH-GpQY6",
        "colab_type": "text"
      },
      "source": [
        "## Load Data"
      ]
    },
    {
      "cell_type": "code",
      "metadata": {
        "id": "aNk01Q23pQY8",
        "colab_type": "code",
        "colab": {}
      },
      "source": [
        "from sklearn.tree import DecisionTreeClassifier\n",
        "from sklearn.model_selection import train_test_split\n",
        "from sklearn.datasets import load_iris\n",
        "\n",
        "iris = load_iris()"
      ],
      "execution_count": 0,
      "outputs": []
    },
    {
      "cell_type": "markdown",
      "metadata": {
        "id": "CApHD_g1pQY-",
        "colab_type": "text"
      },
      "source": [
        "## Split the data to training and testing"
      ]
    },
    {
      "cell_type": "code",
      "metadata": {
        "id": "5vctF0HvpQZB",
        "colab_type": "code",
        "colab": {}
      },
      "source": [
        "X = iris.data[:, 2:] # petal length and width\n",
        "y = iris.target\n",
        "\n",
        "X_train, X_test, y_train, y_test = train_test_split(X, y, test_size=0.30)"
      ],
      "execution_count": 0,
      "outputs": []
    },
    {
      "cell_type": "markdown",
      "metadata": {
        "id": "aUg_eVT1pQZG",
        "colab_type": "text"
      },
      "source": [
        "## Training"
      ]
    },
    {
      "cell_type": "code",
      "metadata": {
        "id": "H7HjGIb2pQZI",
        "colab_type": "code",
        "colab": {
          "base_uri": "https://localhost:8080/",
          "height": 119
        },
        "outputId": "b5a3f2ea-6a23-4509-df0f-01651832597d"
      },
      "source": [
        "tree_clf = DecisionTreeClassifier(max_depth=2, criterion=\"entropy\", random_state=42)\n",
        "tree_clf.fit(X_train, y_train)"
      ],
      "execution_count": 30,
      "outputs": [
        {
          "output_type": "execute_result",
          "data": {
            "text/plain": [
              "DecisionTreeClassifier(ccp_alpha=0.0, class_weight=None, criterion='entropy',\n",
              "                       max_depth=2, max_features=None, max_leaf_nodes=None,\n",
              "                       min_impurity_decrease=0.0, min_impurity_split=None,\n",
              "                       min_samples_leaf=1, min_samples_split=2,\n",
              "                       min_weight_fraction_leaf=0.0, presort='deprecated',\n",
              "                       random_state=42, splitter='best')"
            ]
          },
          "metadata": {
            "tags": []
          },
          "execution_count": 30
        }
      ]
    },
    {
      "cell_type": "markdown",
      "metadata": {
        "id": "UETUubeipQZL",
        "colab_type": "text"
      },
      "source": [
        "## Testing"
      ]
    },
    {
      "cell_type": "markdown",
      "metadata": {
        "id": "NlWGHaxjpQZM",
        "colab_type": "text"
      },
      "source": [
        "## Visualization"
      ]
    },
    {
      "cell_type": "code",
      "metadata": {
        "id": "UbMMeasmpQZN",
        "colab_type": "code",
        "colab": {
          "base_uri": "https://localhost:8080/",
          "height": 523
        },
        "outputId": "c77c5cb5-846b-44e6-ecf4-f9f4afb7dcce"
      },
      "source": [
        "y_pred = tree_clf.predict(X_test)\n",
        "\n",
        "# plot a confusion matrix\n",
        "confusion_mat = confusion_matrix(y_test, y_pred)\n",
        "\n",
        "print(confusion_mat)\n",
        "\n",
        "plot_confusion_matrix(confusion_mat, 3)\n",
        "\n",
        "# Print classification report\n",
        "target_names = iris.target_names\n",
        "\n",
        "result_metrics = classification_report(y_test, y_pred, target_names=target_names)\n",
        "\n",
        "print(result_metrics)"
      ],
      "execution_count": 31,
      "outputs": [
        {
          "output_type": "stream",
          "text": [
            "[[19  0  0]\n",
            " [ 0 13  0]\n",
            " [ 0  1 12]]\n"
          ],
          "name": "stdout"
        },
        {
          "output_type": "display_data",
          "data": {
            "image/png": "[encoded data removed]",
            "text/plain": [
              "<Figure size 432x288 with 2 Axes>"
            ]
          },
          "metadata": {
            "tags": [],
            "needs_background": "light"
          }
        },
        {
          "output_type": "stream",
          "text": [
            "              precision    recall  f1-score   support\n",
            "\n",
            "      setosa       1.00      1.00      1.00        19\n",
            "  versicolor       0.93      1.00      0.96        13\n",
            "   virginica       1.00      0.92      0.96        13\n",
            "\n",
            "    accuracy                           0.98        45\n",
            "   macro avg       0.98      0.97      0.97        45\n",
            "weighted avg       0.98      0.98      0.98        45\n",
            "\n"
          ],
          "name": "stdout"
        }
      ]
    },
    {
      "cell_type": "markdown",
      "metadata": {
        "id": "orPXPQKSpQZR",
        "colab_type": "text"
      },
      "source": [
        "## k-Cross Validation"
      ]
    },
    {
      "cell_type": "code",
      "metadata": {
        "id": "OcNnhNVspQZS",
        "colab_type": "code",
        "colab": {
          "base_uri": "https://localhost:8080/",
          "height": 34
        },
        "outputId": "6fd6aff8-7dcb-4665-8b8e-6f8b4bc9057d"
      },
      "source": [
        "from sklearn.model_selection import KFold # import k-fold validation\n",
        "\n",
        "kf = KFold(n_splits=10, random_state=None, shuffle=True) # Define the split - into 2 folds \n",
        "\n",
        "kf.get_n_splits(X) # returns the number of splitting iterations in the cross-validator\n",
        "\n",
        "print(kf) "
      ],
      "execution_count": 32,
      "outputs": [
        {
          "output_type": "stream",
          "text": [
            "KFold(n_splits=10, random_state=None, shuffle=True)\n"
          ],
          "name": "stdout"
        }
      ]
    },
    {
      "cell_type": "markdown",
      "metadata": {
        "id": "Zk2zaXI2pQZY",
        "colab_type": "text"
      },
      "source": [
        "## Applying k-Cross Validation"
      ]
    },
    {
      "cell_type": "code",
      "metadata": {
        "id": "IvXX5QKxpQZZ",
        "colab_type": "code",
        "colab": {
          "base_uri": "https://localhost:8080/",
          "height": 1000
        },
        "outputId": "09a97979-bd2e-4737-bc77-82dd9e6a8e62"
      },
      "source": [
        "tree_clf = DecisionTreeClassifier(max_depth=2, random_state=42)\n",
        "\n",
        "for train_index, test_index in kf.split(X):\n",
        "    #print(\"TRAIN:\", train_index, \"TEST:\", test_index)\n",
        "    X_train, X_test = X[train_index], X[test_index]\n",
        "    y_train, y_test = y[train_index], y[test_index]\n",
        "\n",
        "    tree_clf.fit(X_train, y_train)\n",
        "    \n",
        "    y_pred = tree_clf.predict(X_test)\n",
        "    \n",
        "    # Print classification report\n",
        "    target_names = iris.target_names\n",
        "    print(classification_report(y_test, y_pred, target_names=target_names))"
      ],
      "execution_count": 33,
      "outputs": [
        {
          "output_type": "stream",
          "text": [
            "              precision    recall  f1-score   support\n",
            "\n",
            "      setosa       1.00      1.00      1.00         4\n",
            "  versicolor       1.00      1.00      1.00         8\n",
            "   virginica       1.00      1.00      1.00         3\n",
            "\n",
            "    accuracy                           1.00        15\n",
            "   macro avg       1.00      1.00      1.00        15\n",
            "weighted avg       1.00      1.00      1.00        15\n",
            "\n",
            "              precision    recall  f1-score   support\n",
            "\n",
            "      setosa       1.00      1.00      1.00         4\n",
            "  versicolor       0.80      0.80      0.80         5\n",
            "   virginica       0.83      0.83      0.83         6\n",
            "\n",
            "    accuracy                           0.87        15\n",
            "   macro avg       0.88      0.88      0.88        15\n",
            "weighted avg       0.87      0.87      0.87        15\n",
            "\n",
            "              precision    recall  f1-score   support\n",
            "\n",
            "      setosa       1.00      1.00      1.00         3\n",
            "  versicolor       1.00      0.86      0.92         7\n",
            "   virginica       0.83      1.00      0.91         5\n",
            "\n",
            "    accuracy                           0.93        15\n",
            "   macro avg       0.94      0.95      0.94        15\n",
            "weighted avg       0.94      0.93      0.93        15\n",
            "\n",
            "              precision    recall  f1-score   support\n",
            "\n",
            "      setosa       1.00      1.00      1.00         6\n",
            "  versicolor       1.00      0.67      0.80         3\n",
            "   virginica       0.86      1.00      0.92         6\n",
            "\n",
            "    accuracy                           0.93        15\n",
            "   macro avg       0.95      0.89      0.91        15\n",
            "weighted avg       0.94      0.93      0.93        15\n",
            "\n",
            "              precision    recall  f1-score   support\n",
            "\n",
            "      setosa       1.00      1.00      1.00         5\n",
            "  versicolor       1.00      1.00      1.00         7\n",
            "   virginica       1.00      1.00      1.00         3\n",
            "\n",
            "    accuracy                           1.00        15\n",
            "   macro avg       1.00      1.00      1.00        15\n",
            "weighted avg       1.00      1.00      1.00        15\n",
            "\n",
            "              precision    recall  f1-score   support\n",
            "\n",
            "      setosa       1.00      1.00      1.00         6\n",
            "  versicolor       0.60      1.00      0.75         3\n",
            "   virginica       1.00      0.67      0.80         6\n",
            "\n",
            "    accuracy                           0.87        15\n",
            "   macro avg       0.87      0.89      0.85        15\n",
            "weighted avg       0.92      0.87      0.87        15\n",
            "\n",
            "              precision    recall  f1-score   support\n",
            "\n",
            "      setosa       1.00      1.00      1.00         5\n",
            "  versicolor       1.00      0.67      0.80         6\n",
            "   virginica       0.67      1.00      0.80         4\n",
            "\n",
            "    accuracy                           0.87        15\n",
            "   macro avg       0.89      0.89      0.87        15\n",
            "weighted avg       0.91      0.87      0.87        15\n",
            "\n",
            "              precision    recall  f1-score   support\n",
            "\n",
            "      setosa       1.00      1.00      1.00         5\n",
            "  versicolor       0.80      0.80      0.80         5\n",
            "   virginica       0.80      0.80      0.80         5\n",
            "\n",
            "    accuracy                           0.87        15\n",
            "   macro avg       0.87      0.87      0.87        15\n",
            "weighted avg       0.87      0.87      0.87        15\n",
            "\n",
            "              precision    recall  f1-score   support\n",
            "\n",
            "      setosa       1.00      1.00      1.00         5\n",
            "  versicolor       0.50      1.00      0.67         2\n",
            "   virginica       1.00      0.75      0.86         8\n",
            "\n",
            "    accuracy                           0.87        15\n",
            "   macro avg       0.83      0.92      0.84        15\n",
            "weighted avg       0.93      0.87      0.88        15\n",
            "\n",
            "              precision    recall  f1-score   support\n",
            "\n",
            "      setosa       1.00      1.00      1.00         7\n",
            "  versicolor       1.00      1.00      1.00         4\n",
            "   virginica       1.00      1.00      1.00         4\n",
            "\n",
            "    accuracy                           1.00        15\n",
            "   macro avg       1.00      1.00      1.00        15\n",
            "weighted avg       1.00      1.00      1.00        15\n",
            "\n"
          ],
          "name": "stdout"
        }
      ]
    },
    {
      "cell_type": "markdown",
      "metadata": {
        "id": "br_pWgEipQZd",
        "colab_type": "text"
      },
      "source": [
        "## Comparison with Gini\n",
        "Overall it looks like the results are similar, however when using entropy the results are either much closer to 1.0 or are signifcantly lower than in the gini index. It is possible this is due to having more folds."
      ]
    },
    {
      "cell_type": "markdown",
      "metadata": {
        "id": "Z9QYJOWcpQZe",
        "colab_type": "text"
      },
      "source": [
        "## Part 2\n",
        "\n",
        "#### 1. Look through an example list at:\n",
        "    \n",
        "https://www.kaggle.com/dmilla/introduction-to-decision-trees-titanic-dataset\n",
        "\n",
        "#### 2. Discuss about different ways to handle the following types of data for decision tree classification. \n",
        "\n",
        "- text data (strings): in the case a dataset includes non-numerical data. \n",
        "\n",
        "A: **Non-numerical data can be enumerated and normalized to give a numerical definition for each type of classification an element of data may fall under.  This provides a way to include categorical data in the model.**\n",
        "\n",
        "- continuous data like age, weight, income, etc.\n",
        "\n",
        "\n",
        "B: **Continuous data can be mapped to a range of values in order to provide for generalization and discretization of the dataset.**\n",
        "\n",
        " \n",
        "\n",
        "*** Notes: This will be also a reference for our next problem-solving assignment."
      ]
    },
    {
      "cell_type": "markdown",
      "metadata": {
        "id": "yKS7pntspQZe",
        "colab_type": "text"
      },
      "source": [
        "### Submission(s): one submission per team\n",
        "\n",
        "#### - Write a short paragraph describing what you found from the process on Canvas (one submission per team).\n",
        "#### - Upload the notebook on your Git repo and write an URL link. \n",
        "\n",
        "#####       If you work in a group, one submission is good per team. "
      ]
    },
    {
      "cell_type": "markdown",
      "metadata": {
        "id": "yC-1R24ERnix",
        "colab_type": "text"
      },
      "source": [
        "We found that using Gini, which calculates the sum of the squared probability to calculate how to split the data is more robust to variability in data, whereas using Entropy can cause a model to become slightly over-specific.\n",
        "\n",
        "Decision trees can be effective classifiers but they may encounter problems if there is not enough training data and many classes to choose from.  \n",
        "\n"
      ]
    }
  ]
}