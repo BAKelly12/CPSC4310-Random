{
  "nbformat": 4,
  "nbformat_minor": 0,
  "metadata": {
    "kernelspec": {
      "name": "python3",
      "display_name": "Python 3"
    },
    "language_info": {
      "codemirror_mode": {
        "name": "ipython",
        "version": 3
      },
      "file_extension": ".py",
      "mimetype": "text/x-python",
      "name": "python",
      "nbconvert_exporter": "python",
      "pygments_lexer": "ipython3",
      "version": "3.7.3"
    },
    "colab": {
      "name": "tw1_data_analysis.ipynb",
      "provenance": [],
      "collapsed_sections": [],
      "include_colab_link": true
    }
  },
  "cells": [
    {
      "cell_type": "markdown",
      "metadata": {
        "id": "view-in-github",
        "colab_type": "text"
      },
      "source": [
        "<a href=\"https://colab.research.google.com/github/BAKelly12/CPSC4310-Random/blob/master/tw1_data_analysis.ipynb\" target=\"_parent\"><img src=\"https://colab.research.google.com/assets/colab-badge.svg\" alt=\"Open In Colab\"/></a>"
      ]
    },
    {
      "cell_type": "markdown",
      "metadata": {
        "id": "mxAcNzCgxcKf",
        "colab_type": "text"
      },
      "source": [
        "# TW1 \n",
        "\n",
        "\n",
        "## Exploratory Data Analysis"
      ]
    },
    {
      "cell_type": "code",
      "metadata": {
        "id": "-c85cX9QxcKk",
        "colab_type": "code",
        "colab": {}
      },
      "source": [
        "#### Write full names of your team members here\n",
        "#Brigid Kelly  \n",
        "#Jack Witt\n",
        "#Michael Brown\n",
        "#Shaun Lee\n"
      ],
      "execution_count": 0,
      "outputs": []
    },
    {
      "cell_type": "code",
      "metadata": {
        "id": "obvhk-Ag0Kxj",
        "colab_type": "code",
        "colab": {}
      },
      "source": [
        "import pandas as pd\n",
        "import numpy as np\n",
        "import matplotlib as plt\n",
        "from google.colab import files as gfiles"
      ],
      "execution_count": 0,
      "outputs": []
    },
    {
      "cell_type": "markdown",
      "metadata": {
        "id": "IASuj3W8xcK5",
        "colab_type": "text"
      },
      "source": [
        "## Part 1: Advertising data\n",
        "\n",
        "Let's take a look at some data, ask some questions about that data, and then use linear regression to answer those questions!\n",
        "\n",
        "A toy dataset for your exploratory data analysis:\n",
        "\n",
        "./data/Advertising.csv"
      ]
    },
    {
      "cell_type": "code",
      "metadata": {
        "id": "z4QYr4_jI37f",
        "colab_type": "code",
        "outputId": "470486a1-0e18-415a-afac-d6455c8582a1",
        "colab": {
          "resources": {
            "http://localhost:8080/nbextensions/google.colab/files.js": {
              "data": "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",
              "ok": true,
              "headers": [
                [
                  "content-type",
                  "application/javascript"
                ]
              ],
              "status": 200,
              "status_text": "OK"
            }
          },
          "base_uri": "https://localhost:8080/",
          "height": 124
        }
      },
      "source": [
        "gfiles.upload()"
      ],
      "execution_count": 3,
      "outputs": [
        {
          "output_type": "display_data",
          "data": {
            "text/html": [
              "\n",
              "     <input type=\"file\" id=\"files-cd55aba1-3091-4976-871e-97ed9d2b6551\" name=\"files[]\" multiple disabled />\n",
              "     <output id=\"result-cd55aba1-3091-4976-871e-97ed9d2b6551\">\n",
              "      Upload widget is only available when the cell has been executed in the\n",
              "      current browser session. Please rerun this cell to enable.\n",
              "      </output>\n",
              "      <script src=\"/nbextensions/google.colab/files.js\"></script> "
            ],
            "text/plain": [
              "<IPython.core.display.HTML object>"
            ]
          },
          "metadata": {
            "tags": []
          }
        },
        {
          "output_type": "stream",
          "text": [
            "Saving Advertising.csv to Advertising.csv\n"
          ],
          "name": "stdout"
        },
        {
          "output_type": "execute_result",
          "data": {
            "text/plain": [
              "{'Advertising.csv': b',TV,Radio,Newspaper,Sales\\r\\n3/11/19,230.1,37.8,69.2,22.1\\r\\n3/12/19,44.5,39.3,45.1,10.4\\r\\n3/13/19,17.2,45.9,69.3,9.3\\r\\n3/14/19,151.5,41.3,58.5,18.5\\r\\n3/15/19,180.8,10.8,58.4,12.9\\r\\n3/16/19,8.7,48.9,75,7.2\\r\\n3/17/19,57.5,32.8,23.5,11.8\\r\\n3/18/19,120.2,19.6,11.6,13.2\\r\\n3/19/19,8.6,2.1,1,4.8\\r\\n3/20/19,199.8,2.6,21.2,10.6\\r\\n3/21/19,66.1,5.8,24.2,8.6\\r\\n3/22/19,214.7,24,4,17.4\\r\\n3/23/19,23.8,35.1,65.9,9.2\\r\\n3/24/19,97.5,7.6,7.2,9.7\\r\\n3/25/19,204.1,32.9,46,19\\r\\n3/26/19,195.4,47.7,52.9,22.4\\r\\n3/27/19,67.8,36.6,114,12.5\\r\\n3/28/19,281.4,39.6,55.8,24.4\\r\\n3/29/19,69.2,20.5,18.3,11.3\\r\\n3/30/19,147.3,23.9,19.1,14.6\\r\\n3/31/19,218.4,27.7,53.4,18\\r\\n4/1/19,237.4,5.1,23.5,12.5\\r\\n4/2/19,13.2,15.9,49.6,5.6\\r\\n4/3/19,228.3,16.9,26.2,15.5\\r\\n4/4/19,62.3,12.6,18.3,9.7\\r\\n4/5/19,262.9,3.5,19.5,12\\r\\n4/6/19,142.9,29.3,12.6,15\\r\\n4/7/19,240.1,16.7,22.9,15.9\\r\\n4/8/19,248.8,27.1,22.9,18.9\\r\\n4/9/19,70.6,16,40.8,10.5\\r\\n4/10/19,292.9,28.3,43.2,21.4\\r\\n4/11/19,112.9,17.4,38.6,11.9\\r\\n4/12/19,97.2,1.5,30,9.6\\r\\n4/13/19,265.6,20,0.3,17.4\\r\\n4/14/19,95.7,1.4,7.4,9.5\\r\\n4/15/19,290.7,4.1,8.5,12.8\\r\\n4/16/19,266.9,43.8,5,25.4\\r\\n4/17/19,74.7,49.4,45.7,14.7\\r\\n4/18/19,43.1,26.7,35.1,10.1\\r\\n4/19/19,228,37.7,32,21.5\\r\\n4/20/19,202.5,22.3,31.6,16.6\\r\\n4/21/19,177,33.4,38.7,17.1\\r\\n4/22/19,293.6,27.7,1.8,20.7\\r\\n4/23/19,206.9,8.4,26.4,12.9\\r\\n4/24/19,25.1,25.7,43.3,8.5\\r\\n4/25/19,175.1,22.5,31.5,14.9\\r\\n4/26/19,89.7,9.9,35.7,10.6\\r\\n4/27/19,239.9,41.5,18.5,23.2\\r\\n4/28/19,227.2,15.8,49.9,14.8\\r\\n4/29/19,66.9,11.7,36.8,9.7\\r\\n4/30/19,199.8,3.1,34.6,11.4\\r\\n5/1/19,100.4,9.6,3.6,10.7\\r\\n5/2/19,216.4,41.7,39.6,22.6\\r\\n5/3/19,182.6,46.2,58.7,21.2\\r\\n5/4/19,262.7,28.8,15.9,20.2\\r\\n5/5/19,198.9,49.4,60,23.7\\r\\n5/6/19,7.3,28.1,41.4,5.5\\r\\n5/7/19,136.2,19.2,16.6,13.2\\r\\n5/8/19,210.8,49.6,37.7,23.8\\r\\n5/9/19,210.7,29.5,9.3,18.4\\r\\n5/10/19,53.5,2,21.4,8.1\\r\\n5/11/19,261.3,42.7,54.7,24.2\\r\\n5/12/19,239.3,15.5,27.3,15.7\\r\\n5/13/19,102.7,29.6,8.4,14\\r\\n5/14/19,131.1,42.8,28.9,18\\r\\n5/15/19,69,9.3,0.9,9.3\\r\\n5/16/19,31.5,24.6,2.2,9.5\\r\\n5/17/19,139.3,14.5,10.2,13.4\\r\\n5/18/19,237.4,27.5,11,18.9\\r\\n5/19/19,216.8,43.9,27.2,22.3\\r\\n5/20/19,199.1,30.6,38.7,18.3\\r\\n5/21/19,109.8,14.3,31.7,12.4\\r\\n5/22/19,26.8,33,19.3,8.8\\r\\n5/23/19,129.4,5.7,31.3,11\\r\\n5/24/19,213.4,24.6,13.1,17\\r\\n5/25/19,16.9,43.7,89.4,8.7\\r\\n5/26/19,27.5,1.6,20.7,6.9\\r\\n5/27/19,120.5,28.5,14.2,14.2\\r\\n5/28/19,5.4,29.9,9.4,5.3\\r\\n5/29/19,116,7.7,23.1,11\\r\\n5/30/19,76.4,26.7,22.3,11.8\\r\\n5/31/19,239.8,4.1,36.9,12.3\\r\\n6/1/19,75.3,20.3,32.5,11.3\\r\\n6/2/19,68.4,44.5,35.6,13.6\\r\\n6/3/19,213.5,43,33.8,21.7\\r\\n6/4/19,193.2,18.4,65.7,15.2\\r\\n6/5/19,76.3,27.5,16,12\\r\\n6/6/19,110.7,40.6,63.2,16\\r\\n6/7/19,88.3,25.5,73.4,12.9\\r\\n6/8/19,109.8,47.8,51.4,16.7\\r\\n6/9/19,134.3,4.9,9.3,11.2\\r\\n6/10/19,28.6,1.5,33,7.3\\r\\n6/11/19,217.7,33.5,59,19.4\\r\\n6/12/19,250.9,36.5,72.3,22.2\\r\\n6/13/19,107.4,14,10.9,11.5\\r\\n6/14/19,163.3,31.6,52.9,16.9\\r\\n6/15/19,197.6,3.5,5.9,11.7\\r\\n6/16/19,184.9,21,22,15.5\\r\\n6/17/19,289.7,42.3,51.2,25.4\\r\\n6/18/19,135.2,41.7,45.9,17.2\\r\\n6/19/19,222.4,4.3,49.8,11.7\\r\\n6/20/19,296.4,36.3,100.9,23.8\\r\\n6/21/19,280.2,10.1,21.4,14.8\\r\\n6/22/19,187.9,17.2,17.9,14.7\\r\\n6/23/19,238.2,34.3,5.3,20.7\\r\\n6/24/19,137.9,46.4,59,19.2\\r\\n6/25/19,25,11,29.7,7.2\\r\\n6/26/19,90.4,0.3,23.2,8.7\\r\\n6/27/19,13.1,0.4,25.6,5.3\\r\\n6/28/19,255.4,26.9,5.5,19.8\\r\\n6/29/19,225.8,8.2,56.5,13.4\\r\\n6/30/19,241.7,38,23.2,21.8\\r\\n7/1/19,175.7,15.4,2.4,14.1\\r\\n7/2/19,209.6,20.6,10.7,15.9\\r\\n7/3/19,78.2,46.8,34.5,14.6\\r\\n7/4/19,75.1,35,52.7,12.6\\r\\n7/5/19,139.2,14.3,25.6,12.2\\r\\n7/6/19,76.4,0.8,14.8,9.4\\r\\n7/7/19,125.7,36.9,79.2,15.9\\r\\n7/8/19,19.4,16,22.3,6.6\\r\\n7/9/19,141.3,26.8,46.2,15.5\\r\\n7/10/19,18.8,21.7,50.4,7\\r\\n7/11/19,224,2.4,15.6,11.6\\r\\n7/12/19,123.1,34.6,12.4,15.2\\r\\n7/13/19,229.5,32.3,74.2,19.7\\r\\n7/14/19,87.2,11.8,25.9,10.6\\r\\n7/15/19,7.8,38.9,50.6,6.6\\r\\n7/16/19,80.2,0,9.2,8.8\\r\\n7/17/19,220.3,49,3.2,24.7\\r\\n7/18/19,59.6,12,43.1,9.7\\r\\n7/19/19,0.7,39.6,8.7,1.6\\r\\n7/20/19,265.2,2.9,43,12.7\\r\\n7/21/19,8.4,27.2,2.1,5.7\\r\\n7/22/19,219.8,33.5,45.1,19.6\\r\\n7/23/19,36.9,38.6,65.6,10.8\\r\\n7/24/19,48.3,47,8.5,11.6\\r\\n7/25/19,25.6,39,9.3,9.5\\r\\n7/26/19,273.7,28.9,59.7,20.8\\r\\n7/27/19,43,25.9,20.5,9.6\\r\\n7/28/19,184.9,43.9,1.7,20.7\\r\\n7/29/19,73.4,17,12.9,10.9\\r\\n7/30/19,193.7,35.4,75.6,19.2\\r\\n7/31/19,220.5,33.2,37.9,20.1\\r\\n8/1/19,104.6,5.7,34.4,10.4\\r\\n8/2/19,96.2,14.8,38.9,11.4\\r\\n8/3/19,140.3,1.9,9,10.3\\r\\n8/4/19,240.1,7.3,8.7,13.2\\r\\n8/5/19,243.2,49,44.3,25.4\\r\\n8/6/19,38,40.3,11.9,10.9\\r\\n8/7/19,44.7,25.8,20.6,10.1\\r\\n8/8/19,280.7,13.9,37,16.1\\r\\n8/9/19,121,8.4,48.7,11.6\\r\\n8/10/19,197.6,23.3,14.2,16.6\\r\\n8/11/19,171.3,39.7,37.7,19\\r\\n8/12/19,187.8,21.1,9.5,15.6\\r\\n8/13/19,4.1,11.6,5.7,3.2\\r\\n8/14/19,93.9,43.5,50.5,15.3\\r\\n8/15/19,149.8,1.3,24.3,10.1\\r\\n8/16/19,11.7,36.9,45.2,7.3\\r\\n8/17/19,131.7,18.4,34.6,12.9\\r\\n8/18/19,172.5,18.1,30.7,14.4\\r\\n8/19/19,85.7,35.8,49.3,13.3\\r\\n8/20/19,188.4,18.1,25.6,14.9\\r\\n8/21/19,163.5,36.8,7.4,18\\r\\n8/22/19,117.2,14.7,5.4,11.9\\r\\n8/23/19,234.5,3.4,84.8,11.9\\r\\n8/24/19,17.9,37.6,21.6,8\\r\\n8/25/19,206.8,5.2,19.4,12.2\\r\\n8/26/19,215.4,23.6,57.6,17.1\\r\\n8/27/19,284.3,10.6,6.4,15\\r\\n8/28/19,50,11.6,18.4,8.4\\r\\n8/29/19,164.5,20.9,47.4,14.5\\r\\n8/30/19,19.6,20.1,17,7.6\\r\\n8/31/19,168.4,7.1,12.8,11.7\\r\\n9/1/19,222.4,3.4,13.1,11.5\\r\\n9/2/19,276.9,48.9,41.8,27\\r\\n9/3/19,248.4,30.2,20.3,20.2\\r\\n9/4/19,170.2,7.8,35.2,11.7\\r\\n9/5/19,276.7,2.3,23.7,11.8\\r\\n9/6/19,165.6,10,17.6,12.6\\r\\n9/7/19,156.6,2.6,8.3,10.5\\r\\n9/8/19,218.5,5.4,27.4,12.2\\r\\n9/9/19,56.2,5.7,29.7,8.7\\r\\n9/10/19,287.6,43,71.8,26.2\\r\\n9/11/19,253.8,21.3,30,17.6\\r\\n9/12/19,205,45.1,19.6,22.6\\r\\n9/13/19,139.5,2.1,26.6,10.3\\r\\n9/14/19,191.1,28.7,18.2,17.3\\r\\n9/15/19,286,13.9,3.7,15.9\\r\\n9/16/19,18.7,12.1,23.4,6.7\\r\\n9/17/19,39.5,41.1,5.8,10.8\\r\\n9/18/19,75.5,10.8,6,9.9\\r\\n9/19/19,17.2,4.1,31.6,5.9\\r\\n9/20/19,166.8,42,3.6,19.6\\r\\n9/21/19,149.7,35.6,6,17.3\\r\\n9/22/19,38.2,3.7,13.8,7.6\\r\\n9/23/19,94.2,4.9,8.1,9.7\\r\\n9/24/19,177,9.3,6.4,12.8\\r\\n9/25/19,283.6,42,66.2,25.5\\r\\n9/26/19,232.1,8.6,8.7,13.4'}"
            ]
          },
          "metadata": {
            "tags": []
          },
          "execution_count": 3
        }
      ]
    },
    {
      "cell_type": "code",
      "metadata": {
        "id": "kKhtvANlxcLH",
        "colab_type": "code",
        "colab": {}
      },
      "source": [
        "# read CSV file stored in the current directory and save the results\n",
        "#data = pd.read_csv('./data/Advertising.csv', skipinitialspace=True, index_col=0)\n"
      ],
      "execution_count": 0,
      "outputs": []
    },
    {
      "cell_type": "code",
      "metadata": {
        "id": "3BwyHbz6zr0C",
        "colab_type": "code",
        "outputId": "74f773ee-bbd1-4a94-a5a3-f0ef73d2726e",
        "colab": {
          "base_uri": "https://localhost:8080/",
          "height": 206
        }
      },
      "source": [
        "data = pd.read_csv('Advertising.csv', skipinitialspace=True, index_col=0)\n",
        "\n",
        "# display the first 5 rows\n",
        "data.head()"
      ],
      "execution_count": 4,
      "outputs": [
        {
          "output_type": "execute_result",
          "data": {
            "text/html": [
              "<div>\n",
              "<style scoped>\n",
              "    .dataframe tbody tr th:only-of-type {\n",
              "        vertical-align: middle;\n",
              "    }\n",
              "\n",
              "    .dataframe tbody tr th {\n",
              "        vertical-align: top;\n",
              "    }\n",
              "\n",
              "    .dataframe thead th {\n",
              "        text-align: right;\n",
              "    }\n",
              "</style>\n",
              "<table border=\"1\" class=\"dataframe\">\n",
              "  <thead>\n",
              "    <tr style=\"text-align: right;\">\n",
              "      <th></th>\n",
              "      <th>TV</th>\n",
              "      <th>Radio</th>\n",
              "      <th>Newspaper</th>\n",
              "      <th>Sales</th>\n",
              "    </tr>\n",
              "  </thead>\n",
              "  <tbody>\n",
              "    <tr>\n",
              "      <th>3/11/19</th>\n",
              "      <td>230.1</td>\n",
              "      <td>37.8</td>\n",
              "      <td>69.2</td>\n",
              "      <td>22.1</td>\n",
              "    </tr>\n",
              "    <tr>\n",
              "      <th>3/12/19</th>\n",
              "      <td>44.5</td>\n",
              "      <td>39.3</td>\n",
              "      <td>45.1</td>\n",
              "      <td>10.4</td>\n",
              "    </tr>\n",
              "    <tr>\n",
              "      <th>3/13/19</th>\n",
              "      <td>17.2</td>\n",
              "      <td>45.9</td>\n",
              "      <td>69.3</td>\n",
              "      <td>9.3</td>\n",
              "    </tr>\n",
              "    <tr>\n",
              "      <th>3/14/19</th>\n",
              "      <td>151.5</td>\n",
              "      <td>41.3</td>\n",
              "      <td>58.5</td>\n",
              "      <td>18.5</td>\n",
              "    </tr>\n",
              "    <tr>\n",
              "      <th>3/15/19</th>\n",
              "      <td>180.8</td>\n",
              "      <td>10.8</td>\n",
              "      <td>58.4</td>\n",
              "      <td>12.9</td>\n",
              "    </tr>\n",
              "  </tbody>\n",
              "</table>\n",
              "</div>"
            ],
            "text/plain": [
              "            TV  Radio  Newspaper  Sales\n",
              "3/11/19  230.1   37.8       69.2   22.1\n",
              "3/12/19   44.5   39.3       45.1   10.4\n",
              "3/13/19   17.2   45.9       69.3    9.3\n",
              "3/14/19  151.5   41.3       58.5   18.5\n",
              "3/15/19  180.8   10.8       58.4   12.9"
            ]
          },
          "metadata": {
            "tags": []
          },
          "execution_count": 4
        }
      ]
    },
    {
      "cell_type": "markdown",
      "metadata": {
        "id": "jDmiQYZUxcLk",
        "colab_type": "text"
      },
      "source": [
        "What are the features?\n",
        "- **TV:** advertising dollars spent on TV for a single product in a given market (in thousands of dollars)\n",
        "- **Radio:** advertising dollars spent on Radio\n",
        "- **Newspaper:** advertising dollars spent on Newspaper\n",
        "\n",
        "What is the response?\n",
        "- **Sales:** sales of a single product in a given market (in thousands of items)\n",
        "\n",
        "What else do we know?\n",
        "- Because the response variable is continuous, this is a **regression** problem.\n",
        "- There are 200 **observations** (represented by the rows), and each observation is a single market."
      ]
    },
    {
      "cell_type": "code",
      "metadata": {
        "id": "YiNwUvY5xcLp",
        "colab_type": "code",
        "outputId": "dbfbc494-41c0-4bbf-f6dd-fce4903293a6",
        "colab": {
          "base_uri": "https://localhost:8080/",
          "height": 441
        }
      },
      "source": [
        "#display all data. You can uncomment the code in the next line\n",
        "\n",
        "display(data)\n",
        "\n",
        "data.shape"
      ],
      "execution_count": 5,
      "outputs": [
        {
          "output_type": "display_data",
          "data": {
            "text/html": [
              "<div>\n",
              "<style scoped>\n",
              "    .dataframe tbody tr th:only-of-type {\n",
              "        vertical-align: middle;\n",
              "    }\n",
              "\n",
              "    .dataframe tbody tr th {\n",
              "        vertical-align: top;\n",
              "    }\n",
              "\n",
              "    .dataframe thead th {\n",
              "        text-align: right;\n",
              "    }\n",
              "</style>\n",
              "<table border=\"1\" class=\"dataframe\">\n",
              "  <thead>\n",
              "    <tr style=\"text-align: right;\">\n",
              "      <th></th>\n",
              "      <th>TV</th>\n",
              "      <th>Radio</th>\n",
              "      <th>Newspaper</th>\n",
              "      <th>Sales</th>\n",
              "    </tr>\n",
              "  </thead>\n",
              "  <tbody>\n",
              "    <tr>\n",
              "      <th>3/11/19</th>\n",
              "      <td>230.1</td>\n",
              "      <td>37.8</td>\n",
              "      <td>69.2</td>\n",
              "      <td>22.1</td>\n",
              "    </tr>\n",
              "    <tr>\n",
              "      <th>3/12/19</th>\n",
              "      <td>44.5</td>\n",
              "      <td>39.3</td>\n",
              "      <td>45.1</td>\n",
              "      <td>10.4</td>\n",
              "    </tr>\n",
              "    <tr>\n",
              "      <th>3/13/19</th>\n",
              "      <td>17.2</td>\n",
              "      <td>45.9</td>\n",
              "      <td>69.3</td>\n",
              "      <td>9.3</td>\n",
              "    </tr>\n",
              "    <tr>\n",
              "      <th>3/14/19</th>\n",
              "      <td>151.5</td>\n",
              "      <td>41.3</td>\n",
              "      <td>58.5</td>\n",
              "      <td>18.5</td>\n",
              "    </tr>\n",
              "    <tr>\n",
              "      <th>3/15/19</th>\n",
              "      <td>180.8</td>\n",
              "      <td>10.8</td>\n",
              "      <td>58.4</td>\n",
              "      <td>12.9</td>\n",
              "    </tr>\n",
              "    <tr>\n",
              "      <th>...</th>\n",
              "      <td>...</td>\n",
              "      <td>...</td>\n",
              "      <td>...</td>\n",
              "      <td>...</td>\n",
              "    </tr>\n",
              "    <tr>\n",
              "      <th>9/22/19</th>\n",
              "      <td>38.2</td>\n",
              "      <td>3.7</td>\n",
              "      <td>13.8</td>\n",
              "      <td>7.6</td>\n",
              "    </tr>\n",
              "    <tr>\n",
              "      <th>9/23/19</th>\n",
              "      <td>94.2</td>\n",
              "      <td>4.9</td>\n",
              "      <td>8.1</td>\n",
              "      <td>9.7</td>\n",
              "    </tr>\n",
              "    <tr>\n",
              "      <th>9/24/19</th>\n",
              "      <td>177.0</td>\n",
              "      <td>9.3</td>\n",
              "      <td>6.4</td>\n",
              "      <td>12.8</td>\n",
              "    </tr>\n",
              "    <tr>\n",
              "      <th>9/25/19</th>\n",
              "      <td>283.6</td>\n",
              "      <td>42.0</td>\n",
              "      <td>66.2</td>\n",
              "      <td>25.5</td>\n",
              "    </tr>\n",
              "    <tr>\n",
              "      <th>9/26/19</th>\n",
              "      <td>232.1</td>\n",
              "      <td>8.6</td>\n",
              "      <td>8.7</td>\n",
              "      <td>13.4</td>\n",
              "    </tr>\n",
              "  </tbody>\n",
              "</table>\n",
              "<p>200 rows × 4 columns</p>\n",
              "</div>"
            ],
            "text/plain": [
              "            TV  Radio  Newspaper  Sales\n",
              "3/11/19  230.1   37.8       69.2   22.1\n",
              "3/12/19   44.5   39.3       45.1   10.4\n",
              "3/13/19   17.2   45.9       69.3    9.3\n",
              "3/14/19  151.5   41.3       58.5   18.5\n",
              "3/15/19  180.8   10.8       58.4   12.9\n",
              "...        ...    ...        ...    ...\n",
              "9/22/19   38.2    3.7       13.8    7.6\n",
              "9/23/19   94.2    4.9        8.1    9.7\n",
              "9/24/19  177.0    9.3        6.4   12.8\n",
              "9/25/19  283.6   42.0       66.2   25.5\n",
              "9/26/19  232.1    8.6        8.7   13.4\n",
              "\n",
              "[200 rows x 4 columns]"
            ]
          },
          "metadata": {
            "tags": []
          }
        },
        {
          "output_type": "execute_result",
          "data": {
            "text/plain": [
              "(200, 4)"
            ]
          },
          "metadata": {
            "tags": []
          },
          "execution_count": 5
        }
      ]
    },
    {
      "cell_type": "markdown",
      "metadata": {
        "id": "7oU8MDgNxcMK",
        "colab_type": "text"
      },
      "source": [
        "## TW1 Tasks\n",
        "\n",
        "### Part 1 T\n",
        "\n",
        "Create cells to solve each of the following problems. Check the example Python codes for data visualization (TW1 on Canvas). \n",
        "\n",
        "(1) For each field of the data, what is the mean of the data? What is the median? What is the mode of the data?\n",
        "\n",
        "(2) For each field of the data, give the five-number summary, minimum, the first quartile (Q1), median, the third quartile (Q3), and maximum of the data.\n",
        "\n",
        "(3) For each field of the data, visulize a boxplot of the data and compare it to your answer in (b). \n",
        "\n",
        "(4) For Sales, visualize distribution of the data using histogram. Comment on the data’s modality (i.e., bimodal, trimodal, etc.)\n",
        "\n",
        "(5) For Sales, visualize the trend of the data over time using a graph. \n",
        "\n",
        "(6) For each pair (TV-Sales, Radio-Sales, Newspaper-Sales), calculate the Pearson's correlation coefficient factor r. \n",
        "\n",
        "(7) For each pair (TV-Sales, Radio-Sales, Newspaper-Sales), visualize scatter graph. \n"
      ]
    },
    {
      "cell_type": "code",
      "metadata": {
        "id": "EguefnKqxcMO",
        "colab_type": "code",
        "outputId": "0d49cfd9-0ee6-4897-b3b5-4f80c4575217",
        "colab": {
          "base_uri": "https://localhost:8080/",
          "height": 86
        }
      },
      "source": [
        "#1 Means\n",
        "tv_mean = data[\"TV\"].mean()\n",
        "print(\"TV advertising mean: \" + str(tv_mean) )\n",
        "\n",
        "radio_mean = data[\"Radio\"].mean()\n",
        "print(\"Radio advertising mean: \" + str(radio_mean) )\n",
        "\n",
        "newspaper_mean = data[\"Newspaper\"].mean()\n",
        "print(\"Newspaper advertising mean: \" + str(newspaper_mean) )\n",
        "\n",
        "sales_mean = data[\"Sales\"].mean()\n",
        "print(\"Average of total daily sales: \" + str(sales_mean) )\n"
      ],
      "execution_count": 6,
      "outputs": [
        {
          "output_type": "stream",
          "text": [
            "TV advertising mean: 147.0425\n",
            "Radio advertising mean: 23.264000000000024\n",
            "Newspaper advertising mean: 30.553999999999995\n",
            "Average of total daily sales: 14.022500000000003\n"
          ],
          "name": "stdout"
        }
      ]
    },
    {
      "cell_type": "code",
      "metadata": {
        "id": "oeI59mC52LUB",
        "colab_type": "code",
        "outputId": "32779f53-cf57-495d-eb01-3e5a20f51e54",
        "colab": {
          "base_uri": "https://localhost:8080/",
          "height": 486
        }
      },
      "source": [
        "means = data.mean(axis=0)\n",
        "medians = data.median(axis=0)\n",
        "modes = data.mode(axis=0)\n",
        "\n",
        "print(\"\\nMeans:\")\n",
        "print(means)\n",
        "print(\"\\nMedians:\")\n",
        "print(medians)\n",
        "print(\"\\nModes:\")\n",
        "print(modes)"
      ],
      "execution_count": 7,
      "outputs": [
        {
          "output_type": "stream",
          "text": [
            "\n",
            "Means:\n",
            "TV           147.0425\n",
            "Radio         23.2640\n",
            "Newspaper     30.5540\n",
            "Sales         14.0225\n",
            "dtype: float64\n",
            "\n",
            "Medians:\n",
            "TV           149.75\n",
            "Radio         22.90\n",
            "Newspaper     25.75\n",
            "Sales         12.90\n",
            "dtype: float64\n",
            "\n",
            "Modes:\n",
            "      TV  Radio  Newspaper  Sales\n",
            "0   17.2    4.1        8.7    9.7\n",
            "1   76.4    5.7        9.3    NaN\n",
            "2  109.8    NaN       25.6    NaN\n",
            "3  177.0    NaN        NaN    NaN\n",
            "4  184.9    NaN        NaN    NaN\n",
            "5  197.6    NaN        NaN    NaN\n",
            "6  199.8    NaN        NaN    NaN\n",
            "7  222.4    NaN        NaN    NaN\n",
            "8  237.4    NaN        NaN    NaN\n",
            "9  240.1    NaN        NaN    NaN\n"
          ],
          "name": "stdout"
        }
      ]
    },
    {
      "cell_type": "code",
      "metadata": {
        "id": "vr0qJIcYxcMk",
        "colab_type": "code",
        "outputId": "65cbbb48-01a8-46df-c32d-0bcc64bd119f",
        "colab": {
          "base_uri": "https://localhost:8080/",
          "height": 642
        }
      },
      "source": [
        "#2 Numerical Summaries\n",
        "\n",
        "for (medium, column_data) in data.iteritems():\n",
        "  if medium == \"TV\" or medium == \"Radio\" or medium == \"Newspaper\":\n",
        "    print(\"Five Number Summary, \" + medium + \" Advertising: \")\n",
        "  else:\n",
        "    print(\"Five Number Summary, Total \" + medium + \": \" )\n",
        "  print(\"\\t Minimum: \" + str(np.min(column_data)) )\n",
        "  print(\"\\t First Quartile: \" + str(column_data.quantile(0.25)) )\n",
        "  print(\"\\t Maximum: \" + str(np.max(column_data)) )\n",
        "  print(\"\\t Third Quartile: \" + str(column_data.quantile(0.75)) )\n",
        "  print(\"\\t Mean: \" + str(tv_mean) )\n",
        "  print(\"\\t Median: \" + str(np.median(column_data)) )\n",
        "  print(\"\\t Standard Deviation: \" + str(np.std(column_data)) + \"\\n\")\n"
      ],
      "execution_count": 8,
      "outputs": [
        {
          "output_type": "stream",
          "text": [
            "Five Number Summary, TV Advertising: \n",
            "\t Minimum: 0.7\n",
            "\t First Quartile: 74.375\n",
            "\t Maximum: 296.4\n",
            "\t Third Quartile: 218.825\n",
            "\t Mean: 147.0425\n",
            "\t Median: 149.75\n",
            "\t Standard Deviation: 85.63933175679271\n",
            "\n",
            "Five Number Summary, Radio Advertising: \n",
            "\t Minimum: 0.0\n",
            "\t First Quartile: 9.975\n",
            "\t Maximum: 49.6\n",
            "\t Third Quartile: 36.525\n",
            "\t Mean: 147.0425\n",
            "\t Median: 22.9\n",
            "\t Standard Deviation: 14.809645640595184\n",
            "\n",
            "Five Number Summary, Newspaper Advertising: \n",
            "\t Minimum: 0.3\n",
            "\t First Quartile: 12.750000000000002\n",
            "\t Maximum: 114.0\n",
            "\t Third Quartile: 45.1\n",
            "\t Mean: 147.0425\n",
            "\t Median: 25.75\n",
            "\t Standard Deviation: 21.724106057557357\n",
            "\n",
            "Five Number Summary, Total Sales: \n",
            "\t Minimum: 1.6\n",
            "\t First Quartile: 10.375\n",
            "\t Maximum: 27.0\n",
            "\t Third Quartile: 17.4\n",
            "\t Mean: 147.0425\n",
            "\t Median: 12.9\n",
            "\t Standard Deviation: 5.204396578855227\n",
            "\n"
          ],
          "name": "stdout"
        }
      ]
    },
    {
      "cell_type": "code",
      "metadata": {
        "id": "bfZH5ouKxcM5",
        "colab_type": "code",
        "outputId": "7fe1d65d-c652-45ac-fb05-443841a4d550",
        "colab": {
          "base_uri": "https://localhost:8080/",
          "height": 282
        }
      },
      "source": [
        "#3 Boxplots\n",
        "pd.DataFrame.boxplot(data)\n",
        "\n",
        "\n",
        "\n"
      ],
      "execution_count": 11,
      "outputs": [
        {
          "output_type": "execute_result",
          "data": {
            "text/plain": [
              "<matplotlib.axes._subplots.AxesSubplot at 0x7f06c7df87f0>"
            ]
          },
          "metadata": {
            "tags": []
          },
          "execution_count": 11
        },
        {
          "output_type": "display_data",
          "data": {
            "image/png": "[encoded data removed]",
            "text/plain": [
              "<Figure size 432x288 with 1 Axes>"
            ]
          },
          "metadata": {
            "tags": [],
            "needs_background": "light"
          }
        }
      ]
    },
    {
      "cell_type": "code",
      "metadata": {
        "id": "T9YQpCQNxcNN",
        "colab_type": "code",
        "outputId": "2df9c851-8f77-49fb-f4f5-698d2073c6f0",
        "colab": {
          "base_uri": "https://localhost:8080/",
          "height": 316
        }
      },
      "source": [
        "#4 Sales Histogram\n",
        "\n",
        "data.hist(column=\"Sales\")"
      ],
      "execution_count": 17,
      "outputs": [
        {
          "output_type": "execute_result",
          "data": {
            "text/plain": [
              "array([[<matplotlib.axes._subplots.AxesSubplot object at 0x7f06ca2453c8>]],\n",
              "      dtype=object)"
            ]
          },
          "metadata": {
            "tags": []
          },
          "execution_count": 17
        },
        {
          "output_type": "display_data",
          "data": {
            "image/png": "[encoded data removed]",
            "text/plain": [
              "<Figure size 432x288 with 1 Axes>"
            ]
          },
          "metadata": {
            "tags": [],
            "needs_background": "light"
          }
        }
      ]
    },
    {
      "cell_type": "markdown",
      "metadata": {
        "id": "cVVSlAyq5N8Q",
        "colab_type": "text"
      },
      "source": [
        "The sales histogram is unimodal.   There is only one peak and the data seems to follow a normal distribution\n"
      ]
    },
    {
      "cell_type": "code",
      "metadata": {
        "id": "UFHRG8LXxcNY",
        "colab_type": "code",
        "outputId": "fc56ef0c-29e0-4998-9f81-fa2132cae133",
        "colab": {
          "base_uri": "https://localhost:8080/",
          "height": 265
        }
      },
      "source": [
        "#(5) For Sales, visualize the trend of the data over time using a graph. \n",
        "\n",
        "ar = data[\"Sales\"]\n",
        "\n",
        "dates = data.index[:]\n",
        "\n",
        "sales_plt = plt.pyplot.scatter(dates, ar)\n",
        "\n",
        "#data.plot.scatter(data.index[:], \"Sales\")"
      ],
      "execution_count": 68,
      "outputs": [
        {
          "output_type": "display_data",
          "data": {
            "image/png": "[encoded data removed]",
            "text/plain": [
              "<Figure size 432x288 with 1 Axes>"
            ]
          },
          "metadata": {
            "tags": [],
            "needs_background": "light"
          }
        }
      ]
    },
    {
      "cell_type": "code",
      "metadata": {
        "id": "f-GfX76dxcNs",
        "colab_type": "code",
        "outputId": "f751cafb-bed1-46f0-af50-cf58047cf48f",
        "colab": {
          "base_uri": "https://localhost:8080/",
          "height": 175
        }
      },
      "source": [
        "data.corr(method ='pearson')"
      ],
      "execution_count": 14,
      "outputs": [
        {
          "output_type": "execute_result",
          "data": {
            "text/html": [
              "<div>\n",
              "<style scoped>\n",
              "    .dataframe tbody tr th:only-of-type {\n",
              "        vertical-align: middle;\n",
              "    }\n",
              "\n",
              "    .dataframe tbody tr th {\n",
              "        vertical-align: top;\n",
              "    }\n",
              "\n",
              "    .dataframe thead th {\n",
              "        text-align: right;\n",
              "    }\n",
              "</style>\n",
              "<table border=\"1\" class=\"dataframe\">\n",
              "  <thead>\n",
              "    <tr style=\"text-align: right;\">\n",
              "      <th></th>\n",
              "      <th>TV</th>\n",
              "      <th>Radio</th>\n",
              "      <th>Newspaper</th>\n",
              "      <th>Sales</th>\n",
              "    </tr>\n",
              "  </thead>\n",
              "  <tbody>\n",
              "    <tr>\n",
              "      <th>TV</th>\n",
              "      <td>1.000000</td>\n",
              "      <td>0.054809</td>\n",
              "      <td>0.056648</td>\n",
              "      <td>0.782224</td>\n",
              "    </tr>\n",
              "    <tr>\n",
              "      <th>Radio</th>\n",
              "      <td>0.054809</td>\n",
              "      <td>1.000000</td>\n",
              "      <td>0.354104</td>\n",
              "      <td>0.576223</td>\n",
              "    </tr>\n",
              "    <tr>\n",
              "      <th>Newspaper</th>\n",
              "      <td>0.056648</td>\n",
              "      <td>0.354104</td>\n",
              "      <td>1.000000</td>\n",
              "      <td>0.228299</td>\n",
              "    </tr>\n",
              "    <tr>\n",
              "      <th>Sales</th>\n",
              "      <td>0.782224</td>\n",
              "      <td>0.576223</td>\n",
              "      <td>0.228299</td>\n",
              "      <td>1.000000</td>\n",
              "    </tr>\n",
              "  </tbody>\n",
              "</table>\n",
              "</div>"
            ],
            "text/plain": [
              "                 TV     Radio  Newspaper     Sales\n",
              "TV         1.000000  0.054809   0.056648  0.782224\n",
              "Radio      0.054809  1.000000   0.354104  0.576223\n",
              "Newspaper  0.056648  0.354104   1.000000  0.228299\n",
              "Sales      0.782224  0.576223   0.228299  1.000000"
            ]
          },
          "metadata": {
            "tags": []
          },
          "execution_count": 14
        }
      ]
    },
    {
      "cell_type": "code",
      "metadata": {
        "id": "v2_mxA-uxcN6",
        "colab_type": "code",
        "outputId": "345930de-e868-4713-ffc0-63d9ecef74d9",
        "colab": {
          "base_uri": "https://localhost:8080/",
          "height": 803
        }
      },
      "source": [
        "#For each pair (TV-Sales, Radio-Sales, Newspaper-Sales), visualize scatter graph.\n",
        "\n",
        "df = pd.DataFrame(data)\n",
        "ax1 = df.plot.scatter(x='TV', y='Radio')\n",
        "df = pd.DataFrame(data)\n",
        "ax1 = df.plot.scatter(x='TV', y='Newspaper')\n",
        "df = pd.DataFrame(data)\n",
        "ax1 = df.plot.scatter(x='Newspaper', y='Radio')"
      ],
      "execution_count": 15,
      "outputs": [
        {
          "output_type": "display_data",
          "data": {
            "image/png": "[encoded data removed]",
            "text/plain": [
              "<Figure size 432x288 with 1 Axes>"
            ]
          },
          "metadata": {
            "tags": [],
            "needs_background": "light"
          }
        },
        {
          "output_type": "display_data",
          "data": {
            "image/png": "[encoded data removed]",
            "text/plain": [
              "<Figure size 432x288 with 1 Axes>"
            ]
          },
          "metadata": {
            "tags": [],
            "needs_background": "light"
          }
        },
        {
          "output_type": "display_data",
          "data": {
            "image/png": "[encoded data removed]",
            "text/plain": [
              "<Figure size 432x288 with 1 Axes>"
            ]
          },
          "metadata": {
            "tags": [],
            "needs_background": "light"
          }
        }
      ]
    },
    {
      "cell_type": "markdown",
      "metadata": {
        "id": "zX-h_pt7xcOQ",
        "colab_type": "text"
      },
      "source": [
        "### Part 2\n",
        "Write a summary of what you find from the data"
      ]
    },
    {
      "cell_type": "code",
      "metadata": {
        "id": "wfI3qMUcxcOR",
        "colab_type": "code",
        "colab": {}
      },
      "source": [
        "\"\"\"\n",
        "TV advertising is very strongly correlated with sales.\n",
        "Radio and Newspaper advertising are strongly correlated with sales but lesser degree than TV. \n",
        "The company spent an average of $147,042.5 on TV, $23,264 on Radio, $30,554 on Newspaper. \n",
        "In turn, they sold an avarage of 14,022.5 items.\n",
        "We can tentatievly conclude that TV correlates strongly with sales due to the increased spending \n",
        "and can't definitively say that TV causes more sales.  \n",
        "\"\"\""
      ],
      "execution_count": 0,
      "outputs": []
    }
  ]
}