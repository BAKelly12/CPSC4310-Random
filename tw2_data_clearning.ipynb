{
  "nbformat": 4,
  "nbformat_minor": 0,
  "metadata": {
    "kernelspec": {
      "display_name": "Python 3",
      "language": "python",
      "name": "python3"
    },
    "language_info": {
      "codemirror_mode": {
        "name": "ipython",
        "version": 3
      },
      "file_extension": ".py",
      "mimetype": "text/x-python",
      "name": "python",
      "nbconvert_exporter": "python",
      "pygments_lexer": "ipython3",
      "version": "3.7.3"
    },
    "colab": {
      "name": "tw2_data_clearning.ipynb",
      "provenance": [],
      "collapsed_sections": [],
      "include_colab_link": true
    }
  },
  "cells": [
    {
      "cell_type": "markdown",
      "metadata": {
        "id": "view-in-github",
        "colab_type": "text"
      },
      "source": [
        "<a href=\"https://colab.research.google.com/github/BAKelly12/CPSC4310-Random/blob/master/tw2_data_clearning.ipynb\" target=\"_parent\"><img src=\"https://colab.research.google.com/assets/colab-badge.svg\" alt=\"Open In Colab\"/></a>"
      ]
    },
    {
      "cell_type": "markdown",
      "metadata": {
        "id": "XlPln5VsD0iU",
        "colab_type": "text"
      },
      "source": [
        "# TW2\n",
        "\n",
        "\n",
        "## Preprocessing Data: Data Clearning"
      ]
    },
    {
      "cell_type": "markdown",
      "metadata": {
        "id": "JbcY3LjYsaON",
        "colab_type": "text"
      },
      "source": [
        "Brigid Kelly\n",
        "\n",
        "Jack Witt\n",
        "\n",
        "Michael Brown\n",
        "\n",
        "Shaun Lee"
      ]
    },
    {
      "cell_type": "markdown",
      "metadata": {
        "id": "x0iqwCFMD0iY",
        "colab_type": "text"
      },
      "source": [
        "### Handing missing data and invalid data\n",
        "\n",
        "Handling missing data is important as many machine learning algorithms do not support data with missing values. Our main objectives: \n",
        "\n",
        "- How to marking invalid or corrupt values as missing in a dataset.\n",
        "\n",
        "- How to remove rows with missing data from a dataset.\n",
        "\n",
        "- How to impute missing values with mean values in a dataset.\n",
        "\n",
        "#### Two examples below will show the data cleaning process. \n",
        "\n",
        "- Learn from the examples by going through each cell.\n",
        "\n",
        "- Apply the learn tools to conduct preprocessing a new dataset. \n",
        "\n",
        "\n",
        "See the more details:\n",
        "\n",
        "- Working with mssing data, in Pandas: \n",
        "\n",
        "https://pandas.pydata.org/pandas-docs/stable/user_guide/missing_data.html\n",
        "\n",
        "- How to inteporate the data, in Pandas: \n",
        "\n",
        "https://pandas.pydata.org/pandas-docs/stable/reference/api/pandas.Series.interpolate.html\n",
        "\n",
        "- Imputation of missing values, in Scikit-learn: \n",
        "\n",
        "https://scikit-learn.org/stable/modules/impute.html#impute\n",
        "\n",
        "\n",
        "*** Notes: It is import to read the Pandas and Scikit-learn libraries for their functions and examples before you use them.\n",
        "\n"
      ]
    },
    {
      "cell_type": "markdown",
      "metadata": {
        "id": "mxBbuDzAD0ie",
        "colab_type": "text"
      },
      "source": [
        "### A simple example: filling in missing data using Pandas"
      ]
    },
    {
      "cell_type": "code",
      "metadata": {
        "id": "z4zIDgblD0ih",
        "colab_type": "code",
        "colab": {}
      },
      "source": [
        "# Library import\n",
        "import numpy as np\n",
        "import pandas as pd\n",
        "from sklearn import preprocessing\n",
        "from google.colab import files"
      ],
      "execution_count": 0,
      "outputs": []
    },
    {
      "cell_type": "code",
      "metadata": {
        "id": "cKHqufCTD0i1",
        "colab_type": "code",
        "outputId": "7e126bb5-7636-42f7-d76c-b5e4e51c9028",
        "colab": {
          "resources": {
            "http://localhost:8080/nbextensions/google.colab/files.js": {
              "data": "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",
              "ok": true,
              "headers": [
                [
                  "content-type",
                  "application/javascript"
                ]
              ],
              "status": 200,
              "status_text": "OK"
            }
          },
          "base_uri": "https://localhost:8080/",
          "height": 124
        }
      },
      "source": [
        "# Load the data\n",
        "# data file is located in folder data\n",
        "#df = pd.read_csv('./data/log.csv')\n",
        "#print(df.head())\n",
        "#print(df.tail())\n",
        "files.upload()\n"
      ],
      "execution_count": 2,
      "outputs": [
        {
          "output_type": "display_data",
          "data": {
            "text/html": [
              "\n",
              "     <input type=\"file\" id=\"files-b3c9ed70-4525-48fc-aca0-d422a2e43de0\" name=\"files[]\" multiple disabled />\n",
              "     <output id=\"result-b3c9ed70-4525-48fc-aca0-d422a2e43de0\">\n",
              "      Upload widget is only available when the cell has been executed in the\n",
              "      current browser session. Please rerun this cell to enable.\n",
              "      </output>\n",
              "      <script src=\"/nbextensions/google.colab/files.js\"></script> "
            ],
            "text/plain": [
              "<IPython.core.display.HTML object>"
            ]
          },
          "metadata": {
            "tags": []
          }
        },
        {
          "output_type": "stream",
          "text": [
            "Saving log.csv to log.csv\n"
          ],
          "name": "stdout"
        },
        {
          "output_type": "execute_result",
          "data": {
            "text/plain": [
              "{'log.csv': b'time,user,video,playback position,paused,volume\\r\\n1469974424,cheryl,intro.html,5,FALSE,10\\r\\n1469974454,cheryl,intro.html,6,,\\r\\n1469974544,cheryl,intro.html,9,,\\r\\n1469974574,cheryl,intro.html,10,,\\r\\n1469977514,bob,intro.html,1,,\\r\\n1469977544,bob,intro.html,1,,\\r\\n1469977574,bob,intro.html,1,,\\r\\n1469977604,bob,intro.html,1,,\\r\\n1469974604,cheryl,intro.html,11,,\\r\\n1469974694,cheryl,intro.html,14,,\\r\\n1469974724,cheryl,intro.html,15,,\\r\\n1469974454,sue,advanced.html,24,,\\r\\n1469974524,sue,advanced.html,25,,\\r\\n1469974424,sue,advanced.html,23,FALSE,10\\r\\n1469974554,sue,advanced.html,26,,\\r\\n1469974624,sue,advanced.html,27,,\\r\\n1469974654,sue,advanced.html,28,,5\\r\\n1469974724,sue,advanced.html,29,,\\r\\n1469974484,cheryl,intro.html,7,,\\r\\n1469974514,cheryl,intro.html,8,,\\r\\n1469974754,sue,advanced.html,30,,\\r\\n1469974824,sue,advanced.html,31,,\\r\\n1469974854,sue,advanced.html,32,,\\r\\n1469974924,sue,advanced.html,33,,\\r\\n1469977424,bob,intro.html,1,TRUE,10\\r\\n1469977454,bob,intro.html,1,,\\r\\n1469977484,bob,intro.html,1,,\\r\\n1469977634,bob,intro.html,1,,\\r\\n1469977664,bob,intro.html,1,,\\r\\n1469974634,cheryl,intro.html,12,,\\r\\n1469974664,cheryl,intro.html,13,,\\r\\n1469977694,bob,intro.html,1,,\\r\\n1469977724,bob,intro.html,1,,\\r\\n'}"
            ]
          },
          "metadata": {
            "tags": []
          },
          "execution_count": 2
        }
      ]
    },
    {
      "cell_type": "code",
      "metadata": {
        "id": "tgyEaptUEfX_",
        "colab_type": "code",
        "colab": {}
      },
      "source": [
        "df = pd.read_csv('log.csv')"
      ],
      "execution_count": 0,
      "outputs": []
    },
    {
      "cell_type": "code",
      "metadata": {
        "id": "AtW9rNbVD0jA",
        "colab_type": "code",
        "outputId": "2b7da929-f998-4864-b793-8f372b32009a",
        "colab": {
          "base_uri": "https://localhost:8080/",
          "height": 139
        }
      },
      "source": [
        "# you can make index\n",
        "df = df.set_index('time')\n",
        "df = df.sort_index()\n",
        "print(df.head())"
      ],
      "execution_count": 4,
      "outputs": [
        {
          "output_type": "stream",
          "text": [
            "              user          video  playback position paused  volume\n",
            "time                                                               \n",
            "1469974424  cheryl     intro.html                  5  False    10.0\n",
            "1469974424     sue  advanced.html                 23  False    10.0\n",
            "1469974454  cheryl     intro.html                  6    NaN     NaN\n",
            "1469974454     sue  advanced.html                 24    NaN     NaN\n",
            "1469974484  cheryl     intro.html                  7    NaN     NaN\n"
          ],
          "name": "stdout"
        }
      ]
    },
    {
      "cell_type": "code",
      "metadata": {
        "id": "iuazaN6SD0jK",
        "colab_type": "code",
        "outputId": "98643001-7b3d-4d07-c75c-ffd18356beb3",
        "colab": {
          "base_uri": "https://localhost:8080/",
          "height": 139
        }
      },
      "source": [
        "# reset index\n",
        "df = df.reset_index()\n",
        "df = df.set_index(['time', 'user'])\n",
        "print(df.head())"
      ],
      "execution_count": 5,
      "outputs": [
        {
          "output_type": "stream",
          "text": [
            "                           video  playback position paused  volume\n",
            "time       user                                                   \n",
            "1469974424 cheryl     intro.html                  5  False    10.0\n",
            "           sue     advanced.html                 23  False    10.0\n",
            "1469974454 cheryl     intro.html                  6    NaN     NaN\n",
            "           sue     advanced.html                 24    NaN     NaN\n",
            "1469974484 cheryl     intro.html                  7    NaN     NaN\n"
          ],
          "name": "stdout"
        }
      ]
    },
    {
      "cell_type": "code",
      "metadata": {
        "id": "QN7tp1EXD0jX",
        "colab_type": "code",
        "outputId": "e18d100b-4573-415c-ed93-2c9b82052044",
        "colab": {
          "base_uri": "https://localhost:8080/",
          "height": 260
        }
      },
      "source": [
        "# replace Nan with default value (previos value is used to fill in)\n",
        "df = df.fillna(method='ffill')\n",
        "print(df.head())\n",
        "print(df.tail())"
      ],
      "execution_count": 6,
      "outputs": [
        {
          "output_type": "stream",
          "text": [
            "                           video  playback position  paused  volume\n",
            "time       user                                                    \n",
            "1469974424 cheryl     intro.html                  5   False    10.0\n",
            "           sue     advanced.html                 23   False    10.0\n",
            "1469974454 cheryl     intro.html                  6   False    10.0\n",
            "           sue     advanced.html                 24   False    10.0\n",
            "1469974484 cheryl     intro.html                  7   False    10.0\n",
            "                      video  playback position  paused  volume\n",
            "time       user                                               \n",
            "1469977604 bob   intro.html                  1    True    10.0\n",
            "1469977634 bob   intro.html                  1    True    10.0\n",
            "1469977664 bob   intro.html                  1    True    10.0\n",
            "1469977694 bob   intro.html                  1    True    10.0\n",
            "1469977724 bob   intro.html                  1    True    10.0\n"
          ],
          "name": "stdout"
        }
      ]
    },
    {
      "cell_type": "markdown",
      "metadata": {
        "id": "7bZHeTU5D0jk",
        "colab_type": "text"
      },
      "source": [
        "## Data Clearning Exercise"
      ]
    },
    {
      "cell_type": "markdown",
      "metadata": {
        "id": "eNgjCD9bD0jl",
        "colab_type": "text"
      },
      "source": [
        "Pima Indians Diabetes Dataset: where we look at a dataset that has known missing values.\n",
        "Mark Missing Values: where we learn how to mark missing values in a dataset.\n",
        "Missing Values Causes Problems: where we see how a machine learning algorithm can fail when it contains missing values.\n",
        "Remove Rows With Missing Values: where we see how to remove rows that contain missing values.\n",
        "Impute Missing Values: where we replace missing values with sensible values.\n",
        "Algorithms that Support Missing Values: where we learn about algorithms that support missing values.\n",
        "\n",
        "1. Pima Indians Diabetes Dataset: where we look at a dataset that has known missing values.\n",
        "2. Mark Missing Values: where we learn how to mark missing values in a dataset.\n",
        "3. Missing Values Causes Problems: where we see how a machine learning algorithm can fail when it contains missing values.\n",
        "4. Remove Rows With Missing Values: where we see how to remove rows that contain missing values.\n",
        "5. Impute Missing Values: where we replace missing values with sensible values.\n",
        "6. Algorithms that Support Missing Values: where we learn about algorithms that support missing values."
      ]
    },
    {
      "cell_type": "markdown",
      "metadata": {
        "id": "53dULhurD0jn",
        "colab_type": "text"
      },
      "source": [
        "### 1. Dataset\n",
        "#### Working with Pima indians diabetes dataset\n",
        "\n",
        "\n",
        "\n",
        "#### In TW2, you can find the follwoing files from folder data:\n",
        "\n",
        "- pima-indians-diabetes.csv\n",
        "\n",
        "- pima-indians-diabetes.names\n",
        "\n",
        "Both can be opend in Jupyter notebook\n",
        "\n",
        "#### Open the data file and look at the data. Also read readme.txt for data descrption. "
      ]
    },
    {
      "cell_type": "markdown",
      "metadata": {
        "id": "L6dQwCrTD0jp",
        "colab_type": "text"
      },
      "source": [
        "The Pima Indians Diabetes Dataset involves predicting the onset of diabetes within 5 years in Pima Indians given medical details.\n",
        "\n",
        "It is a binary (2-class) classification problem. The number of observations for each class is not balanced. There are 768 observations with 8 input variables and 1 output variable. The variable names are as follows:\n",
        "\n",
        "0. Number of times pregnant.\n",
        "1. Plasma glucose concentration a 2 hours in an oral glucose tolerance test.\n",
        "2. Diastolic blood pressure (mm Hg).\n",
        "3. Triceps skinfold thickness (mm).\n",
        "4. 2-Hour serum insulin (mu U/ml).\n",
        "5. Body mass index (weight in kg/(height in m)^2).\n",
        "6. Diabetes pedigree function.\n",
        "7. Age (years).\n",
        "8. Class variable (0 or 1).\n",
        "\n",
        "The baseline performance of predicting the most prevalent class is a classification accuracy of approximately 65%. Top results achieve a classification accuracy of approximately 77%."
      ]
    },
    {
      "cell_type": "markdown",
      "metadata": {
        "id": "rQYQxAI7D0jq",
        "colab_type": "text"
      },
      "source": [
        "A sample of the first 5 rows is listed below.\n",
        "\n",
        "![image.png](attachment:image.png)\n",
        "\n",
        "This dataset is known to have missing values. Specifically, there are missing observations for some columns that are marked as a zero value.\n",
        "\n",
        "We can corroborate this by the definition of those columns and the domain knowledge that a zero value is invalid for those measures, e.g. a zero for body mass index or blood pressure is invalid."
      ]
    },
    {
      "cell_type": "markdown",
      "metadata": {
        "id": "LZEzO-asD0jr",
        "colab_type": "text"
      },
      "source": [
        "### 2. Mark Missing Values\n",
        "\n",
        "we will look at how we can identify and mark values as missing.\n",
        "\n",
        "We can use plots and summary statistics to help identify missing or corrupt data.\n",
        "\n",
        "We can load the dataset as a Pandas DataFrame and print summary statistics on each attribute."
      ]
    },
    {
      "cell_type": "code",
      "metadata": {
        "id": "ZkWZGTFlOo6-",
        "colab_type": "code",
        "colab": {
          "resources": {
            "http://localhost:8080/nbextensions/google.colab/files.js": {
              "data": "Ly8gQ29weXJpZ2h0IDIwMTcgR29vZ2xlIExMQwovLwovLyBMaWNlbnNlZCB1bmRlciB0aGUgQXBhY2hlIExpY2Vuc2UsIFZlcnNpb24gMi4wICh0aGUgIkxpY2Vuc2UiKTsKLy8geW91IG1heSBub3QgdXNlIHRoaXMgZmlsZSBleGNlcHQgaW4gY29tcGxpYW5jZSB3aXRoIHRoZSBMaWNlbnNlLgovLyBZb3UgbWF5IG9idGFpbiBhIGNvcHkgb2YgdGhlIExpY2Vuc2UgYXQKLy8KLy8gICAgICBodHRwOi8vd3d3LmFwYWNoZS5vcmcvbGljZW5zZXMvTElDRU5TRS0yLjAKLy8KLy8gVW5sZXNzIHJlcXVpcmVkIGJ5IGFwcGxpY2FibGUgbGF3IG9yIGFncmVlZCB0byBpbiB3cml0aW5nLCBzb2Z0d2FyZQovLyBkaXN0cmlidXRlZCB1bmRlciB0aGUgTGljZW5zZSBpcyBkaXN0cmlidXRlZCBvbiBhbiAiQVMgSVMiIEJBU0lTLAovLyBXSVRIT1VUIFdBUlJBTlRJRVMgT1IgQ09ORElUSU9OUyBPRiBBTlkgS0lORCwgZWl0aGVyIGV4cHJlc3Mgb3IgaW1wbGllZC4KLy8gU2VlIHRoZSBMaWNlbnNlIGZvciB0aGUgc3BlY2lmaWMgbGFuZ3VhZ2UgZ292ZXJuaW5nIHBlcm1pc3Npb25zIGFuZAovLyBsaW1pdGF0aW9ucyB1bmRlciB0aGUgTGljZW5zZS4KCi8qKgogKiBAZmlsZW92ZXJ2aWV3IEhlbHBlcnMgZm9yIGdvb2dsZS5jb2xhYiBQeXRob24gbW9kdWxlLgogKi8KKGZ1bmN0aW9uKHNjb3BlKSB7CmZ1bmN0aW9uIHNwYW4odGV4dCwgc3R5bGVBdHRyaWJ1dGVzID0ge30pIHsKICBjb25zdCBlbGVtZW50ID0gZG9jdW1lbnQuY3JlYXRlRWxlbWVudCgnc3BhbicpOwogIGVsZW1lbnQudGV4dENvbnRlbnQgPSB0ZXh0OwogIGZvciAoY29uc3Qga2V5IG9mIE9iamVjdC5rZXlzKHN0eWxlQXR0cmlidXRlcykpIHsKICAgIGVsZW1lbnQuc3R5bGVba2V5XSA9IHN0eWxlQXR0cmlidXRlc1trZXldOwogIH0KICByZXR1cm4gZWxlbWVudDsKfQoKLy8gTWF4IG51bWJlciBvZiBieXRlcyB3aGljaCB3aWxsIGJlIHVwbG9hZGVkIGF0IGEgdGltZS4KY29uc3QgTUFYX1BBWUxPQURfU0laRSA9IDEwMCAqIDEwMjQ7Ci8vIE1heCBhbW91bnQgb2YgdGltZSB0byBibG9jayB3YWl0aW5nIGZvciB0aGUgdXNlci4KY29uc3QgRklMRV9DSEFOR0VfVElNRU9VVF9NUyA9IDMwICogMTAwMDsKCmZ1bmN0aW9uIF91cGxvYWRGaWxlcyhpbnB1dElkLCBvdXRwdXRJZCkgewogIGNvbnN0IHN0ZXBzID0gdXBsb2FkRmlsZXNTdGVwKGlucHV0SWQsIG91dHB1dElkKTsKICBjb25zdCBvdXRwdXRFbGVtZW50ID0gZG9jdW1lbnQuZ2V0RWxlbWVudEJ5SWQob3V0cHV0SWQpOwogIC8vIENhY2hlIHN0ZXBzIG9uIHRoZSBvdXRwdXRFbGVtZW50IHRvIG1ha2UgaXQgYXZhaWxhYmxlIGZvciB0aGUgbmV4dCBjYWxsCiAgLy8gdG8gdXBsb2FkRmlsZXNDb250aW51ZSBmcm9tIFB5dGhvbi4KICBvdXRwdXRFbGVtZW50LnN0ZXBzID0gc3RlcHM7CgogIHJldHVybiBfdXBsb2FkRmlsZXNDb250aW51ZShvdXRwdXRJZCk7Cn0KCi8vIFRoaXMgaXMgcm91Z2hseSBhbiBhc3luYyBnZW5lcmF0b3IgKG5vdCBzdXBwb3J0ZWQgaW4gdGhlIGJyb3dzZXIgeWV0KSwKLy8gd2hlcmUgdGhlcmUgYXJlIG11bHRpcGxlIGFzeW5jaHJvbm91cyBzdGVwcyBhbmQgdGhlIFB5dGhvbiBzaWRlIGlzIGdvaW5nCi8vIHRvIHBvbGwgZm9yIGNvbXBsZXRpb24gb2YgZWFjaCBzdGVwLgovLyBUaGlzIHVzZXMgYSBQcm9taXNlIHRvIGJsb2NrIHRoZSBweXRob24gc2lkZSBvbiBjb21wbGV0aW9uIG9mIGVhY2ggc3RlcCwKLy8gdGhlbiBwYXNzZXMgdGhlIHJlc3VsdCBvZiB0aGUgcHJldmlvdXMgc3RlcCBhcyB0aGUgaW5wdXQgdG8gdGhlIG5leHQgc3RlcC4KZnVuY3Rpb24gX3VwbG9hZEZpbGVzQ29udGludWUob3V0cHV0SWQpIHsKICBjb25zdCBvdXRwdXRFbGVtZW50ID0gZG9jdW1lbnQuZ2V0RWxlbWVudEJ5SWQob3V0cHV0SWQpOwogIGNvbnN0IHN0ZXBzID0gb3V0cHV0RWxlbWVudC5zdGVwczsKCiAgY29uc3QgbmV4dCA9IHN0ZXBzLm5leHQob3V0cHV0RWxlbWVudC5sYXN0UHJvbWlzZVZhbHVlKTsKICByZXR1cm4gUHJvbWlzZS5yZXNvbHZlKG5leHQudmFsdWUucHJvbWlzZSkudGhlbigodmFsdWUpID0+IHsKICAgIC8vIENhY2hlIHRoZSBsYXN0IHByb21pc2UgdmFsdWUgdG8gbWFrZSBpdCBhdmFpbGFibGUgdG8gdGhlIG5leHQKICAgIC8vIHN0ZXAgb2YgdGhlIGdlbmVyYXRvci4KICAgIG91dHB1dEVsZW1lbnQubGFzdFByb21pc2VWYWx1ZSA9IHZhbHVlOwogICAgcmV0dXJuIG5leHQudmFsdWUucmVzcG9uc2U7CiAgfSk7Cn0KCi8qKgogKiBHZW5lcmF0b3IgZnVuY3Rpb24gd2hpY2ggaXMgY2FsbGVkIGJldHdlZW4gZWFjaCBhc3luYyBzdGVwIG9mIHRoZSB1cGxvYWQKICogcHJvY2Vzcy4KICogQHBhcmFtIHtzdHJpbmd9IGlucHV0SWQgRWxlbWVudCBJRCBvZiB0aGUgaW5wdXQgZmlsZSBwaWNrZXIgZWxlbWVudC4KICogQHBhcmFtIHtzdHJpbmd9IG91dHB1dElkIEVsZW1lbnQgSUQgb2YgdGhlIG91dHB1dCBkaXNwbGF5LgogKiBAcmV0dXJuIHshSXRlcmFibGU8IU9iamVjdD59IEl0ZXJhYmxlIG9mIG5leHQgc3RlcHMuCiAqLwpmdW5jdGlvbiogdXBsb2FkRmlsZXNTdGVwKGlucHV0SWQsIG91dHB1dElkKSB7CiAgY29uc3QgaW5wdXRFbGVtZW50ID0gZG9jdW1lbnQuZ2V0RWxlbWVudEJ5SWQoaW5wdXRJZCk7CiAgaW5wdXRFbGVtZW50LmRpc2FibGVkID0gZmFsc2U7CgogIGNvbnN0IG91dHB1dEVsZW1lbnQgPSBkb2N1bWVudC5nZXRFbGVtZW50QnlJZChvdXRwdXRJZCk7CiAgb3V0cHV0RWxlbWVudC5pbm5lckhUTUwgPSAnJzsKCiAgY29uc3QgcGlja2VkUHJvbWlzZSA9IG5ldyBQcm9taXNlKChyZXNvbHZlKSA9PiB7CiAgICBpbnB1dEVsZW1lbnQuYWRkRXZlbnRMaXN0ZW5lcignY2hhbmdlJywgKGUpID0+IHsKICAgICAgcmVzb2x2ZShlLnRhcmdldC5maWxlcyk7CiAgICB9KTsKICB9KTsKCiAgY29uc3QgY2FuY2VsID0gZG9jdW1lbnQuY3JlYXRlRWxlbWVudCgnYnV0dG9uJyk7CiAgaW5wdXRFbGVtZW50LnBhcmVudEVsZW1lbnQuYXBwZW5kQ2hpbGQoY2FuY2VsKTsKICBjYW5jZWwudGV4dENvbnRlbnQgPSAnQ2FuY2VsIHVwbG9hZCc7CiAgY29uc3QgY2FuY2VsUHJvbWlzZSA9IG5ldyBQcm9taXNlKChyZXNvbHZlKSA9PiB7CiAgICBjYW5jZWwub25jbGljayA9ICgpID0+IHsKICAgICAgcmVzb2x2ZShudWxsKTsKICAgIH07CiAgfSk7CgogIC8vIENhbmNlbCB1cGxvYWQgaWYgdXNlciBoYXNuJ3QgcGlja2VkIGFueXRoaW5nIGluIHRpbWVvdXQuCiAgY29uc3QgdGltZW91dFByb21pc2UgPSBuZXcgUHJvbWlzZSgocmVzb2x2ZSkgPT4gewogICAgc2V0VGltZW91dCgoKSA9PiB7CiAgICAgIHJlc29sdmUobnVsbCk7CiAgICB9LCBGSUxFX0NIQU5HRV9USU1FT1VUX01TKTsKICB9KTsKCiAgLy8gV2FpdCBmb3IgdGhlIHVzZXIgdG8gcGljayB0aGUgZmlsZXMuCiAgY29uc3QgZmlsZXMgPSB5aWVsZCB7CiAgICBwcm9taXNlOiBQcm9taXNlLnJhY2UoW3BpY2tlZFByb21pc2UsIHRpbWVvdXRQcm9taXNlLCBjYW5jZWxQcm9taXNlXSksCiAgICByZXNwb25zZTogewogICAgICBhY3Rpb246ICdzdGFydGluZycsCiAgICB9CiAgfTsKCiAgaWYgKCFmaWxlcykgewogICAgcmV0dXJuIHsKICAgICAgcmVzcG9uc2U6IHsKICAgICAgICBhY3Rpb246ICdjb21wbGV0ZScsCiAgICAgIH0KICAgIH07CiAgfQoKICBjYW5jZWwucmVtb3ZlKCk7CgogIC8vIERpc2FibGUgdGhlIGlucHV0IGVsZW1lbnQgc2luY2UgZnVydGhlciBwaWNrcyBhcmUgbm90IGFsbG93ZWQuCiAgaW5wdXRFbGVtZW50LmRpc2FibGVkID0gdHJ1ZTsKCiAgZm9yIChjb25zdCBmaWxlIG9mIGZpbGVzKSB7CiAgICBjb25zdCBsaSA9IGRvY3VtZW50LmNyZWF0ZUVsZW1lbnQoJ2xpJyk7CiAgICBsaS5hcHBlbmQoc3BhbihmaWxlLm5hbWUsIHtmb250V2VpZ2h0OiAnYm9sZCd9KSk7CiAgICBsaS5hcHBlbmQoc3BhbigKICAgICAgICBgKCR7ZmlsZS50eXBlIHx8ICduL2EnfSkgLSAke2ZpbGUuc2l6ZX0gYnl0ZXMsIGAgKwogICAgICAgIGBsYXN0IG1vZGlmaWVkOiAkewogICAgICAgICAgICBmaWxlLmxhc3RNb2RpZmllZERhdGUgPyBmaWxlLmxhc3RNb2RpZmllZERhdGUudG9Mb2NhbGVEYXRlU3RyaW5nKCkgOgogICAgICAgICAgICAgICAgICAgICAgICAgICAgICAgICAgICAnbi9hJ30gLSBgKSk7CiAgICBjb25zdCBwZXJjZW50ID0gc3BhbignMCUgZG9uZScpOwogICAgbGkuYXBwZW5kQ2hpbGQocGVyY2VudCk7CgogICAgb3V0cHV0RWxlbWVudC5hcHBlbmRDaGlsZChsaSk7CgogICAgY29uc3QgZmlsZURhdGFQcm9taXNlID0gbmV3IFByb21pc2UoKHJlc29sdmUpID0+IHsKICAgICAgY29uc3QgcmVhZGVyID0gbmV3IEZpbGVSZWFkZXIoKTsKICAgICAgcmVhZGVyLm9ubG9hZCA9IChlKSA9PiB7CiAgICAgICAgcmVzb2x2ZShlLnRhcmdldC5yZXN1bHQpOwogICAgICB9OwogICAgICByZWFkZXIucmVhZEFzQXJyYXlCdWZmZXIoZmlsZSk7CiAgICB9KTsKICAgIC8vIFdhaXQgZm9yIHRoZSBkYXRhIHRvIGJlIHJlYWR5LgogICAgbGV0IGZpbGVEYXRhID0geWllbGQgewogICAgICBwcm9taXNlOiBmaWxlRGF0YVByb21pc2UsCiAgICAgIHJlc3BvbnNlOiB7CiAgICAgICAgYWN0aW9uOiAnY29udGludWUnLAogICAgICB9CiAgICB9OwoKICAgIC8vIFVzZSBhIGNodW5rZWQgc2VuZGluZyB0byBhdm9pZCBtZXNzYWdlIHNpemUgbGltaXRzLiBTZWUgYi82MjExNTY2MC4KICAgIGxldCBwb3NpdGlvbiA9IDA7CiAgICB3aGlsZSAocG9zaXRpb24gPCBmaWxlRGF0YS5ieXRlTGVuZ3RoKSB7CiAgICAgIGNvbnN0IGxlbmd0aCA9IE1hdGgubWluKGZpbGVEYXRhLmJ5dGVMZW5ndGggLSBwb3NpdGlvbiwgTUFYX1BBWUxPQURfU0laRSk7CiAgICAgIGNvbnN0IGNodW5rID0gbmV3IFVpbnQ4QXJyYXkoZmlsZURhdGEsIHBvc2l0aW9uLCBsZW5ndGgpOwogICAgICBwb3NpdGlvbiArPSBsZW5ndGg7CgogICAgICBjb25zdCBiYXNlNjQgPSBidG9hKFN0cmluZy5mcm9tQ2hhckNvZGUuYXBwbHkobnVsbCwgY2h1bmspKTsKICAgICAgeWllbGQgewogICAgICAgIHJlc3BvbnNlOiB7CiAgICAgICAgICBhY3Rpb246ICdhcHBlbmQnLAogICAgICAgICAgZmlsZTogZmlsZS5uYW1lLAogICAgICAgICAgZGF0YTogYmFzZTY0LAogICAgICAgIH0sCiAgICAgIH07CiAgICAgIHBlcmNlbnQudGV4dENvbnRlbnQgPQogICAgICAgICAgYCR7TWF0aC5yb3VuZCgocG9zaXRpb24gLyBmaWxlRGF0YS5ieXRlTGVuZ3RoKSAqIDEwMCl9JSBkb25lYDsKICAgIH0KICB9CgogIC8vIEFsbCBkb25lLgogIHlpZWxkIHsKICAgIHJlc3BvbnNlOiB7CiAgICAgIGFjdGlvbjogJ2NvbXBsZXRlJywKICAgIH0KICB9Owp9CgpzY29wZS5nb29nbGUgPSBzY29wZS5nb29nbGUgfHwge307CnNjb3BlLmdvb2dsZS5jb2xhYiA9IHNjb3BlLmdvb2dsZS5jb2xhYiB8fCB7fTsKc2NvcGUuZ29vZ2xlLmNvbGFiLl9maWxlcyA9IHsKICBfdXBsb2FkRmlsZXMsCiAgX3VwbG9hZEZpbGVzQ29udGludWUsCn07Cn0pKHNlbGYpOwo=",
              "ok": true,
              "headers": [
                [
                  "content-type",
                  "application/javascript"
                ]
              ],
              "status": 200,
              "status_text": "OK"
            }
          },
          "base_uri": "https://localhost:8080/",
          "height": 124
        },
        "outputId": "dced0fc8-3164-4724-807b-6ce33986d3c9"
      },
      "source": [
        "files.upload()"
      ],
      "execution_count": 8,
      "outputs": [
        {
          "output_type": "display_data",
          "data": {
            "text/html": [
              "\n",
              "     <input type=\"file\" id=\"files-2bcf1174-12ea-4efa-ba0d-eef111565e36\" name=\"files[]\" multiple disabled />\n",
              "     <output id=\"result-2bcf1174-12ea-4efa-ba0d-eef111565e36\">\n",
              "      Upload widget is only available when the cell has been executed in the\n",
              "      current browser session. Please rerun this cell to enable.\n",
              "      </output>\n",
              "      <script src=\"/nbextensions/google.colab/files.js\"></script> "
            ],
            "text/plain": [
              "<IPython.core.display.HTML object>"
            ]
          },
          "metadata": {
            "tags": []
          }
        },
        {
          "output_type": "stream",
          "text": [
            "Saving pima-indians-diabetes.csv to pima-indians-diabetes.csv\n"
          ],
          "name": "stdout"
        },
        {
          "output_type": "execute_result",
          "data": {
            "text/plain": [
              "{'pima-indians-diabetes.csv': b'6,148,72,35,0,33.6,0.627,50,1\\n1,85,66,29,0,26.6,0.351,31,0\\n8,183,64,0,0,23.3,0.672,32,1\\n1,89,66,23,94,28.1,0.167,21,0\\n0,137,40,35,168,43.1,2.288,33,1\\n5,116,74,0,0,25.6,0.201,30,0\\n3,78,50,32,88,31.0,0.248,26,1\\n10,115,0,0,0,35.3,0.134,29,0\\n2,197,70,45,543,30.5,0.158,53,1\\n8,125,96,0,0,0.0,0.232,54,1\\n4,110,92,0,0,37.6,0.191,30,0\\n10,168,74,0,0,38.0,0.537,34,1\\n10,139,80,0,0,27.1,1.441,57,0\\n1,189,60,23,846,30.1,0.398,59,1\\n5,166,72,19,175,25.8,0.587,51,1\\n7,100,0,0,0,30.0,0.484,32,1\\n0,118,84,47,230,45.8,0.551,31,1\\n7,107,74,0,0,29.6,0.254,31,1\\n1,103,30,38,83,43.3,0.183,33,0\\n1,115,70,30,96,34.6,0.529,32,1\\n3,126,88,41,235,39.3,0.704,27,0\\n8,99,84,0,0,35.4,0.388,50,0\\n7,196,90,0,0,39.8,0.451,41,1\\n9,119,80,35,0,29.0,0.263,29,1\\n11,143,94,33,146,36.6,0.254,51,1\\n10,125,70,26,115,31.1,0.205,41,1\\n7,147,76,0,0,39.4,0.257,43,1\\n1,97,66,15,140,23.2,0.487,22,0\\n13,145,82,19,110,22.2,0.245,57,0\\n5,117,92,0,0,34.1,0.337,38,0\\n5,109,75,26,0,36.0,0.546,60,0\\n3,158,76,36,245,31.6,0.851,28,1\\n3,88,58,11,54,24.8,0.267,22,0\\n6,92,92,0,0,19.9,0.188,28,0\\n10,122,78,31,0,27.6,0.512,45,0\\n4,103,60,33,192,24.0,0.966,33,0\\n11,138,76,0,0,33.2,0.420,35,0\\n9,102,76,37,0,32.9,0.665,46,1\\n2,90,68,42,0,38.2,0.503,27,1\\n4,111,72,47,207,37.1,1.390,56,1\\n3,180,64,25,70,34.0,0.271,26,0\\n7,133,84,0,0,40.2,0.696,37,0\\n7,106,92,18,0,22.7,0.235,48,0\\n9,171,110,24,240,45.4,0.721,54,1\\n7,159,64,0,0,27.4,0.294,40,0\\n0,180,66,39,0,42.0,1.893,25,1\\n1,146,56,0,0,29.7,0.564,29,0\\n2,71,70,27,0,28.0,0.586,22,0\\n7,103,66,32,0,39.1,0.344,31,1\\n7,105,0,0,0,0.0,0.305,24,0\\n1,103,80,11,82,19.4,0.491,22,0\\n1,101,50,15,36,24.2,0.526,26,0\\n5,88,66,21,23,24.4,0.342,30,0\\n8,176,90,34,300,33.7,0.467,58,1\\n7,150,66,42,342,34.7,0.718,42,0\\n1,73,50,10,0,23.0,0.248,21,0\\n7,187,68,39,304,37.7,0.254,41,1\\n0,100,88,60,110,46.8,0.962,31,0\\n0,146,82,0,0,40.5,1.781,44,0\\n0,105,64,41,142,41.5,0.173,22,0\\n2,84,0,0,0,0.0,0.304,21,0\\n8,133,72,0,0,32.9,0.270,39,1\\n5,44,62,0,0,25.0,0.587,36,0\\n2,141,58,34,128,25.4,0.699,24,0\\n7,114,66,0,0,32.8,0.258,42,1\\n5,99,74,27,0,29.0,0.203,32,0\\n0,109,88,30,0,32.5,0.855,38,1\\n2,109,92,0,0,42.7,0.845,54,0\\n1,95,66,13,38,19.6,0.334,25,0\\n4,146,85,27,100,28.9,0.189,27,0\\n2,100,66,20,90,32.9,0.867,28,1\\n5,139,64,35,140,28.6,0.411,26,0\\n13,126,90,0,0,43.4,0.583,42,1\\n4,129,86,20,270,35.1,0.231,23,0\\n1,79,75,30,0,32.0,0.396,22,0\\n1,0,48,20,0,24.7,0.140,22,0\\n7,62,78,0,0,32.6,0.391,41,0\\n5,95,72,33,0,37.7,0.370,27,0\\n0,131,0,0,0,43.2,0.270,26,1\\n2,112,66,22,0,25.0,0.307,24,0\\n3,113,44,13,0,22.4,0.140,22,0\\n2,74,0,0,0,0.0,0.102,22,0\\n7,83,78,26,71,29.3,0.767,36,0\\n0,101,65,28,0,24.6,0.237,22,0\\n5,137,108,0,0,48.8,0.227,37,1\\n2,110,74,29,125,32.4,0.698,27,0\\n13,106,72,54,0,36.6,0.178,45,0\\n2,100,68,25,71,38.5,0.324,26,0\\n15,136,70,32,110,37.1,0.153,43,1\\n1,107,68,19,0,26.5,0.165,24,0\\n1,80,55,0,0,19.1,0.258,21,0\\n4,123,80,15,176,32.0,0.443,34,0\\n7,81,78,40,48,46.7,0.261,42,0\\n4,134,72,0,0,23.8,0.277,60,1\\n2,142,82,18,64,24.7,0.761,21,0\\n6,144,72,27,228,33.9,0.255,40,0\\n2,92,62,28,0,31.6,0.130,24,0\\n1,71,48,18,76,20.4,0.323,22,0\\n6,93,50,30,64,28.7,0.356,23,0\\n1,122,90,51,220,49.7,0.325,31,1\\n1,163,72,0,0,39.0,1.222,33,1\\n1,151,60,0,0,26.1,0.179,22,0\\n0,125,96,0,0,22.5,0.262,21,0\\n1,81,72,18,40,26.6,0.283,24,0\\n2,85,65,0,0,39.6,0.930,27,0\\n1,126,56,29,152,28.7,0.801,21,0\\n1,96,122,0,0,22.4,0.207,27,0\\n4,144,58,28,140,29.5,0.287,37,0\\n3,83,58,31,18,34.3,0.336,25,0\\n0,95,85,25,36,37.4,0.247,24,1\\n3,171,72,33,135,33.3,0.199,24,1\\n8,155,62,26,495,34.0,0.543,46,1\\n1,89,76,34,37,31.2,0.192,23,0\\n4,76,62,0,0,34.0,0.391,25,0\\n7,160,54,32,175,30.5,0.588,39,1\\n4,146,92,0,0,31.2,0.539,61,1\\n5,124,74,0,0,34.0,0.220,38,1\\n5,78,48,0,0,33.7,0.654,25,0\\n4,97,60,23,0,28.2,0.443,22,0\\n4,99,76,15,51,23.2,0.223,21,0\\n0,162,76,56,100,53.2,0.759,25,1\\n6,111,64,39,0,34.2,0.260,24,0\\n2,107,74,30,100,33.6,0.404,23,0\\n5,132,80,0,0,26.8,0.186,69,0\\n0,113,76,0,0,33.3,0.278,23,1\\n1,88,30,42,99,55.0,0.496,26,1\\n3,120,70,30,135,42.9,0.452,30,0\\n1,118,58,36,94,33.3,0.261,23,0\\n1,117,88,24,145,34.5,0.403,40,1\\n0,105,84,0,0,27.9,0.741,62,1\\n4,173,70,14,168,29.7,0.361,33,1\\n9,122,56,0,0,33.3,1.114,33,1\\n3,170,64,37,225,34.5,0.356,30,1\\n8,84,74,31,0,38.3,0.457,39,0\\n2,96,68,13,49,21.1,0.647,26,0\\n2,125,60,20,140,33.8,0.088,31,0\\n0,100,70,26,50,30.8,0.597,21,0\\n0,93,60,25,92,28.7,0.532,22,0\\n0,129,80,0,0,31.2,0.703,29,0\\n5,105,72,29,325,36.9,0.159,28,0\\n3,128,78,0,0,21.1,0.268,55,0\\n5,106,82,30,0,39.5,0.286,38,0\\n2,108,52,26,63,32.5,0.318,22,0\\n10,108,66,0,0,32.4,0.272,42,1\\n4,154,62,31,284,32.8,0.237,23,0\\n0,102,75,23,0,0.0,0.572,21,0\\n9,57,80,37,0,32.8,0.096,41,0\\n2,106,64,35,119,30.5,1.400,34,0\\n5,147,78,0,0,33.7,0.218,65,0\\n2,90,70,17,0,27.3,0.085,22,0\\n1,136,74,50,204,37.4,0.399,24,0\\n4,114,65,0,0,21.9,0.432,37,0\\n9,156,86,28,155,34.3,1.189,42,1\\n1,153,82,42,485,40.6,0.687,23,0\\n8,188,78,0,0,47.9,0.137,43,1\\n7,152,88,44,0,50.0,0.337,36,1\\n2,99,52,15,94,24.6,0.637,21,0\\n1,109,56,21,135,25.2,0.833,23,0\\n2,88,74,19,53,29.0,0.229,22,0\\n17,163,72,41,114,40.9,0.817,47,1\\n4,151,90,38,0,29.7,0.294,36,0\\n7,102,74,40,105,37.2,0.204,45,0\\n0,114,80,34,285,44.2,0.167,27,0\\n2,100,64,23,0,29.7,0.368,21,0\\n0,131,88,0,0,31.6,0.743,32,1\\n6,104,74,18,156,29.9,0.722,41,1\\n3,148,66,25,0,32.5,0.256,22,0\\n4,120,68,0,0,29.6,0.709,34,0\\n4,110,66,0,0,31.9,0.471,29,0\\n3,111,90,12,78,28.4,0.495,29,0\\n6,102,82,0,0,30.8,0.180,36,1\\n6,134,70,23,130,35.4,0.542,29,1\\n2,87,0,23,0,28.9,0.773,25,0\\n1,79,60,42,48,43.5,0.678,23,0\\n2,75,64,24,55,29.7,0.370,33,0\\n8,179,72,42,130,32.7,0.719,36,1\\n6,85,78,0,0,31.2,0.382,42,0\\n0,129,110,46,130,67.1,0.319,26,1\\n5,143,78,0,0,45.0,0.190,47,0\\n5,130,82,0,0,39.1,0.956,37,1\\n6,87,80,0,0,23.2,0.084,32,0\\n0,119,64,18,92,34.9,0.725,23,0\\n1,0,74,20,23,27.7,0.299,21,0\\n5,73,60,0,0,26.8,0.268,27,0\\n4,141,74,0,0,27.6,0.244,40,0\\n7,194,68,28,0,35.9,0.745,41,1\\n8,181,68,36,495,30.1,0.615,60,1\\n1,128,98,41,58,32.0,1.321,33,1\\n8,109,76,39,114,27.9,0.640,31,1\\n5,139,80,35,160,31.6,0.361,25,1\\n3,111,62,0,0,22.6,0.142,21,0\\n9,123,70,44,94,33.1,0.374,40,0\\n7,159,66,0,0,30.4,0.383,36,1\\n11,135,0,0,0,52.3,0.578,40,1\\n8,85,55,20,0,24.4,0.136,42,0\\n5,158,84,41,210,39.4,0.395,29,1\\n1,105,58,0,0,24.3,0.187,21,0\\n3,107,62,13,48,22.9,0.678,23,1\\n4,109,64,44,99,34.8,0.905,26,1\\n4,148,60,27,318,30.9,0.150,29,1\\n0,113,80,16,0,31.0,0.874,21,0\\n1,138,82,0,0,40.1,0.236,28,0\\n0,108,68,20,0,27.3,0.787,32,0\\n2,99,70,16,44,20.4,0.235,27,0\\n6,103,72,32,190,37.7,0.324,55,0\\n5,111,72,28,0,23.9,0.407,27,0\\n8,196,76,29,280,37.5,0.605,57,1\\n5,162,104,0,0,37.7,0.151,52,1\\n1,96,64,27,87,33.2,0.289,21,0\\n7,184,84,33,0,35.5,0.355,41,1\\n2,81,60,22,0,27.7,0.290,25,0\\n0,147,85,54,0,42.8,0.375,24,0\\n7,179,95,31,0,34.2,0.164,60,0\\n0,140,65,26,130,42.6,0.431,24,1\\n9,112,82,32,175,34.2,0.260,36,1\\n12,151,70,40,271,41.8,0.742,38,1\\n5,109,62,41,129,35.8,0.514,25,1\\n6,125,68,30,120,30.0,0.464,32,0\\n5,85,74,22,0,29.0,1.224,32,1\\n5,112,66,0,0,37.8,0.261,41,1\\n0,177,60,29,478,34.6,1.072,21,1\\n2,158,90,0,0,31.6,0.805,66,1\\n7,119,0,0,0,25.2,0.209,37,0\\n7,142,60,33,190,28.8,0.687,61,0\\n1,100,66,15,56,23.6,0.666,26,0\\n1,87,78,27,32,34.6,0.101,22,0\\n0,101,76,0,0,35.7,0.198,26,0\\n3,162,52,38,0,37.2,0.652,24,1\\n4,197,70,39,744,36.7,2.329,31,0\\n0,117,80,31,53,45.2,0.089,24,0\\n4,142,86,0,0,44.0,0.645,22,1\\n6,134,80,37,370,46.2,0.238,46,1\\n1,79,80,25,37,25.4,0.583,22,0\\n4,122,68,0,0,35.0,0.394,29,0\\n3,74,68,28,45,29.7,0.293,23,0\\n4,171,72,0,0,43.6,0.479,26,1\\n7,181,84,21,192,35.9,0.586,51,1\\n0,179,90,27,0,44.1,0.686,23,1\\n9,164,84,21,0,30.8,0.831,32,1\\n0,104,76,0,0,18.4,0.582,27,0\\n1,91,64,24,0,29.2,0.192,21,0\\n4,91,70,32,88,33.1,0.446,22,0\\n3,139,54,0,0,25.6,0.402,22,1\\n6,119,50,22,176,27.1,1.318,33,1\\n2,146,76,35,194,38.2,0.329,29,0\\n9,184,85,15,0,30.0,1.213,49,1\\n10,122,68,0,0,31.2,0.258,41,0\\n0,165,90,33,680,52.3,0.427,23,0\\n9,124,70,33,402,35.4,0.282,34,0\\n1,111,86,19,0,30.1,0.143,23,0\\n9,106,52,0,0,31.2,0.380,42,0\\n2,129,84,0,0,28.0,0.284,27,0\\n2,90,80,14,55,24.4,0.249,24,0\\n0,86,68,32,0,35.8,0.238,25,0\\n12,92,62,7,258,27.6,0.926,44,1\\n1,113,64,35,0,33.6,0.543,21,1\\n3,111,56,39,0,30.1,0.557,30,0\\n2,114,68,22,0,28.7,0.092,25,0\\n1,193,50,16,375,25.9,0.655,24,0\\n11,155,76,28,150,33.3,1.353,51,1\\n3,191,68,15,130,30.9,0.299,34,0\\n3,141,0,0,0,30.0,0.761,27,1\\n4,95,70,32,0,32.1,0.612,24,0\\n3,142,80,15,0,32.4,0.200,63,0\\n4,123,62,0,0,32.0,0.226,35,1\\n5,96,74,18,67,33.6,0.997,43,0\\n0,138,0,0,0,36.3,0.933,25,1\\n2,128,64,42,0,40.0,1.101,24,0\\n0,102,52,0,0,25.1,0.078,21,0\\n2,146,0,0,0,27.5,0.240,28,1\\n10,101,86,37,0,45.6,1.136,38,1\\n2,108,62,32,56,25.2,0.128,21,0\\n3,122,78,0,0,23.0,0.254,40,0\\n1,71,78,50,45,33.2,0.422,21,0\\n13,106,70,0,0,34.2,0.251,52,0\\n2,100,70,52,57,40.5,0.677,25,0\\n7,106,60,24,0,26.5,0.296,29,1\\n0,104,64,23,116,27.8,0.454,23,0\\n5,114,74,0,0,24.9,0.744,57,0\\n2,108,62,10,278,25.3,0.881,22,0\\n0,146,70,0,0,37.9,0.334,28,1\\n10,129,76,28,122,35.9,0.280,39,0\\n7,133,88,15,155,32.4,0.262,37,0\\n7,161,86,0,0,30.4,0.165,47,1\\n2,108,80,0,0,27.0,0.259,52,1\\n7,136,74,26,135,26.0,0.647,51,0\\n5,155,84,44,545,38.7,0.619,34,0\\n1,119,86,39,220,45.6,0.808,29,1\\n4,96,56,17,49,20.8,0.340,26,0\\n5,108,72,43,75,36.1,0.263,33,0\\n0,78,88,29,40,36.9,0.434,21,0\\n0,107,62,30,74,36.6,0.757,25,1\\n2,128,78,37,182,43.3,1.224,31,1\\n1,128,48,45,194,40.5,0.613,24,1\\n0,161,50,0,0,21.9,0.254,65,0\\n6,151,62,31,120,35.5,0.692,28,0\\n2,146,70,38,360,28.0,0.337,29,1\\n0,126,84,29,215,30.7,0.520,24,0\\n14,100,78,25,184,36.6,0.412,46,1\\n8,112,72,0,0,23.6,0.840,58,0\\n0,167,0,0,0,32.3,0.839,30,1\\n2,144,58,33,135,31.6,0.422,25,1\\n5,77,82,41,42,35.8,0.156,35,0\\n5,115,98,0,0,52.9,0.209,28,1\\n3,150,76,0,0,21.0,0.207,37,0\\n2,120,76,37,105,39.7,0.215,29,0\\n10,161,68,23,132,25.5,0.326,47,1\\n0,137,68,14,148,24.8,0.143,21,0\\n0,128,68,19,180,30.5,1.391,25,1\\n2,124,68,28,205,32.9,0.875,30,1\\n6,80,66,30,0,26.2,0.313,41,0\\n0,106,70,37,148,39.4,0.605,22,0\\n2,155,74,17,96,26.6,0.433,27,1\\n3,113,50,10,85,29.5,0.626,25,0\\n7,109,80,31,0,35.9,1.127,43,1\\n2,112,68,22,94,34.1,0.315,26,0\\n3,99,80,11,64,19.3,0.284,30,0\\n3,182,74,0,0,30.5,0.345,29,1\\n3,115,66,39,140,38.1,0.150,28,0\\n6,194,78,0,0,23.5,0.129,59,1\\n4,129,60,12,231,27.5,0.527,31,0\\n3,112,74,30,0,31.6,0.197,25,1\\n0,124,70,20,0,27.4,0.254,36,1\\n13,152,90,33,29,26.8,0.731,43,1\\n2,112,75,32,0,35.7,0.148,21,0\\n1,157,72,21,168,25.6,0.123,24,0\\n1,122,64,32,156,35.1,0.692,30,1\\n10,179,70,0,0,35.1,0.200,37,0\\n2,102,86,36,120,45.5,0.127,23,1\\n6,105,70,32,68,30.8,0.122,37,0\\n8,118,72,19,0,23.1,1.476,46,0\\n2,87,58,16,52,32.7,0.166,25,0\\n1,180,0,0,0,43.3,0.282,41,1\\n12,106,80,0,0,23.6,0.137,44,0\\n1,95,60,18,58,23.9,0.260,22,0\\n0,165,76,43,255,47.9,0.259,26,0\\n0,117,0,0,0,33.8,0.932,44,0\\n5,115,76,0,0,31.2,0.343,44,1\\n9,152,78,34,171,34.2,0.893,33,1\\n7,178,84,0,0,39.9,0.331,41,1\\n1,130,70,13,105,25.9,0.472,22,0\\n1,95,74,21,73,25.9,0.673,36,0\\n1,0,68,35,0,32.0,0.389,22,0\\n5,122,86,0,0,34.7,0.290,33,0\\n8,95,72,0,0,36.8,0.485,57,0\\n8,126,88,36,108,38.5,0.349,49,0\\n1,139,46,19,83,28.7,0.654,22,0\\n3,116,0,0,0,23.5,0.187,23,0\\n3,99,62,19,74,21.8,0.279,26,0\\n5,0,80,32,0,41.0,0.346,37,1\\n4,92,80,0,0,42.2,0.237,29,0\\n4,137,84,0,0,31.2,0.252,30,0\\n3,61,82,28,0,34.4,0.243,46,0\\n1,90,62,12,43,27.2,0.580,24,0\\n3,90,78,0,0,42.7,0.559,21,0\\n9,165,88,0,0,30.4,0.302,49,1\\n1,125,50,40,167,33.3,0.962,28,1\\n13,129,0,30,0,39.9,0.569,44,1\\n12,88,74,40,54,35.3,0.378,48,0\\n1,196,76,36,249,36.5,0.875,29,1\\n5,189,64,33,325,31.2,0.583,29,1\\n5,158,70,0,0,29.8,0.207,63,0\\n5,103,108,37,0,39.2,0.305,65,0\\n4,146,78,0,0,38.5,0.520,67,1\\n4,147,74,25,293,34.9,0.385,30,0\\n5,99,54,28,83,34.0,0.499,30,0\\n6,124,72,0,0,27.6,0.368,29,1\\n0,101,64,17,0,21.0,0.252,21,0\\n3,81,86,16,66,27.5,0.306,22,0\\n1,133,102,28,140,32.8,0.234,45,1\\n3,173,82,48,465,38.4,2.137,25,1\\n0,118,64,23,89,0.0,1.731,21,0\\n0,84,64,22,66,35.8,0.545,21,0\\n2,105,58,40,94,34.9,0.225,25,0\\n2,122,52,43,158,36.2,0.816,28,0\\n12,140,82,43,325,39.2,0.528,58,1\\n0,98,82,15,84,25.2,0.299,22,0\\n1,87,60,37,75,37.2,0.509,22,0\\n4,156,75,0,0,48.3,0.238,32,1\\n0,93,100,39,72,43.4,1.021,35,0\\n1,107,72,30,82,30.8,0.821,24,0\\n0,105,68,22,0,20.0,0.236,22,0\\n1,109,60,8,182,25.4,0.947,21,0\\n1,90,62,18,59,25.1,1.268,25,0\\n1,125,70,24,110,24.3,0.221,25,0\\n1,119,54,13,50,22.3,0.205,24,0\\n5,116,74,29,0,32.3,0.660,35,1\\n8,105,100,36,0,43.3,0.239,45,1\\n5,144,82,26,285,32.0,0.452,58,1\\n3,100,68,23,81,31.6,0.949,28,0\\n1,100,66,29,196,32.0,0.444,42,0\\n5,166,76,0,0,45.7,0.340,27,1\\n1,131,64,14,415,23.7,0.389,21,0\\n4,116,72,12,87,22.1,0.463,37,0\\n4,158,78,0,0,32.9,0.803,31,1\\n2,127,58,24,275,27.7,1.600,25,0\\n3,96,56,34,115,24.7,0.944,39,0\\n0,131,66,40,0,34.3,0.196,22,1\\n3,82,70,0,0,21.1,0.389,25,0\\n3,193,70,31,0,34.9,0.241,25,1\\n4,95,64,0,0,32.0,0.161,31,1\\n6,137,61,0,0,24.2,0.151,55,0\\n5,136,84,41,88,35.0,0.286,35,1\\n9,72,78,25,0,31.6,0.280,38,0\\n5,168,64,0,0,32.9,0.135,41,1\\n2,123,48,32,165,42.1,0.520,26,0\\n4,115,72,0,0,28.9,0.376,46,1\\n0,101,62,0,0,21.9,0.336,25,0\\n8,197,74,0,0,25.9,1.191,39,1\\n1,172,68,49,579,42.4,0.702,28,1\\n6,102,90,39,0,35.7,0.674,28,0\\n1,112,72,30,176,34.4,0.528,25,0\\n1,143,84,23,310,42.4,1.076,22,0\\n1,143,74,22,61,26.2,0.256,21,0\\n0,138,60,35,167,34.6,0.534,21,1\\n3,173,84,33,474,35.7,0.258,22,1\\n1,97,68,21,0,27.2,1.095,22,0\\n4,144,82,32,0,38.5,0.554,37,1\\n1,83,68,0,0,18.2,0.624,27,0\\n3,129,64,29,115,26.4,0.219,28,1\\n1,119,88,41,170,45.3,0.507,26,0\\n2,94,68,18,76,26.0,0.561,21,0\\n0,102,64,46,78,40.6,0.496,21,0\\n2,115,64,22,0,30.8,0.421,21,0\\n8,151,78,32,210,42.9,0.516,36,1\\n4,184,78,39,277,37.0,0.264,31,1\\n0,94,0,0,0,0.0,0.256,25,0\\n1,181,64,30,180,34.1,0.328,38,1\\n0,135,94,46,145,40.6,0.284,26,0\\n1,95,82,25,180,35.0,0.233,43,1\\n2,99,0,0,0,22.2,0.108,23,0\\n3,89,74,16,85,30.4,0.551,38,0\\n1,80,74,11,60,30.0,0.527,22,0\\n2,139,75,0,0,25.6,0.167,29,0\\n1,90,68,8,0,24.5,1.138,36,0\\n0,141,0,0,0,42.4,0.205,29,1\\n12,140,85,33,0,37.4,0.244,41,0\\n5,147,75,0,0,29.9,0.434,28,0\\n1,97,70,15,0,18.2,0.147,21,0\\n6,107,88,0,0,36.8,0.727,31,0\\n0,189,104,25,0,34.3,0.435,41,1\\n2,83,66,23,50,32.2,0.497,22,0\\n4,117,64,27,120,33.2,0.230,24,0\\n8,108,70,0,0,30.5,0.955,33,1\\n4,117,62,12,0,29.7,0.380,30,1\\n0,180,78,63,14,59.4,2.420,25,1\\n1,100,72,12,70,25.3,0.658,28,0\\n0,95,80,45,92,36.5,0.330,26,0\\n0,104,64,37,64,33.6,0.510,22,1\\n0,120,74,18,63,30.5,0.285,26,0\\n1,82,64,13,95,21.2,0.415,23,0\\n2,134,70,0,0,28.9,0.542,23,1\\n0,91,68,32,210,39.9,0.381,25,0\\n2,119,0,0,0,19.6,0.832,72,0\\n2,100,54,28,105,37.8,0.498,24,0\\n14,175,62,30,0,33.6,0.212,38,1\\n1,135,54,0,0,26.7,0.687,62,0\\n5,86,68,28,71,30.2,0.364,24,0\\n10,148,84,48,237,37.6,1.001,51,1\\n9,134,74,33,60,25.9,0.460,81,0\\n9,120,72,22,56,20.8,0.733,48,0\\n1,71,62,0,0,21.8,0.416,26,0\\n8,74,70,40,49,35.3,0.705,39,0\\n5,88,78,30,0,27.6,0.258,37,0\\n10,115,98,0,0,24.0,1.022,34,0\\n0,124,56,13,105,21.8,0.452,21,0\\n0,74,52,10,36,27.8,0.269,22,0\\n0,97,64,36,100,36.8,0.600,25,0\\n8,120,0,0,0,30.0,0.183,38,1\\n6,154,78,41,140,46.1,0.571,27,0\\n1,144,82,40,0,41.3,0.607,28,0\\n0,137,70,38,0,33.2,0.170,22,0\\n0,119,66,27,0,38.8,0.259,22,0\\n7,136,90,0,0,29.9,0.210,50,0\\n4,114,64,0,0,28.9,0.126,24,0\\n0,137,84,27,0,27.3,0.231,59,0\\n2,105,80,45,191,33.7,0.711,29,1\\n7,114,76,17,110,23.8,0.466,31,0\\n8,126,74,38,75,25.9,0.162,39,0\\n4,132,86,31,0,28.0,0.419,63,0\\n3,158,70,30,328,35.5,0.344,35,1\\n0,123,88,37,0,35.2,0.197,29,0\\n4,85,58,22,49,27.8,0.306,28,0\\n0,84,82,31,125,38.2,0.233,23,0\\n0,145,0,0,0,44.2,0.630,31,1\\n0,135,68,42,250,42.3,0.365,24,1\\n1,139,62,41,480,40.7,0.536,21,0\\n0,173,78,32,265,46.5,1.159,58,0\\n4,99,72,17,0,25.6,0.294,28,0\\n8,194,80,0,0,26.1,0.551,67,0\\n2,83,65,28,66,36.8,0.629,24,0\\n2,89,90,30,0,33.5,0.292,42,0\\n4,99,68,38,0,32.8,0.145,33,0\\n4,125,70,18,122,28.9,1.144,45,1\\n3,80,0,0,0,0.0,0.174,22,0\\n6,166,74,0,0,26.6,0.304,66,0\\n5,110,68,0,0,26.0,0.292,30,0\\n2,81,72,15,76,30.1,0.547,25,0\\n7,195,70,33,145,25.1,0.163,55,1\\n6,154,74,32,193,29.3,0.839,39,0\\n2,117,90,19,71,25.2,0.313,21,0\\n3,84,72,32,0,37.2,0.267,28,0\\n6,0,68,41,0,39.0,0.727,41,1\\n7,94,64,25,79,33.3,0.738,41,0\\n3,96,78,39,0,37.3,0.238,40,0\\n10,75,82,0,0,33.3,0.263,38,0\\n0,180,90,26,90,36.5,0.314,35,1\\n1,130,60,23,170,28.6,0.692,21,0\\n2,84,50,23,76,30.4,0.968,21,0\\n8,120,78,0,0,25.0,0.409,64,0\\n12,84,72,31,0,29.7,0.297,46,1\\n0,139,62,17,210,22.1,0.207,21,0\\n9,91,68,0,0,24.2,0.200,58,0\\n2,91,62,0,0,27.3,0.525,22,0\\n3,99,54,19,86,25.6,0.154,24,0\\n3,163,70,18,105,31.6,0.268,28,1\\n9,145,88,34,165,30.3,0.771,53,1\\n7,125,86,0,0,37.6,0.304,51,0\\n13,76,60,0,0,32.8,0.180,41,0\\n6,129,90,7,326,19.6,0.582,60,0\\n2,68,70,32,66,25.0,0.187,25,0\\n3,124,80,33,130,33.2,0.305,26,0\\n6,114,0,0,0,0.0,0.189,26,0\\n9,130,70,0,0,34.2,0.652,45,1\\n3,125,58,0,0,31.6,0.151,24,0\\n3,87,60,18,0,21.8,0.444,21,0\\n1,97,64,19,82,18.2,0.299,21,0\\n3,116,74,15,105,26.3,0.107,24,0\\n0,117,66,31,188,30.8,0.493,22,0\\n0,111,65,0,0,24.6,0.660,31,0\\n2,122,60,18,106,29.8,0.717,22,0\\n0,107,76,0,0,45.3,0.686,24,0\\n1,86,66,52,65,41.3,0.917,29,0\\n6,91,0,0,0,29.8,0.501,31,0\\n1,77,56,30,56,33.3,1.251,24,0\\n4,132,0,0,0,32.9,0.302,23,1\\n0,105,90,0,0,29.6,0.197,46,0\\n0,57,60,0,0,21.7,0.735,67,0\\n0,127,80,37,210,36.3,0.804,23,0\\n3,129,92,49,155,36.4,0.968,32,1\\n8,100,74,40,215,39.4,0.661,43,1\\n3,128,72,25,190,32.4,0.549,27,1\\n10,90,85,32,0,34.9,0.825,56,1\\n4,84,90,23,56,39.5,0.159,25,0\\n1,88,78,29,76,32.0,0.365,29,0\\n8,186,90,35,225,34.5,0.423,37,1\\n5,187,76,27,207,43.6,1.034,53,1\\n4,131,68,21,166,33.1,0.160,28,0\\n1,164,82,43,67,32.8,0.341,50,0\\n4,189,110,31,0,28.5,0.680,37,0\\n1,116,70,28,0,27.4,0.204,21,0\\n3,84,68,30,106,31.9,0.591,25,0\\n6,114,88,0,0,27.8,0.247,66,0\\n1,88,62,24,44,29.9,0.422,23,0\\n1,84,64,23,115,36.9,0.471,28,0\\n7,124,70,33,215,25.5,0.161,37,0\\n1,97,70,40,0,38.1,0.218,30,0\\n8,110,76,0,0,27.8,0.237,58,0\\n11,103,68,40,0,46.2,0.126,42,0\\n11,85,74,0,0,30.1,0.300,35,0\\n6,125,76,0,0,33.8,0.121,54,1\\n0,198,66,32,274,41.3,0.502,28,1\\n1,87,68,34,77,37.6,0.401,24,0\\n6,99,60,19,54,26.9,0.497,32,0\\n0,91,80,0,0,32.4,0.601,27,0\\n2,95,54,14,88,26.1,0.748,22,0\\n1,99,72,30,18,38.6,0.412,21,0\\n6,92,62,32,126,32.0,0.085,46,0\\n4,154,72,29,126,31.3,0.338,37,0\\n0,121,66,30,165,34.3,0.203,33,1\\n3,78,70,0,0,32.5,0.270,39,0\\n2,130,96,0,0,22.6,0.268,21,0\\n3,111,58,31,44,29.5,0.430,22,0\\n2,98,60,17,120,34.7,0.198,22,0\\n1,143,86,30,330,30.1,0.892,23,0\\n1,119,44,47,63,35.5,0.280,25,0\\n6,108,44,20,130,24.0,0.813,35,0\\n2,118,80,0,0,42.9,0.693,21,1\\n10,133,68,0,0,27.0,0.245,36,0\\n2,197,70,99,0,34.7,0.575,62,1\\n0,151,90,46,0,42.1,0.371,21,1\\n6,109,60,27,0,25.0,0.206,27,0\\n12,121,78,17,0,26.5,0.259,62,0\\n8,100,76,0,0,38.7,0.190,42,0\\n8,124,76,24,600,28.7,0.687,52,1\\n1,93,56,11,0,22.5,0.417,22,0\\n8,143,66,0,0,34.9,0.129,41,1\\n6,103,66,0,0,24.3,0.249,29,0\\n3,176,86,27,156,33.3,1.154,52,1\\n0,73,0,0,0,21.1,0.342,25,0\\n11,111,84,40,0,46.8,0.925,45,1\\n2,112,78,50,140,39.4,0.175,24,0\\n3,132,80,0,0,34.4,0.402,44,1\\n2,82,52,22,115,28.5,1.699,25,0\\n6,123,72,45,230,33.6,0.733,34,0\\n0,188,82,14,185,32.0,0.682,22,1\\n0,67,76,0,0,45.3,0.194,46,0\\n1,89,24,19,25,27.8,0.559,21,0\\n1,173,74,0,0,36.8,0.088,38,1\\n1,109,38,18,120,23.1,0.407,26,0\\n1,108,88,19,0,27.1,0.400,24,0\\n6,96,0,0,0,23.7,0.190,28,0\\n1,124,74,36,0,27.8,0.100,30,0\\n7,150,78,29,126,35.2,0.692,54,1\\n4,183,0,0,0,28.4,0.212,36,1\\n1,124,60,32,0,35.8,0.514,21,0\\n1,181,78,42,293,40.0,1.258,22,1\\n1,92,62,25,41,19.5,0.482,25,0\\n0,152,82,39,272,41.5,0.270,27,0\\n1,111,62,13,182,24.0,0.138,23,0\\n3,106,54,21,158,30.9,0.292,24,0\\n3,174,58,22,194,32.9,0.593,36,1\\n7,168,88,42,321,38.2,0.787,40,1\\n6,105,80,28,0,32.5,0.878,26,0\\n11,138,74,26,144,36.1,0.557,50,1\\n3,106,72,0,0,25.8,0.207,27,0\\n6,117,96,0,0,28.7,0.157,30,0\\n2,68,62,13,15,20.1,0.257,23,0\\n9,112,82,24,0,28.2,1.282,50,1\\n0,119,0,0,0,32.4,0.141,24,1\\n2,112,86,42,160,38.4,0.246,28,0\\n2,92,76,20,0,24.2,1.698,28,0\\n6,183,94,0,0,40.8,1.461,45,0\\n0,94,70,27,115,43.5,0.347,21,0\\n2,108,64,0,0,30.8,0.158,21,0\\n4,90,88,47,54,37.7,0.362,29,0\\n0,125,68,0,0,24.7,0.206,21,0\\n0,132,78,0,0,32.4,0.393,21,0\\n5,128,80,0,0,34.6,0.144,45,0\\n4,94,65,22,0,24.7,0.148,21,0\\n7,114,64,0,0,27.4,0.732,34,1\\n0,102,78,40,90,34.5,0.238,24,0\\n2,111,60,0,0,26.2,0.343,23,0\\n1,128,82,17,183,27.5,0.115,22,0\\n10,92,62,0,0,25.9,0.167,31,0\\n13,104,72,0,0,31.2,0.465,38,1\\n5,104,74,0,0,28.8,0.153,48,0\\n2,94,76,18,66,31.6,0.649,23,0\\n7,97,76,32,91,40.9,0.871,32,1\\n1,100,74,12,46,19.5,0.149,28,0\\n0,102,86,17,105,29.3,0.695,27,0\\n4,128,70,0,0,34.3,0.303,24,0\\n6,147,80,0,0,29.5,0.178,50,1\\n4,90,0,0,0,28.0,0.610,31,0\\n3,103,72,30,152,27.6,0.730,27,0\\n2,157,74,35,440,39.4,0.134,30,0\\n1,167,74,17,144,23.4,0.447,33,1\\n0,179,50,36,159,37.8,0.455,22,1\\n11,136,84,35,130,28.3,0.260,42,1\\n0,107,60,25,0,26.4,0.133,23,0\\n1,91,54,25,100,25.2,0.234,23,0\\n1,117,60,23,106,33.8,0.466,27,0\\n5,123,74,40,77,34.1,0.269,28,0\\n2,120,54,0,0,26.8,0.455,27,0\\n1,106,70,28,135,34.2,0.142,22,0\\n2,155,52,27,540,38.7,0.240,25,1\\n2,101,58,35,90,21.8,0.155,22,0\\n1,120,80,48,200,38.9,1.162,41,0\\n11,127,106,0,0,39.0,0.190,51,0\\n3,80,82,31,70,34.2,1.292,27,1\\n10,162,84,0,0,27.7,0.182,54,0\\n1,199,76,43,0,42.9,1.394,22,1\\n8,167,106,46,231,37.6,0.165,43,1\\n9,145,80,46,130,37.9,0.637,40,1\\n6,115,60,39,0,33.7,0.245,40,1\\n1,112,80,45,132,34.8,0.217,24,0\\n4,145,82,18,0,32.5,0.235,70,1\\n10,111,70,27,0,27.5,0.141,40,1\\n6,98,58,33,190,34.0,0.430,43,0\\n9,154,78,30,100,30.9,0.164,45,0\\n6,165,68,26,168,33.6,0.631,49,0\\n1,99,58,10,0,25.4,0.551,21,0\\n10,68,106,23,49,35.5,0.285,47,0\\n3,123,100,35,240,57.3,0.880,22,0\\n8,91,82,0,0,35.6,0.587,68,0\\n6,195,70,0,0,30.9,0.328,31,1\\n9,156,86,0,0,24.8,0.230,53,1\\n0,93,60,0,0,35.3,0.263,25,0\\n3,121,52,0,0,36.0,0.127,25,1\\n2,101,58,17,265,24.2,0.614,23,0\\n2,56,56,28,45,24.2,0.332,22,0\\n0,162,76,36,0,49.6,0.364,26,1\\n0,95,64,39,105,44.6,0.366,22,0\\n4,125,80,0,0,32.3,0.536,27,1\\n5,136,82,0,0,0.0,0.640,69,0\\n2,129,74,26,205,33.2,0.591,25,0\\n3,130,64,0,0,23.1,0.314,22,0\\n1,107,50,19,0,28.3,0.181,29,0\\n1,140,74,26,180,24.1,0.828,23,0\\n1,144,82,46,180,46.1,0.335,46,1\\n8,107,80,0,0,24.6,0.856,34,0\\n13,158,114,0,0,42.3,0.257,44,1\\n2,121,70,32,95,39.1,0.886,23,0\\n7,129,68,49,125,38.5,0.439,43,1\\n2,90,60,0,0,23.5,0.191,25,0\\n7,142,90,24,480,30.4,0.128,43,1\\n3,169,74,19,125,29.9,0.268,31,1\\n0,99,0,0,0,25.0,0.253,22,0\\n4,127,88,11,155,34.5,0.598,28,0\\n4,118,70,0,0,44.5,0.904,26,0\\n2,122,76,27,200,35.9,0.483,26,0\\n6,125,78,31,0,27.6,0.565,49,1\\n1,168,88,29,0,35.0,0.905,52,1\\n2,129,0,0,0,38.5,0.304,41,0\\n4,110,76,20,100,28.4,0.118,27,0\\n6,80,80,36,0,39.8,0.177,28,0\\n10,115,0,0,0,0.0,0.261,30,1\\n2,127,46,21,335,34.4,0.176,22,0\\n9,164,78,0,0,32.8,0.148,45,1\\n2,93,64,32,160,38.0,0.674,23,1\\n3,158,64,13,387,31.2,0.295,24,0\\n5,126,78,27,22,29.6,0.439,40,0\\n10,129,62,36,0,41.2,0.441,38,1\\n0,134,58,20,291,26.4,0.352,21,0\\n3,102,74,0,0,29.5,0.121,32,0\\n7,187,50,33,392,33.9,0.826,34,1\\n3,173,78,39,185,33.8,0.970,31,1\\n10,94,72,18,0,23.1,0.595,56,0\\n1,108,60,46,178,35.5,0.415,24,0\\n5,97,76,27,0,35.6,0.378,52,1\\n4,83,86,19,0,29.3,0.317,34,0\\n1,114,66,36,200,38.1,0.289,21,0\\n1,149,68,29,127,29.3,0.349,42,1\\n5,117,86,30,105,39.1,0.251,42,0\\n1,111,94,0,0,32.8,0.265,45,0\\n4,112,78,40,0,39.4,0.236,38,0\\n1,116,78,29,180,36.1,0.496,25,0\\n0,141,84,26,0,32.4,0.433,22,0\\n2,175,88,0,0,22.9,0.326,22,0\\n2,92,52,0,0,30.1,0.141,22,0\\n3,130,78,23,79,28.4,0.323,34,1\\n8,120,86,0,0,28.4,0.259,22,1\\n2,174,88,37,120,44.5,0.646,24,1\\n2,106,56,27,165,29.0,0.426,22,0\\n2,105,75,0,0,23.3,0.560,53,0\\n4,95,60,32,0,35.4,0.284,28,0\\n0,126,86,27,120,27.4,0.515,21,0\\n8,65,72,23,0,32.0,0.600,42,0\\n2,99,60,17,160,36.6,0.453,21,0\\n1,102,74,0,0,39.5,0.293,42,1\\n11,120,80,37,150,42.3,0.785,48,1\\n3,102,44,20,94,30.8,0.400,26,0\\n1,109,58,18,116,28.5,0.219,22,0\\n9,140,94,0,0,32.7,0.734,45,1\\n13,153,88,37,140,40.6,1.174,39,0\\n12,100,84,33,105,30.0,0.488,46,0\\n1,147,94,41,0,49.3,0.358,27,1\\n1,81,74,41,57,46.3,1.096,32,0\\n3,187,70,22,200,36.4,0.408,36,1\\n6,162,62,0,0,24.3,0.178,50,1\\n4,136,70,0,0,31.2,1.182,22,1\\n1,121,78,39,74,39.0,0.261,28,0\\n3,108,62,24,0,26.0,0.223,25,0\\n0,181,88,44,510,43.3,0.222,26,1\\n8,154,78,32,0,32.4,0.443,45,1\\n1,128,88,39,110,36.5,1.057,37,1\\n7,137,90,41,0,32.0,0.391,39,0\\n0,123,72,0,0,36.3,0.258,52,1\\n1,106,76,0,0,37.5,0.197,26,0\\n6,190,92,0,0,35.5,0.278,66,1\\n2,88,58,26,16,28.4,0.766,22,0\\n9,170,74,31,0,44.0,0.403,43,1\\n9,89,62,0,0,22.5,0.142,33,0\\n10,101,76,48,180,32.9,0.171,63,0\\n2,122,70,27,0,36.8,0.340,27,0\\n5,121,72,23,112,26.2,0.245,30,0\\n1,126,60,0,0,30.1,0.349,47,1\\n1,93,70,31,0,30.4,0.315,23,0'}"
            ]
          },
          "metadata": {
            "tags": []
          },
          "execution_count": 8
        }
      ]
    },
    {
      "cell_type": "code",
      "metadata": {
        "id": "6R5m-EjTD0jt",
        "colab_type": "code",
        "colab": {
          "base_uri": "https://localhost:8080/",
          "height": 208
        },
        "outputId": "1282612b-8b95-42b9-f762-793a37fccf59"
      },
      "source": [
        "#df = pd.read_csv('./data/pima-indians-diabetes.csv', header=None)\n",
        "df = pd.read_csv('pima-indians-diabetes.csv', header=None)\n",
        "\n",
        "print(df.describe())\n",
        "            "
      ],
      "execution_count": 9,
      "outputs": [
        {
          "output_type": "stream",
          "text": [
            "                0           1           2  ...           6           7           8\n",
            "count  768.000000  768.000000  768.000000  ...  768.000000  768.000000  768.000000\n",
            "mean     3.845052  120.894531   69.105469  ...    0.471876   33.240885    0.348958\n",
            "std      3.369578   31.972618   19.355807  ...    0.331329   11.760232    0.476951\n",
            "min      0.000000    0.000000    0.000000  ...    0.078000   21.000000    0.000000\n",
            "25%      1.000000   99.000000   62.000000  ...    0.243750   24.000000    0.000000\n",
            "50%      3.000000  117.000000   72.000000  ...    0.372500   29.000000    0.000000\n",
            "75%      6.000000  140.250000   80.000000  ...    0.626250   41.000000    1.000000\n",
            "max     17.000000  199.000000  122.000000  ...    2.420000   81.000000    1.000000\n",
            "\n",
            "[8 rows x 9 columns]\n"
          ],
          "name": "stdout"
        }
      ]
    },
    {
      "cell_type": "markdown",
      "metadata": {
        "id": "XgOzjsMdD0j1",
        "colab_type": "text"
      },
      "source": [
        "We can see that there are columns that have a minimum value of zero (0). On some columns, a value of zero does not make sense and indicates an invalid or missing value.\n",
        "\n",
        "Specifically, the following columns have an invalid zero minimum value:\n",
        "\n",
        "1: Plasma glucose concentration\n",
        "\n",
        "2: Diastolic blood pressure\n",
        "\n",
        "3: Triceps skinfold thickness\n",
        "\n",
        "4: 2-Hour serum insulin\n",
        "\n",
        "5: Body mass index"
      ]
    },
    {
      "cell_type": "code",
      "metadata": {
        "id": "KsNgTD2zD0j4",
        "colab_type": "code",
        "colab": {
          "base_uri": "https://localhost:8080/",
          "height": 382
        },
        "outputId": "8acaf591-bb28-4ac7-bac6-82a2d1cec702"
      },
      "source": [
        "print(df.head(20))"
      ],
      "execution_count": 10,
      "outputs": [
        {
          "output_type": "stream",
          "text": [
            "     0    1   2   3    4     5      6   7  8\n",
            "0    6  148  72  35    0  33.6  0.627  50  1\n",
            "1    1   85  66  29    0  26.6  0.351  31  0\n",
            "2    8  183  64   0    0  23.3  0.672  32  1\n",
            "3    1   89  66  23   94  28.1  0.167  21  0\n",
            "4    0  137  40  35  168  43.1  2.288  33  1\n",
            "5    5  116  74   0    0  25.6  0.201  30  0\n",
            "6    3   78  50  32   88  31.0  0.248  26  1\n",
            "7   10  115   0   0    0  35.3  0.134  29  0\n",
            "8    2  197  70  45  543  30.5  0.158  53  1\n",
            "9    8  125  96   0    0   0.0  0.232  54  1\n",
            "10   4  110  92   0    0  37.6  0.191  30  0\n",
            "11  10  168  74   0    0  38.0  0.537  34  1\n",
            "12  10  139  80   0    0  27.1  1.441  57  0\n",
            "13   1  189  60  23  846  30.1  0.398  59  1\n",
            "14   5  166  72  19  175  25.8  0.587  51  1\n",
            "15   7  100   0   0    0  30.0  0.484  32  1\n",
            "16   0  118  84  47  230  45.8  0.551  31  1\n",
            "17   7  107  74   0    0  29.6  0.254  31  1\n",
            "18   1  103  30  38   83  43.3  0.183  33  0\n",
            "19   1  115  70  30   96  34.6  0.529  32  1\n"
          ],
          "name": "stdout"
        }
      ]
    },
    {
      "cell_type": "markdown",
      "metadata": {
        "id": "EsV8qP95D0kD",
        "colab_type": "text"
      },
      "source": [
        "We can get a count of the number of missing values on each of these columns. We can do this by marking all of the values in the subset of the DataFrame we are interested in that have zero values as True. We can then count the number of true values in each column.\n",
        "\n",
        "We can do this my marking all of the values in the subset of the DataFrame we are interested in that have zero values as True. We can then count the number of true values in each column."
      ]
    },
    {
      "cell_type": "code",
      "metadata": {
        "id": "lRHjbgfqD0kG",
        "colab_type": "code",
        "colab": {
          "base_uri": "https://localhost:8080/",
          "height": 121
        },
        "outputId": "3c84111a-8749-4598-f0a5-a3c60431c863"
      },
      "source": [
        "print((df[[1,2,3,4,5]] == 0).sum())"
      ],
      "execution_count": 11,
      "outputs": [
        {
          "output_type": "stream",
          "text": [
            "1      5\n",
            "2     35\n",
            "3    227\n",
            "4    374\n",
            "5     11\n",
            "dtype: int64\n"
          ],
          "name": "stdout"
        }
      ]
    },
    {
      "cell_type": "markdown",
      "metadata": {
        "id": "EacjIiVZD0kM",
        "colab_type": "text"
      },
      "source": [
        "We can see that columns 1,2 and 5 have just a few zero values, whereas columns 3 and 4 show a lot more, nearly half of the rows. This highlights that different “missing value” strategies may be needed for different columns, e.g. to ensure that there are still a sufficient number of records left to train a predictive model.\n",
        "\n",
        "In Python, specifically Pandas, NumPy and Scikit-Learn, we mark missing values as NaN. Values with a NaN value are ignored from operations like sum, count, etc.\n",
        "\n",
        "We can mark values as NaN easily with the Pandas DataFrame by using the replace() function on a subset of the columns we are interested in.\n",
        "\n",
        "After we have marked the missing values, we can use the isnull() function to mark all of the NaN values in the dataset as True and get a count of the missing values for each column."
      ]
    },
    {
      "cell_type": "code",
      "metadata": {
        "id": "jN-w8hPpD0kN",
        "colab_type": "code",
        "colab": {
          "base_uri": "https://localhost:8080/",
          "height": 191
        },
        "outputId": "e827eb62-71f8-4361-a0fb-2b788b9d4ab6"
      },
      "source": [
        "# mark zero values as missing or NaN\n",
        "df[[1,2,3,4,5]] = df[[1,2,3,4,5]].replace(0, np.NaN)\n",
        "\n",
        "# count the number of NaN values in each column\n",
        "print(df.isnull().sum())"
      ],
      "execution_count": 12,
      "outputs": [
        {
          "output_type": "stream",
          "text": [
            "0      0\n",
            "1      5\n",
            "2     35\n",
            "3    227\n",
            "4    374\n",
            "5     11\n",
            "6      0\n",
            "7      0\n",
            "8      0\n",
            "dtype: int64\n"
          ],
          "name": "stdout"
        }
      ]
    },
    {
      "cell_type": "markdown",
      "metadata": {
        "id": "cA6BdmORD0kY",
        "colab_type": "text"
      },
      "source": [
        "Running the example prints the number of missing values in each column. We can see that the columns 1:5 have the same number of missing values as zero values identified above. This is a sign that we have marked the identified missing values correctly.\n",
        "\n",
        "We can see that the columns 1 to 5 have the same number of missing values as zero values identified above. This is a sign that we have marked the identified missing values correctly."
      ]
    },
    {
      "cell_type": "code",
      "metadata": {
        "id": "SHTW3zWJD0kb",
        "colab_type": "code",
        "colab": {
          "base_uri": "https://localhost:8080/",
          "height": 382
        },
        "outputId": "593070f6-eeaa-430f-8a6b-d85c5594e2ba"
      },
      "source": [
        "print(df.head(20))"
      ],
      "execution_count": 13,
      "outputs": [
        {
          "output_type": "stream",
          "text": [
            "     0      1     2     3      4     5      6   7  8\n",
            "0    6  148.0  72.0  35.0    NaN  33.6  0.627  50  1\n",
            "1    1   85.0  66.0  29.0    NaN  26.6  0.351  31  0\n",
            "2    8  183.0  64.0   NaN    NaN  23.3  0.672  32  1\n",
            "3    1   89.0  66.0  23.0   94.0  28.1  0.167  21  0\n",
            "4    0  137.0  40.0  35.0  168.0  43.1  2.288  33  1\n",
            "5    5  116.0  74.0   NaN    NaN  25.6  0.201  30  0\n",
            "6    3   78.0  50.0  32.0   88.0  31.0  0.248  26  1\n",
            "7   10  115.0   NaN   NaN    NaN  35.3  0.134  29  0\n",
            "8    2  197.0  70.0  45.0  543.0  30.5  0.158  53  1\n",
            "9    8  125.0  96.0   NaN    NaN   NaN  0.232  54  1\n",
            "10   4  110.0  92.0   NaN    NaN  37.6  0.191  30  0\n",
            "11  10  168.0  74.0   NaN    NaN  38.0  0.537  34  1\n",
            "12  10  139.0  80.0   NaN    NaN  27.1  1.441  57  0\n",
            "13   1  189.0  60.0  23.0  846.0  30.1  0.398  59  1\n",
            "14   5  166.0  72.0  19.0  175.0  25.8  0.587  51  1\n",
            "15   7  100.0   NaN   NaN    NaN  30.0  0.484  32  1\n",
            "16   0  118.0  84.0  47.0  230.0  45.8  0.551  31  1\n",
            "17   7  107.0  74.0   NaN    NaN  29.6  0.254  31  1\n",
            "18   1  103.0  30.0  38.0   83.0  43.3  0.183  33  0\n",
            "19   1  115.0  70.0  30.0   96.0  34.6  0.529  32  1\n"
          ],
          "name": "stdout"
        }
      ]
    },
    {
      "cell_type": "markdown",
      "metadata": {
        "id": "4CdhysHzD0kn",
        "colab_type": "text"
      },
      "source": [
        "Running the example, we can clearly see NaN values in the columns 2, 3, 4 and 5. There are only 5 missing values in column 1, so it is not surprising we did not see an example in the first 20 rows.\n",
        "\n",
        "It is clear from the raw data that marking the missing values had the intended effect."
      ]
    },
    {
      "cell_type": "markdown",
      "metadata": {
        "id": "DDAwUP5MD0kp",
        "colab_type": "text"
      },
      "source": [
        "### 3. Missing Values Causes Problems\n",
        "\n",
        "Before we look at handling missing values, let’s first demonstrate that having missing values in a dataset can cause problems.\n",
        "\n",
        "Having missing values in a dataset can cause errors with some machine learning algorithms. We will try to evaluate a the Linear Discriminant Analysis (LDA) algorithm on the dataset with missing values. This is an algorithm that does not work when there are missing values in the dataset.\n",
        "\n",
        "The below example marks the missing values in the dataset, as we did in the previous sectio (changing 0 to Nan), then attempts to evaluate LDA using 3-fold cross validation and print the mean accuracy.\n",
        "\n",
        "*** Notes: The LDA algorithm and 3-fold cross validation will be discussed in class later. "
      ]
    },
    {
      "cell_type": "code",
      "metadata": {
        "id": "qeLzAjNRD0kq",
        "colab_type": "code",
        "colab": {
          "base_uri": "https://localhost:8080/",
          "height": 298
        },
        "outputId": "9967adc1-d7b8-4996-dce7-0219c419fa5f"
      },
      "source": [
        "from sklearn.discriminant_analysis import LinearDiscriminantAnalysis\n",
        "from sklearn.model_selection import KFold\n",
        "from sklearn.model_selection import cross_val_score\n",
        "\n",
        "#df = read_csv('./data/pima-indians-diabetes.csv', header=None)\n",
        "df = pd.read_csv('pima-indians-diabetes.csv', header=None)\n",
        "\n",
        "# mark zero values as missing or NaN\n",
        "\n",
        "df[[1,2,3,4,5]] = df[[1,2,3,4,5]].replace(0, np.NaN)\n",
        "\n",
        "# split dataset into inputs and outputs\n",
        "values = df.values\n",
        "X = values[:,0:8]\n",
        "y = values[:,8]\n",
        "\n",
        "# evaluate an LDA model on the dataset using k-fold cross validation\n",
        "model = LinearDiscriminantAnalysis()\n",
        "kfold = KFold(n_splits=3, random_state=7)\n",
        "\n",
        "result = cross_val_score(model, X, y, cv=kfold, scoring='accuracy')\n",
        "print(result.mean())"
      ],
      "execution_count": 16,
      "outputs": [
        {
          "output_type": "stream",
          "text": [
            "nan\n"
          ],
          "name": "stdout"
        },
        {
          "output_type": "stream",
          "text": [
            "/usr/local/lib/python3.6/dist-packages/sklearn/model_selection/_split.py:296: FutureWarning: Setting a random_state has no effect since shuffle is False. This will raise an error in 0.24. You should leave random_state to its default (None), or set shuffle=True.\n",
            "  FutureWarning\n",
            "/usr/local/lib/python3.6/dist-packages/sklearn/model_selection/_validation.py:536: FitFailedWarning: Estimator fit failed. The score on this train-test partition for these parameters will be set to nan. Details: \n",
            "ValueError: Input contains NaN, infinity or a value too large for dtype('float64').\n",
            "\n",
            "  FitFailedWarning)\n",
            "/usr/local/lib/python3.6/dist-packages/sklearn/model_selection/_validation.py:536: FitFailedWarning: Estimator fit failed. The score on this train-test partition for these parameters will be set to nan. Details: \n",
            "ValueError: Input contains NaN, infinity or a value too large for dtype('float64').\n",
            "\n",
            "  FitFailedWarning)\n",
            "/usr/local/lib/python3.6/dist-packages/sklearn/model_selection/_validation.py:536: FitFailedWarning: Estimator fit failed. The score on this train-test partition for these parameters will be set to nan. Details: \n",
            "ValueError: Input contains NaN, infinity or a value too large for dtype('float64').\n",
            "\n",
            "  FitFailedWarning)\n"
          ],
          "name": "stderr"
        }
      ]
    },
    {
      "cell_type": "markdown",
      "metadata": {
        "id": "kt3zI_mnD0kv",
        "colab_type": "text"
      },
      "source": [
        "Running the example results in an error, as follows:\n",
        "    \n",
        "This is as we expect.\n",
        "\n",
        "We are prevented from evaluating an LDA algorithm (and other algorithms) on the dataset with missing values.\n",
        "\n",
        "Now, we can look at methods to handle the missing values.\n"
      ]
    },
    {
      "cell_type": "markdown",
      "metadata": {
        "id": "nxM1ff1FD0kw",
        "colab_type": "text"
      },
      "source": [
        "### 4. Remove Rows With Missing Values\n",
        "\n",
        "The simplest strategy for handling missing data is to remove records that contain a missing value.\n",
        "\n",
        "We can do this by creating a new Pandas DataFrame with the rows containing missing values removed.\n",
        "\n",
        "Pandas provides the dropna() function that can be used to drop either columns or rows with missing data. We can use dropna() to remove all rows with missing data, as follows:"
      ]
    },
    {
      "cell_type": "code",
      "metadata": {
        "id": "82fuM-X3D0ky",
        "colab_type": "code",
        "colab": {
          "base_uri": "https://localhost:8080/",
          "height": 34
        },
        "outputId": "45b4f284-365b-4332-ed37-3d5ebaebdec7"
      },
      "source": [
        "#df = read_csv('./data/pima-indians-diabetes.csv', header=None)\n",
        "df = pd.read_csv('pima-indians-diabetes.csv', header=None)\n",
        "# mark zero values as missing or NaN\n",
        "df[[1,2,3,4,5]] = df[[1,2,3,4,5]].replace(0, np.NaN)\n",
        "\n",
        "# drop rows with missing values\n",
        "df.dropna(inplace=True)\n",
        "# summarize the number of rows and columns in the dataset\n",
        "print(df.shape)"
      ],
      "execution_count": 18,
      "outputs": [
        {
          "output_type": "stream",
          "text": [
            "(392, 9)\n"
          ],
          "name": "stdout"
        }
      ]
    },
    {
      "cell_type": "markdown",
      "metadata": {
        "id": "xOrGv_hoD0k-",
        "colab_type": "text"
      },
      "source": [
        "Running this example, we can see that the number of rows has been aggressively cut from 768 in the original dataset to 392 with all rows containing a NaN removed.\n",
        "\n",
        "We now have a dataset that we could use to evaluate an algorithm sensitive to missing values like LDA."
      ]
    },
    {
      "cell_type": "code",
      "metadata": {
        "id": "-aOhJx_HD0lA",
        "colab_type": "code",
        "colab": {
          "base_uri": "https://localhost:8080/",
          "height": 34
        },
        "outputId": "f086387c-6766-4f85-fdb6-7f08c8777498"
      },
      "source": [
        "#df = read_csv('./data/pima-indians-diabetes.csv', header=None)\n",
        "# mark zero values as missing or NaN\n",
        "#df[[1,2,3,4,5]] = df[[1,2,3,4,5]].replace(0, np.NaN)\n",
        "# drop rows with missing values\n",
        "#df.dropna(inplace=True)\n",
        "# split dataset into inputs and outputs\n",
        "values = df.values\n",
        "X = values[:,0:8]\n",
        "y = values[:,8]\n",
        "# evaluate an LDA model on the dataset using k-fold cross validation\n",
        "model = LinearDiscriminantAnalysis()\n",
        "kfold = KFold(n_splits=3, random_state=7, shuffle=True)\n",
        "result = cross_val_score(model, X, y, cv=kfold, scoring='accuracy')\n",
        "print(result.mean())"
      ],
      "execution_count": 22,
      "outputs": [
        {
          "output_type": "stream",
          "text": [
            "0.7832648267762772\n"
          ],
          "name": "stdout"
        }
      ]
    },
    {
      "cell_type": "markdown",
      "metadata": {
        "id": "HmN6nhh_D0lH",
        "colab_type": "text"
      },
      "source": [
        "The example runs successfully and prints the accuracy of the model.\n",
        "\n",
        "Removing rows with missing values can be too limiting on some predictive modeling problems, an alternative is to impute missing values."
      ]
    },
    {
      "cell_type": "markdown",
      "metadata": {
        "id": "5ttKduCnD0lI",
        "colab_type": "text"
      },
      "source": [
        "### 5. Impute Missing Values\n",
        "\n",
        "Imputing refers to using a model to replace missing values.\n",
        "\n",
        "There are many options we could consider when replacing a missing value, for example:\n",
        "\n",
        "- A constant value that has meaning within the domain, such as 0, distinct from all other values.\n",
        "\n",
        "- A value from another randomly selected record.\n",
        "\n",
        "- A mean, median or mode value for the column.\n",
        "\n",
        "- A value estimated by another predictive model.\n",
        "\n",
        "Any imputing performed on the training dataset will have to be performed on new data in the future when predictions are needed from the finalized model. This needs to be taken into consideration when choosing how to impute the missing values.\n",
        "\n",
        "- For example, if you choose to impute with mean column values, these mean column values will need to be stored to file for later use on new data that has missing values.\n",
        "\n",
        "Pandas provides the fillna() function for replacing missing values with a specific value.\n",
        "\n",
        "- For example, we can use fillna() to replace missing values with the mean value for each column, as follows:"
      ]
    },
    {
      "cell_type": "markdown",
      "metadata": {
        "id": "xwat3SAUD0lI",
        "colab_type": "text"
      },
      "source": [
        "### Using Pandas"
      ]
    },
    {
      "cell_type": "code",
      "metadata": {
        "id": "pgQ4qNYvD0lN",
        "colab_type": "code",
        "colab": {
          "base_uri": "https://localhost:8080/",
          "height": 399
        },
        "outputId": "6f4a588b-1f0c-4999-90c3-7a9f8944c636"
      },
      "source": [
        "#df = read_csv('./data/pima-indians-diabetes.csv', header=None)\n",
        "df = pd.read_csv('pima-indians-diabetes.csv', header=None)\n",
        "# mark zero values as missing or NaN\n",
        "df[[1,2,3,4,5]] = df[[1,2,3,4,5]].replace(0, np.NaN)\n",
        "print(df.head(5))\n",
        "\n",
        "# fill missing values with mean column values\n",
        "df.fillna(df.mean(), inplace=True)\n",
        "# count the number of NaN values in each column\n",
        "\n",
        "print(df.head(5))\n",
        "\n",
        "print(df.isnull().sum())"
      ],
      "execution_count": 24,
      "outputs": [
        {
          "output_type": "stream",
          "text": [
            "   0      1     2     3      4     5      6   7  8\n",
            "0  6  148.0  72.0  35.0    NaN  33.6  0.627  50  1\n",
            "1  1   85.0  66.0  29.0    NaN  26.6  0.351  31  0\n",
            "2  8  183.0  64.0   NaN    NaN  23.3  0.672  32  1\n",
            "3  1   89.0  66.0  23.0   94.0  28.1  0.167  21  0\n",
            "4  0  137.0  40.0  35.0  168.0  43.1  2.288  33  1\n",
            "   0      1     2         3           4     5      6   7  8\n",
            "0  6  148.0  72.0  35.00000  155.548223  33.6  0.627  50  1\n",
            "1  1   85.0  66.0  29.00000  155.548223  26.6  0.351  31  0\n",
            "2  8  183.0  64.0  29.15342  155.548223  23.3  0.672  32  1\n",
            "3  1   89.0  66.0  23.00000   94.000000  28.1  0.167  21  0\n",
            "4  0  137.0  40.0  35.00000  168.000000  43.1  2.288  33  1\n",
            "0    0\n",
            "1    0\n",
            "2    0\n",
            "3    0\n",
            "4    0\n",
            "5    0\n",
            "6    0\n",
            "7    0\n",
            "8    0\n",
            "dtype: int64\n"
          ],
          "name": "stdout"
        }
      ]
    },
    {
      "cell_type": "markdown",
      "metadata": {
        "id": "a9JQ47CFD0lY",
        "colab_type": "text"
      },
      "source": [
        "### Using Scikit-learn"
      ]
    },
    {
      "cell_type": "markdown",
      "metadata": {
        "id": "08ydJqpHD0lZ",
        "colab_type": "text"
      },
      "source": [
        "#### SimpleImputer\n",
        "\n",
        "The scikit-learn library provides the SimpleImputer() class that can be used to replace missing values.\n",
        "\n",
        "It is a flexible class that allows you to specify the value to replace (it can be something other than NaN) and the technique used to replace it (such as mean, median, or mode). The Imputer class operates directly on the NumPy array instead of the DataFrame.\n",
        "\n",
        "The example below uses the Imputer class to replace missing values with the mean of each column then prints the number of NaN values in the transformed matrix."
      ]
    },
    {
      "cell_type": "code",
      "metadata": {
        "id": "-TrAi1BnD0la",
        "colab_type": "code",
        "colab": {
          "base_uri": "https://localhost:8080/",
          "height": 34
        },
        "outputId": "3622ce0b-87f5-4047-eb95-04c54150f3cb"
      },
      "source": [
        "from sklearn.impute import SimpleImputer\n",
        "\n",
        "#df = read_csv('./data/pima-indians-diabetes.csv', header=None)\n",
        "df = pd.read_csv('pima-indians-diabetes.csv', header=None)\n",
        "\n",
        "# mark zero values as missing or NaN\n",
        "df[[1,2,3,4,5]] = df[[1,2,3,4,5]].replace(0, np.NaN)\n",
        "\n",
        "# fill missing values with mean column values\n",
        "values = df.values\n",
        "imputer = SimpleImputer()\n",
        "transformed_values = imputer.fit_transform(values)\n",
        "\n",
        "# count the number of NaN values in each column\n",
        "print(np.isnan(transformed_values).sum())"
      ],
      "execution_count": 26,
      "outputs": [
        {
          "output_type": "stream",
          "text": [
            "0\n"
          ],
          "name": "stdout"
        }
      ]
    },
    {
      "cell_type": "markdown",
      "metadata": {
        "id": "SKO2hq7xD0lg",
        "colab_type": "text"
      },
      "source": [
        "Running the example shows that all NaN values were imputed successfully.\n",
        "\n",
        "In either case, we can train algorithms sensitive to NaN values in the transformed dataset, such as LDA.\n",
        "\n",
        "The example below shows the LDA algorithm trained in the Imputer transformed dataset."
      ]
    },
    {
      "cell_type": "code",
      "metadata": {
        "id": "41SvABF-D0lh",
        "colab_type": "code",
        "colab": {
          "base_uri": "https://localhost:8080/",
          "height": 34
        },
        "outputId": "aeda3da7-cf3c-4736-c9d1-c00e5fda537a"
      },
      "source": [
        "from sklearn.impute import SimpleImputer\n",
        "from sklearn.discriminant_analysis import LinearDiscriminantAnalysis\n",
        "from sklearn.model_selection import KFold\n",
        "from sklearn.model_selection import cross_val_score\n",
        "\n",
        "#df = read_csv('./data/pima-indians-diabetes.csv', header=None)\n",
        "df = pd.read_csv('pima-indians-diabetes.csv', header=None)\n",
        "\n",
        "# mark zero values as missing or NaN\n",
        "df[[1,2,3,4,5]] = df[[1,2,3,4,5]].replace(0, np.NaN)\n",
        "\n",
        "# split dataset into inputs and outputs\n",
        "values = df.values\n",
        "X = values[:,0:8]\n",
        "y = values[:,8]\n",
        "\n",
        "# fill missing values with mean column values\n",
        "imputer = SimpleImputer()\n",
        "transformed_X = imputer.fit_transform(X)\n",
        "\n",
        "# evaluate an LDA model on the dataset using k-fold cross validation\n",
        "model = LinearDiscriminantAnalysis()\n",
        "kfold = KFold(n_splits=3, random_state=7, shuffle = True)\n",
        "result = cross_val_score(model, transformed_X, y, cv=kfold, scoring='accuracy')\n",
        "print(result.mean())"
      ],
      "execution_count": 30,
      "outputs": [
        {
          "output_type": "stream",
          "text": [
            "0.765625\n"
          ],
          "name": "stdout"
        }
      ]
    },
    {
      "cell_type": "markdown",
      "metadata": {
        "id": "Ca5-jHjsD0lo",
        "colab_type": "text"
      },
      "source": [
        "Running the example prints the accuracy of LDA on the transformed dataset.\n",
        "\n",
        "Try replacing the missing values with other values and see if you can lift the performance of the model.\n",
        "\n",
        "Maybe missing values have meaning in the data.\n",
        "\n",
        "Next we will look at using algorithms that treat missing values as just another value when modeling."
      ]
    },
    {
      "cell_type": "markdown",
      "metadata": {
        "id": "8RDTD5jeD0lp",
        "colab_type": "text"
      },
      "source": [
        "### 6. Algorithms that Support Missing Values\n",
        "\n",
        "Not all algorithms fail when there is missing data.\n",
        "\n",
        "There are algorithms that can be made robust to missing data, such as k-Nearest Neighbors that can ignore a column from a distance measure when a value is missing. There are also algorithms that can use the missing value as a unique and different value when building the predictive model, such as classification and regression trees. Sadly, the scikit-learn implementations of decision trees and k-Nearest Neighbors are not robust to missing values. Although it is being considered.\n",
        "\n",
        "Nevertheless, this remains as an option if you consider using another algorithm implementation (such as xgboost) or developing your own implementation."
      ]
    },
    {
      "cell_type": "markdown",
      "metadata": {
        "id": "couO4lY2D0lr",
        "colab_type": "text"
      },
      "source": [
        "### More details\n",
        "\n",
        "- See examples of handling missing data at Pandas: \n",
        "https://pandas.pydata.org/pandas-docs/stable/user_guide/missing_data.html\n",
        "\n",
        "- See also examples of imputating missing data at Scikit-learn:\n",
        "https://scikit-learn.org/stable/modules/impute.html#impute"
      ]
    },
    {
      "cell_type": "markdown",
      "metadata": {
        "id": "z7Say032D0lr",
        "colab_type": "text"
      },
      "source": [
        "Reference:\n",
        "- Data clearning example with Pima Indians Diabetes dataset was created by Jason Brownlee and modified by Wan Bae. "
      ]
    },
    {
      "cell_type": "markdown",
      "metadata": {
        "id": "yIJadcVKD0lt",
        "colab_type": "text"
      },
      "source": [
        "## TW2\n",
        "\n",
        "### Part 1\n",
        "\n",
        "Dataset: ./data/daily-temperatures.csv\n",
        "\n",
        "Daily minimum and maximum temperatures (in Celsius) in Melbourne, Australia, 1981-1990\n",
        "\n",
        "Source: Time Series Data Library (citing: Australian Bureau of Meteorology)\n",
        "\n",
        "\n",
        "This dataset has known missing values and also incorrect values\n",
        "\n",
        "- no value is reported so no value in some cells\n",
        "\n",
        "- invalid values for temperature: You can see some temprature values >= 200 and <= -800, which are invalid\n",
        "\n",
        "(1) First, you may want to plot the each max temperature and min temperature or both to check the ranges of the data. You may find something incorrect from the plot(s).\n",
        "\n",
        "(2) Discuss how you would handle these values: missing values and invalid values\n",
        "\n",
        "(3) Use tools (in Pandas and Scikit-learn) we talked about in the above examples to process data.\n",
        "\n",
        "(4) Visualize the data. "
      ]
    },
    {
      "cell_type": "code",
      "metadata": {
        "id": "m7DIvy_RZSMu",
        "colab_type": "code",
        "colab": {}
      },
      "source": [
        "import numpy as np\n",
        "import matplotlib.pyplot as plt\n"
      ],
      "execution_count": 0,
      "outputs": []
    },
    {
      "cell_type": "code",
      "metadata": {
        "id": "dYrYnPUUYL4q",
        "colab_type": "code",
        "colab": {
          "resources": {
            "http://localhost:8080/nbextensions/google.colab/files.js": {
              "data": "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",
              "ok": true,
              "headers": [
                [
                  "content-type",
                  "application/javascript"
                ]
              ],
              "status": 200,
              "status_text": "OK"
            }
          },
          "base_uri": "https://localhost:8080/",
          "height": 124
        },
        "outputId": "1dce1dc7-8f6f-499e-a3b6-28bd1e43e80a"
      },
      "source": [
        "files.upload()"
      ],
      "execution_count": 31,
      "outputs": [
        {
          "output_type": "display_data",
          "data": {
            "text/html": [
              "\n",
              "     <input type=\"file\" id=\"files-f29f0795-4c3a-4cc0-a174-81c81c8f4cdb\" name=\"files[]\" multiple disabled />\n",
              "     <output id=\"result-f29f0795-4c3a-4cc0-a174-81c81c8f4cdb\">\n",
              "      Upload widget is only available when the cell has been executed in the\n",
              "      current browser session. Please rerun this cell to enable.\n",
              "      </output>\n",
              "      <script src=\"/nbextensions/google.colab/files.js\"></script> "
            ],
            "text/plain": [
              "<IPython.core.display.HTML object>"
            ]
          },
          "metadata": {
            "tags": []
          }
        },
        {
          "output_type": "stream",
          "text": [
            "Saving daily-temperatures.csv to daily-temperatures.csv\n"
          ],
          "name": "stdout"
        },
        {
          "output_type": "execute_result",
          "data": {
            "text/plain": [
              "{'daily-temperatures.csv': b'Date,max_temperature,min_temperature\\r\\n1/1/81,38.1,20.7\\r\\n1/2/81,,17.9\\r\\n1/3/81,34.5,18.8\\r\\n1/4/81,20.7,14.6\\r\\n1/5/81,21.5,15.8\\r\\n1/6/81,300,-800\\r\\n1/7/81,29.7,15.8\\r\\n1/8/81,36.6,17.4\\r\\n1/9/81,,21.8\\r\\n1/10/81,300,20\\r\\n1/11/81,20.4,16.2\\r\\n1/12/81,30.1,13.3\\r\\n1/13/81,38.7,16.7\\r\\n1/14/81,41.4,21.5\\r\\n1/15/81,300,25\\r\\n1/16/81,36,-800\\r\\n1/17/81,,20.6\\r\\n1/18/81,38,24.8\\r\\n1/19/81,23,17.7\\r\\n1/20/81,300,15.5\\r\\n1/21/81,27.5,\\r\\n1/22/81,21.7,12.1\\r\\n1/23/81,22.9,14.4\\r\\n1/24/81,26.2,-800\\r\\n1/25/81,300,16.5\\r\\n1/26/81,41.8,\\r\\n1/27/81,21.5,19.4\\r\\n1/28/81,19.2,17.2\\r\\n1/29/81,25,15.5\\r\\n1/30/81,300,15.1\\r\\n1/31/81,23.2,15.4\\r\\n2/1/81,31.5,-800\\r\\n2/2/81,36.2,18.8\\r\\n2/3/81,38.2,21.9\\r\\n2/4/81,26.4,19.9\\r\\n2/5/81,20.9,16.6\\r\\n2/6/81,21.5,16.8\\r\\n2/7/81,30.2,14.6\\r\\n2/8/81,300,17.1\\r\\n2/9/81,32.6,25\\r\\n2/10/81,22.2,15\\r\\n2/11/81,21.7,13.7\\r\\n2/12/81,30,13.9\\r\\n2/13/81,35.7,18.3\\r\\n2/14/81,32.8,22\\r\\n2/15/81,39.3,22.1\\r\\n2/16/81,25.5,21.2\\r\\n2/17/81,23,-800\\r\\n2/18/81,19.9,16.6\\r\\n2/19/81,21.3,16.1\\r\\n2/20/81,20.8,15.7\\r\\n2/21/81,21.7,16.6\\r\\n2/22/81,23.8,\\r\\n2/23/81,29,14.4\\r\\n2/24/81,,14.4\\r\\n2/25/81,21.3,18.5\\r\\n2/26/81,28.5,16.9\\r\\n2/27/81,33.6,17.5\\r\\n2/28/81,,21.2\\r\\n3/1/81,34.2,17.8\\r\\n3/2/81,27,18.6\\r\\n3/3/81,24.2,17\\r\\n3/4/81,19.9,16\\r\\n3/5/81,19.7,13.3\\r\\n3/6/81,21.5,14.3\\r\\n3/7/81,30.6,11.4\\r\\n3/8/81,30,16.3\\r\\n3/9/81,19,16.1\\r\\n3/10/81,19.6,11.8\\r\\n3/11/81,20.6,12.2\\r\\n3/12/81,23.6,14.7\\r\\n3/13/81,17.9,11.8\\r\\n3/14/81,17.3,11.3\\r\\n3/15/81,21.4,10.6\\r\\n3/16/81,24.1,11.7\\r\\n3/17/81,20.9,14.2\\r\\n3/18/81,30.1,11.2\\r\\n3/19/81,32.6,16.9\\r\\n3/20/81,21.3,16.7\\r\\n3/21/81,19.5,8.1\\r\\n3/22/81,19.9,8\\r\\n3/23/81,21,8.8\\r\\n3/24/81,25.4,13.4\\r\\n3/25/81,17.5,10.9\\r\\n3/26/81,20.4,13.4\\r\\n3/27/81,26.8,11\\r\\n3/28/81,25.8,15\\r\\n3/29/81,20.9,15.7\\r\\n3/30/81,19.4,14.5\\r\\n3/31/81,25.8,15.8\\r\\n4/1/81,26.3,16.7\\r\\n4/2/81,29.6,16.8\\r\\n4/3/81,30.3,17.5\\r\\n4/4/81,23.6,17.1\\r\\n4/5/81,28.4,18.1\\r\\n4/6/81,20.7,16.6\\r\\n4/7/81,24.1,10\\r\\n4/8/81,27.3,14.9\\r\\n4/9/81,23.2,15.9\\r\\n4/10/81,300,13\\r\\n4/11/81,24.6,7.6\\r\\n4/12/81,27.4,-800\\r\\n4/13/81,20.4,13.5\\r\\n4/14/81,18.1,13\\r\\n4/15/81,25.2,13.3\\r\\n4/16/81,19.8,12.1\\r\\n4/17/81,21,12.4\\r\\n4/18/81,23.7,13.2\\r\\n4/19/81,19.6,13.8\\r\\n4/20/81,18.1,10.6\\r\\n4/21/81,20.8,9\\r\\n4/22/81,26,10\\r\\n4/23/81,18.4,9.8\\r\\n4/24/81,22,11.5\\r\\n4/25/81,14.4,8.9\\r\\n4/26/81,19.9,7.4\\r\\n4/27/81,22.6,9.9\\r\\n4/28/81,13.7,9.3\\r\\n4/29/81,15.9,9.9\\r\\n4/30/81,21.2,7.4\\r\\n5/1/81,23.7,8.6\\r\\n5/2/81,24,11.9\\r\\n5/3/81,17.2,14\\r\\n5/4/81,23.2,8.6\\r\\n5/5/81,25.2,10\\r\\n5/6/81,17.2,13.5\\r\\n5/7/81,16,12\\r\\n5/8/81,15.6,\\r\\n5/9/81,,10.7\\r\\n5/10/81,16,8.1\\r\\n5/11/81,16.8,10.1\\r\\n5/12/81,14.6,10.6\\r\\n5/13/81,19.4,5.3\\r\\n5/14/81,21,6.6\\r\\n5/15/81,19.5,8.5\\r\\n5/16/81,18.5,11.2\\r\\n5/17/81,13.3,9.8\\r\\n5/18/81,13.7,5.9\\r\\n5/19/81,14.3,3.2\\r\\n5/20/81,14.1,2.1\\r\\n5/21/81,11.4,3.4\\r\\n5/22/81,13.6,5.4\\r\\n5/23/81,16.6,9.6\\r\\n5/24/81,,11.5\\r\\n5/25/81,14.6,-800\\r\\n5/26/81,17.2,\\r\\n5/27/81,14.4,11\\r\\n5/28/81,16.4,11.2\\r\\n5/29/81,300,11.4\\r\\n5/30/81,17.6,11.8\\r\\n5/31/81,17.2,12.8\\r\\n6/1/81,17.7,11.6\\r\\n6/2/81,14.2,10.6\\r\\n6/3/81,16.6,9.8\\r\\n6/4/81,15.7,11.2\\r\\n6/5/81,13.7,5.7\\r\\n6/6/81,14.7,7.1\\r\\n6/7/81,13.1,2.5\\r\\n6/8/81,12.9,3.5\\r\\n6/9/81,15.4,4.6\\r\\n6/10/81,11.9,11\\r\\n6/11/81,15.2,5.7\\r\\n6/12/81,15.3,7.7\\r\\n6/13/81,16.5,10.4\\r\\n6/14/81,16.1,11.4\\r\\n6/15/81,11.7,9.2\\r\\n6/16/81,11.2,6.1\\r\\n6/17/81,11.5,2.7\\r\\n6/18/81,10.8,4.3\\r\\n6/19/81,16.1,6.3\\r\\n6/20/81,14.8,3.8\\r\\n6/21/81,13.6,4.4\\r\\n6/22/81,13.8,7.1\\r\\n6/23/81,9.7,4.8\\r\\n6/24/81,10.7,5.8\\r\\n6/25/81,11,6.2\\r\\n6/26/81,15.3,7.3\\r\\n6/27/81,15.3,9.2\\r\\n6/28/81,17,10.2\\r\\n6/29/81,16,9.5\\r\\n6/30/81,16.3,9.5\\r\\n7/1/81,15.7,10.7\\r\\n7/2/81,14.5,10\\r\\n7/3/81,10.8,6.5\\r\\n7/4/81,10.5,7\\r\\n7/5/81,13.4,7.4\\r\\n7/6/81,12.2,8.1\\r\\n7/7/81,13.2,6.6\\r\\n7/8/81,13,8.3\\r\\n7/9/81,300,8.9\\r\\n7/10/81,13.1,4.6\\r\\n7/11/81,9.8,6.8\\r\\n7/12/81,10.5,5.7\\r\\n7/13/81,13.4,6.1\\r\\n7/14/81,11,7\\r\\n7/15/81,13.1,7.2\\r\\n7/16/81,15,6.3\\r\\n7/17/81,16.7,8.8\\r\\n7/18/81,16.1,5\\r\\n7/19/81,18.2,7.4\\r\\n7/20/81,15.7,10.1\\r\\n7/21/81,17.7,12\\r\\n7/22/81,15.9,9\\r\\n7/23/81,15.1,8.9\\r\\n7/24/81,15.2,9.8\\r\\n7/25/81,14.7,9\\r\\n7/26/81,13.3,9.2\\r\\n7/27/81,14.5,7.7\\r\\n7/28/81,300,8\\r\\n7/29/81,13.1,6.1\\r\\n7/30/81,13.7,3.5\\r\\n7/31/81,14.6,3.2\\r\\n8/1/81,12.9,5.7\\r\\n8/2/81,12.8,7.7\\r\\n8/3/81,15.2,9\\r\\n8/4/81,14.5,10\\r\\n8/5/81,17.2,6.2\\r\\n8/6/81,14.5,6.9\\r\\n8/7/81,14.4,6.5\\r\\n8/8/81,11,6.8\\r\\n8/9/81,13.1,7\\r\\n8/10/81,13.6,5.2\\r\\n8/11/81,14.6,3\\r\\n8/12/81,12.7,5.6\\r\\n8/13/81,13.6,7.9\\r\\n8/14/81,12.7,9\\r\\n8/15/81,15.5,8.6\\r\\n8/16/81,17.4,10.3\\r\\n8/17/81,15.2,10.5\\r\\n8/18/81,14.2,7.6\\r\\n8/19/81,17.7,9.7\\r\\n8/20/81,300,12.5\\r\\n8/21/81,12.5,7.4\\r\\n8/22/81,14.2,7.9\\r\\n8/23/81,15.3,3.9\\r\\n8/24/81,15.7,6.6\\r\\n8/25/81,17,4.6\\r\\n8/26/81,19,7\\r\\n8/27/81,13.1,6\\r\\n8/28/81,13.2,5.5\\r\\n8/29/81,13.2,8.1\\r\\n8/30/81,15.7,5.5\\r\\n8/31/81,14.1,6.2\\r\\n9/1/81,15.6,8\\r\\n9/2/81,15.5,10.3\\r\\n9/3/81,15.9,9.8\\r\\n9/4/81,15.1,9.6\\r\\n9/5/81,16,8.5\\r\\n9/6/81,19.4,7.5\\r\\n9/7/81,21.5,11.2\\r\\n9/8/81,23.7,14.6\\r\\n9/9/81,18.7,11.7\\r\\n9/10/81,23.8,7.8\\r\\n9/11/81,18,12.3\\r\\n9/12/81,16.2,10.1\\r\\n9/13/81,18.5,11.5\\r\\n9/14/81,20.6,7.3\\r\\n9/15/81,18.3,10.9\\r\\n9/16/81,22.5,14.1\\r\\n9/17/81,26.9,10.7\\r\\n9/18/81,19.4,16.9\\r\\n9/19/81,15.9,10.5\\r\\n9/20/81,20.5,6.5\\r\\n9/21/81,21.2,11\\r\\n9/22/81,19.5,6.3\\r\\n9/23/81,14.7,10.5\\r\\n9/24/81,17.6,7.2\\r\\n9/25/81,15.8,7.6\\r\\n9/26/81,17.7,10.7\\r\\n9/27/81,14.3,7.8\\r\\n9/28/81,16.8,9.6\\r\\n9/29/81,18.6,11.4\\r\\n9/30/81,21.9,12.4\\r\\n10/1/81,21.4,8.9\\r\\n10/2/81,20.8,13.2\\r\\n10/3/81,14,8.6\\r\\n10/4/81,17,6.2\\r\\n10/5/81,23,11.4\\r\\n10/6/81,26.4,13.2\\r\\n10/7/81,300,14.3\\r\\n10/8/81,22.+B3117,7.3\\r\\n10/9/81,26.9,12.9\\r\\n10/10/81,14.7,7.8\\r\\n10/11/81,15.2,6.2\\r\\n10/12/81,19.8,5.6\\r\\n10/13/81,26.9,10\\r\\n10/14/81,20.2,13.3\\r\\n10/15/81,14.3,8.3\\r\\n10/16/81,14.8,10.2\\r\\n10/17/81,18.5,8.6\\r\\n10/18/81,21.7,7.3\\r\\n10/19/81,21.4,10.4\\r\\n10/20/81,21.8,11.2\\r\\n10/21/81,18.2,13.2\\r\\n10/22/81,15.8,11.4\\r\\n10/23/81,15.3,9.1\\r\\n10/24/81,18.5,6.6\\r\\n10/25/81,19.2,8.4\\r\\n10/26/81,28.5,9.7\\r\\n10/27/81,32.2,13.2\\r\\n10/28/81,21.8,12.5\\r\\n10/29/81,22.1,11\\r\\n10/30/81,20.7,11\\r\\n10/31/81,17,11.7\\r\\n11/1/81,24.7,9.2\\r\\n11/2/81,26.2,11.5\\r\\n11/3/81,29,13.6\\r\\n11/4/81,21.6,13.7\\r\\n11/5/81,17.1,10.4\\r\\n11/6/81,300,11.5\\r\\n11/7/81,19.1,7.6\\r\\n11/8/81,24.7,9.6\\r\\n11/9/81,25.4,14.2\\r\\n11/10/81,19.8,15.7\\r\\n11/11/81,18.2,10.5\\r\\n11/12/81,16.3,10.5\\r\\n11/13/81,17,9.7\\r\\n11/14/81,17.7,9.5\\r\\n11/15/81,15.5,11.3\\r\\n11/16/81,14.7,8.9\\r\\n11/17/81,15.8,9.4\\r\\n11/18/81,19.9,11.9\\r\\n11/19/81,20.4,11.7\\r\\n11/20/81,23.3,13.4\\r\\n11/21/81,20.2,12.6\\r\\n11/22/81,28.8,10.1\\r\\n11/23/81,31.2,15.8\\r\\n11/24/81,17.4,13.6\\r\\n11/25/81,18.5,11.9\\r\\n11/26/81,26.8,9.9\\r\\n11/27/81,34.3,12.6\\r\\n11/28/81,30.1,17.8\\r\\n11/29/81,20.5,15\\r\\n11/30/81,20.5,13.6\\r\\n12/1/81,19.8,13.4\\r\\n12/2/81,27,10.5\\r\\n12/3/81,21,14.2\\r\\n12/4/81,33,11.5\\r\\n12/5/81,22.6,13\\r\\n12/6/81,28.3,15\\r\\n12/7/81,21.1,14.7\\r\\n12/8/81,19,12.6\\r\\n12/9/81,17.3,12.5\\r\\n12/10/81,27,13.5\\r\\n12/11/81,30.2,14.8\\r\\n12/12/81,24.8,17.2\\r\\n12/13/81,17.9,9.7\\r\\n12/14/81,17.9,12.1\\r\\n12/15/81,20.7,12.8\\r\\n12/16/81,30.9,11.2\\r\\n12/17/81,36.2,16.4\\r\\n12/18/81,21,15.6\\r\\n12/19/81,20.2,13.3\\r\\n12/20/81,21.3,11\\r\\n12/21/81,24.2,11.1\\r\\n12/22/81,21,15\\r\\n12/23/81,20.7,12.8\\r\\n12/24/81,17.8,15\\r\\n12/25/81,19.6,14.2\\r\\n12/26/81,22.6,14\\r\\n12/27/81,20.5,15.5\\r\\n12/28/81,24.1,13.3\\r\\n12/29/81,22.2,15.6\\r\\n12/30/81,27,15.2\\r\\n12/31/81,33.6,17.4\\r\\n1/1/82,26.6,17\\r\\n1/2/82,20.6,15\\r\\n1/3/82,24.5,13.5\\r\\n1/4/82,19.8,15.2\\r\\n1/5/82,22.6,13\\r\\n1/6/82,29.2,12.5\\r\\n1/7/82,20.3,14.1\\r\\n1/8/82,23,14.8\\r\\n1/9/82,24.4,16.2\\r\\n1/10/82,38,15.8\\r\\n1/11/82,40.5,19.1\\r\\n1/12/82,24.2,22.2\\r\\n1/13/82,20.2,15.9\\r\\n1/14/82,21.8,13\\r\\n1/15/82,27,14.1\\r\\n1/16/82,35.2,15.8\\r\\n1/17/82,25.2,24\\r\\n1/18/82,32.7,18\\r\\n1/19/82,35.9,19.7\\r\\n1/20/82,38.9,25.2\\r\\n1/21/82,26.5,20.5\\r\\n1/22/82,21.8,19.3\\r\\n1/23/82,37.9,15.8\\r\\n1/24/82,43.3,17\\r\\n1/25/82,19,18.4\\r\\n1/26/82,19.7,13.3\\r\\n1/27/82,21.4,14.6\\r\\n1/28/82,32,12.5\\r\\n1/29/82,33.3,17\\r\\n1/30/82,22.2,17.1\\r\\n1/31/82,21.3,14\\r\\n2/1/82,20.8,14.6\\r\\n2/2/82,22.3,13.3\\r\\n2/3/82,22.5,14.8\\r\\n2/4/82,21.4,15.1\\r\\n2/5/82,23,13.1\\r\\n2/6/82,35.1,13.6\\r\\n2/7/82,40.3,19.5\\r\\n2/8/82,39,22.7\\r\\n2/9/82,21.1,17.2\\r\\n2/10/82,25.4,13.5\\r\\n2/11/82,23.6,15.4\\r\\n2/12/82,28.1,17\\r\\n2/13/82,37,19.2\\r\\n2/14/82,39.3,22.8\\r\\n2/15/82,39.4,26.3\\r\\n2/16/82,25.8,18.2\\r\\n2/17/82,27.7,17\\r\\n2/18/82,23,14.8\\r\\n2/19/82,24,12.8\\r\\n2/20/82,26.1,15.5\\r\\n2/21/82,21.8,15.6\\r\\n2/22/82,24.2,13.1\\r\\n2/23/82,22.3,15.2\\r\\n2/24/82,19.7,14.1\\r\\n2/25/82,20.8,12.5\\r\\n2/26/82,17.9,14.6\\r\\n2/27/82,20.1,10.4\\r\\n2/28/82,20.9,13.9\\r\\n3/1/82,21.2,11.9\\r\\n3/2/82,300,13.5\\r\\n3/3/82,29,9.8\\r\\n3/4/82,34.7,14\\r\\n3/5/82,34,21.5\\r\\n3/6/82,30.9,19.5\\r\\n3/7/82,29.6,16.7\\r\\n3/8/82,26.1,19.1\\r\\n3/9/82,18.5,11\\r\\n3/10/82,21.2,9\\r\\n3/11/82,22.4,10\\r\\n3/12/82,21.4,14.6\\r\\n3/13/82,30.5,12.5\\r\\n3/14/82,32,17.2\\r\\n3/15/82,32.7,19.2\\r\\n3/16/82,27.4,22.2\\r\\n3/17/82,18.9,15.7\\r\\n3/18/82,19.4,14.2\\r\\n3/19/82,22.2,9.8\\r\\n3/20/82,30.2,14\\r\\n3/21/82,31.8,17.5\\r\\n3/22/82,31.4,20.7\\r\\n3/23/82,18.5,15.6\\r\\n3/24/82,22.2,13.2\\r\\n3/25/82,27.5,14.5\\r\\n3/26/82,25.8,16.8\\r\\n3/27/82,25.2,17.2\\r\\n3/28/82,19.1,13.4\\r\\n3/29/82,19.6,14.2\\r\\n3/30/82,21.4,14.3\\r\\n3/31/82,20.7,10.2\\r\\n4/1/82,28.3,10.4\\r\\n4/2/82,23,12.3\\r\\n4/3/82,16.5,11.9\\r\\n4/4/82,18.8,11.2\\r\\n4/5/82,20,8.5\\r\\n4/6/82,20.6,12\\r\\n4/7/82,19.8,12.4\\r\\n4/8/82,20.3,12.9\\r\\n4/9/82,26.6,10.1\\r\\n4/10/82,21.5,15\\r\\n4/11/82,22.3,13.6\\r\\n4/12/82,26.5,12.4\\r\\n4/13/82,27.1,13.6\\r\\n4/14/82,30,16.1\\r\\n4/15/82,28.2,19.5\\r\\n4/16/82,17.3,14.2\\r\\n4/17/82,16.8,9.3\\r\\n4/18/82,17.5,10.1\\r\\n4/19/82,19.2,7.4\\r\\n4/20/82,20.3,8.6\\r\\n4/21/82,20.6,7.8\\r\\n4/22/82,23.7,9.1\\r\\n4/23/82,24.3,13\\r\\n4/24/82,26.4,16.5\\r\\n4/25/82,16,12.9\\r\\n4/26/82,14.5,6.9\\r\\n4/27/82,14.2,6.9\\r\\n4/28/82,16.5,8.7\\r\\n4/29/82,15.7,10\\r\\n4/30/82,16,10.8\\r\\n5/1/82,16.7,7.5\\r\\n5/2/82,19.8,6.3\\r\\n5/3/82,22.5,11.9\\r\\n5/4/82,22.9,13.8\\r\\n5/5/82,18.8,11.8\\r\\n5/6/82,15.7,11\\r\\n5/7/82,14.7,10.1\\r\\n5/8/82,15.3,8.5\\r\\n5/9/82,15.3,5.5\\r\\n5/10/82,18,7.6\\r\\n5/11/82,15.1,8.7\\r\\n5/12/82,15.1,10.8\\r\\n5/13/82,13.6,11.2\\r\\n5/14/82,15.3,9.1\\r\\n5/15/82,18,3.7\\r\\n5/16/82,18.6,4.6\\r\\n5/17/82,22,6.6\\r\\n5/18/82,22.1,13.2\\r\\n5/19/82,17.8,15.2\\r\\n5/20/82,15.2,7.6\\r\\n5/21/82,11.3,8.4\\r\\n5/22/82,13.5,6\\r\\n5/23/82,16.1,8.3\\r\\n5/24/82,16,8.6\\r\\n5/25/82,16.5,11.1\\r\\n5/26/82,16.7,12.1\\r\\n5/27/82,19.6,12.9\\r\\n5/28/82,19.5,14\\r\\n5/29/82,300,12.5\\r\\n5/30/82,18.4,11.5\\r\\n5/31/82,12.9,7\\r\\n6/1/82,14.9,7.1\\r\\n6/2/82,12.4,9\\r\\n6/3/82,11.9,3.1\\r\\n6/4/82,11.7,2.5\\r\\n6/5/82,12.9,0\\r\\n6/6/82,12.9,1.6\\r\\n6/7/82,12.4,2.6\\r\\n6/8/82,12.5,5.7\\r\\n6/9/82,15.7,2.3\\r\\n6/10/82,15.9,4.5\\r\\n6/11/82,14.3,8.2\\r\\n6/12/82,16.9,6.9\\r\\n6/13/82,14,7.3\\r\\n6/14/82,13.6,6\\r\\n6/15/82,13.7,7.3\\r\\n6/16/82,16,7.6\\r\\n6/17/82,13.1,8\\r\\n6/18/82,13.8,8\\r\\n6/19/82,13.4,6.8\\r\\n6/20/82,11.3,7.3\\r\\n6/21/82,10.6,6.2\\r\\n6/22/82,13.9,6.9\\r\\n6/23/82,12.7,8.9\\r\\n6/24/82,12.5,4\\r\\n6/25/82,11.3,1.3\\r\\n6/26/82,11.6,0.8\\r\\n6/27/82,14,4.3\\r\\n6/28/82,13.7,7.3\\r\\n6/29/82,15.2,7.7\\r\\n6/30/82,14,9\\r\\n7/1/82,11.4,4.2\\r\\n7/2/82,14.2,1.6\\r\\n7/3/82,15.2,2.6\\r\\n7/4/82,12.6,3.4\\r\\n7/5/82,10.2,3.9\\r\\n7/6/82,13.9,7\\r\\n7/7/82,13.7,7.8\\r\\n7/8/82,13.6,5.3\\r\\n7/9/82,13.2,2.4\\r\\n7/10/82,15.4,2.8\\r\\n7/11/82,12.9,4\\r\\n7/12/82,11.9,7.5\\r\\n7/13/82,13.3,7.8\\r\\n7/14/82,13.3,5.6\\r\\n7/15/82,10.5,3.3\\r\\n7/16/82,10,5\\r\\n7/17/82,11,3.7\\r\\n7/18/82,8.3,3.9\\r\\n7/19/82,10.7,5.2\\r\\n7/20/82,11.2,0.2\\r\\n7/21/82,11.7,0.8\\r\\n7/22/82,14.2,0.9\\r\\n7/23/82,14.5,3.5\\r\\n7/24/82,16,6.6\\r\\n7/25/82,16.7,9.5\\r\\n7/26/82,14.4,9\\r\\n7/27/82,17,3.5\\r\\n7/28/82,14.6,4.5\\r\\n7/29/82,11.6,5.7\\r\\n7/30/82,12.8,5.6\\r\\n7/31/82,14,7.1\\r\\n8/1/82,17.1,9.7\\r\\n8/2/82,15.4,8.3\\r\\n8/3/82,15.5,9.1\\r\\n8/4/82,15.1,2.8\\r\\n8/5/82,16.9,2.2\\r\\n8/6/82,14.2,4.5\\r\\n8/7/82,15.9,3.8\\r\\n8/8/82,18.2,3.8\\r\\n8/9/82,19.5,6.2\\r\\n8/10/82,19.5,11.5\\r\\n8/11/82,19.8,10.2\\r\\n8/12/82,15.6,7.9\\r\\n8/13/82,14.1,9\\r\\n8/14/82,17,9.5\\r\\n8/15/82,14.3,6\\r\\n8/16/82,13.1,8.2\\r\\n8/17/82,13.7,9.2\\r\\n8/18/82,18.2,4.3\\r\\n8/19/82,19.8,6.6\\r\\n8/20/82,22.3,9.4\\r\\n8/21/82,17.8,13.2\\r\\n8/22/82,15,6.6\\r\\n8/23/82,22.6,5.1\\r\\n8/24/82,23.7,12.1\\r\\n8/25/82,15.8,11.2\\r\\n8/26/82,15,8.5\\r\\n8/27/82,23.5,4.6\\r\\n8/28/82,25.7,7\\r\\n8/29/82,26.5,14.2\\r\\n8/30/82,15.1,12.7\\r\\n8/31/82,13.9,7.6\\r\\n9/1/82,20.5,4\\r\\n9/2/82,21.4,10\\r\\n9/3/82,14.9,10.5\\r\\n9/4/82,15,5\\r\\n9/5/82,18.9,4.5\\r\\n9/6/82,11.7,8.2\\r\\n9/7/82,15.5,4.3\\r\\n9/8/82,17.7,9.8\\r\\n9/9/82,11,5.8\\r\\n9/10/82,14.9,5\\r\\n9/11/82,13.1,8.5\\r\\n9/12/82,13.7,9\\r\\n9/13/82,15.4,3.6\\r\\n9/14/82,15.6,6.7\\r\\n9/15/82,23.9,6.7\\r\\n9/16/82,23.7,10.1\\r\\n9/17/82,24.3,15\\r\\n9/18/82,15.9,8.9\\r\\n9/19/82,13.5,5.7\\r\\n9/20/82,15.3,4.2\\r\\n9/21/82,19.3,4\\r\\n9/22/82,20.5,5.3\\r\\n9/23/82,22.5,6.3\\r\\n9/24/82,23.2,8.5\\r\\n9/25/82,16.3,11.5\\r\\n9/26/82,14.8,7.7\\r\\n9/27/82,13.7,9.2\\r\\n9/28/82,18.4,7.8\\r\\n9/29/82,12.3,6.3\\r\\n9/30/82,13.3,6.3\\r\\n10/1/82,16.2,8.6\\r\\n10/2/82,25.6,6.1\\r\\n10/3/82,24.1,13.2\\r\\n10/4/82,13.8,9.9\\r\\n10/5/82,15.9,4.7\\r\\n10/6/82,21.2,5.8\\r\\n10/7/82,21.7,14.9\\r\\n10/8/82,15.6,10.7\\r\\n10/9/82,13.5,8.6\\r\\n10/10/82,15,9.4\\r\\n10/11/82,21.2,5.7\\r\\n10/12/82,25.4,10.9\\r\\n10/13/82,19,13.1\\r\\n10/14/82,15,10.4\\r\\n10/15/82,16.4,8.2\\r\\n10/16/82,15.6,9.8\\r\\n10/17/82,13.7,7.5\\r\\n10/18/82,22,5.8\\r\\n10/19/82,17.4,9.8\\r\\n10/20/82,15.1,7.9\\r\\n10/21/82,14.6,8.7\\r\\n10/22/82,16.9,10\\r\\n10/23/82,15.9,10.6\\r\\n10/24/82,21.3,8\\r\\n10/25/82,29.7,10.2\\r\\n10/26/82,33,15.1\\r\\n10/27/82,22.7,13.9\\r\\n10/28/82,21.6,9.2\\r\\n10/29/82,30.3,9\\r\\n10/30/82,19,13.2\\r\\n10/31/82,14.6,7\\r\\n11/1/82,15.9,10.6\\r\\n11/2/82,20.4,6.9\\r\\n11/3/82,29.3,9.5\\r\\n11/4/82,33.7,12.5\\r\\n11/5/82,35.2,13.6\\r\\n11/6/82,38.1,17.7\\r\\n11/7/82,24.5,16\\r\\n11/8/82,26.3,11.3\\r\\n11/9/82,25,10.5\\r\\n11/10/82,17.9,14.4\\r\\n11/11/82,18.1,10.3\\r\\n11/12/82,23.3,9\\r\\n11/13/82,31.2,11.1\\r\\n11/14/82,32.8,14.5\\r\\n11/15/82,28,18\\r\\n11/16/82,19.7,12.8\\r\\n11/17/82,22.1,10.7\\r\\n11/18/82,16.3,9.1\\r\\n11/19/82,20.1,8.7\\r\\n11/20/82,21.7,12.4\\r\\n11/21/82,19.6,12.6\\r\\n11/22/82,30.8,10.3\\r\\n11/23/82,36.8,13.7\\r\\n11/24/82,38.1,16\\r\\n11/25/82,17.6,15.8\\r\\n11/26/82,21.2,12.1\\r\\n11/27/82,17.2,12.5\\r\\n11/28/82,20.7,12.2\\r\\n11/29/82,26.1,13.7\\r\\n11/30/82,34.5,16.1\\r\\n12/1/82,18.6,15.5\\r\\n12/2/82,20.1,10.3\\r\\n12/3/82,22.4,10.5\\r\\n12/4/82,19.1,11\\r\\n12/5/82,19.2,11.9\\r\\n12/6/82,28,13\\r\\n12/7/82,17.9,12.2\\r\\n12/8/82,18.1,10.6\\r\\n12/9/82,16,13\\r\\n12/10/82,18.5,13\\r\\n12/11/82,20.6,12.2\\r\\n12/12/82,33,12.6\\r\\n12/13/82,35.2,18.7\\r\\n12/14/82,24,15.2\\r\\n12/15/82,26,15.3\\r\\n12/16/82,28,13.9\\r\\n12/17/82,23,15.8\\r\\n12/18/82,19,13\\r\\n12/19/82,19.1,13\\r\\n12/20/82,18,13.7\\r\\n12/21/82,19.4,12\\r\\n12/22/82,32.5,10.8\\r\\n12/23/82,32.6,15.6\\r\\n12/24/82,18.1,15.3\\r\\n12/25/82,19.7,13.9\\r\\n12/26/82,28,13\\r\\n12/27/82,28,15.3\\r\\n12/28/82,23.8,16.3\\r\\n12/29/82,31.4,15.8\\r\\n12/30/82,22,17.7\\r\\n12/31/82,35.8,16.3\\r\\n1/1/83,23,18.4\\r\\n1/2/83,18.9,15\\r\\n1/3/83,25.4,10.9\\r\\n1/4/83,28,11.4\\r\\n1/5/83,19.2,14.8\\r\\n1/6/83,21.5,12.1\\r\\n1/7/83,28.8,12.8\\r\\n1/8/83,37.3,16.2\\r\\n1/9/83,24.6,15.5\\r\\n1/10/83,21.3,13\\r\\n1/11/83,17.9,10.5\\r\\n1/12/83,17.5,9.1\\r\\n1/13/83,18.7,10.5\\r\\n1/14/83,18.1,11.8\\r\\n1/15/83,19.7,12.7\\r\\n1/16/83,22.1,12.7\\r\\n1/17/83,19.6,11.5\\r\\n1/18/83,18,13.8\\r\\n1/19/83,19.9,13.3\\r\\n1/20/83,28.5,11.6\\r\\n1/21/83,23,15.4\\r\\n1/22/83,37,12.4\\r\\n1/23/83,19,16.9\\r\\n1/24/83,19.4,14.7\\r\\n1/25/83,35,10.6\\r\\n1/26/83,27.7,15.6\\r\\n1/27/83,23.9,10.7\\r\\n1/28/83,25.6,12.6\\r\\n1/29/83,27.7,13.8\\r\\n1/30/83,24.3,14.3\\r\\n1/31/83,38.6,14\\r\\n2/1/83,41.2,18.1\\r\\n2/2/83,22,17.3\\r\\n2/3/83,22.5,13\\r\\n2/4/83,22.3,16\\r\\n2/5/83,25.5,14.9\\r\\n2/6/83,36.6,16.2\\r\\n2/7/83,35.7,20.3\\r\\n2/8/83,43.2,22.5\\r\\n2/9/83,28,17.2\\r\\n2/10/83,25.5,15.9\\r\\n2/11/83,21.6,16.8\\r\\n2/12/83,21.8,13.8\\r\\n2/13/83,23.3,12.8\\r\\n2/14/83,34.3,14\\r\\n2/15/83,31.2,17.5\\r\\n2/16/83,43,21.5\\r\\n2/17/83,20.2,16.8\\r\\n2/18/83,20.3,13.6\\r\\n2/19/83,22.2,14.5\\r\\n2/20/83,24,14.2\\r\\n2/21/83,34.4,15.7\\r\\n2/22/83,32.9,19.7\\r\\n2/23/83,21.6,17.4\\r\\n2/24/83,26.5,14.4\\r\\n2/25/83,33.2,16.9\\r\\n2/26/83,38.6,19.1\\r\\n2/27/83,24.4,20.4\\r\\n2/28/83,28.3,20.1\\r\\n3/1/83,35.2,19.9\\r\\n3/2/83,28.7,22\\r\\n3/3/83,35.6,20.5\\r\\n3/4/83,37.2,22.1\\r\\n3/5/83,25.5,20.6\\r\\n3/6/83,31.5,15\\r\\n3/7/83,30.2,20.6\\r\\n3/8/83,29,21.5\\r\\n3/9/83,21.4,16.2\\r\\n3/10/83,28.5,14.1\\r\\n3/11/83,32.1,14.5\\r\\n3/12/83,23.5,21.1\\r\\n3/13/83,20,15.9\\r\\n3/14/83,21,15.2\\r\\n3/15/83,20,13.1\\r\\n3/16/83,21.8,13.2\\r\\n3/17/83,24.3,12.5\\r\\n3/18/83,30.9,15.2\\r\\n3/19/83,21.6,17.6\\r\\n3/20/83,22.2,15.5\\r\\n3/21/83,20.2,16.7\\r\\n3/22/83,20.5,16.3\\r\\n3/23/83,17.6,15.1\\r\\n3/24/83,18.6,12.7\\r\\n3/25/83,17.7,10\\r\\n3/26/83,18,11.4\\r\\n3/27/83,18.6,12.6\\r\\n3/28/83,18.6,10.7\\r\\n3/29/83,25.9,10\\r\\n3/30/83,19.8,13.9\\r\\n3/31/83,18.7,13.4\\r\\n4/1/83,17.9,12.5\\r\\n4/2/83,17.3,12.8\\r\\n4/3/83,18.1,7.8\\r\\n4/4/83,14.6,11.1\\r\\n4/5/83,14.1,10.7\\r\\n4/6/83,15.7,7.1\\r\\n4/7/83,16,6.7\\r\\n4/8/83,21.6,5.7\\r\\n4/9/83,21.4,9.1\\r\\n4/10/83,23.8,15.2\\r\\n4/11/83,21.7,15.5\\r\\n4/12/83,16.6,11.1\\r\\n4/13/83,16.7,11.7\\r\\n4/14/83,18.1,11.5\\r\\n4/15/83,14.5,9.8\\r\\n4/16/83,14.7,6.2\\r\\n4/17/83,16.4,6.7\\r\\n4/18/83,16.5,7.5\\r\\n4/19/83,22.7,8.8\\r\\n4/20/83,23.8,8\\r\\n4/21/83,24.6,10.4\\r\\n4/22/83,23.6,14.5\\r\\n4/23/83,19.8,16.5\\r\\n4/24/83,19.8,14.1\\r\\n4/25/83,18,10.5\\r\\n4/26/83,17.6,12.6\\r\\n4/27/83,19,13\\r\\n4/28/83,17.5,8.7\\r\\n4/29/83,17,10.1\\r\\n4/30/83,19.9,12\\r\\n5/1/83,18.5,12.5\\r\\n5/2/83,18.7,13.5\\r\\n5/3/83,17.8,13.7\\r\\n5/4/83,17,13.5\\r\\n5/5/83,17.6,10.7\\r\\n5/6/83,18.7,13\\r\\n5/7/83,17,11.6\\r\\n5/8/83,18.8,13\\r\\n5/9/83,17.5,11.2\\r\\n5/10/83,19.5,13.5\\r\\n5/11/83,16.6,12.9\\r\\n5/12/83,19.1,6.8\\r\\n5/13/83,21.2,10\\r\\n5/14/83,20.2,14.5\\r\\n5/15/83,17.9,11.7\\r\\n5/16/83,14.3,6.7\\r\\n5/17/83,16,4.6\\r\\n5/18/83,17.7,4.9\\r\\n5/19/83,18.6,7.4\\r\\n5/20/83,19.1,8.3\\r\\n5/21/83,13.7,7.5\\r\\n5/22/83,17.5,6.2\\r\\n5/23/83,16.1,7.8\\r\\n5/24/83,15.2,13.2\\r\\n5/25/83,17.3,11.9\\r\\n5/26/83,14.9,6.5\\r\\n5/27/83,18.4,8.3\\r\\n5/28/83,17.2,12.1\\r\\n5/29/83,12.2,9.3\\r\\n5/30/83,13.9,7.5\\r\\n5/31/83,14,9.3\\r\\n6/1/83,15.3,11\\r\\n6/2/83,15,10.8\\r\\n6/3/83,15.1,5.3\\r\\n6/4/83,16.6,7.6\\r\\n6/5/83,16.5,5.6\\r\\n6/6/83,16.1,7.2\\r\\n6/7/83,13.5,9.6\\r\\n6/8/83,13,7\\r\\n6/9/83,13.6,8.3\\r\\n6/10/83,11.8,7.8\\r\\n6/11/83,14.5,4.7\\r\\n6/12/83,14,6.8\\r\\n6/13/83,14.1,7.2\\r\\n6/14/83,13.5,8.3\\r\\n6/15/83,12.1,9.5\\r\\n6/16/83,11.9,4.7\\r\\n6/17/83,11.9,3\\r\\n6/18/83,14.2,1.5\\r\\n6/19/83,14,2.5\\r\\n6/20/83,17.9,6.2\\r\\n6/21/83,19.1,11.6\\r\\n6/22/83,15.1,6.6\\r\\n6/23/83,13.8,6.6\\r\\n6/24/83,13.7,8\\r\\n6/25/83,10,7.9\\r\\n6/26/83,10.3,3.3\\r\\n6/27/83,10.4,3.9\\r\\n6/28/83,12,6\\r\\n6/29/83,8.5,4\\r\\n6/30/83,14.4,5.5\\r\\n7/1/83,13.1,8.5\\r\\n7/2/83,14,9.8\\r\\n7/3/83,11.8,9.5\\r\\n7/4/83,13.9,7.2\\r\\n7/5/83,12.9,8.1\\r\\n7/6/83,11,8\\r\\n7/7/83,11.8,8.5\\r\\n7/8/83,10.7,8.8\\r\\n7/9/83,11.2,8.3\\r\\n7/10/83,10.3,2.4\\r\\n7/11/83,12.2,4.9\\r\\n7/12/83,12.4,5.9\\r\\n7/13/83,14.7,6.7\\r\\n7/14/83,15.1,8.4\\r\\n7/15/83,15,6.5\\r\\n7/16/83,14,7.9\\r\\n7/17/83,15.2,4.1\\r\\n7/18/83,14.2,5.4\\r\\n7/19/83,8.7,7.5\\r\\n7/20/83,11,3.9\\r\\n7/21/83,14.2,2.5\\r\\n7/22/83,15.2,5.3\\r\\n7/23/83,12.2,6.6\\r\\n7/24/83,13,0\\r\\n7/25/83,14.7,0.7\\r\\n7/26/83,17.2,7.6\\r\\n7/27/83,13.7,12.3\\r\\n7/28/83,14.8,9.2\\r\\n7/29/83,13.8,9.6\\r\\n7/30/83,13.7,9.5\\r\\n7/31/83,13.1,10\\r\\n8/1/83,12.7,7.7\\r\\n8/2/83,12.3,8\\r\\n8/3/83,12.4,8.3\\r\\n8/4/83,13,8.3\\r\\n8/5/83,13.5,4.5\\r\\n8/6/83,13.5,6.5\\r\\n8/7/83,14.7,9.4\\r\\n8/8/83,13.4,9.4\\r\\n8/9/83,15.9,10.5\\r\\n8/10/83,16,10.7\\r\\n8/11/83,15.3,9.9\\r\\n8/12/83,15.5,7.6\\r\\n8/13/83,18.2,5.8\\r\\n8/14/83,18.6,8.5\\r\\n8/15/83,18.5,13.8\\r\\n8/16/83,19.2,14.3\\r\\n8/17/83,14.2,8.3\\r\\n8/18/83,12.8,5.3\\r\\n8/19/83,13.1,3\\r\\n8/20/83,15.4,5.2\\r\\n8/21/83,17.3,10.3\\r\\n8/22/83,14.5,11.1\\r\\n8/23/83,19.5,10.5\\r\\n8/24/83,20.2,9\\r\\n8/25/83,16.3,13\\r\\n8/26/83,13,6.4\\r\\n8/27/83,13.3,8.4\\r\\n8/28/83,13.3,6.7\\r\\n8/29/83,19,8.3\\r\\n8/30/83,16.8,11.2\\r\\n8/31/83,19.2,10\\r\\n9/1/83,18.5,10.1\\r\\n9/2/83,19,10.6\\r\\n9/3/83,17.4,10.9\\r\\n9/4/83,15.3,5.7\\r\\n9/5/83,15.8,9.5\\r\\n9/6/83,18.7,10.4\\r\\n9/7/83,17.8,11.1\\r\\n9/8/83,16.5,12.2\\r\\n9/9/83,15.3,10.6\\r\\n9/10/83,13.2,8.8\\r\\n9/11/83,12,9.2\\r\\n9/12/83,14,5.5\\r\\n9/13/83,9.5,7.1\\r\\n9/14/83,13,6.5\\r\\n9/15/83,17.6,4.3\\r\\n9/16/83,19.6,5\\r\\n9/17/83,17.2,11.2\\r\\n9/18/83,17.3,7.5\\r\\n9/19/83,17,12\\r\\n9/20/83,16.3,13.6\\r\\n9/21/83,17.3,8.3\\r\\n9/22/83,20.3,8.5\\r\\n9/23/83,16.9,12.9\\r\\n9/24/83,13.5,7.7\\r\\n9/25/83,13.3,7.6\\r\\n9/26/83,20.7,3.5\\r\\n9/27/83,19.8,10.4\\r\\n9/28/83,20.8,15.4\\r\\n9/29/83,19.8,10.6\\r\\n9/30/83,19.5,9.6\\r\\n10/1/83,23.4,9.3\\r\\n10/2/83,14.2,13.9\\r\\n10/3/83,14.2,7.7\\r\\n10/4/83,16.6,9.5\\r\\n10/5/83,17,7.6\\r\\n10/6/83,15.6,6.9\\r\\n10/7/83,14.8,6.8\\r\\n10/8/83,17.2,5.8\\r\\n10/9/83,20.2,6\\r\\n10/10/83,16.7,8.3\\r\\n10/11/83,18.2,9.1\\r\\n10/12/83,18.1,12.5\\r\\n10/13/83,22.5,13.2\\r\\n10/14/83,23.4,16.2\\r\\n10/15/83,15.3,12.5\\r\\n10/16/83,13.7,11.8\\r\\n10/17/83,15.6,10.6\\r\\n10/18/83,18.9,10\\r\\n10/19/83,15.1,12.2\\r\\n10/20/83,16.6,8.9\\r\\n10/21/83,17.7,10.3\\r\\n10/22/83,23,7.5\\r\\n10/23/83,16.8,11.6\\r\\n10/24/83,21.3,12.6\\r\\n10/25/83,17.9,12.9\\r\\n10/26/83,23.6,11.7\\r\\n10/27/83,25.3,14\\r\\n10/28/83,14.5,12.3\\r\\n10/29/83,16.9,9\\r\\n10/30/83,16.3,9.2\\r\\n10/31/83,17.7,9.8\\r\\n11/1/83,18,11.8\\r\\n11/2/83,21.7,10.6\\r\\n11/3/83,22.3,12.6\\r\\n11/4/83,15.5,11\\r\\n11/5/83,16.7,8.2\\r\\n11/6/83,24.3,7.5\\r\\n11/7/83,23.5,13.6\\r\\n11/8/83,27.7,14.8\\r\\n11/9/83,18,10.9\\r\\n11/10/83,15.6,7.7\\r\\n11/11/83,19,10.2\\r\\n11/12/83,19.5,10.8\\r\\n11/13/83,20.1,10.8\\r\\n11/14/83,31.3,12.5\\r\\n11/15/83,15.6,13.2\\r\\n11/16/83,12.8,8.7\\r\\n11/17/83,13.8,5.7\\r\\n11/18/83,15.8,9.8\\r\\n11/19/83,16.4,7.3\\r\\n11/20/83,17.6,10.8\\r\\n11/21/83,28.2,10\\r\\n11/22/83,25.5,16.2\\r\\n11/23/83,22.7,15\\r\\n11/24/83,28,14.5\\r\\n11/25/83,17,15.9\\r\\n11/26/83,22.6,14.9\\r\\n11/27/83,24.5,14.2\\r\\n11/28/83,25.6,15.8\\r\\n11/29/83,27.5,17.2\\r\\n11/30/83,18.5,17.6\\r\\n12/1/83,18.2,12.1\\r\\n12/2/83,18.8,11.4\\r\\n12/3/83,17.8,13\\r\\n12/4/83,18.9,13.2\\r\\n12/5/83,24,12\\r\\n12/6/83,20.9,15.3\\r\\n12/7/83,16.8,12.7\\r\\n12/8/83,18.5,12.1\\r\\n12/9/83,20.6,13.8\\r\\n12/10/83,24.9,10.9\\r\\n12/11/83,28.1,12\\r\\n12/12/83,25.7,16.5\\r\\n12/13/83,19.2,15\\r\\n12/14/83,32.7,11.2\\r\\n12/15/83,21.3,13.9\\r\\n12/16/83,20.4,15\\r\\n12/17/83,20.5,14.8\\r\\n12/18/83,22.8,15\\r\\n12/19/83,35.3,13.3\\r\\n12/20/83,38.7,20.4\\r\\n12/21/83,21.4,18\\r\\n12/22/83,23.3,12.2\\r\\n12/23/83,22,16.7\\r\\n12/24/83,31.7,13.8\\r\\n12/25/83,23.4,17.5\\r\\n12/26/83,19.1,15\\r\\n12/27/83,19.5,13.9\\r\\n12/28/83,30,11.1\\r\\n12/29/83,32.4,16.1\\r\\n12/30/83,33.6,20.4\\r\\n12/31/83,30,18\\r\\n1/1/84,27.7,19.5\\r\\n1/2/84,28.1,17.1\\r\\n1/3/84,23.7,17.1\\r\\n1/4/84,20.6,12\\r\\n1/5/84,32.3,11\\r\\n1/6/84,31.2,16.3\\r\\n1/7/84,21.5,16.1\\r\\n1/8/84,23,13\\r\\n1/9/84,21.9,13.4\\r\\n1/10/84,23,15.2\\r\\n1/11/84,21.6,12.5\\r\\n1/12/84,27.2,14.3\\r\\n1/13/84,29.2,16.5\\r\\n1/14/84,32,18.6\\r\\n1/15/84,22.5,18\\r\\n1/16/84,23.9,18.2\\r\\n1/17/84,19.7,11.4\\r\\n1/18/84,19.5,11.9\\r\\n1/19/84,22,12.2\\r\\n1/20/84,22.1,14.8\\r\\n1/21/84,19.7,13.1\\r\\n1/22/84,19.4,12.7\\r\\n1/23/84,30.5,10.5\\r\\n1/24/84,28.5,13.8\\r\\n1/25/84,20.2,18.8\\r\\n1/26/84,19,13.9\\r\\n1/27/84,20.2,11.2\\r\\n1/28/84,22.6,10.6\\r\\n1/29/84,28.4,14.7\\r\\n1/30/84,18.6,13.1\\r\\n1/31/84,20.3,12.1\\r\\n2/1/84,19,14.7\\r\\n2/2/84,26.2,11.1\\r\\n2/3/84,30,13\\r\\n2/4/84,24.2,15.6\\r\\n2/5/84,23.4,14.2\\r\\n2/6/84,34.7,15.5\\r\\n2/7/84,20.4,18\\r\\n2/8/84,20.7,15\\r\\n2/9/84,20,15.9\\r\\n2/10/84,19.5,15.5\\r\\n2/11/84,31.6,15.8\\r\\n2/12/84,33.7,16.6\\r\\n2/13/84,23.5,13.6\\r\\n2/14/84,24.6,13.8\\r\\n2/15/84,33.9,14.6\\r\\n2/16/84,22.4,15.6\\r\\n2/17/84,24.3,16.6\\r\\n2/18/84,29.5,14.3\\r\\n2/19/84,31.7,16.3\\r\\n2/20/84,32.9,18.9\\r\\n2/21/84,20.5,18.7\\r\\n2/22/84,28.5,14.5\\r\\n2/23/84,27.3,16.5\\r\\n2/24/84,19.5,14.1\\r\\n2/25/84,21.4,13.5\\r\\n2/26/84,33.2,11.7\\r\\n2/27/84,35,15.1\\r\\n2/28/84,18.1,11.2\\r\\n2/29/84,17.2,13.5\\r\\n3/1/84,18.1,12.6\\r\\n3/2/84,19.5,8.8\\r\\n3/3/84,21.5,10.5\\r\\n3/4/84,29.2,12.1\\r\\n3/5/84,33.8,14.5\\r\\n3/6/84,20.8,19.5\\r\\n3/7/84,17.5,14\\r\\n3/8/84,21,13.8\\r\\n3/9/84,27.4,10.5\\r\\n3/10/84,21.2,13.8\\r\\n3/11/84,27.1,11.4\\r\\n3/12/84,22.8,15.6\\r\\n3/13/84,18.7,11.1\\r\\n3/14/84,19,12.1\\r\\n3/15/84,19.7,14.2\\r\\n3/16/84,28.7,10.9\\r\\n3/17/84,25.5,14.2\\r\\n3/18/84,18.4,13.8\\r\\n3/19/84,18.5,15.1\\r\\n3/20/84,23.6,14\\r\\n3/21/84,26.9,12.1\\r\\n3/22/84,28,13.8\\r\\n3/23/84,24.7,16.6\\r\\n3/24/84,21.5,17.8\\r\\n3/25/84,17.5,9.4\\r\\n3/26/84,16.1,10.2\\r\\n3/27/84,18.7,7.4\\r\\n3/28/84,24.5,8.7\\r\\n3/29/84,27.6,14\\r\\n3/30/84,17.4,15.3\\r\\n3/31/84,18.2,11.1\\r\\n4/1/84,19.7,9.7\\r\\n4/2/84,18.5,10.3\\r\\n4/3/84,17.7,9.2\\r\\n4/4/84,20.7,8.2\\r\\n4/5/84,21.2,9.7\\r\\n4/6/84,17.2,12.4\\r\\n4/7/84,21.5,12.5\\r\\n4/8/84,22,9\\r\\n4/9/84,23.2,9.7\\r\\n4/10/84,25.4,10.1\\r\\n4/11/84,24.6,11.2\\r\\n4/12/84,24.8,12\\r\\n4/13/84,25,11.1\\r\\n4/14/84,25,10.8\\r\\n4/15/84,18.2,12.8\\r\\n4/16/84,21.5,9.8\\r\\n4/17/84,16.2,13.7\\r\\n4/18/84,17.3,11\\r\\n4/19/84,15.5,13.2\\r\\n4/20/84,16.4,13\\r\\n4/21/84,19.6,10.2\\r\\n4/22/84,18.5,13.2\\r\\n4/23/84,16.5,9.3\\r\\n4/24/84,16,11.1\\r\\n4/25/84,17.7,10.3\\r\\n4/26/84,19.2,8.7\\r\\n4/27/84,16.8,11.7\\r\\n4/28/84,16.5,12.5\\r\\n4/29/84,22.5,6.5\\r\\n4/30/84,22.7,9.6\\r\\n5/1/84,23.5,13.8\\r\\n5/2/84,19,14.7\\r\\n5/3/84,15.5,9.1\\r\\n5/4/84,13.5,4.8\\r\\n5/5/84,14,3.3\\r\\n5/6/84,14.7,3.5\\r\\n5/7/84,15.6,5.7\\r\\n5/8/84,17,5.5\\r\\n5/9/84,18,7\\r\\n5/10/84,19.6,9.5\\r\\n5/11/84,17.1,9.9\\r\\n5/12/84,16.7,4.9\\r\\n5/13/84,16.9,6.3\\r\\n5/14/84,18.2,4.8\\r\\n5/15/84,19.4,6.2\\r\\n5/16/84,22,7.1\\r\\n5/17/84,21.7,7.5\\r\\n5/18/84,22,9.4\\r\\n5/19/84,22.2,8.7\\r\\n5/20/84,20,9.5\\r\\n5/21/84,16.5,12.1\\r\\n5/22/84,15.6,9.5\\r\\n5/23/84,15,9.3\\r\\n5/24/84,16.6,8.5\\r\\n5/25/84,18.7,8\\r\\n5/26/84,18.7,9.8\\r\\n5/27/84,18.1,6.2\\r\\n5/28/84,15.6,7.3\\r\\n5/29/84,20.1,10.9\\r\\n5/30/84,20.3,10\\r\\n5/31/84,15.2,8.7\\r\\n6/1/84,17.1,9\\r\\n6/2/84,16.3,10.8\\r\\n6/3/84,18.3,12.4\\r\\n6/4/84,18.3,7.2\\r\\n6/5/84,19,7.2\\r\\n6/6/84,20,11.1\\r\\n6/7/84,15.7,9.3\\r\\n6/8/84,14.9,10.1\\r\\n6/9/84,13.1,3.9\\r\\n6/10/84,13.6,5\\r\\n6/11/84,13.8,8.2\\r\\n6/12/84,15,2.8\\r\\n6/13/84,16.9,4.3\\r\\n6/14/84,18.3,8.1\\r\\n6/15/84,16.4,11.1\\r\\n6/16/84,14,4.7\\r\\n6/17/84,12.5,5.3\\r\\n6/18/84,12.8,10\\r\\n6/19/84,12.2,5.6\\r\\n6/20/84,14.2,2.2\\r\\n6/21/84,14.2,7.1\\r\\n6/22/84,15.5,8.3\\r\\n6/23/84,15.1,8.6\\r\\n6/24/84,14.4,10.1\\r\\n6/25/84,12.9,8.3\\r\\n6/26/84,10.8,7.2\\r\\n6/27/84,11.7,7.7\\r\\n6/28/84,13.3,7.8\\r\\n6/29/84,12.4,9.1\\r\\n6/30/84,13.4,9.4\\r\\n7/1/84,10.6,7.8\\r\\n7/2/84,7,2.6\\r\\n7/3/84,12.6,2.4\\r\\n7/4/84,13.2,3.9\\r\\n7/5/84,12.1,1.3\\r\\n7/6/84,10.3,2.1\\r\\n7/7/84,15.7,7.4\\r\\n7/8/84,11.7,7.2\\r\\n7/9/84,15.1,8.8\\r\\n7/10/84,15.8,8.9\\r\\n7/11/84,15,8.8\\r\\n7/12/84,11.6,8\\r\\n7/13/84,11.4,0.7\\r\\n7/14/84,10,0.1\\r\\n7/15/84,14.7,0.9\\r\\n7/16/84,13.6,7.8\\r\\n7/17/84,13.2,7.2\\r\\n7/18/84,11,8\\r\\n7/19/84,13,4.6\\r\\n7/20/84,12,5.2\\r\\n7/21/84,10.6,5.8\\r\\n7/22/84,13.3,6.8\\r\\n7/23/84,14.5,8.1\\r\\n7/24/84,13.5,7.5\\r\\n7/25/84,15.9,5.4\\r\\n7/26/84,12.8,4.6\\r\\n7/27/84,11.7,6.4\\r\\n7/28/84,13,9.7\\r\\n7/29/84,14,7\\r\\n7/30/84,16,10\\r\\n7/31/84,17,10.6\\r\\n8/1/84,16.3,11.5\\r\\n8/2/84,17.6,10.2\\r\\n8/3/84,19.5,11.1\\r\\n8/4/84,14,11\\r\\n8/5/84,17.5,8.9\\r\\n8/6/84,19.2,9.9\\r\\n8/7/84,18.5,11.7\\r\\n8/8/84,15.1,11.6\\r\\n8/9/84,15.4,9\\r\\n8/10/84,13.3,6.3\\r\\n8/11/84,13.1,8.7\\r\\n8/12/84,12.8,8.5\\r\\n8/13/84,12,8.5\\r\\n8/14/84,13.3,8\\r\\n8/15/84,12.9,6\\r\\n8/16/84,15.4,8\\r\\n8/17/84,13.4,8.5\\r\\n8/18/84,15.1,7.7\\r\\n8/19/84,14.7,8.4\\r\\n8/20/84,14.9,9\\r\\n8/21/84,16.8,8.3\\r\\n8/22/84,15.8,6.8\\r\\n8/23/84,17,9.3\\r\\n8/24/84,14.1,6.7\\r\\n8/25/84,16.5,9\\r\\n8/26/84,12.4,7.3\\r\\n8/27/84,12.7,6.3\\r\\n8/28/84,14.6,7.9\\r\\n8/29/84,17.6,5.2\\r\\n8/30/84,19.6,9\\r\\n8/31/84,17.3,11.3\\r\\n9/1/84,17.9,9.2\\r\\n9/2/84,17.8,11.3\\r\\n9/3/84,13,7\\r\\n9/4/84,13.2,8\\r\\n9/5/84,17.1,4.6\\r\\n9/6/84,19.6,8.5\\r\\n9/7/84,16.3,9.5\\r\\n9/8/84,16.9,9.4\\r\\n9/9/84,22.2,10.5\\r\\n9/10/84,12,9.7\\r\\n9/11/84,14.2,4.9\\r\\n9/12/84,16.8,8\\r\\n9/13/84,16.9,5.8\\r\\n9/14/84,22,5.5\\r\\n9/15/84,16.4,10.9\\r\\n9/16/84,14.2,11.7\\r\\n9/17/84,11.8,9.2\\r\\n9/18/84,15.2,8.9\\r\\n9/19/84,12.6,11.3\\r\\n9/20/84,13.2,8.6\\r\\n9/21/84,14.4,6.2\\r\\n9/22/84,15,6.6\\r\\n9/23/84,16.5,9.1\\r\\n9/24/84,13.3,6.1\\r\\n9/25/84,14.5,7.5\\r\\n9/26/84,16.7,10.7\\r\\n9/27/84,13.8,6.3\\r\\n9/28/84,12.4,5.5\\r\\n9/29/84,13.7,6.7\\r\\n9/30/84,19.9,4.2\\r\\n10/1/84,24,11.3\\r\\n10/2/84,18.7,16.3\\r\\n10/3/84,18.9,10.5\\r\\n10/4/84,20.2,10.3\\r\\n10/5/84,19.9,7.9\\r\\n10/6/84,24,7.7\\r\\n10/7/84,27.3,16\\r\\n10/8/84,24.2,14.6\\r\\n10/9/84,18,12.5\\r\\n10/10/84,21.3,8.1\\r\\n10/11/84,26.6,12.2\\r\\n10/12/84,18.5,17.2\\r\\n10/13/84,18.2,9.4\\r\\n10/14/84,21,8.7\\r\\n10/15/84,12,5.9\\r\\n10/16/84,12.2,4.8\\r\\n10/17/84,14.1,7.4\\r\\n10/18/84,16.5,9.4\\r\\n10/19/84,15.5,9.7\\r\\n10/20/84,15,9.9\\r\\n10/21/84,20.8,6.5\\r\\n10/22/84,27.3,9.8\\r\\n10/23/84,28.4,18.2\\r\\n10/24/84,18.9,11.3\\r\\n10/25/84,18.2,9.1\\r\\n10/26/84,25.5,9.6\\r\\n10/27/84,15.9,13.5\\r\\n10/28/84,15.5,10.7\\r\\n10/29/84,21.4,10\\r\\n10/30/84,23.2,8.5\\r\\n10/31/84,26.8,12.6\\r\\n11/1/84,23.9,16.6\\r\\n11/2/84,19.1,11.6\\r\\n11/3/84,15.2,12.2\\r\\n11/4/84,14.9,11.2\\r\\n11/5/84,21.3,9.2\\r\\n11/6/84,25.4,9.9\\r\\n11/7/84,28.7,11.9\\r\\n11/8/84,32.3,15.6\\r\\n11/9/84,25.7,19\\r\\n11/10/84,19,12.8\\r\\n11/11/84,19.4,12.2\\r\\n11/12/84,15,12\\r\\n11/13/84,16.5,11.1\\r\\n11/14/84,16.3,11.8\\r\\n11/15/84,28.9,7.6\\r\\n11/16/84,27.4,13\\r\\n11/17/84,32.9,12.7\\r\\n11/18/84,27,16\\r\\n11/19/84,23.7,14.8\\r\\n11/20/84,22.8,14.2\\r\\n11/21/84,16.5,10\\r\\n11/22/84,14,8.8\\r\\n11/23/84,18,11.6\\r\\n11/24/84,28.2,8.6\\r\\n11/25/84,32.8,14.6\\r\\n11/26/84,28,24.3\\r\\n11/27/84,22.2,11.6\\r\\n11/28/84,21.8,10.8\\r\\n11/29/84,18.7,12\\r\\n11/30/84,25.5,11\\r\\n12/1/84,27.6,12.6\\r\\n12/2/84,16.5,10.8\\r\\n12/3/84,15.9,9.1\\r\\n12/4/84,16.8,11\\r\\n12/5/84,17.9,13\\r\\n12/6/84,23.1,12.8\\r\\n12/7/84,22.8,9.9\\r\\n12/8/84,24.2,11.6\\r\\n12/9/84,27.7,10.5\\r\\n12/10/84,21.3,15.9\\r\\n12/11/84,23.5,12.2\\r\\n12/12/84,17.9,13\\r\\n12/13/84,24.2,12.5\\r\\n12/14/84,20,12.5\\r\\n12/15/84,23.7,11.4\\r\\n12/16/84,27,12.1\\r\\n12/17/84,24.6,16.8\\r\\n12/18/84,25,12.1\\r\\n12/19/84,20,11.3\\r\\n12/20/84,22.7,10.4\\r\\n12/21/84,22.6,14.2\\r\\n12/22/84,29.2,11.4\\r\\n12/23/84,27.8,13.7\\r\\n12/24/84,26.5,16.5\\r\\n12/25/84,18.9,12.8\\r\\n12/26/84,23.2,12.2\\r\\n12/27/84,24.2,12\\r\\n12/28/84,28.1,12.6\\r\\n12/29/84,30.3,16\\r\\n12/30/84,25.6,16.4\\r\\n1/1/85,20.7,13.3\\r\\n1/2/85,19.6,15.2\\r\\n1/3/85,21.7,13.1\\r\\n1/4/85,28,12.7\\r\\n1/5/85,21.3,14.6\\r\\n1/6/85,21.4,11\\r\\n1/7/85,21.4,13.2\\r\\n1/8/85,22.6,12.2\\r\\n1/9/85,21.7,14.4\\r\\n1/10/85,21.8,13.7\\r\\n1/11/85,19.8,14.5\\r\\n1/12/85,30.4,14.1\\r\\n1/13/85,36,14.4\\r\\n1/14/85,42.2,19.7\\r\\n1/15/85,21.1,16.5\\r\\n1/16/85,20,15.9\\r\\n1/17/85,18.4,11.8\\r\\n1/18/85,19.1,12\\r\\n1/19/85,19.3,11.4\\r\\n1/20/85,18.8,14.4\\r\\n1/21/85,22.8,12.4\\r\\n1/22/85,20,15.1\\r\\n1/23/85,21.9,15.6\\r\\n1/24/85,20.1,15.2\\r\\n1/25/85,23.2,12.8\\r\\n1/26/85,34.5,13.3\\r\\n1/27/85,22.1,17.5\\r\\n1/28/85,21.6,15.4\\r\\n1/29/85,30,13.5\\r\\n1/30/85,34,16.7\\r\\n1/31/85,22.2,15.2\\r\\n2/1/85,19.6,14.9\\r\\n2/2/85,25.4,10.2\\r\\n2/3/85,37.1,13.6\\r\\n2/4/85,30.2,19\\r\\n2/5/85,29.1,15.7\\r\\n2/6/85,21.1,18\\r\\n2/7/85,19.1,14.8\\r\\n2/8/85,22.2,13.9\\r\\n2/9/85,24.4,13\\r\\n2/10/85,20.3,15.3\\r\\n2/11/85,28,14.3\\r\\n2/12/85,32.2,15.6\\r\\n2/13/85,23.4,16\\r\\n2/14/85,21.4,14.9\\r\\n2/15/85,33.5,11.1\\r\\n2/16/85,18.6,14.8\\r\\n2/17/85,19.2,13\\r\\n2/18/85,21.1,12.2\\r\\n2/19/85,29.5,10.9\\r\\n2/20/85,25.7,14.6\\r\\n2/21/85,32.4,16.6\\r\\n2/22/85,28.5,18.1\\r\\n2/23/85,20.6,13.4\\r\\n2/24/85,25.2,10.3\\r\\n2/25/85,20.8,13.6\\r\\n2/26/85,17.5,13.8\\r\\n2/27/85,20.1,10.3\\r\\n2/28/85,22.4,11\\r\\n3/1/85,24,14.3\\r\\n3/2/85,21,15.5\\r\\n3/3/85,26.8,14.7\\r\\n3/4/85,17.7,12.7\\r\\n3/5/85,19.2,10.7\\r\\n3/6/85,19.1,12.6\\r\\n3/7/85,26.4,9.8\\r\\n3/8/85,29.7,13.2\\r\\n3/9/85,30.2,15.2\\r\\n3/10/85,33,16.6\\r\\n3/11/85,33.3,21\\r\\n3/12/85,33,22.4\\r\\n3/13/85,36.1,17\\r\\n3/14/85,34,21.7\\r\\n3/15/85,34.7,21.4\\r\\n3/16/85,20.4,18.6\\r\\n3/17/85,19.4,16.2\\r\\n3/18/85,21.3,16.8\\r\\n3/19/85,26.8,17\\r\\n3/20/85,28.5,18.4\\r\\n3/21/85,25.6,17.2\\r\\n3/22/85,28.6,18.4\\r\\n3/23/85,32.5,18.8\\r\\n3/24/85,18.7,16.5\\r\\n3/25/85,23.2,13.3\\r\\n3/26/85,23.7,12.2\\r\\n3/27/85,27.2,11.3\\r\\n3/28/85,23.5,13.8\\r\\n3/29/85,19,16.6\\r\\n3/30/85,22.6,14\\r\\n3/31/85,30.1,14.3\\r\\n4/1/85,23.3,16.4\\r\\n4/2/85,19.7,11.9\\r\\n4/3/85,22.3,15.7\\r\\n4/4/85,21.6,17.6\\r\\n4/5/85,23.5,17.5\\r\\n4/6/85,22.6,15.9\\r\\n4/7/85,24,16.2\\r\\n4/8/85,22.9,16\\r\\n4/9/85,22.4,15.9\\r\\n4/10/85,28.8,16.2\\r\\n4/11/85,30,16.2\\r\\n4/12/85,32.4,19.5\\r\\n4/13/85,33.8,18.2\\r\\n4/14/85,26.8,21.8\\r\\n4/15/85,18.6,15.1\\r\\n4/16/85,17,11\\r\\n4/17/85,15.3,8.1\\r\\n4/18/85,15.3,9.5\\r\\n4/19/85,16.8,9.3\\r\\n4/20/85,16,10.6\\r\\n4/21/85,16.6,6.3\\r\\n4/22/85,17.2,8.6\\r\\n4/23/85,21.5,6.8\\r\\n4/24/85,19.7,8.7\\r\\n4/25/85,19.8,8.4\\r\\n4/26/85,21.2,9.3\\r\\n4/27/85,23.7,10\\r\\n4/28/85,23.9,10.5\\r\\n4/29/85,25.6,12\\r\\n4/30/85,24.7,10.1\\r\\n5/1/85,20.2,9.4\\r\\n5/2/85,23.5,10.1\\r\\n5/3/85,22.2,8\\r\\n5/4/85,24.5,10.6\\r\\n5/5/85,25.5,13.6\\r\\n5/6/85,18.8,15.4\\r\\n5/7/85,18,9\\r\\n5/8/85,14.9,10.4\\r\\n5/9/85,18.3,11\\r\\n5/10/85,19.2,12.1\\r\\n5/11/85,18.9,13.4\\r\\n5/12/85,19.2,11.3\\r\\n5/13/85,21.5,6.7\\r\\n5/14/85,18,9.8\\r\\n5/15/85,13.1,10.8\\r\\n5/16/85,14.9,7.8\\r\\n5/17/85,15.2,4.5\\r\\n5/18/85,13.5,7.6\\r\\n5/19/85,15.2,6.9\\r\\n5/20/85,14.2,7.5\\r\\n5/21/85,14.6,8.5\\r\\n5/22/85,16,5.5\\r\\n5/23/85,15.1,9.5\\r\\n5/24/85,15.6,7.3\\r\\n5/25/85,17.5,5.4\\r\\n5/26/85,18.8,5.5\\r\\n5/27/85,20.4,8.1\\r\\n5/28/85,20.3,11.2\\r\\n5/29/85,19.1,13.4\\r\\n5/30/85,14.9,11.6\\r\\n5/31/85,14.6,10.1\\r\\n6/1/85,13.7,4.3\\r\\n6/2/85,13,5.5\\r\\n6/3/85,13.4,4.4\\r\\n6/4/85,12.7,5.9\\r\\n6/5/85,14.2,5.7\\r\\n6/6/85,13.7,8.2\\r\\n6/7/85,12.7,8.2\\r\\n6/8/85,14.1,4.2\\r\\n6/9/85,12.8,6.5\\r\\n6/10/85,17.1,10\\r\\n6/11/85,14,8.8\\r\\n6/12/85,14.5,6.6\\r\\n6/13/85,15.7,7.8\\r\\n6/14/85,14.1,10.1\\r\\n6/15/85,13.7,7.1\\r\\n6/16/85,13.3,7.7\\r\\n6/17/85,13.4,8.5\\r\\n6/18/85,11.9,7.3\\r\\n6/19/85,13.6,6.9\\r\\n6/20/85,13.3,8.4\\r\\n6/21/85,12.2,7.1\\r\\n6/22/85,10.8,6.3\\r\\n6/23/85,13,0.6\\r\\n6/24/85,14.1,1.6\\r\\n6/25/85,14.4,7\\r\\n6/26/85,13.3,8.3\\r\\n6/27/85,15.7,8\\r\\n6/28/85,15.6,10.2\\r\\n6/29/85,19.3,10.6\\r\\n6/30/85,16.3,10.4\\r\\n7/1/85,19.4,11.6\\r\\n7/2/85,17.7,11\\r\\n7/3/85,16.9,10.7\\r\\n7/4/85,14.4,7.3\\r\\n7/5/85,14.3,4.2\\r\\n7/6/85,13,4.7\\r\\n7/7/85,12.3,5.6\\r\\n7/8/85,12.8,7.7\\r\\n7/9/85,12.7,7.5\\r\\n7/10/85,10.8,4.9\\r\\n7/11/85,14.6,5.9\\r\\n7/12/85,13.3,7.8\\r\\n7/13/85,12.7,5.8\\r\\n7/14/85,12.9,7\\r\\n7/15/85,15.7,8.4\\r\\n7/16/85,11.4,6.2\\r\\n7/17/85,12,7.5\\r\\n7/18/85,12.2,4.8\\r\\n7/19/85,11.8,3.3\\r\\n7/20/85,13.1,3.2\\r\\n7/21/85,15.5,7\\r\\n7/22/85,11.3,8.4\\r\\n7/23/85,12,0.3\\r\\n7/24/85,12.8,0.3\\r\\n7/25/85,11.6,2.1\\r\\n7/26/85,12.4,8.5\\r\\n7/27/85,12.6,1.4\\r\\n7/28/85,17.4,4.1\\r\\n7/29/85,13.4,10.3\\r\\n7/30/85,11.3,6.6\\r\\n7/31/85,12.1,6.1\\r\\n8/1/85,12.7,7\\r\\n8/2/85,12.5,5.1\\r\\n8/3/85,13.2,6.3\\r\\n8/4/85,17.1,6.9\\r\\n8/5/85,15.9,11.4\\r\\n8/6/85,15,10.4\\r\\n8/7/85,13.2,10.3\\r\\n8/8/85,12.6,9.2\\r\\n8/9/85,11.8,7.2\\r\\n8/10/85,12,7.5\\r\\n8/11/85,14,4\\r\\n8/12/85,13.7,5.6\\r\\n8/13/85,16.1,6.7\\r\\n8/14/85,19.8,8.4\\r\\n8/15/85,15.7,11\\r\\n8/16/85,13.2,8.4\\r\\n8/17/85,13.6,8.8\\r\\n8/18/85,13.5,8.6\\r\\n8/19/85,11.7,8.3\\r\\n8/20/85,11.4,4\\r\\n8/21/85,15.4,3.6\\r\\n8/22/85,17.4,5.7\\r\\n8/23/85,15.3,10.6\\r\\n8/24/85,16.7,6.9\\r\\n8/25/85,16.5,10\\r\\n8/26/85,15.3,9.8\\r\\n8/27/85,18.8,7.2\\r\\n8/28/85,15.3,10.5\\r\\n8/29/85,15.6,3.6\\r\\n8/30/85,18.7,5.3\\r\\n8/31/85,17.4,8.4\\r\\n9/1/85,12.6,10.3\\r\\n9/2/85,12.9,7.9\\r\\n9/3/85,13.5,8.5\\r\\n9/4/85,13.6,7.9\\r\\n9/5/85,13.7,8\\r\\n9/6/85,15.1,9.8\\r\\n9/7/85,14.3,6.7\\r\\n9/8/85,21.3,4.8\\r\\n9/9/85,21.5,9.9\\r\\n9/10/85,23.2,12.8\\r\\n9/11/85,15.3,10.9\\r\\n9/12/85,19.1,11.7\\r\\n9/13/85,15.3,11.7\\r\\n9/14/85,14.8,11\\r\\n9/15/85,15.6,8.2\\r\\n9/16/85,14.6,7.5\\r\\n9/17/85,14.7,5.4\\r\\n9/18/85,13.7,7.2\\r\\n9/19/85,13.6,9.7\\r\\n9/20/85,13.5,8.4\\r\\n9/21/85,14.6,9\\r\\n9/22/85,15.6,8.7\\r\\n9/23/85,20.7,6.6\\r\\n9/24/85,25.1,11.6\\r\\n9/25/85,19.7,13.1\\r\\n9/26/85,12.5,6.7\\r\\n9/27/85,14.1,6.5\\r\\n9/28/85,13.3,7.7\\r\\n9/29/85,14.7,8.7\\r\\n9/30/85,20.5,7.2\\r\\n10/1/85,21.8,10.5\\r\\n10/2/85,16.2,8.6\\r\\n10/3/85,25.8,7.2\\r\\n10/4/85,26.6,11.4\\r\\n10/5/85,19.4,16.2\\r\\n10/6/85,21.1,6.1\\r\\n10/7/85,20.2,9.6\\r\\n10/8/85,20.9,11.1\\r\\n10/9/85,18.1,13.6\\r\\n10/10/85,26.3,10.7\\r\\n10/11/85,19.2,14.7\\r\\n10/12/85,16.1,11.6\\r\\n10/13/85,17.9,7.3\\r\\n10/14/85,21.1,8\\r\\n10/15/85,25.7,9.6\\r\\n10/16/85,23.7,16\\r\\n10/17/85,19.7,15.1\\r\\n10/18/85,16.8,12.8\\r\\n10/19/85,14.3,6.2\\r\\n10/20/85,14.2,7.1\\r\\n10/21/85,20.5,8.4\\r\\n10/22/85,22.2,10\\r\\n10/23/85,15.4,12.7\\r\\n10/24/85,17.2,10\\r\\n10/25/85,18,10.2\\r\\n10/26/85,20.5,6.5\\r\\n10/27/85,23.8,9.2\\r\\n10/28/85,24.1,11.9\\r\\n10/29/85,25.8,14.7\\r\\n10/30/85,19.4,11.4\\r\\n10/31/85,18.3,6.8\\r\\n11/1/85,22.3,7.4\\r\\n11/2/85,17.4,11.2\\r\\n11/3/85,20.2,9.2\\r\\n11/4/85,27.5,12.6\\r\\n11/5/85,23.9,16\\r\\n11/6/85,22.8,17.1\\r\\n11/7/85,22.7,15.3\\r\\n11/8/85,21.5,13.3\\r\\n11/9/85,21.9,15.4\\r\\n11/10/85,30.3,13.2\\r\\n11/11/85,17.7,14.4\\r\\n11/12/85,26.8,14\\r\\n11/13/85,28.3,15.5\\r\\n11/14/85,24.2,21\\r\\n11/15/85,18.2,10\\r\\n11/16/85,21.8,9.6\\r\\n11/17/85,17.8,12\\r\\n11/18/85,16.1,12.2\\r\\n11/19/85,18.7,11.3\\r\\n11/20/85,17.1,13.2\\r\\n11/21/85,15.7,10.5\\r\\n11/22/85,20.8,10.1\\r\\n11/23/85,26.2,8.8\\r\\n11/24/85,26.2,13.7\\r\\n11/25/85,21.3,16.2\\r\\n11/26/85,20.5,16\\r\\n11/27/85,20.7,14\\r\\n11/28/85,19.9,13.7\\r\\n11/29/85,19.1,12.5\\r\\n11/30/85,21.7,12.8\\r\\n12/1/85,25.6,12.3\\r\\n12/2/85,23.4,15.2\\r\\n12/3/85,26.6,15\\r\\n12/4/85,23.5,16.4\\r\\n12/5/85,25,16.1\\r\\n12/6/85,25.8,14.6\\r\\n12/7/85,28.1,18.2\\r\\n12/8/85,27.8,16.4\\r\\n12/9/85,23.2,16.6\\r\\n12/10/85,21,14.7\\r\\n12/11/85,21.1,15.8\\r\\n12/12/85,18.3,14.1\\r\\n12/13/85,19.6,13.5\\r\\n12/14/85,22.2,13.6\\r\\n12/15/85,30.6,13.7\\r\\n12/16/85,23.1,13.6\\r\\n12/17/85,18.4,12.1\\r\\n12/18/85,22.4,12.7\\r\\n12/19/85,30.9,13.3\\r\\n12/20/85,25.2,14.2\\r\\n12/21/85,21.4,15\\r\\n12/22/85,20.4,13.7\\r\\n12/23/85,18.7,12\\r\\n12/24/85,22,13.1\\r\\n12/25/85,26.6,13.2\\r\\n12/26/85,20.4,13.3\\r\\n12/27/85,18.5,11.5\\r\\n12/28/85,22.5,10.8\\r\\n12/29/85,32.7,12\\r\\n12/30/85,27.8,16.3\\r\\n12/31/85,19,14.4\\r\\n1/1/86,21,12.9\\r\\n1/2/86,18.5,13.8\\r\\n1/3/86,22.2,10.6\\r\\n1/4/86,23.3,12.6\\r\\n1/5/86,19.8,13.7\\r\\n1/6/86,24.7,12.6\\r\\n1/7/86,32.4,13.1\\r\\n1/8/86,20,15.4\\r\\n1/9/86,18.2,11.9\\r\\n1/10/86,20.4,13.8\\r\\n1/11/86,25.5,14.4\\r\\n1/12/86,24.4,15.2\\r\\n1/13/86,21.5,12.5\\r\\n1/14/86,32.4,12.2\\r\\n1/15/86,27.2,16.1\\r\\n1/16/86,19.1,14.6\\r\\n1/17/86,19.7,11.6\\r\\n1/18/86,21.3,13.1\\r\\n1/19/86,20.3,12.8\\r\\n1/20/86,21,15.2\\r\\n1/21/86,22.6,13.8\\r\\n1/22/86,21.5,15\\r\\n1/23/86,24.2,13.5\\r\\n1/24/86,25,11.8\\r\\n1/25/86,20.6,15.3\\r\\n1/26/86,19.6,13.5\\r\\n1/27/86,20,15.3\\r\\n1/28/86,29.5,13.8\\r\\n1/29/86,35.5,15.8\\r\\n1/30/86,21.1,17.4\\r\\n1/31/86,23.7,15.3\\r\\n2/1/86,33.7,14.6\\r\\n2/2/86,21.8,14.8\\r\\n2/3/86,21.2,10.7\\r\\n2/4/86,23.7,11.6\\r\\n2/5/86,26.4,13.6\\r\\n2/6/86,21.8,14.4\\r\\n2/7/86,31.1,11.8\\r\\n2/8/86,38.3,15.8\\r\\n2/9/86,22.7,16\\r\\n2/10/86,21.5,11.8\\r\\n2/11/86,20.8,14.5\\r\\n2/12/86,30,10.7\\r\\n2/13/86,34.5,14.2\\r\\n2/14/86,36.5,19.5\\r\\n2/15/86,28.9,21.4\\r\\n2/16/86,27.2,17.9\\r\\n2/17/86,25.5,17.4\\r\\n2/18/86,22.3,12.7\\r\\n2/19/86,21.8,13.8\\r\\n2/20/86,22.4,14\\r\\n2/21/86,19.7,15\\r\\n2/22/86,19.4,14.5\\r\\n2/23/86,18.5,13.1\\r\\n2/24/86,24,11.4\\r\\n2/25/86,25.8,12.5\\r\\n2/26/86,25.5,12\\r\\n2/27/86,26.6,13.4\\r\\n2/28/86,34.5,14.4\\r\\n3/1/86,21.1,17.7\\r\\n3/2/86,20.4,13.9\\r\\n3/3/86,24.9,13.3\\r\\n3/4/86,21.9,14.6\\r\\n3/5/86,25.5,16.4\\r\\n3/6/86,38,16.8\\r\\n3/7/86,36.4,20\\r\\n3/8/86,19,12.5\\r\\n3/9/86,18.4,12.7\\r\\n3/10/86,17.7,11.7\\r\\n3/11/86,21.3,12.7\\r\\n3/12/86,25.7,8.6\\r\\n3/13/86,30.5,11.9\\r\\n3/14/86,32.6,16\\r\\n3/15/86,23,15.2\\r\\n3/16/86,20.5,13.4\\r\\n3/17/86,21.8,11.6\\r\\n3/18/86,26.4,11.1\\r\\n3/19/86,25.8,15.6\\r\\n3/20/86,36.7,17\\r\\n3/21/86,27.2,18.5\\r\\n3/22/86,27.7,17.4\\r\\n3/23/86,20.4,16.5\\r\\n3/24/86,18.8,16.2\\r\\n3/25/86,22.6,16.1\\r\\n3/26/86,32.7,13.2\\r\\n3/27/86,22.8,18\\r\\n3/28/86,24.4,12.8\\r\\n3/29/86,32.6,11.7\\r\\n3/30/86,29.1,16.7\\r\\n3/31/86,18.3,15.6\\r\\n4/1/86,19.6,10.2\\r\\n4/2/86,28.6,10.3\\r\\n4/3/86,26.8,15\\r\\n4/4/86,30.7,18\\r\\n4/5/86,16.8,13.8\\r\\n4/6/86,16.1,10.5\\r\\n4/7/86,18.2,11.8\\r\\n4/8/86,19.3,7.2\\r\\n4/9/86,19.8,11.6\\r\\n4/10/86,26.8,7.4\\r\\n4/11/86,17.5,14.2\\r\\n4/12/86,18.2,12.2\\r\\n4/13/86,24.9,9\\r\\n4/14/86,27.3,12.3\\r\\n4/15/86,24.8,19.7\\r\\n4/16/86,18,12.8\\r\\n4/17/86,16.8,12.4\\r\\n4/18/86,14.6,12\\r\\n4/19/86,18.7,12\\r\\n4/20/86,18.8,11.1\\r\\n4/21/86,19.5,12.7\\r\\n4/22/86,21.1,14.2\\r\\n4/23/86,20,11.6\\r\\n4/24/86,18.5,12\\r\\n4/25/86,17,11.5\\r\\n4/26/86,16.2,8.3\\r\\n4/27/86,16.7,10.5\\r\\n4/28/86,14.9,9\\r\\n4/29/86,15.5,6.9\\r\\n4/30/86,15.3,9.4\\r\\n5/1/86,15.7,11.1\\r\\n5/2/86,17.3,9.1\\r\\n5/3/86,17.1,7.7\\r\\n5/4/86,16.2,10\\r\\n5/5/86,15.4,10.4\\r\\n5/6/86,15,8\\r\\n5/7/86,19,9.8\\r\\n5/8/86,19.7,12.4\\r\\n5/9/86,19.7,12.9\\r\\n5/10/86,15.1,12.3\\r\\n5/11/86,16.4,6.9\\r\\n5/12/86,21.7,10.5\\r\\n5/13/86,19.5,11\\r\\n5/14/86,17.2,9.7\\r\\n5/15/86,16.4,11.1\\r\\n5/16/86,18,11.5\\r\\n5/17/86,19.5,13.4\\r\\n5/18/86,16.2,10.9\\r\\n5/19/86,16,12\\r\\n5/20/86,14.4,12.1\\r\\n5/21/86,15.4,10.4\\r\\n5/22/86,18.2,10\\r\\n5/23/86,13.8,9.6\\r\\n5/24/86,16.1,11.3\\r\\n5/25/86,13.7,8.5\\r\\n5/26/86,16.8,6.3\\r\\n5/27/86,15.9,8.2\\r\\n5/28/86,16.7,10.7\\r\\n5/29/86,14.6,10.3\\r\\n5/30/86,15.2,9.5\\r\\n5/31/86,14,10.9\\r\\n6/1/86,14.1,10.9\\r\\n6/2/86,16,4.3\\r\\n6/3/86,16.7,5.2\\r\\n6/4/86,15.2,11\\r\\n6/5/86,13.3,11.6\\r\\n6/6/86,14,10.6\\r\\n6/7/86,15.9,9.4\\r\\n6/8/86,14.5,10\\r\\n6/9/86,14.2,9.6\\r\\n6/10/86,13,9.5\\r\\n6/11/86,13.7,9.7\\r\\n6/12/86,14.7,9.6\\r\\n6/13/86,14.6,7\\r\\n6/14/86,13.9,7\\r\\n6/15/86,14.2,6.8\\r\\n6/16/86,16.8,6.9\\r\\n6/17/86,14.7,8\\r\\n6/18/86,12.1,7.6\\r\\n6/19/86,10.2,8.6\\r\\n6/20/86,10.8,5.7\\r\\n6/21/86,11.9,5.5\\r\\n6/22/86,11.8,5.7\\r\\n6/23/86,12,5.7\\r\\n6/24/86,12.7,6.6\\r\\n6/25/86,13.6,6\\r\\n6/26/86,13,6.9\\r\\n6/27/86,13.1,7.7\\r\\n6/28/86,11.1,8\\r\\n6/29/86,12.8,3.9\\r\\n6/30/86,13.3,0.8\\r\\n7/1/86,11.7,2.8\\r\\n7/2/86,14.3,8\\r\\n7/3/86,15.4,9.8\\r\\n7/4/86,14.2,11.4\\r\\n7/5/86,13,8.6\\r\\n7/6/86,13.1,5.2\\r\\n7/7/86,12.4,6.6\\r\\n7/8/86,11.2,5.7\\r\\n7/9/86,9.2,4.6\\r\\n7/10/86,12.4,5.8\\r\\n7/11/86,12.7,7\\r\\n7/12/86,13.7,4.8\\r\\n7/13/86,12.7,4.4\\r\\n7/14/86,15,4.4\\r\\n7/15/86,16.4,7.9\\r\\n7/16/86,14,10.6\\r\\n7/17/86,13.2,5\\r\\n7/18/86,13.6,7.6\\r\\n7/19/86,15.4,9.2\\r\\n7/20/86,13.8,9.7\\r\\n7/21/86,15,8.8\\r\\n7/22/86,14.5,6.8\\r\\n7/23/86,14.8,9.4\\r\\n7/24/86,14,11\\r\\n7/25/86,8.2,2.5\\r\\n7/26/86,10,2.1\\r\\n7/27/86,11.2,5.4\\r\\n7/28/86,13.3,6.2\\r\\n7/29/86,13.7,7.8\\r\\n7/30/86,15,7.4\\r\\n7/31/86,12.5,9.3\\r\\n8/1/86,15.3,9.3\\r\\n8/2/86,16.4,9.5\\r\\n8/3/86,17.6,8.5\\r\\n8/4/86,15,10\\r\\n8/5/86,14.8,7.7\\r\\n8/6/86,13.8,9.3\\r\\n8/7/86,14.8,9.1\\r\\n8/8/86,16.6,3.5\\r\\n8/9/86,17.3,3.6\\r\\n8/10/86,12.2,2.5\\r\\n8/11/86,12.1,1.7\\r\\n8/12/86,13.9,2.7\\r\\n8/13/86,16.8,2.9\\r\\n8/14/86,16.8,5.3\\r\\n8/15/86,14.5,7.7\\r\\n8/16/86,15.1,9.1\\r\\n8/17/86,13.8,9.4\\r\\n8/18/86,13,7.3\\r\\n8/19/86,14.5,8.4\\r\\n8/20/86,18,9.2\\r\\n8/21/86,20.2,6.6\\r\\n8/22/86,21,9.7\\r\\n8/23/86,16.5,12.4\\r\\n8/24/86,12.2,10.2\\r\\n8/25/86,15,5.9\\r\\n8/26/86,15.7,7.1\\r\\n8/27/86,17.7,7.5\\r\\n8/28/86,18.9,9.7\\r\\n8/29/86,14.9,12.2\\r\\n8/30/86,11.4,5.6\\r\\n8/31/86,15.4,5.4\\r\\n9/1/86,15.2,8.3\\r\\n9/2/86,17.6,10.6\\r\\n9/3/86,17.2,9.1\\r\\n9/4/86,21.6,11.3\\r\\n9/5/86,18.7,10.9\\r\\n9/6/86,13.9,8.9\\r\\n9/7/86,13.3,6.3\\r\\n9/8/86,14.6,9\\r\\n9/9/86,16.5,6.1\\r\\n9/10/86,17.7,9.1\\r\\n9/11/86,13.6,9.6\\r\\n9/12/86,15.2,6\\r\\n9/13/86,15.5,10\\r\\n9/14/86,16.5,11\\r\\n9/15/86,18.8,6.2\\r\\n9/16/86,13.6,8.3\\r\\n9/17/86,14,11.3\\r\\n9/18/86,13.8,11.3\\r\\n9/19/86,16,6.7\\r\\n9/20/86,19.3,6.6\\r\\n9/21/86,16.9,11.4\\r\\n9/22/86,14.3,6.9\\r\\n9/23/86,16.7,10.6\\r\\n9/24/86,21.3,8.6\\r\\n9/25/86,19.4,11.3\\r\\n9/26/86,18.7,12.5\\r\\n9/27/86,14.7,9.9\\r\\n9/28/86,16.2,6.9\\r\\n9/29/86,15.5,5.5\\r\\n9/30/86,23.4,7.8\\r\\n10/1/86,22,11\\r\\n10/2/86,16.7,16.2\\r\\n10/3/86,14.4,9.9\\r\\n10/4/86,16.4,8.7\\r\\n10/5/86,19.6,10.5\\r\\n10/6/86,18.3,12.2\\r\\n10/7/86,14.4,10.6\\r\\n10/8/86,14.8,8.3\\r\\n10/9/86,17.1,5.5\\r\\n10/10/86,15.2,9\\r\\n10/11/86,19.5,6.4\\r\\n10/12/86,21.1,7.2\\r\\n10/13/86,21.7,12.9\\r\\n10/14/86,14.6,12\\r\\n10/15/86,18.2,7.3\\r\\n10/16/86,17.8,9.7\\r\\n10/17/86,23.5,8.4\\r\\n10/18/86,20.8,14.7\\r\\n10/19/86,15.7,9.5\\r\\n10/20/86,16.1,7.9\\r\\n10/21/86,21,6.8\\r\\n10/22/86,15,12.6\\r\\n10/23/86,16,5.2\\r\\n10/24/86,16,7.5\\r\\n10/25/86,14.8,8.7\\r\\n10/26/86,14.6,7.6\\r\\n10/27/86,16.1,9\\r\\n10/28/86,21.6,7.2\\r\\n10/29/86,23.8,10.7\\r\\n10/30/86,27,13.1\\r\\n10/31/86,20.7,13.9\\r\\n11/1/86,19.7,10.8\\r\\n11/2/86,20,10.4\\r\\n11/3/86,28.8,9.1\\r\\n11/4/86,30,16\\r\\n11/5/86,33.1,21\\r\\n11/6/86,18.9,16.2\\r\\n11/7/86,16.3,8.6\\r\\n11/8/86,19,9.2\\r\\n11/9/86,18.3,12.5\\r\\n11/10/86,21.2,9.7\\r\\n11/11/86,16.5,12.5\\r\\n11/12/86,16.7,10.3\\r\\n11/13/86,19.5,12\\r\\n11/14/86,29.1,11\\r\\n11/15/86,19.7,14.8\\r\\n11/16/86,22.6,15\\r\\n11/17/86,20.7,15.3\\r\\n11/18/86,14,10.3\\r\\n11/19/86,15.5,10.7\\r\\n11/20/86,14.8,10.5\\r\\n11/21/86,19.2,8.9\\r\\n11/22/86,27.4,8.1\\r\\n11/23/86,18.5,11.5\\r\\n11/24/86,18.5,12.8\\r\\n11/25/86,31.5,9.1\\r\\n11/26/86,16.7,14.6\\r\\n11/27/86,15.7,11.6\\r\\n11/28/86,16.7,11.2\\r\\n11/29/86,22,12.6\\r\\n11/30/86,25.7,7.5\\r\\n12/1/86,29.2,11\\r\\n12/2/86,27.7,14.5\\r\\n12/3/86,29.4,18.5\\r\\n12/4/86,19.9,15.4\\r\\n12/5/86,27.8,13.1\\r\\n12/6/86,31.2,16.3\\r\\n12/7/86,22.8,20.2\\r\\n12/8/86,17.6,11.5\\r\\n12/9/86,19.4,12.4\\r\\n12/10/86,27.5,10.9\\r\\n12/11/86,18.4,12.7\\r\\n12/12/86,17.3,12.2\\r\\n12/13/86,17.5,12.4\\r\\n12/14/86,17.3,9.8\\r\\n12/15/86,21.9,8.5\\r\\n12/16/86,21.1,14.7\\r\\n12/17/86,17.9,12\\r\\n12/18/86,19.6,10.3\\r\\n12/19/86,23.6,11\\r\\n12/20/86,18.2,10.2\\r\\n12/21/86,20,12.6\\r\\n12/22/86,17.5,11.6\\r\\n12/23/86,18.9,9.7\\r\\n12/24/86,18.7,13.4\\r\\n12/25/86,28.9,10.5\\r\\n12/26/86,21.6,14.7\\r\\n12/27/86,20.7,14.6\\r\\n12/28/86,21.8,14.2\\r\\n12/29/86,21.9,13.2\\r\\n12/30/86,35,11.7\\r\\n12/31/86,26,17.2\\r\\n1/1/87,20,12.3\\r\\n1/2/87,33.6,13.8\\r\\n1/3/87,20.1,15.3\\r\\n1/4/87,23.5,15.6\\r\\n1/5/87,23.6,16.2\\r\\n1/6/87,24.5,16.3\\r\\n1/7/87,27,16.8\\r\\n1/8/87,17,11\\r\\n1/9/87,18.9,8.5\\r\\n1/10/87,21.8,13.2\\r\\n1/11/87,27.5,13\\r\\n1/12/87,22.8,12.4\\r\\n1/13/87,26.5,13\\r\\n1/14/87,22.7,16.6\\r\\n1/15/87,22.5,12\\r\\n1/16/87,37.8,12.4\\r\\n1/17/87,22,15\\r\\n1/18/87,27.6,11.8\\r\\n1/19/87,21.2,11.6\\r\\n1/20/87,22.6,12.2\\r\\n1/21/87,18.7,13.7\\r\\n1/22/87,17.5,11.2\\r\\n1/23/87,17.7,12.4\\r\\n1/24/87,30.3,11.5\\r\\n1/25/87,25.6,13.8\\r\\n1/26/87,32.7,15.7\\r\\n1/27/87,22.9,12.9\\r\\n1/28/87,21,11.5\\r\\n1/29/87,22.5,11\\r\\n1/30/87,25.7,12.7\\r\\n1/31/87,37.8,14.9\\r\\n2/1/87,21.3,16.5\\r\\n2/2/87,38.7,12.8\\r\\n2/3/87,21.5,12.7\\r\\n2/4/87,18.8,12.7\\r\\n2/5/87,21.7,11.6\\r\\n2/6/87,30.6,13.3\\r\\n2/7/87,40,15.2\\r\\n2/8/87,20.8,16.4\\r\\n2/9/87,23.7,11.9\\r\\n2/10/87,22,15.1\\r\\n2/11/87,20.5,10.6\\r\\n2/12/87,23.3,13.6\\r\\n2/13/87,34.2,12.1\\r\\n2/14/87,36.7,16\\r\\n2/15/87,21.3,16.8\\r\\n2/16/87,28.7,16.6\\r\\n2/17/87,27.6,15.6\\r\\n2/18/87,28.8,15.2\\r\\n2/19/87,37,17.7\\r\\n2/20/87,21.7,21\\r\\n2/21/87,22.7,13.4\\r\\n2/22/87,18.5,10.5\\r\\n2/23/87,25.4,9.5\\r\\n2/24/87,28.7,12\\r\\n2/25/87,18.4,10.4\\r\\n2/26/87,24.3,11.5\\r\\n2/27/87,33,13.2\\r\\n2/28/87,16.5,15\\r\\n3/1/87,18,14.1\\r\\n3/2/87,22.1,12.4\\r\\n3/3/87,24.3,13.4\\r\\n3/4/87,24.7,12.5\\r\\n3/5/87,30.1,14.3\\r\\n3/6/87,22.7,17.6\\r\\n3/7/87,22.9,10.4\\r\\n3/8/87,16.4,9.9\\r\\n3/9/87,16.2,10.2\\r\\n3/10/87,19,11.3\\r\\n3/11/87,27,9.5\\r\\n3/12/87,21.7,11.8\\r\\n3/13/87,16.7,11.5\\r\\n3/14/87,17.7,10.5\\r\\n3/15/87,21.6,10.8\\r\\n3/16/87,33.8,13\\r\\n3/17/87,31.8,18.5\\r\\n3/18/87,32,18.7\\r\\n3/19/87,17.6,15\\r\\n3/20/87,20.2,13\\r\\n3/21/87,17.3,11.3\\r\\n3/22/87,17,13\\r\\n3/23/87,15.6,13.3\\r\\n3/24/87,17.1,11\\r\\n3/25/87,21.9,10.3\\r\\n3/26/87,20.1,13\\r\\n3/27/87,29.7,12.3\\r\\n3/28/87,20.7,15.6\\r\\n3/29/87,16.5,10.2\\r\\n3/30/87,15.8,10.8\\r\\n3/31/87,17.4,12\\r\\n4/1/87,19.4,13.3\\r\\n4/2/87,21.1,11.7\\r\\n4/3/87,19.9,12.5\\r\\n4/4/87,28.6,13.7\\r\\n4/5/87,29.7,14.9\\r\\n4/6/87,29.7,20.2\\r\\n4/7/87,19.9,16.3\\r\\n4/8/87,17.4,13.9\\r\\n4/9/87,18.6,10.1\\r\\n4/10/87,23,7.3\\r\\n4/11/87,25.1,14\\r\\n4/12/87,26.6,17.7\\r\\n4/13/87,19,16.3\\r\\n4/14/87,21.2,10.6\\r\\n4/15/87,16.5,9.7\\r\\n4/16/87,17.5,7.8\\r\\n4/17/87,18.2,10.4\\r\\n4/18/87,24,10.4\\r\\n4/19/87,22.8,14.1\\r\\n4/20/87,15.1,7.1\\r\\n4/21/87,16.1,8.1\\r\\n4/22/87,15.8,7.8\\r\\n4/23/87,17,10.6\\r\\n4/24/87,19.7,9.1\\r\\n4/25/87,24.9,9\\r\\n4/26/87,26.9,11.9\\r\\n4/27/87,27.9,17.1\\r\\n4/28/87,18.5,16.8\\r\\n4/29/87,17,13.5\\r\\n4/30/87,16.4,11.6\\r\\n5/1/87,20.8,7\\r\\n5/2/87,16.7,9.7\\r\\n5/3/87,15.8,9.9\\r\\n5/4/87,18.5,11.2\\r\\n5/5/87,16.5,11.3\\r\\n5/6/87,16.6,11.8\\r\\n5/7/87,17.4,9.9\\r\\n5/8/87,21.7,7.1\\r\\n5/9/87,22.7,9.6\\r\\n5/10/87,23.3,9.8\\r\\n5/11/87,22.5,10.6\\r\\n5/12/87,21.9,12.8\\r\\n5/13/87,17.9,16.5\\r\\n5/14/87,20.1,11.7\\r\\n5/15/87,16,12.3\\r\\n5/16/87,16.6,12.2\\r\\n5/17/87,15.6,11.8\\r\\n5/18/87,15.2,10.7\\r\\n5/19/87,14.3,10.2\\r\\n5/20/87,15,10\\r\\n5/21/87,14.5,8.3\\r\\n5/22/87,16.9,6.6\\r\\n5/23/87,18.3,9.5\\r\\n5/24/87,18,12.3\\r\\n5/25/87,13.5,7.6\\r\\n5/26/87,13.7,9.3\\r\\n5/27/87,10.9,5\\r\\n5/28/87,13.6,4.3\\r\\n5/29/87,15.2,6.4\\r\\n5/30/87,14.1,10.8\\r\\n5/31/87,13.2,7.8\\r\\n6/1/87,13.8,8.5\\r\\n6/2/87,14.6,9.7\\r\\n6/3/87,16.2,10\\r\\n6/4/87,14.5,11\\r\\n6/5/87,14.3,10.2\\r\\n6/6/87,15.6,6.6\\r\\n6/7/87,15.9,6.1\\r\\n6/8/87,19.3,5.9\\r\\n6/9/87,16,8.9\\r\\n6/10/87,20.3,13\\r\\n6/11/87,15.8,12.6\\r\\n6/12/87,16.2,5.4\\r\\n6/13/87,12.8,6\\r\\n6/14/87,15,7.8\\r\\n6/15/87,13.4,9\\r\\n6/16/87,13.2,4.2\\r\\n6/17/87,13.8,3\\r\\n6/18/87,15.7,4.5\\r\\n6/19/87,16.2,6.2\\r\\n6/20/87,14.9,11.9\\r\\n6/21/87,18.3,11.8\\r\\n6/22/87,15.3,9.4\\r\\n6/23/87,15.2,9.6\\r\\n6/24/87,14.2,9.4\\r\\n6/25/87,12,7\\r\\n6/26/87,13.7,8.9\\r\\n6/27/87,13.8,9.3\\r\\n6/28/87,12.3,6.8\\r\\n6/29/87,12.8,7.5\\r\\n6/30/87,13.1,8\\r\\n7/1/87,14.5,8.3\\r\\n7/2/87,14,2.7\\r\\n7/3/87,13.3,3.9\\r\\n7/4/87,15.7,4.1\\r\\n7/5/87,16,5\\r\\n7/6/87,16.2,5.8\\r\\n7/7/87,18,4.4\\r\\n7/8/87,16.3,4.1\\r\\n7/9/87,15.8,5.8\\r\\n7/10/87,13.3,9.1\\r\\n7/11/87,13.7,7.9\\r\\n7/12/87,11.5,5\\r\\n7/13/87,13.7,2.8\\r\\n7/14/87,12.3,4.7\\r\\n7/15/87,12.6,8.9\\r\\n7/16/87,12.7,5.4\\r\\n7/17/87,14.8,7.1\\r\\n7/18/87,14.9,9\\r\\n7/19/87,12,9.4\\r\\n7/20/87,12.8,6.3\\r\\n7/21/87,12.4,7\\r\\n7/22/87,13,6.4\\r\\n7/23/87,13.1,6.7\\r\\n7/24/87,12.9,1.5\\r\\n7/25/87,13.8,2.9\\r\\n7/26/87,15.2,4.8\\r\\n7/27/87,13.1,6.3\\r\\n7/28/87,11.1,5.7\\r\\n7/29/87,10.8,7\\r\\n7/30/87,13.1,8.8\\r\\n7/31/87,15,8.7\\r\\n8/1/87,15.7,9\\r\\n8/2/87,16.4,9.6\\r\\n8/3/87,14.1,8\\r\\n8/4/87,15.5,8.4\\r\\n8/5/87,14.8,8.1\\r\\n8/6/87,13.9,9\\r\\n8/7/87,15.4,5.3\\r\\n8/8/87,14.8,8.9\\r\\n8/9/87,10.9,8.7\\r\\n8/10/87,12.9,4.9\\r\\n8/11/87,12.8,7\\r\\n8/12/87,18.6,7.5\\r\\n8/13/87,14.6,7\\r\\n8/14/87,18,9.1\\r\\n8/15/87,18.5,11.8\\r\\n8/16/87,11.8,9.9\\r\\n8/17/87,13.3,5.6\\r\\n8/18/87,14.5,4.2\\r\\n8/19/87,14,4.3\\r\\n8/20/87,13.3,8\\r\\n8/21/87,15,5.1\\r\\n8/22/87,18.4,9.4\\r\\n8/23/87,13.6,9.1\\r\\n8/24/87,15.3,9.7\\r\\n8/25/87,16.1,10.6\\r\\n8/26/87,19,8.6\\r\\n8/27/87,15.5,10.1\\r\\n8/28/87,16.2,11\\r\\n8/29/87,14.9,9.7\\r\\n8/30/87,17.9,5\\r\\n8/31/87,10.1,6.1\\r\\n9/1/87,12.1,5.4\\r\\n9/2/87,13.1,5.8\\r\\n9/3/87,12.9,7.3\\r\\n9/4/87,15.4,6.3\\r\\n9/5/87,15.6,4.8\\r\\n9/6/87,14,7.6\\r\\n9/7/87,14.2,8.1\\r\\n9/8/87,17.4,9.5\\r\\n9/9/87,14,10.3\\r\\n9/10/87,13.6,7\\r\\n9/11/87,15.7,9\\r\\n9/12/87,14,10.2\\r\\n9/13/87,15,6.8\\r\\n9/14/87,16.4,9.3\\r\\n9/15/87,15.1,9.8\\r\\n9/16/87,17.1,10.7\\r\\n9/17/87,18.9,7.8\\r\\n9/18/87,23.8,9.2\\r\\n9/19/87,25.9,15\\r\\n9/20/87,15,7.8\\r\\n9/21/87,17,5.3\\r\\n9/22/87,19,9.5\\r\\n9/23/87,26.5,7.6\\r\\n9/24/87,26.9,14\\r\\n9/25/87,23.7,14.9\\r\\n9/26/87,30.7,14.9\\r\\n9/27/87,29.6,19.2\\r\\n9/28/87,25.9,17\\r\\n9/29/87,20.2,13\\r\\n9/30/87,14.8,11.2\\r\\n10/1/87,13.9,9.5\\r\\n10/2/87,15.7,10.3\\r\\n10/3/87,22.8,9.3\\r\\n10/4/87,18.7,11.3\\r\\n10/5/87,17,6.5\\r\\n10/6/87,19,12\\r\\n10/7/87,14.1,8.3\\r\\n10/8/87,17.6,8.7\\r\\n10/9/87,19,8.7\\r\\n10/10/87,15.8,10.2\\r\\n10/11/87,12.9,6.9\\r\\n10/12/87,14.5,4.9\\r\\n10/13/87,15.9,10\\r\\n10/14/87,21.9,7.6\\r\\n10/15/87,24.1,14.5\\r\\n10/16/87,19.4,13.2\\r\\n10/17/87,15.4,9.9\\r\\n10/18/87,17.6,10.1\\r\\n10/19/87,20.5,11.3\\r\\n10/20/87,19.4,10.4\\r\\n10/21/87,18,10.9\\r\\n10/22/87,16.8,9.2\\r\\n10/23/87,15.8,10.5\\r\\n10/24/87,16,11.4\\r\\n10/25/87,22.1,13.5\\r\\n10/26/87,26.8,9.8\\r\\n10/27/87,26.3,13.1\\r\\n10/28/87,17.5,9.7\\r\\n10/29/87,19,11.4\\r\\n10/30/87,30.3,9.9\\r\\n10/31/87,32.7,14.4\\r\\n11/1/87,35,19\\r\\n11/2/87,36.1,23\\r\\n11/3/87,18.1,15.4\\r\\n11/4/87,18.1,9.6\\r\\n11/5/87,16.8,10.8\\r\\n11/6/87,18.6,12.1\\r\\n11/7/87,20.5,11\\r\\n11/8/87,27.8,12.6\\r\\n11/9/87,18.8,14.7\\r\\n11/10/87,16.8,11.1\\r\\n11/11/87,17.2,10.1\\r\\n11/12/87,19.6,11.4\\r\\n11/13/87,18.8,13\\r\\n11/14/87,18.5,11.9\\r\\n11/15/87,19.8,9.5\\r\\n11/16/87,30.5,13.5\\r\\n11/17/87,28.3,15.2\\r\\n11/18/87,32.6,18.4\\r\\n11/19/87,30.1,24.1\\r\\n11/20/87,19.8,14.1\\r\\n11/21/87,19.9,10.7\\r\\n11/22/87,23.8,8.7\\r\\n11/23/87,24.3,13.3\\r\\n11/24/87,17.4,11.6\\r\\n11/25/87,18.2,9.9\\r\\n11/26/87,18.4,10.8\\r\\n11/27/87,16.9,11.5\\r\\n11/28/87,24,10\\r\\n11/29/87,32.8,13.9\\r\\n11/30/87,18.9,13.6\\r\\n12/1/87,15.5,11.9\\r\\n12/2/87,16,11.1\\r\\n12/3/87,16.6,8.2\\r\\n12/4/87,20.8,9.4\\r\\n12/5/87,19.6,12.7\\r\\n12/6/87,18.5,11.6\\r\\n12/7/87,17.6,11\\r\\n12/8/87,20.8,11.3\\r\\n12/9/87,21.5,13.4\\r\\n12/10/87,25,14.9\\r\\n12/11/87,21.2,15.2\\r\\n12/12/87,22.6,13.9\\r\\n12/13/87,25.6,15\\r\\n12/14/87,25.1,16.2\\r\\n12/15/87,32.5,17.7\\r\\n12/16/87,27.8,20.5\\r\\n12/17/87,21.5,14.7\\r\\n12/18/87,20.7,12.5\\r\\n12/19/87,19.9,10.9\\r\\n12/20/87,18.4,12.8\\r\\n12/21/87,22.3,12.7\\r\\n12/22/87,24.6,11.2\\r\\n12/23/87,25.6,11.4\\r\\n12/24/87,19,11.2\\r\\n12/25/87,18.7,12.1\\r\\n12/26/87,29.2,12.7\\r\\n12/27/87,31.8,16.2\\r\\n12/28/87,18.4,14.2\\r\\n12/29/87,19.2,14.3\\r\\n12/30/87,30.8,13.3\\r\\n12/31/87,32.2,16.7\\r\\n1/1/88,22,15.3\\r\\n1/2/88,21.4,14.3\\r\\n1/3/88,20,13.5\\r\\n1/4/88,20.6,15\\r\\n1/5/88,22.2,13.6\\r\\n1/6/88,30,15.2\\r\\n1/7/88,40.4,17\\r\\n1/8/88,26.3,18.7\\r\\n1/9/88,39,16.5\\r\\n1/10/88,30.6,17.4\\r\\n1/11/88,39.2,18.3\\r\\n1/12/88,37.8,18.3\\r\\n1/13/88,28.8,22.4\\r\\n1/14/88,30.8,21.4\\r\\n1/15/88,38.7,20.9\\r\\n1/16/88,25.2,17.6\\r\\n1/17/88,20.6,15.5\\r\\n1/18/88,21,16.6\\r\\n1/19/88,25.6,16.2\\r\\n1/20/88,36.2,15.6\\r\\n1/21/88,24.9,14.5\\r\\n1/22/88,26.2,14\\r\\n1/23/88,20,15.6\\r\\n1/24/88,19.7,12.3\\r\\n1/25/88,20.3,11.6\\r\\n1/26/88,25.1,12.6\\r\\n1/27/88,29.1,14.9\\r\\n1/28/88,37.5,17.3\\r\\n1/29/88,39.2,21.4\\r\\n1/30/88,33.7,23.4\\r\\n1/31/88,19.5,14.4\\r\\n2/1/88,19.9,14.1\\r\\n2/2/88,21,15\\r\\n2/3/88,20.3,14.5\\r\\n2/4/88,22.6,15.1\\r\\n2/5/88,32.9,13.9\\r\\n2/6/88,21.3,13.4\\r\\n2/7/88,19.5,9.2\\r\\n2/8/88,19.2,12.5\\r\\n2/9/88,22,15.1\\r\\n2/10/88,27.2,12.1\\r\\n2/11/88,32.2,14.5\\r\\n2/12/88,25.4,16.3\\r\\n2/13/88,25,16.5\\r\\n2/14/88,25.2,14.9\\r\\n2/15/88,26.7,13.2\\r\\n2/16/88,25.3,11.8\\r\\n2/17/88,29.9,13.6\\r\\n2/18/88,27.6,16.2\\r\\n2/19/88,20.6,14.1\\r\\n2/20/88,21,13.5\\r\\n2/21/88,21.6,15\\r\\n2/22/88,24,14.8\\r\\n2/23/88,23.8,16.2\\r\\n2/24/88,21.9,16.2\\r\\n2/25/88,29.4,13.3\\r\\n2/26/88,37.4,15.3\\r\\n2/27/88,21.5,18.4\\r\\n2/28/88,21.1,16.2\\r\\n2/29/88,21,16.3\\r\\n3/1/88,36.3,12.4\\r\\n3/2/88,28.7,15.6\\r\\n3/3/88,19.4,14.9\\r\\n3/4/88,20.3,14.8\\r\\n3/5/88,20.8,12.7\\r\\n3/6/88,30.5,14.2\\r\\n3/7/88,30.3,16.8\\r\\n3/8/88,23.4,16.7\\r\\n3/9/88,25.7,16.2\\r\\n3/10/88,15.7,14.5\\r\\n3/11/88,19.3,10\\r\\n3/12/88,18.8,12.6\\r\\n3/13/88,17,11.9\\r\\n3/14/88,17.6,11.8\\r\\n3/15/88,18.5,13.4\\r\\n3/16/88,21,14.5\\r\\n3/17/88,26.9,15.7\\r\\n3/18/88,30.6,15.3\\r\\n3/19/88,32.7,13.9\\r\\n3/20/88,29.2,13.7\\r\\n3/21/88,25.8,15.1\\r\\n3/22/88,28.2,15.6\\r\\n3/23/88,24.7,14.4\\r\\n3/24/88,30.6,13.9\\r\\n3/25/88,30.6,16.2\\r\\n3/26/88,29,16.7\\r\\n3/27/88,26.5,15.5\\r\\n3/28/88,25.5,16.4\\r\\n3/29/88,24.9,17.5\\r\\n3/30/88,20.9,18.2\\r\\n3/31/88,23.4,16.1\\r\\n4/1/88,18.1,16.5\\r\\n4/2/88,20.7,14.6\\r\\n4/3/88,20.3,16.4\\r\\n4/4/88,21.1,13.6\\r\\n4/5/88,19.5,15.9\\r\\n4/6/88,20.4,11.9\\r\\n4/7/88,17.3,14.7\\r\\n4/8/88,18.5,9.4\\r\\n4/9/88,21,6.6\\r\\n4/10/88,23.5,7.9\\r\\n4/11/88,25.7,11\\r\\n4/12/88,23.1,15.7\\r\\n4/13/88,24.8,15.2\\r\\n4/14/88,22.4,15.9\\r\\n4/15/88,17.4,10.6\\r\\n4/16/88,18.3,8.3\\r\\n4/17/88,26,8.6\\r\\n4/18/88,25.5,12.7\\r\\n4/19/88,21.8,10.5\\r\\n4/20/88,21.2,12\\r\\n4/21/88,25.2,11.1\\r\\n4/22/88,21.7,13\\r\\n4/23/88,22.6,12.4\\r\\n4/24/88,24.3,13.3\\r\\n4/25/88,17,15.9\\r\\n4/26/88,20.7,12\\r\\n4/27/88,22.7,13.7\\r\\n4/28/88,25.4,17.6\\r\\n4/29/88,24.9,14.3\\r\\n4/30/88,25,13.7\\r\\n5/1/88,20.5,15.2\\r\\n5/2/88,20.2,14.5\\r\\n5/3/88,19.4,14.9\\r\\n5/4/88,21.4,15.5\\r\\n5/5/88,25.5,16.4\\r\\n5/6/88,19.4,14.5\\r\\n5/7/88,18.8,12.6\\r\\n5/8/88,17,13.6\\r\\n5/9/88,15.5,11.2\\r\\n5/10/88,16.2,11\\r\\n5/11/88,16.7,12\\r\\n5/12/88,20.1,6.8\\r\\n5/13/88,21.4,10.6\\r\\n5/14/88,16.4,13.1\\r\\n5/15/88,17.3,13.5\\r\\n5/16/88,17,11.7\\r\\n5/17/88,18.2,13.2\\r\\n5/18/88,17.5,12\\r\\n5/19/88,14.9,10.4\\r\\n5/20/88,18,10\\r\\n5/21/88,16.7,8.2\\r\\n5/22/88,17.1,9.4\\r\\n5/23/88,16.8,10.3\\r\\n5/24/88,17.7,8.1\\r\\n5/25/88,18.4,8.7\\r\\n5/26/88,18.5,12.6\\r\\n5/27/88,15.5,10.9\\r\\n5/28/88,15.4,8.7\\r\\n5/29/88,17.5,9.3\\r\\n5/30/88,16.8,6.3\\r\\n5/31/88,18.9,7.8\\r\\n6/1/88,19.4,10\\r\\n6/2/88,20.3,11\\r\\n6/3/88,19.3,11.1\\r\\n6/4/88,17,12.6\\r\\n6/5/88,16.4,10.2\\r\\n6/6/88,13.3,11.1\\r\\n6/7/88,13.6,8.7\\r\\n6/8/88,14.1,9.5\\r\\n6/9/88,14.8,9.7\\r\\n6/10/88,14.1,8.2\\r\\n6/11/88,17,5\\r\\n6/12/88,16,6.5\\r\\n6/13/88,16.5,12.1\\r\\n6/14/88,14.9,8.9\\r\\n6/15/88,14.4,6.1\\r\\n6/16/88,13.5,2.8\\r\\n6/17/88,11.3,3.7\\r\\n6/18/88,15,6.8\\r\\n6/19/88,13,6.6\\r\\n6/20/88,14.9,7\\r\\n6/21/88,14.6,7.3\\r\\n6/22/88,14.1,7.9\\r\\n6/23/88,15.5,10.6\\r\\n6/24/88,14.4,8.1\\r\\n6/25/88,12,6.7\\r\\n6/26/88,17.5,8\\r\\n6/27/88,13.3,10\\r\\n6/28/88,14.3,6.7\\r\\n6/29/88,14,9.4\\r\\n6/30/88,13.5,9.3\\r\\n7/1/88,13.3,6\\r\\n7/2/88,12.3,5.8\\r\\n7/3/88,12.6,4.9\\r\\n7/4/88,14.1,5\\r\\n7/5/88,16.6,8.4\\r\\n7/6/88,17.3,12.3\\r\\n7/7/88,17.1,13\\r\\n7/8/88,16.1,11.4\\r\\n7/9/88,15,6.8\\r\\n7/10/88,15.4,7.6\\r\\n7/11/88,14.6,12.4\\r\\n7/12/88,14.6,7.1\\r\\n7/13/88,16.8,7.5\\r\\n7/14/88,16.5,10\\r\\n7/15/88,15.6,5.3\\r\\n7/16/88,14.8,6.3\\r\\n7/17/88,15.2,8\\r\\n7/18/88,15.2,8.3\\r\\n7/19/88,15,9.3\\r\\n7/20/88,14.1,9.5\\r\\n7/21/88,15.5,5.6\\r\\n7/22/88,12.6,7\\r\\n7/23/88,12.9,8.5\\r\\n7/24/88,15.1,8.5\\r\\n7/25/88,13,8.2\\r\\n7/26/88,15.6,8.5\\r\\n7/27/88,13.4,9.6\\r\\n7/28/88,14.4,9.7\\r\\n7/29/88,14.5,7.1\\r\\n7/30/88,15.4,8.4\\r\\n7/31/88,16.7,9.2\\r\\n8/1/88,16.1,9.8\\r\\n8/2/88,16.6,8.1\\r\\n8/3/88,16.5,9.4\\r\\n8/4/88,13.8,10\\r\\n8/5/88,13.4,5.1\\r\\n8/6/88,11.9,6.7\\r\\n8/7/88,10.7,6.9\\r\\n8/8/88,13.2,6.8\\r\\n8/9/88,13.1,8.6\\r\\n8/10/88,12.8,9.1\\r\\n8/11/88,16.2,3.9\\r\\n8/12/88,18,4.8\\r\\n8/13/88,18.9,8.4\\r\\n8/14/88,18.3,11.6\\r\\n8/15/88,19.8,12.1\\r\\n8/16/88,19.3,12.4\\r\\n8/17/88,16.2,10\\r\\n8/18/88,17.6,10.1\\r\\n8/19/88,17.5,9.7\\r\\n8/20/88,13.2,11.7\\r\\n8/21/88,13.2,7.9\\r\\n8/22/88,13.4,8.6\\r\\n8/23/88,14.2,7.7\\r\\n8/24/88,16.1,5.8\\r\\n8/25/88,14.2,8.7\\r\\n8/26/88,14.3,10.6\\r\\n8/27/88,14.5,6.7\\r\\n8/28/88,17.1,8.8\\r\\n8/29/88,18.2,9.7\\r\\n8/30/88,22.2,9\\r\\n8/31/88,22.4,11.8\\r\\n9/1/88,15.6,15.2\\r\\n9/2/88,16.6,10\\r\\n9/3/88,14.5,10.5\\r\\n9/4/88,17.7,5.5\\r\\n9/5/88,21,9.4\\r\\n9/6/88,14.3,8.8\\r\\n9/7/88,20,5.3\\r\\n9/8/88,20.2,13\\r\\n9/9/88,19.2,15.2\\r\\n9/10/88,19.8,13.2\\r\\n9/11/88,14.8,11.5\\r\\n9/12/88,14.2,6.8\\r\\n9/13/88,17.2,4.7\\r\\n9/14/88,17.2,5.2\\r\\n9/15/88,22.1,6.8\\r\\n9/16/88,15.4,10.7\\r\\n9/17/88,16.1,10.1\\r\\n9/18/88,14.8,10\\r\\n9/19/88,15.1,9.8\\r\\n9/20/88,20.2,5.5\\r\\n9/21/88,22.3,13.5\\r\\n9/22/88,24.6,16.6\\r\\n9/23/88,18.4,8.4\\r\\n9/24/88,18.2,8.2\\r\\n9/25/88,23.4,11.1\\r\\n9/26/88,23.8,10.8\\r\\n9/27/88,20.1,8.8\\r\\n9/28/88,20.5,10.8\\r\\n9/29/88,19.5,8.7\\r\\n9/30/88,18.8,12.4\\r\\n10/1/88,19.8,9\\r\\n10/2/88,26.2,13.5\\r\\n10/3/88,21.2,14.7\\r\\n10/4/88,21.2,10.9\\r\\n10/5/88,17.3,8.5\\r\\n10/6/88,20.5,6\\r\\n10/7/88,19.2,12.7\\r\\n10/8/88,18,11.1\\r\\n10/9/88,17.7,8.7\\r\\n10/10/88,23.7,12.3\\r\\n10/11/88,16.9,13.3\\r\\n10/12/88,23.2,5.6\\r\\n10/13/88,22.3,13.7\\r\\n10/14/88,18.7,8.5\\r\\n10/15/88,24,11.2\\r\\n10/16/88,16.4,8.7\\r\\n10/17/88,18.8,11.7\\r\\n10/18/88,19,12.5\\r\\n10/19/88,26.7,8.2\\r\\n10/20/88,19.3,15.6\\r\\n10/21/88,19.5,10.3\\r\\n10/22/88,21.2,11.4\\r\\n10/23/88,17,9.7\\r\\n10/24/88,24.4,6.3\\r\\n10/25/88,29,14.3\\r\\n10/26/88,19.2,11.3\\r\\n10/27/88,24.6,7.3\\r\\n10/28/88,23.4,12.8\\r\\n10/29/88,22.6,11.9\\r\\n10/30/88,21.1,14.3\\r\\n10/31/88,29.1,11.6\\r\\n11/1/88,36.1,13.2\\r\\n11/2/88,23.1,15.5\\r\\n11/3/88,16.5,14.1\\r\\n11/4/88,16.2,9.5\\r\\n11/5/88,21.3,7.2\\r\\n11/6/88,25.4,11.8\\r\\n11/7/88,26.4,16.8\\r\\n11/8/88,21.1,12.5\\r\\n11/9/88,21.1,9.4\\r\\n11/10/88,19.7,11.9\\r\\n11/11/88,31.2,10.3\\r\\n11/12/88,34.5,16.9\\r\\n11/13/88,22.9,17.5\\r\\n11/14/88,13.5,7.5\\r\\n11/15/88,16.2,8.6\\r\\n11/16/88,15.3,11.1\\r\\n11/17/88,19.2,11.5\\r\\n11/18/88,29.4,10.7\\r\\n11/19/88,27.7,15.7\\r\\n11/20/88,19.6,12.8\\r\\n11/21/88,16.8,13\\r\\n11/22/88,19.9,12.9\\r\\n11/23/88,20.4,14.3\\r\\n11/24/88,18.3,13.7\\r\\n11/25/88,16.7,12.1\\r\\n11/26/88,16.9,11.9\\r\\n11/27/88,18.9,11.8\\r\\n11/28/88,17.6,11.4\\r\\n11/29/88,18.6,10.3\\r\\n11/30/88,21.4,11.7\\r\\n12/1/88,28.7,12\\r\\n12/2/88,28,17.4\\r\\n12/3/88,22.8,16.8\\r\\n12/4/88,17.2,16.2\\r\\n12/5/88,18.7,13\\r\\n12/6/88,19.9,12.5\\r\\n12/7/88,23,12.4\\r\\n12/8/88,30.8,16.1\\r\\n12/9/88,31.7,20.2\\r\\n12/10/88,20.8,14.3\\r\\n12/11/88,20.8,11\\r\\n12/12/88,25.2,14.4\\r\\n12/13/88,31.3,15.7\\r\\n12/14/88,32.1,19.7\\r\\n12/15/88,34.3,20.7\\r\\n12/16/88,33.7,23.9\\r\\n12/17/88,28.6,16.6\\r\\n12/18/88,19.2,17.5\\r\\n12/19/88,20.9,14.9\\r\\n12/20/88,21.1,13.6\\r\\n12/21/88,26.1,11.9\\r\\n12/22/88,26.4,15.2\\r\\n12/23/88,36.8,17.3\\r\\n12/24/88,26.3,19.8\\r\\n12/25/88,17.9,15.8\\r\\n12/26/88,21.3,9.5\\r\\n12/27/88,19.5,12.9\\r\\n12/28/88,20.1,12.9\\r\\n12/29/88,21.7,14.8\\r\\n12/30/88,19.5,14.1\\r\\n1/1/89,24.8,14.3\\r\\n1/2/89,30.2,17.4\\r\\n1/3/89,31.6,18.5\\r\\n1/4/89,19,16.8\\r\\n1/5/89,21.3,11.5\\r\\n1/6/89,20.6,9.5\\r\\n1/7/89,22.8,12.2\\r\\n1/8/89,33.2,15.7\\r\\n1/9/89,24.7,16.3\\r\\n1/10/89,21.3,13.6\\r\\n1/11/89,17.9,12.6\\r\\n1/12/89,18.7,13.8\\r\\n1/13/89,25.3,12.1\\r\\n1/14/89,31,13.4\\r\\n1/15/89,33.2,17.3\\r\\n1/16/89,31,19.4\\r\\n1/17/89,18.2,16.6\\r\\n1/18/89,19.1,13.9\\r\\n1/19/89,22.2,13.1\\r\\n1/20/89,20.3,16\\r\\n1/21/89,19.8,14.5\\r\\n1/22/89,18.3,15\\r\\n1/23/89,27.5,12.6\\r\\n1/24/89,29.8,12.5\\r\\n1/25/89,31,15.2\\r\\n1/26/89,32.9,16.2\\r\\n1/27/89,35.5,16.5\\r\\n1/28/89,36,20.1\\r\\n1/29/89,36.6,20.6\\r\\n1/30/89,21.7,16.9\\r\\n1/31/89,19.8,16.5\\r\\n2/1/89,26.7,16.1\\r\\n2/2/89,22.9,14.4\\r\\n2/3/89,19.8,16.3\\r\\n2/4/89,24.9,15.7\\r\\n2/5/89,24.8,14.2\\r\\n2/6/89,28.8,13.2\\r\\n2/7/89,32.7,16.8\\r\\n2/8/89,33.7,18.5\\r\\n2/9/89,24.7,16.7\\r\\n2/10/89,21.6,15.3\\r\\n2/11/89,26.2,15.9\\r\\n2/12/89,33.4,15.2\\r\\n2/13/89,22.9,17.5\\r\\n2/14/89,31.2,18.3\\r\\n2/15/89,23.1,19.4\\r\\n2/16/89,24.4,19.4\\r\\n2/17/89,30.7,19.5\\r\\n2/18/89,38.8,20.5\\r\\n2/19/89,21.5,15.7\\r\\n2/20/89,20.7,15\\r\\n2/21/89,20.3,16.1\\r\\n2/22/89,21.3,14.3\\r\\n2/23/89,30,13\\r\\n2/24/89,37.1,16.2\\r\\n2/25/89,21.1,17.7\\r\\n2/26/89,22,13.2\\r\\n2/27/89,34.4,15.8\\r\\n2/28/89,33.8,18.5\\r\\n3/1/89,37.8,20.4\\r\\n3/2/89,38.4,22\\r\\n3/3/89,32.8,19.7\\r\\n3/4/89,34.4,19.6\\r\\n3/5/89,26.4,20.3\\r\\n3/6/89,27.3,18.3\\r\\n3/7/89,28,18.9\\r\\n3/8/89,30.7,20.3\\r\\n3/9/89,30.7,21.4\\r\\n3/10/89,23.4,18.3\\r\\n3/11/89,26.1,17.8\\r\\n3/12/89,26.1,17.7\\r\\n3/13/89,21.8,12.8\\r\\n3/14/89,18.9,15.1\\r\\n3/15/89,18.5,15\\r\\n3/16/89,17.5,14.8\\r\\n3/17/89,21.5,12\\r\\n3/18/89,25.1,12.5\\r\\n3/19/89,21.9,15\\r\\n3/20/89,24.2,17.1\\r\\n3/21/89,24.2,17.3\\r\\n3/22/89,27.4,16.9\\r\\n3/23/89,21.3,16.5\\r\\n3/24/89,18,13.6\\r\\n3/25/89,18.7,13.2\\r\\n3/26/89,20,9.4\\r\\n3/27/89,20.9,9.5\\r\\n3/28/89,19.3,11.8\\r\\n3/29/89,19.3,10.4\\r\\n3/30/89,22.2,9.7\\r\\n3/31/89,17.7,12.6\\r\\n4/1/89,21.9,13.3\\r\\n4/2/89,25.2,15.1\\r\\n4/3/89,25.1,14.2\\r\\n4/4/89,28.5,14.2\\r\\n4/5/89,27.6,19.2\\r\\n4/6/89,19.6,12.6\\r\\n4/7/89,18.5,14.2\\r\\n4/8/89,19.2,11.9\\r\\n4/9/89,20.4,13.9\\r\\n4/10/89,22.8,13.5\\r\\n4/11/89,23,15.3\\r\\n4/12/89,20.3,13.9\\r\\n4/13/89,18,14\\r\\n4/14/89,18,12.9\\r\\n4/15/89,20.2,8.5\\r\\n4/16/89,18.1,11.4\\r\\n4/17/89,19.2,10.9\\r\\n4/18/89,17.8,12\\r\\n4/19/89,19.8,8.6\\r\\n4/20/89,20.3,9\\r\\n4/21/89,18.3,9.6\\r\\n4/22/89,18.3,10.2\\r\\n4/23/89,20.2,9.8\\r\\n4/24/89,22,8.3\\r\\n4/25/89,24.3,11\\r\\n4/26/89,24.7,11.9\\r\\n4/27/89,25.4,14\\r\\n4/28/89,19.9,15.8\\r\\n4/29/89,23,14.5\\r\\n4/30/89,21.8,13.2\\r\\n5/1/89,19.3,14.2\\r\\n5/2/89,18.5,14.6\\r\\n5/3/89,20.6,11.8\\r\\n5/4/89,17.2,14.4\\r\\n5/5/89,17.5,10.4\\r\\n5/6/89,19.1,10.3\\r\\n5/7/89,18,10.8\\r\\n5/8/89,18.9,10.5\\r\\n5/9/89,23.4,9.5\\r\\n5/10/89,19.3,12.5\\r\\n5/11/89,19.2,13.7\\r\\n5/12/89,21.2,12.7\\r\\n5/13/89,21.5,11.9\\r\\n5/14/89,17.2,11.4\\r\\n5/15/89,16.8,9.7\\r\\n5/16/89,16,8.3\\r\\n5/17/89,18.9,8.1\\r\\n5/18/89,20.6,11.7\\r\\n5/19/89,15.9,11.6\\r\\n5/20/89,16.7,7.4\\r\\n5/21/89,18.4,5.2\\r\\n5/22/89,16.2,11\\r\\n5/23/89,16.2,9.5\\r\\n5/24/89,15.8,9.2\\r\\n5/25/89,16.2,10.7\\r\\n5/26/89,18.3,9\\r\\n5/27/89,18.5,10.2\\r\\n5/28/89,19.4,10.3\\r\\n5/29/89,17,12.1\\r\\n5/30/89,14.6,13.2\\r\\n5/31/89,11,6.6\\r\\n6/1/89,12.4,2.3\\r\\n6/2/89,14,1.4\\r\\n6/3/89,10.8,2.1\\r\\n6/4/89,13.1,6.6\\r\\n6/5/89,15,8.9\\r\\n6/6/89,13,7.8\\r\\n6/7/89,17.5,9\\r\\n6/8/89,16,10.3\\r\\n6/9/89,10.2,7.9\\r\\n6/10/89,13.7,7.2\\r\\n6/11/89,15.4,8.6\\r\\n6/12/89,13.6,8.8\\r\\n6/13/89,12.9,6.2\\r\\n6/14/89,14.2,9.5\\r\\n6/15/89,15,10.2\\r\\n6/16/89,15.2,9.7\\r\\n6/17/89,18.2,11.2\\r\\n6/18/89,12.3,10.2\\r\\n6/19/89,13.8,10.1\\r\\n6/20/89,13.9,8.1\\r\\n6/21/89,14.6,6.6\\r\\n6/22/89,14.9,5\\r\\n6/23/89,12.6,4.7\\r\\n6/24/89,11.2,5.3\\r\\n6/25/89,12.9,4.5\\r\\n6/26/89,14.1,2.3\\r\\n6/27/89,12.8,1.4\\r\\n6/28/89,15.8,0.5\\r\\n6/29/89,16,2.4\\r\\n6/30/89,16,8\\r\\n7/1/89,16.6,6\\r\\n7/2/89,16.6,7.1\\r\\n7/3/89,16,9.7\\r\\n7/4/89,12.7,6.9\\r\\n7/5/89,12.3,5.3\\r\\n7/6/89,11.8,7\\r\\n7/7/89,14.1,6.2\\r\\n7/8/89,12.6,7\\r\\n7/9/89,12.9,9.7\\r\\n7/10/89,11.5,8\\r\\n7/11/89,12.9,8.5\\r\\n7/12/89,11.8,7.1\\r\\n7/13/89,11.9,7.5\\r\\n7/14/89,14.2,3.3\\r\\n7/15/89,12,1.8\\r\\n7/16/89,11.7,2.6\\r\\n7/17/89,11.8,5.3\\r\\n7/18/89,13,5.8\\r\\n7/19/89,11.4,5.8\\r\\n7/20/89,11,7.2\\r\\n7/21/89,12.3,5.3\\r\\n7/22/89,13.1,1.6\\r\\n7/23/89,11.4,3.1\\r\\n7/24/89,16,5.3\\r\\n7/25/89,15.3,7.7\\r\\n7/26/89,13.2,4.2\\r\\n7/27/89,15.9,5.5\\r\\n7/28/89,16,9\\r\\n7/29/89,19.6,11.2\\r\\n7/30/89,15.2,8\\r\\n7/31/89,10.6,7.6\\r\\n8/1/89,14.8,3.7\\r\\n8/2/89,15.8,7.5\\r\\n8/3/89,14.1,8.1\\r\\n8/4/89,14.4,8.4\\r\\n8/5/89,10.7,7.1\\r\\n8/6/89,13.2,7.6\\r\\n8/7/89,13,7.6\\r\\n8/8/89,13.2,5.6\\r\\n8/9/89,16,7\\r\\n8/10/89,13.2,10.5\\r\\n8/11/89,11.8,7.3\\r\\n8/12/89,11.6,7.8\\r\\n8/13/89,13.4,5.8\\r\\n8/14/89,15.2,3.8\\r\\n8/15/89,15.5,5.8\\r\\n8/16/89,13.5,6.7\\r\\n8/17/89,14,6.6\\r\\n8/18/89,18.5,6.6\\r\\n8/19/89,14.9,9\\r\\n8/20/89,13.9,8.1\\r\\n8/21/89,15.9,5.1\\r\\n8/22/89,11.3,8.6\\r\\n8/23/89,12.2,7\\r\\n8/24/89,13.8,5.5\\r\\n8/25/89,13.8,7.4\\r\\n8/26/89,11.3,6.2\\r\\n8/27/89,13,4.2\\r\\n8/28/89,13.6,6.3\\r\\n8/29/89,13.2,7\\r\\n8/30/89,16,4\\r\\n8/31/89,17.2,8\\r\\n9/1/89,14.7,8.8\\r\\n9/2/89,15.5,8.8\\r\\n9/3/89,15.2,6.1\\r\\n9/4/89,16,8.6\\r\\n9/5/89,16.6,8.9\\r\\n9/6/89,17.8,7.8\\r\\n9/7/89,19.8,5\\r\\n9/8/89,20.6,7\\r\\n9/9/89,19,13.3\\r\\n9/10/89,19.5,7.9\\r\\n9/11/89,12.6,7.5\\r\\n9/12/89,14.3,8.3\\r\\n9/13/89,14.9,7.2\\r\\n9/14/89,13.7,6.5\\r\\n9/15/89,14.2,8.9\\r\\n9/16/89,18.4,7.4\\r\\n9/17/89,15.4,9.9\\r\\n9/18/89,18.7,9.3\\r\\n9/19/89,16.9,10.6\\r\\n9/20/89,16.5,8.6\\r\\n9/21/89,20,7.2\\r\\n9/22/89,17.2,12.6\\r\\n9/23/89,15.8,7.8\\r\\n9/24/89,20,6.3\\r\\n9/25/89,14.3,9.2\\r\\n9/26/89,14.2,5.8\\r\\n9/27/89,14.7,9\\r\\n9/28/89,22.4,5\\r\\n9/29/89,25.3,11.9\\r\\n9/30/89,21.5,13.4\\r\\n10/1/89,15,10.5\\r\\n10/2/89,13.8,6.2\\r\\n10/3/89,15.6,5.1\\r\\n10/4/89,22.8,9.5\\r\\n10/5/89,18,11.7\\r\\n10/6/89,16.6,9.2\\r\\n10/7/89,20,7.3\\r\\n10/8/89,17.5,9.7\\r\\n10/9/89,18.1,9.4\\r\\n10/10/89,17.1,10\\r\\n10/11/89,18.4,10.9\\r\\n10/12/89,18.8,11\\r\\n10/13/89,21.8,10.9\\r\\n10/14/89,19.7,8\\r\\n10/15/89,26.1,11.2\\r\\n10/16/89,18.7,7.5\\r\\n10/17/89,20.8,7.2\\r\\n10/18/89,29.7,13.2\\r\\n10/19/89,21,12.9\\r\\n10/20/89,17.3,9.4\\r\\n10/21/89,16.8,10.2\\r\\n10/22/89,19.4,9.5\\r\\n10/23/89,16.8,12.4\\r\\n10/24/89,21.1,10.2\\r\\n10/25/89,20.4,13.4\\r\\n10/26/89,26.1,11.6\\r\\n10/27/89,15,8\\r\\n10/28/89,17,9\\r\\n10/29/89,24,9.3\\r\\n10/30/89,22.5,13.5\\r\\n10/31/89,16.3,8\\r\\n11/1/89,17.9,8.1\\r\\n11/2/89,17.7,10\\r\\n11/3/89,18.4,8.5\\r\\n11/4/89,25.6,12.5\\r\\n11/5/89,28.3,15\\r\\n11/6/89,15.1,13.3\\r\\n11/7/89,16.8,11\\r\\n11/8/89,19.6,11.9\\r\\n11/9/89,15.8,8.3\\r\\n11/10/89,16.9,9.7\\r\\n11/11/89,17.8,11.3\\r\\n11/12/89,18.2,12.5\\r\\n11/13/89,19.2,9.4\\r\\n11/14/89,19,11.4\\r\\n11/15/89,18.4,13.2\\r\\n11/16/89,22,13.8\\r\\n11/17/89,16.4,16\\r\\n11/18/89,16.7,10.9\\r\\n11/19/89,17.4,11.9\\r\\n11/20/89,20.6,12.4\\r\\n11/21/89,30.4,13.2\\r\\n11/22/89,30.3,15.5\\r\\n11/23/89,35.5,21.6\\r\\n11/24/89,18.8,14.9\\r\\n11/25/89,24.7,14.4\\r\\n11/26/89,27.3,12.9\\r\\n11/27/89,29.4,13.1\\r\\n11/28/89,32.5,14\\r\\n11/29/89,33.9,17.9\\r\\n11/30/89,25,17.7\\r\\n12/1/89,33.6,16.3\\r\\n12/2/89,25.7,18.3\\r\\n12/3/89,19,13.7\\r\\n12/4/89,18.4,13.3\\r\\n12/5/89,22.1,10.6\\r\\n12/6/89,25.2,14.1\\r\\n12/7/89,23.9,16\\r\\n12/8/89,28.7,16.5\\r\\n12/9/89,31.1,14.1\\r\\n12/10/89,29.1,18.7\\r\\n12/11/89,25.6,16.2\\r\\n12/12/89,23.2,14.8\\r\\n12/13/89,19,12.6\\r\\n12/14/89,17.1,10.4\\r\\n12/15/89,18,12.2\\r\\n12/16/89,20,12.6\\r\\n12/17/89,32.9,12.1\\r\\n12/18/89,32.1,17.3\\r\\n12/19/89,25.2,16.4\\r\\n12/20/89,18.5,12.6\\r\\n12/21/89,18.9,12.3\\r\\n12/22/89,20.8,11.8\\r\\n12/23/89,23.7,12\\r\\n12/24/89,28,12.7\\r\\n12/25/89,35.2,16.4\\r\\n12/26/89,23.2,16\\r\\n12/27/89,18,13.3\\r\\n12/28/89,19.8,11.7\\r\\n12/29/89,31.9,10.4\\r\\n12/30/89,21.5,14.4\\r\\n12/31/89,33,12.7\\r\\n1/1/90,21.6,14.8\\r\\n1/2/90,31.2,13.3\\r\\n1/3/90,36.6,15.6\\r\\n1/4/90,19.6,14.5\\r\\n1/5/90,23.1,14.3\\r\\n1/6/90,21.9,15.3\\r\\n1/7/90,21.1,16.4\\r\\n1/8/90,27.6,14.8\\r\\n1/9/90,27.3,17.4\\r\\n1/10/90,30.1,18.8\\r\\n1/11/90,33.5,22.1\\r\\n1/12/90,24.2,19\\r\\n1/13/90,21.4,15.5\\r\\n1/14/90,20.4,15.8\\r\\n1/15/90,20.3,14.7\\r\\n1/16/90,18.5,10.7\\r\\n1/17/90,29.5,11.5\\r\\n1/18/90,25.4,15\\r\\n1/19/90,25.2,14.5\\r\\n1/20/90,21.6,14.5\\r\\n1/21/90,21.8,13.3\\r\\n1/22/90,25.4,14.3\\r\\n1/23/90,36.6,14.3\\r\\n1/24/90,36.6,20.5\\r\\n1/25/90,28.7,15\\r\\n1/26/90,27.2,17.1\\r\\n1/27/90,25.5,16.9\\r\\n1/28/90,23.6,16.9\\r\\n1/29/90,25.6,13.6\\r\\n1/30/90,35.9,16.4\\r\\n1/31/90,19.1,16.1\\r\\n2/1/90,15,12\\r\\n2/2/90,20.7,12.2\\r\\n2/3/90,21.9,14.8\\r\\n2/4/90,18.2,14.8\\r\\n2/5/90,21.9,14.4\\r\\n2/6/90,25.3,12.9\\r\\n2/7/90,29.6,13.4\\r\\n2/8/90,29.9,15.9\\r\\n2/9/90,24.4,16.1\\r\\n2/10/90,20.2,17.6\\r\\n2/11/90,23.5,15.6\\r\\n2/12/90,26,15\\r\\n2/13/90,25.9,13\\r\\n2/14/90,27.4,14.1\\r\\n2/15/90,31.5,17.3\\r\\n2/16/90,35.8,15.7\\r\\n2/17/90,23.9,18.6\\r\\n2/18/90,27.8,12.7\\r\\n2/19/90,26,14\\r\\n2/20/90,31.1,13.7\\r\\n2/21/90,35.2,16.3\\r\\n2/22/90,27.8,20\\r\\n2/23/90,21.3,17\\r\\n2/24/90,21.5,15.2\\r\\n2/25/90,23,16.5\\r\\n2/26/90,24.4,16.5\\r\\n2/27/90,27.4,17.3\\r\\n2/28/90,23.8,19.1\\r\\n3/1/90,25.2,19.3\\r\\n3/2/90,28.5,17.3\\r\\n3/3/90,25.3,19\\r\\n3/4/90,25.6,19.8\\r\\n3/5/90,24.1,19.3\\r\\n3/6/90,19.3,17.2\\r\\n3/7/90,22.7,14.2\\r\\n3/8/90,31.2,10.3\\r\\n3/9/90,25.8,13\\r\\n3/10/90,21.5,15.3\\r\\n3/11/90,20.3,15\\r\\n3/12/90,18.9,12.1\\r\\n3/13/90,25.2,9.2\\r\\n3/14/90,26.8,11\\r\\n3/15/90,19.2,15\\r\\n3/16/90,21.5,11.6\\r\\n3/17/90,30.8,11.6\\r\\n3/18/90,18.6,15.1\\r\\n3/19/90,19.8,15\\r\\n3/20/90,21.3,13.6\\r\\n3/21/90,21.3,12.5\\r\\n3/22/90,29.9,14.3\\r\\n3/23/90,32,16\\r\\n3/24/90,32.4,17.4\\r\\n3/25/90,32.5,16.9\\r\\n3/26/90,32.6,18\\r\\n3/27/90,31.5,20.6\\r\\n3/28/90,21,14.2\\r\\n3/29/90,20.6,10.9\\r\\n3/30/90,19.7,11.9\\r\\n3/31/90,19.7,13.3\\r\\n4/1/90,20.1,15.3\\r\\n4/2/90,17.8,14.7\\r\\n4/3/90,22.1,11\\r\\n4/4/90,28.8,12.2\\r\\n4/5/90,26.8,14.2\\r\\n4/6/90,27.1,17\\r\\n4/7/90,19.4,15.8\\r\\n4/8/90,19.1,15.2\\r\\n4/9/90,22.5,15.1\\r\\n4/10/90,26,14.7\\r\\n4/11/90,22.2,18.5\\r\\n4/12/90,28.4,16.4\\r\\n4/13/90,25.2,18.4\\r\\n4/14/90,20.9,15.1\\r\\n4/15/90,17.6,9.9\\r\\n4/16/90,17.2,10.2\\r\\n4/17/90,17.2,12.6\\r\\n4/18/90,18.7,13.2\\r\\n4/19/90,18.6,11.5\\r\\n4/20/90,21.8,13.8\\r\\n4/21/90,16.7,14.5\\r\\n4/22/90,17.9,14.7\\r\\n4/23/90,20.8,11.2\\r\\n4/24/90,21.2,12.7\\r\\n4/25/90,17.5,13.7\\r\\n4/26/90,16.6,11.5\\r\\n4/27/90,17.5,10.4\\r\\n4/28/90,18.1,8.9\\r\\n4/29/90,18.5,11.1\\r\\n4/30/90,19.8,9.5\\r\\n5/1/90,23,13\\r\\n5/2/90,21.2,13.9\\r\\n5/3/90,21.2,12.6\\r\\n5/4/90,23.1,14.3\\r\\n5/5/90,20.2,16\\r\\n5/6/90,18.1,13.3\\r\\n5/7/90,16.2,7\\r\\n5/8/90,18.7,4.9\\r\\n5/9/90,21.2,6.9\\r\\n5/10/90,19.3,13.7\\r\\n5/11/90,21.8,10.6\\r\\n5/12/90,19.9,12.3\\r\\n5/13/90,13.6,11.1\\r\\n5/14/90,14.7,10.2\\r\\n5/15/90,18,9.5\\r\\n5/16/90,19.3,8.9\\r\\n5/17/90,17.7,13.4\\r\\n5/18/90,14.6,9.1\\r\\n5/19/90,14.5,9.4\\r\\n5/20/90,14.4,8.7\\r\\n5/21/90,15.4,5.8\\r\\n5/22/90,14.5,4.5\\r\\n5/23/90,16.2,7.2\\r\\n5/24/90,14.2,10\\r\\n5/25/90,13.2,10.5\\r\\n5/26/90,15.2,10.7\\r\\n5/27/90,17.4,8.2\\r\\n5/28/90,13.7,6.1\\r\\n5/29/90,16.8,4.5\\r\\n5/30/90,17.7,6.1\\r\\n5/31/90,16.2,9.8\\r\\n6/1/90,13.2,9.7\\r\\n6/2/90,16.3,8.2\\r\\n6/3/90,16.3,8.4\\r\\n6/4/90,14.6,8.5\\r\\n6/5/90,13.9,10.4\\r\\n6/6/90,16,6.8\\r\\n6/7/90,18.4,6\\r\\n6/8/90,19,6.6\\r\\n6/9/90,17.4,7.8\\r\\n6/10/90,16.2,10.3\\r\\n6/11/90,16.3,7.2\\r\\n6/12/90,16.8,7.4\\r\\n6/13/90,14.6,11.4\\r\\n6/14/90,14.2,5.4\\r\\n6/15/90,13.3,4.4\\r\\n6/16/90,14,6.4\\r\\n6/17/90,11.7,9.3\\r\\n6/18/90,12.9,7.7\\r\\n6/19/90,12.7,8.1\\r\\n6/20/90,14.6,8.3\\r\\n6/21/90,15.1,9.1\\r\\n6/22/90,16.1,7.7\\r\\n6/23/90,16.2,10.6\\r\\n6/24/90,13,8.2\\r\\n6/25/90,12.4,7.9\\r\\n6/26/90,12.6,5.2\\r\\n6/27/90,9.7,5.9\\r\\n6/28/90,11.8,3.7\\r\\n6/29/90,15.8,5.6\\r\\n6/30/90,13.6,9.4\\r\\n7/1/90,8.9,7.4\\r\\n7/2/90,12.2,7.3\\r\\n7/3/90,13.2,7.7\\r\\n7/4/90,15.2,7.7\\r\\n7/5/90,12.6,9.3\\r\\n7/6/90,12.9,4.4\\r\\n7/7/90,15.9,5.7\\r\\n7/8/90,15.4,10.2\\r\\n7/9/90,15,10.2\\r\\n7/10/90,14.2,9.3\\r\\n7/11/90,15.7,5.4\\r\\n7/12/90,14.4,5\\r\\n7/13/90,14.7,7.6\\r\\n7/14/90,14.5,9.6\\r\\n7/15/90,15.5,10.4\\r\\n7/16/90,19.2,11.2\\r\\n7/17/90,18.2,9.1\\r\\n7/18/90,13.9,11.2\\r\\n7/19/90,15,6.8\\r\\n7/20/90,15.8,8.3\\r\\n7/21/90,15.7,9.7\\r\\n7/22/90,15.6,9.6\\r\\n7/23/90,17.7,9.8\\r\\n7/24/90,18.8,10.8\\r\\n7/25/90,15.2,9.2\\r\\n7/26/90,14.5,6.5\\r\\n7/27/90,13.5,8.1\\r\\n7/28/90,13.4,7.3\\r\\n7/29/90,12.4,7.9\\r\\n7/30/90,15.5,6\\r\\n7/31/90,13.2,5\\r\\n8/1/90,14,6.8\\r\\n8/2/90,14.1,9.8\\r\\n8/3/90,15.1,5.7\\r\\n8/4/90,17.2,8.6\\r\\n8/5/90,15.1,10.6\\r\\n8/6/90,14.5,7.8\\r\\n8/7/90,13.6,7.7\\r\\n8/8/90,13.1,8.6\\r\\n8/9/90,13.1,6.5\\r\\n8/10/90,13.3,6.9\\r\\n8/11/90,14.8,6.4\\r\\n8/12/90,15,8.5\\r\\n8/13/90,16.4,7.8\\r\\n8/14/90,15.3,9.3\\r\\n8/15/90,13.8,8.4\\r\\n8/16/90,13.5,7.8\\r\\n8/17/90,12.7,7.4\\r\\n8/18/90,13.1,7.7\\r\\n8/19/90,15.8,8.9\\r\\n8/20/90,16,9.7\\r\\n8/21/90,14.4,9.9\\r\\n8/22/90,11.9,6.1\\r\\n8/23/90,13.2,6.6\\r\\n8/24/90,12,7.6\\r\\n8/25/90,11.6,7.4\\r\\n8/26/90,12.1,8\\r\\n8/27/90,17.3,2.1\\r\\n8/28/90,17,5.9\\r\\n8/29/90,14.7,11.6\\r\\n8/30/90,17.8,8.6\\r\\n8/31/90,13.7,7.9\\r\\n9/1/90,16.6,6\\r\\n9/2/90,14.5,9.5\\r\\n9/3/90,13.6,8.6\\r\\n9/4/90,15.8,7.6\\r\\n9/5/90,16.4,10.4\\r\\n9/6/90,16.8,10.3\\r\\n9/7/90,14.6,7.5\\r\\n9/8/90,15.7,3\\r\\n9/9/90,19.7,5.3\\r\\n9/10/90,20.7,10.5\\r\\n9/11/90,18.6,14.6\\r\\n9/12/90,13.7,12.6\\r\\n9/13/90,11.9,9.8\\r\\n9/14/90,14,7.2\\r\\n9/15/90,14.6,10.1\\r\\n9/16/90,13.4,10.4\\r\\n9/17/90,16.6,3.7\\r\\n9/18/90,21,7.3\\r\\n9/19/90,23.2,11.6\\r\\n9/20/90,23.9,16.3\\r\\n9/21/90,17.8,9.6\\r\\n9/22/90,16.2,6.8\\r\\n9/23/90,22.1,5.2\\r\\n9/24/90,24.3,10.6\\r\\n9/25/90,19,16.3\\r\\n9/26/90,16.5,9.8\\r\\n9/27/90,17.1,4.6\\r\\n9/28/90,17.3,11.1\\r\\n9/29/90,16.8,8.7\\r\\n9/30/90,21.7,10\\r\\n10/1/90,20.1,11.3\\r\\n10/2/90,15,10.5\\r\\n10/3/90,14.8,9.9\\r\\n10/4/90,19.8,11\\r\\n10/5/90,24,14\\r\\n10/6/90,14,9.2\\r\\n10/7/90,15.3,9.8\\r\\n10/8/90,14.8,6\\r\\n10/9/90,16.8,9.8\\r\\n10/10/90,20.8,9.2\\r\\n10/11/90,12.9,11.8\\r\\n10/12/90,14.3,10.3\\r\\n10/13/90,18.9,7.5\\r\\n10/14/90,22.6,7.7\\r\\n10/15/90,24.7,15.8\\r\\n10/16/90,19.6,14.6\\r\\n10/17/90,20.2,10.5\\r\\n10/18/90,23.9,11.3\\r\\n10/19/90,15.1,10.9\\r\\n10/20/90,17.1,6.4\\r\\n10/21/90,15.3,10.9\\r\\n10/22/90,16,9\\r\\n10/23/90,16.8,10.9\\r\\n10/24/90,19.8,12.4\\r\\n10/25/90,27.2,11.6\\r\\n10/26/90,29.1,13.3\\r\\n10/27/90,31.4,14.4\\r\\n10/28/90,33.2,18.4\\r\\n10/29/90,33.7,13.6\\r\\n10/30/90,19.6,14.9\\r\\n10/31/90,31.8,14.8\\r\\n11/1/90,22.4,15.4\\r\\n11/2/90,21.4,11.8\\r\\n11/3/90,22,13\\r\\n11/4/90,21.6,11.1\\r\\n11/5/90,30.7,12.5\\r\\n11/6/90,30.2,18.3\\r\\n11/7/90,32.6,19.2\\r\\n11/8/90,26.6,15.4\\r\\n11/9/90,22,13.1\\r\\n11/10/90,16.3,11.5\\r\\n11/11/90,17.2,8.6\\r\\n11/12/90,25.5,12.6\\r\\n11/13/90,32.1,13.8\\r\\n11/14/90,18.4,14.6\\r\\n11/15/90,21,13.2\\r\\n11/16/90,16.8,12.3\\r\\n11/17/90,15.6,8.8\\r\\n11/18/90,18.5,10.7\\r\\n11/19/90,21.5,9.9\\r\\n11/20/90,28.1,8.3\\r\\n11/21/90,31.4,15\\r\\n11/22/90,20.9,12.2\\r\\n11/23/90,18.7,10.5\\r\\n11/24/90,19.9,11.1\\r\\n11/25/90,21.9,13\\r\\n11/26/90,19.1,12.9\\r\\n11/27/90,28.5,8.8\\r\\n11/28/90,26.2,14.7\\r\\n11/29/90,20.1,14.7\\r\\n11/30/90,19.9,12.7\\r\\n12/1/90,22.2,13.3\\r\\n12/2/90,31.4,13.2\\r\\n12/3/90,24.1,16.2\\r\\n12/4/90,35.2,17.3\\r\\n12/5/90,36.9,20.5\\r\\n12/6/90,33.2,20.2\\r\\n12/7/90,35.7,19.4\\r\\n12/8/90,21.1,15.5\\r\\n12/9/90,21.6,14.1\\r\\n12/10/90,18.6,11\\r\\n12/11/90,18.8,11.1\\r\\n12/12/90,18.7,14\\r\\n12/13/90,21.6,11.4\\r\\n12/14/90,22.4,12.5\\r\\n12/15/90,20.9,13.4\\r\\n12/16/90,23.3,13.6\\r\\n12/17/90,34.4,13.9\\r\\n12/18/90,20.7,17.2\\r\\n12/19/90,24.2,14.7\\r\\n12/20/90,22.2,15.4\\r\\n12/21/90,23.5,13.1\\r\\n12/22/90,30.3,13.2\\r\\n12/23/90,19.8,13.9\\r\\n12/24/90,23.3,10\\r\\n12/25/90,29.3,12.9\\r\\n12/26/90,20.9,14.6\\r\\n12/27/90,37.6,14\\r\\n12/28/90,23.2,13.6\\r\\n12/29/90,25.1,13.5\\r\\n12/30/90,24.4,15.7\\r\\n12/31/90,24.6,13'}"
            ]
          },
          "metadata": {
            "tags": []
          },
          "execution_count": 31
        }
      ]
    },
    {
      "cell_type": "code",
      "metadata": {
        "id": "qGpRkSMUYUIG",
        "colab_type": "code",
        "colab": {}
      },
      "source": [
        "df = pd.read_csv('daily-temperatures.csv')"
      ],
      "execution_count": 0,
      "outputs": []
    },
    {
      "cell_type": "code",
      "metadata": {
        "id": "I7irK8tkYd4o",
        "colab_type": "code",
        "colab": {
          "base_uri": "https://localhost:8080/",
          "height": 206
        },
        "outputId": "9ab62764-c195-454e-d6e8-cc077f772ff2"
      },
      "source": [
        "df.head()"
      ],
      "execution_count": 108,
      "outputs": [
        {
          "output_type": "execute_result",
          "data": {
            "text/html": [
              "<div>\n",
              "<style scoped>\n",
              "    .dataframe tbody tr th:only-of-type {\n",
              "        vertical-align: middle;\n",
              "    }\n",
              "\n",
              "    .dataframe tbody tr th {\n",
              "        vertical-align: top;\n",
              "    }\n",
              "\n",
              "    .dataframe thead th {\n",
              "        text-align: right;\n",
              "    }\n",
              "</style>\n",
              "<table border=\"1\" class=\"dataframe\">\n",
              "  <thead>\n",
              "    <tr style=\"text-align: right;\">\n",
              "      <th></th>\n",
              "      <th>Date</th>\n",
              "      <th>max_temperature</th>\n",
              "      <th>min_temperature</th>\n",
              "    </tr>\n",
              "  </thead>\n",
              "  <tbody>\n",
              "    <tr>\n",
              "      <th>0</th>\n",
              "      <td>1/1/81</td>\n",
              "      <td>38.1</td>\n",
              "      <td>20.7</td>\n",
              "    </tr>\n",
              "    <tr>\n",
              "      <th>1</th>\n",
              "      <td>1/2/81</td>\n",
              "      <td>NaN</td>\n",
              "      <td>17.9</td>\n",
              "    </tr>\n",
              "    <tr>\n",
              "      <th>2</th>\n",
              "      <td>1/3/81</td>\n",
              "      <td>34.5</td>\n",
              "      <td>18.8</td>\n",
              "    </tr>\n",
              "    <tr>\n",
              "      <th>3</th>\n",
              "      <td>1/4/81</td>\n",
              "      <td>20.7</td>\n",
              "      <td>14.6</td>\n",
              "    </tr>\n",
              "    <tr>\n",
              "      <th>4</th>\n",
              "      <td>1/5/81</td>\n",
              "      <td>21.5</td>\n",
              "      <td>15.8</td>\n",
              "    </tr>\n",
              "  </tbody>\n",
              "</table>\n",
              "</div>"
            ],
            "text/plain": [
              "     Date max_temperature  min_temperature\n",
              "0  1/1/81            38.1             20.7\n",
              "1  1/2/81             NaN             17.9\n",
              "2  1/3/81            34.5             18.8\n",
              "3  1/4/81            20.7             14.6\n",
              "4  1/5/81            21.5             15.8"
            ]
          },
          "metadata": {
            "tags": []
          },
          "execution_count": 108
        }
      ]
    },
    {
      "cell_type": "markdown",
      "metadata": {
        "id": "s7Epbr3kcLZT",
        "colab_type": "text"
      },
      "source": [
        "#1"
      ]
    },
    {
      "cell_type": "code",
      "metadata": {
        "id": "jTtOzsYgYi7F",
        "colab_type": "code",
        "colab": {
          "base_uri": "https://localhost:8080/",
          "height": 282
        },
        "outputId": "3c7d5f6a-7f94-491d-faea-563c246d884d"
      },
      "source": [
        "#(1) First, \n",
        "#you may want to plot the each max temperature and min\n",
        "# temperature or both to check the ranges of the data. You may\n",
        "# find something incorrect from the plot(s).\n",
        "\n",
        "maxes = df[\"max_temperature\"]\n",
        "mins = df[\"min_temperature\"]\n",
        "dates = df[\"Date\"]\n",
        "\n",
        "min_plt = plt.scatter(dates, mins)\n",
        "min_plt\n"
      ],
      "execution_count": 109,
      "outputs": [
        {
          "output_type": "execute_result",
          "data": {
            "text/plain": [
              "<matplotlib.collections.PathCollection at 0x7f27944ed978>"
            ]
          },
          "metadata": {
            "tags": []
          },
          "execution_count": 109
        },
        {
          "output_type": "display_data",
          "data": {
            "image/png": "[encoded data removed]",
            "text/plain": [
              "<Figure size 432x288 with 1 Axes>"
            ]
          },
          "metadata": {
            "tags": [],
            "needs_background": "light"
          }
        }
      ]
    },
    {
      "cell_type": "code",
      "metadata": {
        "id": "mvQsJdJAalWV",
        "colab_type": "code",
        "colab": {
          "base_uri": "https://localhost:8080/",
          "height": 583
        },
        "outputId": "a5a5ffca-add6-4557-ca9c-b3721a279326"
      },
      "source": [
        "max_plt = plt.scatter(dates,maxes)\n",
        "max_plt"
      ],
      "execution_count": 110,
      "outputs": [
        {
          "output_type": "error",
          "ename": "TypeError",
          "evalue": "ignored",
          "traceback": [
            "\u001b[0;31m---------------------------------------------------------------------------\u001b[0m",
            "\u001b[0;31mTypeError\u001b[0m                                 Traceback (most recent call last)",
            "\u001b[0;32m<ipython-input-110-5627c47577fa>\u001b[0m in \u001b[0;36m<module>\u001b[0;34m()\u001b[0m\n\u001b[0;32m----> 1\u001b[0;31m \u001b[0mmax_plt\u001b[0m \u001b[0;34m=\u001b[0m \u001b[0mplt\u001b[0m\u001b[0;34m.\u001b[0m\u001b[0mscatter\u001b[0m\u001b[0;34m(\u001b[0m\u001b[0mdates\u001b[0m\u001b[0;34m,\u001b[0m\u001b[0mmaxes\u001b[0m\u001b[0;34m)\u001b[0m\u001b[0;34m\u001b[0m\u001b[0;34m\u001b[0m\u001b[0m\n\u001b[0m\u001b[1;32m      2\u001b[0m \u001b[0mmax_plt\u001b[0m\u001b[0;34m\u001b[0m\u001b[0;34m\u001b[0m\u001b[0m\n",
            "\u001b[0;32m/usr/local/lib/python3.6/dist-packages/matplotlib/pyplot.py\u001b[0m in \u001b[0;36mscatter\u001b[0;34m(x, y, s, c, marker, cmap, norm, vmin, vmax, alpha, linewidths, verts, edgecolors, plotnonfinite, data, **kwargs)\u001b[0m\n\u001b[1;32m   2814\u001b[0m         \u001b[0mverts\u001b[0m\u001b[0;34m=\u001b[0m\u001b[0mverts\u001b[0m\u001b[0;34m,\u001b[0m \u001b[0medgecolors\u001b[0m\u001b[0;34m=\u001b[0m\u001b[0medgecolors\u001b[0m\u001b[0;34m,\u001b[0m\u001b[0;34m\u001b[0m\u001b[0;34m\u001b[0m\u001b[0m\n\u001b[1;32m   2815\u001b[0m         plotnonfinite=plotnonfinite, **({\"data\": data} if data is not\n\u001b[0;32m-> 2816\u001b[0;31m         None else {}), **kwargs)\n\u001b[0m\u001b[1;32m   2817\u001b[0m     \u001b[0msci\u001b[0m\u001b[0;34m(\u001b[0m\u001b[0m__ret\u001b[0m\u001b[0;34m)\u001b[0m\u001b[0;34m\u001b[0m\u001b[0;34m\u001b[0m\u001b[0m\n\u001b[1;32m   2818\u001b[0m     \u001b[0;32mreturn\u001b[0m \u001b[0m__ret\u001b[0m\u001b[0;34m\u001b[0m\u001b[0;34m\u001b[0m\u001b[0m\n",
            "\u001b[0;32m/usr/local/lib/python3.6/dist-packages/matplotlib/__init__.py\u001b[0m in \u001b[0;36minner\u001b[0;34m(ax, data, *args, **kwargs)\u001b[0m\n\u001b[1;32m   1563\u001b[0m     \u001b[0;32mdef\u001b[0m \u001b[0minner\u001b[0m\u001b[0;34m(\u001b[0m\u001b[0max\u001b[0m\u001b[0;34m,\u001b[0m \u001b[0;34m*\u001b[0m\u001b[0margs\u001b[0m\u001b[0;34m,\u001b[0m \u001b[0mdata\u001b[0m\u001b[0;34m=\u001b[0m\u001b[0;32mNone\u001b[0m\u001b[0;34m,\u001b[0m \u001b[0;34m**\u001b[0m\u001b[0mkwargs\u001b[0m\u001b[0;34m)\u001b[0m\u001b[0;34m:\u001b[0m\u001b[0;34m\u001b[0m\u001b[0;34m\u001b[0m\u001b[0m\n\u001b[1;32m   1564\u001b[0m         \u001b[0;32mif\u001b[0m \u001b[0mdata\u001b[0m \u001b[0;32mis\u001b[0m \u001b[0;32mNone\u001b[0m\u001b[0;34m:\u001b[0m\u001b[0;34m\u001b[0m\u001b[0;34m\u001b[0m\u001b[0m\n\u001b[0;32m-> 1565\u001b[0;31m             \u001b[0;32mreturn\u001b[0m \u001b[0mfunc\u001b[0m\u001b[0;34m(\u001b[0m\u001b[0max\u001b[0m\u001b[0;34m,\u001b[0m \u001b[0;34m*\u001b[0m\u001b[0mmap\u001b[0m\u001b[0;34m(\u001b[0m\u001b[0msanitize_sequence\u001b[0m\u001b[0;34m,\u001b[0m \u001b[0margs\u001b[0m\u001b[0;34m)\u001b[0m\u001b[0;34m,\u001b[0m \u001b[0;34m**\u001b[0m\u001b[0mkwargs\u001b[0m\u001b[0;34m)\u001b[0m\u001b[0;34m\u001b[0m\u001b[0;34m\u001b[0m\u001b[0m\n\u001b[0m\u001b[1;32m   1566\u001b[0m \u001b[0;34m\u001b[0m\u001b[0m\n\u001b[1;32m   1567\u001b[0m         \u001b[0mbound\u001b[0m \u001b[0;34m=\u001b[0m \u001b[0mnew_sig\u001b[0m\u001b[0;34m.\u001b[0m\u001b[0mbind\u001b[0m\u001b[0;34m(\u001b[0m\u001b[0max\u001b[0m\u001b[0;34m,\u001b[0m \u001b[0;34m*\u001b[0m\u001b[0margs\u001b[0m\u001b[0;34m,\u001b[0m \u001b[0;34m**\u001b[0m\u001b[0mkwargs\u001b[0m\u001b[0;34m)\u001b[0m\u001b[0;34m\u001b[0m\u001b[0;34m\u001b[0m\u001b[0m\n",
            "\u001b[0;32m/usr/local/lib/python3.6/dist-packages/matplotlib/cbook/deprecation.py\u001b[0m in \u001b[0;36mwrapper\u001b[0;34m(*args, **kwargs)\u001b[0m\n\u001b[1;32m    356\u001b[0m                 \u001b[0;34mf\"%(removal)s.  If any parameter follows {name!r}, they \"\u001b[0m\u001b[0;34m\u001b[0m\u001b[0;34m\u001b[0m\u001b[0m\n\u001b[1;32m    357\u001b[0m                 f\"should be pass as keyword, not positionally.\")\n\u001b[0;32m--> 358\u001b[0;31m         \u001b[0;32mreturn\u001b[0m \u001b[0mfunc\u001b[0m\u001b[0;34m(\u001b[0m\u001b[0;34m*\u001b[0m\u001b[0margs\u001b[0m\u001b[0;34m,\u001b[0m \u001b[0;34m**\u001b[0m\u001b[0mkwargs\u001b[0m\u001b[0;34m)\u001b[0m\u001b[0;34m\u001b[0m\u001b[0;34m\u001b[0m\u001b[0m\n\u001b[0m\u001b[1;32m    359\u001b[0m \u001b[0;34m\u001b[0m\u001b[0m\n\u001b[1;32m    360\u001b[0m     \u001b[0;32mreturn\u001b[0m \u001b[0mwrapper\u001b[0m\u001b[0;34m\u001b[0m\u001b[0;34m\u001b[0m\u001b[0m\n",
            "\u001b[0;32m/usr/local/lib/python3.6/dist-packages/matplotlib/axes/_axes.py\u001b[0m in \u001b[0;36mscatter\u001b[0;34m(self, x, y, s, c, marker, cmap, norm, vmin, vmax, alpha, linewidths, verts, edgecolors, plotnonfinite, **kwargs)\u001b[0m\n\u001b[1;32m   4369\u001b[0m         \u001b[0;31m# Process **kwargs to handle aliases, conflicts with explicit kwargs:\u001b[0m\u001b[0;34m\u001b[0m\u001b[0;34m\u001b[0m\u001b[0;34m\u001b[0m\u001b[0m\n\u001b[1;32m   4370\u001b[0m \u001b[0;34m\u001b[0m\u001b[0m\n\u001b[0;32m-> 4371\u001b[0;31m         \u001b[0mself\u001b[0m\u001b[0;34m.\u001b[0m\u001b[0m_process_unit_info\u001b[0m\u001b[0;34m(\u001b[0m\u001b[0mxdata\u001b[0m\u001b[0;34m=\u001b[0m\u001b[0mx\u001b[0m\u001b[0;34m,\u001b[0m \u001b[0mydata\u001b[0m\u001b[0;34m=\u001b[0m\u001b[0my\u001b[0m\u001b[0;34m,\u001b[0m \u001b[0mkwargs\u001b[0m\u001b[0;34m=\u001b[0m\u001b[0mkwargs\u001b[0m\u001b[0;34m)\u001b[0m\u001b[0;34m\u001b[0m\u001b[0;34m\u001b[0m\u001b[0m\n\u001b[0m\u001b[1;32m   4372\u001b[0m         \u001b[0mx\u001b[0m \u001b[0;34m=\u001b[0m \u001b[0mself\u001b[0m\u001b[0;34m.\u001b[0m\u001b[0mconvert_xunits\u001b[0m\u001b[0;34m(\u001b[0m\u001b[0mx\u001b[0m\u001b[0;34m)\u001b[0m\u001b[0;34m\u001b[0m\u001b[0;34m\u001b[0m\u001b[0m\n\u001b[1;32m   4373\u001b[0m         \u001b[0my\u001b[0m \u001b[0;34m=\u001b[0m \u001b[0mself\u001b[0m\u001b[0;34m.\u001b[0m\u001b[0mconvert_yunits\u001b[0m\u001b[0;34m(\u001b[0m\u001b[0my\u001b[0m\u001b[0;34m)\u001b[0m\u001b[0;34m\u001b[0m\u001b[0;34m\u001b[0m\u001b[0m\n",
            "\u001b[0;32m/usr/local/lib/python3.6/dist-packages/matplotlib/axes/_base.py\u001b[0m in \u001b[0;36m_process_unit_info\u001b[0;34m(self, xdata, ydata, kwargs)\u001b[0m\n\u001b[1;32m   2072\u001b[0m \u001b[0;34m\u001b[0m\u001b[0m\n\u001b[1;32m   2073\u001b[0m         \u001b[0mkwargs\u001b[0m \u001b[0;34m=\u001b[0m \u001b[0m_process_single_axis\u001b[0m\u001b[0;34m(\u001b[0m\u001b[0mxdata\u001b[0m\u001b[0;34m,\u001b[0m \u001b[0mself\u001b[0m\u001b[0;34m.\u001b[0m\u001b[0mxaxis\u001b[0m\u001b[0;34m,\u001b[0m \u001b[0;34m'xunits'\u001b[0m\u001b[0;34m,\u001b[0m \u001b[0mkwargs\u001b[0m\u001b[0;34m)\u001b[0m\u001b[0;34m\u001b[0m\u001b[0;34m\u001b[0m\u001b[0m\n\u001b[0;32m-> 2074\u001b[0;31m         \u001b[0mkwargs\u001b[0m \u001b[0;34m=\u001b[0m \u001b[0m_process_single_axis\u001b[0m\u001b[0;34m(\u001b[0m\u001b[0mydata\u001b[0m\u001b[0;34m,\u001b[0m \u001b[0mself\u001b[0m\u001b[0;34m.\u001b[0m\u001b[0myaxis\u001b[0m\u001b[0;34m,\u001b[0m \u001b[0;34m'yunits'\u001b[0m\u001b[0;34m,\u001b[0m \u001b[0mkwargs\u001b[0m\u001b[0;34m)\u001b[0m\u001b[0;34m\u001b[0m\u001b[0;34m\u001b[0m\u001b[0m\n\u001b[0m\u001b[1;32m   2075\u001b[0m         \u001b[0;32mreturn\u001b[0m \u001b[0mkwargs\u001b[0m\u001b[0;34m\u001b[0m\u001b[0;34m\u001b[0m\u001b[0m\n\u001b[1;32m   2076\u001b[0m \u001b[0;34m\u001b[0m\u001b[0m\n",
            "\u001b[0;32m/usr/local/lib/python3.6/dist-packages/matplotlib/axes/_base.py\u001b[0m in \u001b[0;36m_process_single_axis\u001b[0;34m(data, axis, unit_name, kwargs)\u001b[0m\n\u001b[1;32m   2054\u001b[0m                 \u001b[0;31m# We only need to update if there is nothing set yet.\u001b[0m\u001b[0;34m\u001b[0m\u001b[0;34m\u001b[0m\u001b[0;34m\u001b[0m\u001b[0m\n\u001b[1;32m   2055\u001b[0m                 \u001b[0;32mif\u001b[0m \u001b[0;32mnot\u001b[0m \u001b[0maxis\u001b[0m\u001b[0;34m.\u001b[0m\u001b[0mhave_units\u001b[0m\u001b[0;34m(\u001b[0m\u001b[0;34m)\u001b[0m\u001b[0;34m:\u001b[0m\u001b[0;34m\u001b[0m\u001b[0;34m\u001b[0m\u001b[0m\n\u001b[0;32m-> 2056\u001b[0;31m                     \u001b[0maxis\u001b[0m\u001b[0;34m.\u001b[0m\u001b[0mupdate_units\u001b[0m\u001b[0;34m(\u001b[0m\u001b[0mdata\u001b[0m\u001b[0;34m)\u001b[0m\u001b[0;34m\u001b[0m\u001b[0;34m\u001b[0m\u001b[0m\n\u001b[0m\u001b[1;32m   2057\u001b[0m \u001b[0;34m\u001b[0m\u001b[0m\n\u001b[1;32m   2058\u001b[0m             \u001b[0;31m# Check for units in the kwargs, and if present update axis\u001b[0m\u001b[0;34m\u001b[0m\u001b[0;34m\u001b[0m\u001b[0;34m\u001b[0m\u001b[0m\n",
            "\u001b[0;32m/usr/local/lib/python3.6/dist-packages/matplotlib/axis.py\u001b[0m in \u001b[0;36mupdate_units\u001b[0;34m(self, data)\u001b[0m\n\u001b[1;32m   1514\u001b[0m         \u001b[0mneednew\u001b[0m \u001b[0;34m=\u001b[0m \u001b[0mself\u001b[0m\u001b[0;34m.\u001b[0m\u001b[0mconverter\u001b[0m \u001b[0;34m!=\u001b[0m \u001b[0mconverter\u001b[0m\u001b[0;34m\u001b[0m\u001b[0;34m\u001b[0m\u001b[0m\n\u001b[1;32m   1515\u001b[0m         \u001b[0mself\u001b[0m\u001b[0;34m.\u001b[0m\u001b[0mconverter\u001b[0m \u001b[0;34m=\u001b[0m \u001b[0mconverter\u001b[0m\u001b[0;34m\u001b[0m\u001b[0;34m\u001b[0m\u001b[0m\n\u001b[0;32m-> 1516\u001b[0;31m         \u001b[0mdefault\u001b[0m \u001b[0;34m=\u001b[0m \u001b[0mself\u001b[0m\u001b[0;34m.\u001b[0m\u001b[0mconverter\u001b[0m\u001b[0;34m.\u001b[0m\u001b[0mdefault_units\u001b[0m\u001b[0;34m(\u001b[0m\u001b[0mdata\u001b[0m\u001b[0;34m,\u001b[0m \u001b[0mself\u001b[0m\u001b[0;34m)\u001b[0m\u001b[0;34m\u001b[0m\u001b[0;34m\u001b[0m\u001b[0m\n\u001b[0m\u001b[1;32m   1517\u001b[0m         \u001b[0;32mif\u001b[0m \u001b[0mdefault\u001b[0m \u001b[0;32mis\u001b[0m \u001b[0;32mnot\u001b[0m \u001b[0;32mNone\u001b[0m \u001b[0;32mand\u001b[0m \u001b[0mself\u001b[0m\u001b[0;34m.\u001b[0m\u001b[0munits\u001b[0m \u001b[0;32mis\u001b[0m \u001b[0;32mNone\u001b[0m\u001b[0;34m:\u001b[0m\u001b[0;34m\u001b[0m\u001b[0;34m\u001b[0m\u001b[0m\n\u001b[1;32m   1518\u001b[0m             \u001b[0mself\u001b[0m\u001b[0;34m.\u001b[0m\u001b[0mset_units\u001b[0m\u001b[0;34m(\u001b[0m\u001b[0mdefault\u001b[0m\u001b[0;34m)\u001b[0m\u001b[0;34m\u001b[0m\u001b[0;34m\u001b[0m\u001b[0m\n",
            "\u001b[0;32m/usr/local/lib/python3.6/dist-packages/matplotlib/category.py\u001b[0m in \u001b[0;36mdefault_units\u001b[0;34m(data, axis)\u001b[0m\n\u001b[1;32m    105\u001b[0m         \u001b[0;31m# the conversion call stack is default_units -> axis_info -> convert\u001b[0m\u001b[0;34m\u001b[0m\u001b[0;34m\u001b[0m\u001b[0;34m\u001b[0m\u001b[0m\n\u001b[1;32m    106\u001b[0m         \u001b[0;32mif\u001b[0m \u001b[0maxis\u001b[0m\u001b[0;34m.\u001b[0m\u001b[0munits\u001b[0m \u001b[0;32mis\u001b[0m \u001b[0;32mNone\u001b[0m\u001b[0;34m:\u001b[0m\u001b[0;34m\u001b[0m\u001b[0;34m\u001b[0m\u001b[0m\n\u001b[0;32m--> 107\u001b[0;31m             \u001b[0maxis\u001b[0m\u001b[0;34m.\u001b[0m\u001b[0mset_units\u001b[0m\u001b[0;34m(\u001b[0m\u001b[0mUnitData\u001b[0m\u001b[0;34m(\u001b[0m\u001b[0mdata\u001b[0m\u001b[0;34m)\u001b[0m\u001b[0;34m)\u001b[0m\u001b[0;34m\u001b[0m\u001b[0;34m\u001b[0m\u001b[0m\n\u001b[0m\u001b[1;32m    108\u001b[0m         \u001b[0;32melse\u001b[0m\u001b[0;34m:\u001b[0m\u001b[0;34m\u001b[0m\u001b[0;34m\u001b[0m\u001b[0m\n\u001b[1;32m    109\u001b[0m             \u001b[0maxis\u001b[0m\u001b[0;34m.\u001b[0m\u001b[0munits\u001b[0m\u001b[0;34m.\u001b[0m\u001b[0mupdate\u001b[0m\u001b[0;34m(\u001b[0m\u001b[0mdata\u001b[0m\u001b[0;34m)\u001b[0m\u001b[0;34m\u001b[0m\u001b[0;34m\u001b[0m\u001b[0m\n",
            "\u001b[0;32m/usr/local/lib/python3.6/dist-packages/matplotlib/category.py\u001b[0m in \u001b[0;36m__init__\u001b[0;34m(self, data)\u001b[0m\n\u001b[1;32m    173\u001b[0m         \u001b[0mself\u001b[0m\u001b[0;34m.\u001b[0m\u001b[0m_counter\u001b[0m \u001b[0;34m=\u001b[0m \u001b[0mitertools\u001b[0m\u001b[0;34m.\u001b[0m\u001b[0mcount\u001b[0m\u001b[0;34m(\u001b[0m\u001b[0;34m)\u001b[0m\u001b[0;34m\u001b[0m\u001b[0;34m\u001b[0m\u001b[0m\n\u001b[1;32m    174\u001b[0m         \u001b[0;32mif\u001b[0m \u001b[0mdata\u001b[0m \u001b[0;32mis\u001b[0m \u001b[0;32mnot\u001b[0m \u001b[0;32mNone\u001b[0m\u001b[0;34m:\u001b[0m\u001b[0;34m\u001b[0m\u001b[0;34m\u001b[0m\u001b[0m\n\u001b[0;32m--> 175\u001b[0;31m             \u001b[0mself\u001b[0m\u001b[0;34m.\u001b[0m\u001b[0mupdate\u001b[0m\u001b[0;34m(\u001b[0m\u001b[0mdata\u001b[0m\u001b[0;34m)\u001b[0m\u001b[0;34m\u001b[0m\u001b[0;34m\u001b[0m\u001b[0m\n\u001b[0m\u001b[1;32m    176\u001b[0m \u001b[0;34m\u001b[0m\u001b[0m\n\u001b[1;32m    177\u001b[0m     \u001b[0;34m@\u001b[0m\u001b[0mstaticmethod\u001b[0m\u001b[0;34m\u001b[0m\u001b[0;34m\u001b[0m\u001b[0m\n",
            "\u001b[0;32m/usr/local/lib/python3.6/dist-packages/matplotlib/category.py\u001b[0m in \u001b[0;36mupdate\u001b[0;34m(self, data)\u001b[0m\n\u001b[1;32m    210\u001b[0m         \u001b[0;32mfor\u001b[0m \u001b[0mval\u001b[0m \u001b[0;32min\u001b[0m \u001b[0mOrderedDict\u001b[0m\u001b[0;34m.\u001b[0m\u001b[0mfromkeys\u001b[0m\u001b[0;34m(\u001b[0m\u001b[0mdata\u001b[0m\u001b[0;34m)\u001b[0m\u001b[0;34m:\u001b[0m\u001b[0;34m\u001b[0m\u001b[0;34m\u001b[0m\u001b[0m\n\u001b[1;32m    211\u001b[0m             \u001b[0;31m# OrderedDict just iterates over unique values in data.\u001b[0m\u001b[0;34m\u001b[0m\u001b[0;34m\u001b[0m\u001b[0;34m\u001b[0m\u001b[0m\n\u001b[0;32m--> 212\u001b[0;31m             \u001b[0mcbook\u001b[0m\u001b[0;34m.\u001b[0m\u001b[0m_check_isinstance\u001b[0m\u001b[0;34m(\u001b[0m\u001b[0;34m(\u001b[0m\u001b[0mstr\u001b[0m\u001b[0;34m,\u001b[0m \u001b[0mbytes\u001b[0m\u001b[0;34m)\u001b[0m\u001b[0;34m,\u001b[0m \u001b[0mvalue\u001b[0m\u001b[0;34m=\u001b[0m\u001b[0mval\u001b[0m\u001b[0;34m)\u001b[0m\u001b[0;34m\u001b[0m\u001b[0;34m\u001b[0m\u001b[0m\n\u001b[0m\u001b[1;32m    213\u001b[0m             \u001b[0;32mif\u001b[0m \u001b[0mconvertible\u001b[0m\u001b[0;34m:\u001b[0m\u001b[0;34m\u001b[0m\u001b[0;34m\u001b[0m\u001b[0m\n\u001b[1;32m    214\u001b[0m                 \u001b[0;31m# this will only be called so long as convertible is True.\u001b[0m\u001b[0;34m\u001b[0m\u001b[0;34m\u001b[0m\u001b[0;34m\u001b[0m\u001b[0m\n",
            "\u001b[0;32m/usr/local/lib/python3.6/dist-packages/matplotlib/cbook/__init__.py\u001b[0m in \u001b[0;36m_check_isinstance\u001b[0;34m(_types, **kwargs)\u001b[0m\n\u001b[1;32m   2126\u001b[0m                     \u001b[0;34m\", \"\u001b[0m\u001b[0;34m.\u001b[0m\u001b[0mjoin\u001b[0m\u001b[0;34m(\u001b[0m\u001b[0mnames\u001b[0m\u001b[0;34m[\u001b[0m\u001b[0;34m:\u001b[0m\u001b[0;34m-\u001b[0m\u001b[0;36m1\u001b[0m\u001b[0;34m]\u001b[0m\u001b[0;34m)\u001b[0m \u001b[0;34m+\u001b[0m \u001b[0;34m\" or \"\u001b[0m \u001b[0;34m+\u001b[0m \u001b[0mnames\u001b[0m\u001b[0;34m[\u001b[0m\u001b[0;34m-\u001b[0m\u001b[0;36m1\u001b[0m\u001b[0;34m]\u001b[0m\u001b[0;34m\u001b[0m\u001b[0;34m\u001b[0m\u001b[0m\n\u001b[1;32m   2127\u001b[0m                     \u001b[0;32mif\u001b[0m \u001b[0mlen\u001b[0m\u001b[0;34m(\u001b[0m\u001b[0mnames\u001b[0m\u001b[0;34m)\u001b[0m \u001b[0;34m>\u001b[0m \u001b[0;36m1\u001b[0m \u001b[0;32melse\u001b[0m \u001b[0mnames\u001b[0m\u001b[0;34m[\u001b[0m\u001b[0;36m0\u001b[0m\u001b[0;34m]\u001b[0m\u001b[0;34m,\u001b[0m\u001b[0;34m\u001b[0m\u001b[0;34m\u001b[0m\u001b[0m\n\u001b[0;32m-> 2128\u001b[0;31m                     type_name(type(v))))\n\u001b[0m\u001b[1;32m   2129\u001b[0m \u001b[0;34m\u001b[0m\u001b[0m\n\u001b[1;32m   2130\u001b[0m \u001b[0;34m\u001b[0m\u001b[0m\n",
            "\u001b[0;31mTypeError\u001b[0m: 'value' must be an instance of str or bytes, not a float"
          ]
        },
        {
          "output_type": "display_data",
          "data": {
            "image/png": "[encoded data removed]",
            "text/plain": [
              "<Figure size 432x288 with 1 Axes>"
            ]
          },
          "metadata": {
            "tags": [],
            "needs_background": "light"
          }
        }
      ]
    },
    {
      "cell_type": "markdown",
      "metadata": {
        "id": "ui18caRqbAQp",
        "colab_type": "text"
      },
      "source": [
        "#2 How to handle the missing values?\n",
        "\n",
        "To handle the missing values, there are a few different options one could do.  \n",
        "\n",
        "Because the data is a time-series, and the temperature can greatly fluctuate as time and seasons progress.\n",
        "\n",
        "One approach would be to look at dates around the missing value and interpolate based on the temperatures of a range of dates that encompasses the date missing.  \n",
        "\n",
        "You could look at a \"radius\" of values around the date, then take the median value of that series to replace the missing data.  \n",
        "\n",
        "Using the tools presented in the beginning of the set, simpleImpute() can be used to do this using its \"mean\" method.\n"
      ]
    },
    {
      "cell_type": "code",
      "metadata": {
        "id": "kTAeOdurfKP9",
        "colab_type": "code",
        "colab": {
          "base_uri": "https://localhost:8080/",
          "height": 677
        },
        "outputId": "10a67a24-b9f2-475b-f2ca-c9088873bffd"
      },
      "source": [
        "#First, start with looking at the head and tail of the dataset,\n",
        "#to see if anything needs to be manually trimmed.\n",
        "df.head(20)"
      ],
      "execution_count": 143,
      "outputs": [
        {
          "output_type": "execute_result",
          "data": {
            "text/html": [
              "<div>\n",
              "<style scoped>\n",
              "    .dataframe tbody tr th:only-of-type {\n",
              "        vertical-align: middle;\n",
              "    }\n",
              "\n",
              "    .dataframe tbody tr th {\n",
              "        vertical-align: top;\n",
              "    }\n",
              "\n",
              "    .dataframe thead th {\n",
              "        text-align: right;\n",
              "    }\n",
              "</style>\n",
              "<table border=\"1\" class=\"dataframe\">\n",
              "  <thead>\n",
              "    <tr style=\"text-align: right;\">\n",
              "      <th></th>\n",
              "      <th>Date</th>\n",
              "      <th>max_temperature</th>\n",
              "      <th>min_temperature</th>\n",
              "    </tr>\n",
              "  </thead>\n",
              "  <tbody>\n",
              "    <tr>\n",
              "      <th>0</th>\n",
              "      <td>1/1/81</td>\n",
              "      <td>38.1</td>\n",
              "      <td>20.7</td>\n",
              "    </tr>\n",
              "    <tr>\n",
              "      <th>1</th>\n",
              "      <td>1/2/81</td>\n",
              "      <td>NaN</td>\n",
              "      <td>17.9</td>\n",
              "    </tr>\n",
              "    <tr>\n",
              "      <th>2</th>\n",
              "      <td>1/3/81</td>\n",
              "      <td>34.5</td>\n",
              "      <td>18.8</td>\n",
              "    </tr>\n",
              "    <tr>\n",
              "      <th>3</th>\n",
              "      <td>1/4/81</td>\n",
              "      <td>20.7</td>\n",
              "      <td>14.6</td>\n",
              "    </tr>\n",
              "    <tr>\n",
              "      <th>4</th>\n",
              "      <td>1/5/81</td>\n",
              "      <td>21.5</td>\n",
              "      <td>15.8</td>\n",
              "    </tr>\n",
              "    <tr>\n",
              "      <th>5</th>\n",
              "      <td>1/6/81</td>\n",
              "      <td>300</td>\n",
              "      <td>NaN</td>\n",
              "    </tr>\n",
              "    <tr>\n",
              "      <th>6</th>\n",
              "      <td>1/7/81</td>\n",
              "      <td>29.7</td>\n",
              "      <td>15.8</td>\n",
              "    </tr>\n",
              "    <tr>\n",
              "      <th>7</th>\n",
              "      <td>1/8/81</td>\n",
              "      <td>36.6</td>\n",
              "      <td>17.4</td>\n",
              "    </tr>\n",
              "    <tr>\n",
              "      <th>8</th>\n",
              "      <td>1/9/81</td>\n",
              "      <td>NaN</td>\n",
              "      <td>21.8</td>\n",
              "    </tr>\n",
              "    <tr>\n",
              "      <th>9</th>\n",
              "      <td>1/10/81</td>\n",
              "      <td>300</td>\n",
              "      <td>20.0</td>\n",
              "    </tr>\n",
              "    <tr>\n",
              "      <th>10</th>\n",
              "      <td>1/11/81</td>\n",
              "      <td>20.4</td>\n",
              "      <td>16.2</td>\n",
              "    </tr>\n",
              "    <tr>\n",
              "      <th>11</th>\n",
              "      <td>1/12/81</td>\n",
              "      <td>30.1</td>\n",
              "      <td>13.3</td>\n",
              "    </tr>\n",
              "    <tr>\n",
              "      <th>12</th>\n",
              "      <td>1/13/81</td>\n",
              "      <td>38.7</td>\n",
              "      <td>16.7</td>\n",
              "    </tr>\n",
              "    <tr>\n",
              "      <th>13</th>\n",
              "      <td>1/14/81</td>\n",
              "      <td>41.4</td>\n",
              "      <td>21.5</td>\n",
              "    </tr>\n",
              "    <tr>\n",
              "      <th>14</th>\n",
              "      <td>1/15/81</td>\n",
              "      <td>300</td>\n",
              "      <td>25.0</td>\n",
              "    </tr>\n",
              "    <tr>\n",
              "      <th>15</th>\n",
              "      <td>1/16/81</td>\n",
              "      <td>36</td>\n",
              "      <td>NaN</td>\n",
              "    </tr>\n",
              "    <tr>\n",
              "      <th>16</th>\n",
              "      <td>1/17/81</td>\n",
              "      <td>NaN</td>\n",
              "      <td>20.6</td>\n",
              "    </tr>\n",
              "    <tr>\n",
              "      <th>17</th>\n",
              "      <td>1/18/81</td>\n",
              "      <td>38</td>\n",
              "      <td>24.8</td>\n",
              "    </tr>\n",
              "    <tr>\n",
              "      <th>18</th>\n",
              "      <td>1/19/81</td>\n",
              "      <td>23</td>\n",
              "      <td>17.7</td>\n",
              "    </tr>\n",
              "    <tr>\n",
              "      <th>19</th>\n",
              "      <td>1/20/81</td>\n",
              "      <td>300</td>\n",
              "      <td>15.5</td>\n",
              "    </tr>\n",
              "  </tbody>\n",
              "</table>\n",
              "</div>"
            ],
            "text/plain": [
              "       Date max_temperature  min_temperature\n",
              "0    1/1/81            38.1             20.7\n",
              "1    1/2/81             NaN             17.9\n",
              "2    1/3/81            34.5             18.8\n",
              "3    1/4/81            20.7             14.6\n",
              "4    1/5/81            21.5             15.8\n",
              "5    1/6/81             300              NaN\n",
              "6    1/7/81            29.7             15.8\n",
              "7    1/8/81            36.6             17.4\n",
              "8    1/9/81             NaN             21.8\n",
              "9   1/10/81             300             20.0\n",
              "10  1/11/81            20.4             16.2\n",
              "11  1/12/81            30.1             13.3\n",
              "12  1/13/81            38.7             16.7\n",
              "13  1/14/81            41.4             21.5\n",
              "14  1/15/81             300             25.0\n",
              "15  1/16/81              36              NaN\n",
              "16  1/17/81             NaN             20.6\n",
              "17  1/18/81              38             24.8\n",
              "18  1/19/81              23             17.7\n",
              "19  1/20/81             300             15.5"
            ]
          },
          "metadata": {
            "tags": []
          },
          "execution_count": 143
        }
      ]
    },
    {
      "cell_type": "markdown",
      "metadata": {
        "id": "SI6K76TFyXNY",
        "colab_type": "text"
      },
      "source": [
        "#3 Cleaning data:"
      ]
    },
    {
      "cell_type": "code",
      "metadata": {
        "id": "zBmDjUbAlTJV",
        "colab_type": "code",
        "colab": {}
      },
      "source": [
        "\n",
        "#there are many values of 300 and -800 which seem to be missing values, \n",
        "#these can be replaced with NaN\n",
        "df = df.replace(300, np.nan)\n",
        "df = df.replace(-800, np.nan)\n",
        "\n",
        "df = df.replace('22.+B3117', np.nan)\n"
      ],
      "execution_count": 0,
      "outputs": []
    },
    {
      "cell_type": "code",
      "metadata": {
        "id": "Oy4aQaDfxNcF",
        "colab_type": "code",
        "colab": {
          "base_uri": "https://localhost:8080/",
          "height": 225
        },
        "outputId": "a474e5cb-49cb-4167-9acd-e0a3af00756e"
      },
      "source": [
        "#coercing all non-numeric values that cannot be converted to NaN\n",
        "\n",
        "pd.to_numeric(df['max_temperature'], errors = 'coerce')\n",
        "pd.to_numeric(df['min_temperature'], errors = 'coerce')\n",
        "\n"
      ],
      "execution_count": 145,
      "outputs": [
        {
          "output_type": "execute_result",
          "data": {
            "text/plain": [
              "0       20.7\n",
              "1       17.9\n",
              "2       18.8\n",
              "3       14.6\n",
              "4       15.8\n",
              "        ... \n",
              "3645    14.0\n",
              "3646    13.6\n",
              "3647    13.5\n",
              "3648    15.7\n",
              "3649    13.0\n",
              "Name: min_temperature, Length: 3650, dtype: float64"
            ]
          },
          "metadata": {
            "tags": []
          },
          "execution_count": 145
        }
      ]
    },
    {
      "cell_type": "markdown",
      "metadata": {
        "id": "_g8bfdtjfe3S",
        "colab_type": "text"
      },
      "source": [
        "The first and last values are not missing, so a simple linear algorithm can be made to handle replacing missing values by interpolating data from surrounding\n",
        "entries using simpleImpute and chunking of the data."
      ]
    },
    {
      "cell_type": "code",
      "metadata": {
        "id": "-gK8MG6qcBx4",
        "colab_type": "code",
        "colab": {
          "base_uri": "https://localhost:8080/",
          "height": 34
        },
        "outputId": "f91b15bd-6c45-4cdb-f813-2134860c29a6"
      },
      "source": [
        "#Get the two series in arrays:\n",
        "maxes_arr = df['max_temperature'].values\n",
        "mins_arr = df['min_temperature'].values\n",
        "dates_arr = dates.values\n",
        "\n",
        "#Check the lengths to determine how to chunk data\n",
        "maxes_arr.size"
      ],
      "execution_count": 146,
      "outputs": [
        {
          "output_type": "execute_result",
          "data": {
            "text/plain": [
              "3650"
            ]
          },
          "metadata": {
            "tags": []
          },
          "execution_count": 146
        }
      ]
    },
    {
      "cell_type": "markdown",
      "metadata": {
        "id": "g0Yx_KZMj03r",
        "colab_type": "text"
      },
      "source": [
        "length of data is divisible by 5 and by 10 so we can chunk the data into 50 element pieces to pass to the imputer.  This will allow for more accurate \n",
        "interpolation of data."
      ]
    },
    {
      "cell_type": "code",
      "metadata": {
        "id": "zdo159AhjcXV",
        "colab_type": "code",
        "colab": {}
      },
      "source": [
        "#instantiate imputer\n",
        "imputer = SimpleImputer()\n",
        "\n",
        "#Feed chunked data into imputer to get interpolated data\n",
        "i = 0\n",
        "\n",
        "while i < maxes_arr.size:\n",
        "  \n",
        "  imputer.fit_transform(maxes_arr[i:(i+49)].reshape(-1,1) )\n",
        "  imputer.fit_transform(mins_arr[i:i+49].reshape(-1,1) )\n",
        "  i+=50\n",
        "\n"
      ],
      "execution_count": 0,
      "outputs": []
    },
    {
      "cell_type": "markdown",
      "metadata": {
        "id": "sa4GDIUsykOy",
        "colab_type": "text"
      },
      "source": [
        "#4 Visualizing the cleaned data"
      ]
    },
    {
      "cell_type": "code",
      "metadata": {
        "id": "l2fsNbR9yf5h",
        "colab_type": "code",
        "colab": {
          "base_uri": "https://localhost:8080/",
          "height": 282
        },
        "outputId": "22fd823a-73cf-4fca-de51-4d316a5c5dd1"
      },
      "source": [
        "#Min temps over time plot\n",
        "min_plt = plt.scatter(dates_arr, mins_arr)\n",
        "min_plt"
      ],
      "execution_count": 148,
      "outputs": [
        {
          "output_type": "execute_result",
          "data": {
            "text/plain": [
              "<matplotlib.collections.PathCollection at 0x7f2788aaaf28>"
            ]
          },
          "metadata": {
            "tags": []
          },
          "execution_count": 148
        },
        {
          "output_type": "display_data",
          "data": {
            "image/png": "[encoded data removed]",
            "text/plain": [
              "<Figure size 432x288 with 1 Axes>"
            ]
          },
          "metadata": {
            "tags": [],
            "needs_background": "light"
          }
        }
      ]
    },
    {
      "cell_type": "code",
      "metadata": {
        "id": "dkWGJogU3EGZ",
        "colab_type": "code",
        "colab": {
          "base_uri": "https://localhost:8080/",
          "height": 282
        },
        "outputId": "6d029860-79e2-47f6-ed20-c3ae2a6bbd6b"
      },
      "source": [
        "#max temps over time plot\n",
        "max_plt = plt.scatter(dates_arr, mins_arr)\n",
        "max_plt"
      ],
      "execution_count": 149,
      "outputs": [
        {
          "output_type": "execute_result",
          "data": {
            "text/plain": [
              "<matplotlib.collections.PathCollection at 0x7f27866fdf60>"
            ]
          },
          "metadata": {
            "tags": []
          },
          "execution_count": 149
        },
        {
          "output_type": "display_data",
          "data": {
            "image/png": "[encoded data removed]",
            "text/plain": [
              "<Figure size 432x288 with 1 Axes>"
            ]
          },
          "metadata": {
            "tags": [],
            "needs_background": "light"
          }
        }
      ]
    },
    {
      "cell_type": "markdown",
      "metadata": {
        "id": "r-1dPcv7D0lt",
        "colab_type": "text"
      },
      "source": [
        "# Part 2\n",
        "Write a summary of what your team has learned from this process. "
      ]
    },
    {
      "cell_type": "markdown",
      "metadata": {
        "id": "TXkAf5_8a_Kh",
        "colab_type": "text"
      },
      "source": [
        "Cleaning data can be a tedious process, but some clever use of\n",
        "already available tools in libraries such as numpy and pandas\n",
        "can effectively clean out unwanted values and interpolate data.\n",
        "\n",
        "Sometimes managing datasets must be done in a 'hard-coded' \n",
        "fashion, tailored to the specific dataset, to get rid of things such as the \n",
        "\"22.+B3117\" entry that could not be converted or coerved.  \n",
        "\n",
        "Dataset cleaning can be computation intensive and have long runtimes."
      ]
    },
    {
      "cell_type": "code",
      "metadata": {
        "id": "GPRqkXM6D0lu",
        "colab_type": "code",
        "colab": {}
      },
      "source": [
        ""
      ],
      "execution_count": 0,
      "outputs": []
    }
  ]
}